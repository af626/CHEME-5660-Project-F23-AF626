{
 "cells": [
  {
   "cell_type": "markdown",
   "id": "80ae6a55-e35b-401a-9fd2-353207a8b340",
   "metadata": {},
   "source": [
    "# Your Title Information Goes Here\n",
    "Fill me in"
   ]
  },
  {
   "cell_type": "markdown",
   "id": "cac5eb3a-be19-4274-8400-09af3e83ff21",
   "metadata": {
    "tags": []
   },
   "source": [
    "## Setup"
   ]
  },
  {
   "cell_type": "code",
   "execution_count": 284,
   "id": "c428c856-064a-4a35-97bc-800cc0d49a58",
   "metadata": {
    "tags": []
   },
   "outputs": [
    {
     "name": "stderr",
     "output_type": "stream",
     "text": [
      "\u001b[32m\u001b[1m    Updating\u001b[22m\u001b[39m git-repo `https://github.com/varnerlab/VLQuantitativeFinancePackage.jl.git`\n"
     ]
    },
    {
     "name": "stderr",
     "output_type": "stream",
     "text": [
      "\u001b[32m\u001b[1m   Resolving\u001b[22m\u001b[39m package versions..."
     ]
    },
    {
     "name": "stderr",
     "output_type": "stream",
     "text": [
      "\n",
      "\u001b[32m\u001b[1m  No Changes\u001b[22m\u001b[39m to `C:\\Users\\af\\Documents\\GitHub\\CHEME-5660-Project-Template-F23\\Project.toml`\n",
      "\u001b[32m\u001b[1m  No Changes\u001b[22m\u001b[39m to `C:\\Users\\af\\Documents\\GitHub\\CHEME-5660-Project-Template-F23\\Manifest.toml`\n"
     ]
    },
    {
     "name": "stderr",
     "output_type": "stream",
     "text": [
      "\u001b[32m\u001b[1m  Activating\u001b[22m\u001b[39m project at `c:\\Users\\af\\Documents\\GitHub\\CHEME-5660-Project-Template-F23`"
     ]
    },
    {
     "name": "stderr",
     "output_type": "stream",
     "text": [
      "\n",
      "\u001b[32m\u001b[1m  No Changes\u001b[22m\u001b[39m to `C:\\Users\\af\\Documents\\GitHub\\CHEME-5660-Project-Template-F23\\Project.toml`\n",
      "\u001b[32m\u001b[1m  No Changes\u001b[22m\u001b[39m to `C:\\Users\\af\\Documents\\GitHub\\CHEME-5660-Project-Template-F23\\Manifest.toml`\n"
     ]
    },
    {
     "name": "stderr",
     "output_type": "stream",
     "text": [
      "\u001b[32m\u001b[1m    Updating\u001b[22m\u001b[39m registry at `C:\\Users\\af\\.julia\\registries\\General.toml`\n",
      "\u001b[32m\u001b[1m    Updating\u001b[22m\u001b[39m git-repo `https://github.com/varnerlab/VLQuantitativeFinancePackage.jl.git`"
     ]
    },
    {
     "name": "stderr",
     "output_type": "stream",
     "text": [
      "\n",
      "\u001b[32m\u001b[1m  No Changes\u001b[22m\u001b[39m"
     ]
    },
    {
     "name": "stderr",
     "output_type": "stream",
     "text": [
      " to `C:\\Users\\af\\Documents\\GitHub\\CHEME-5660-Project-Template-F23\\Project.toml`\n",
      "\u001b[32m\u001b[1m  No Changes\u001b[22m\u001b[39m to `C:\\Users\\af\\Documents\\GitHub\\CHEME-5660-Project-Template-F23\\Manifest.toml`\n"
     ]
    }
   ],
   "source": [
    "include(\"Include.jl\");"
   ]
  },
  {
   "cell_type": "markdown",
   "id": "21519cf1-3079-4a5a-8859-fd21f48bce94",
   "metadata": {
    "tags": []
   },
   "source": [
    "## Section A : Prerequisites"
   ]
  },
  {
   "cell_type": "markdown",
   "id": "2a23a437",
   "metadata": {},
   "source": [
    "### [1] Load historical dataset, compute expected returns and get 2023 `SPY` data\n",
    "We gathered a daily open-high-low-close `dataset` for each firm in the [S&P500](https://en.wikipedia.org/wiki/S%26P_500) since `01-03-2018` until `12-01-2023`, along with data for a few exchange traded funds and volatility products during that time. "
   ]
  },
  {
   "cell_type": "code",
   "execution_count": 285,
   "id": "79aa4361-4713-47c5-9892-8d822e7aac68",
   "metadata": {
    "tags": []
   },
   "outputs": [
    {
     "data": {
      "text/html": [
       "<div><div style = \"float: left;\"><span>1489×8 DataFrame</span></div><div style = \"float: right;\"><span style = \"font-style: italic;\">1464 rows omitted</span></div><div style = \"clear: both;\"></div></div><div class = \"data-frame\" style = \"overflow-x: scroll;\"><table class = \"data-frame\" style = \"margin-bottom: 6px;\"><thead><tr class = \"header\"><th class = \"rowNumber\" style = \"font-weight: bold; text-align: right;\">Row</th><th style = \"text-align: left;\">volume</th><th style = \"text-align: left;\">volume_weighted_average_price</th><th style = \"text-align: left;\">open</th><th style = \"text-align: left;\">close</th><th style = \"text-align: left;\">high</th><th style = \"text-align: left;\">low</th><th style = \"text-align: left;\">timestamp</th><th style = \"text-align: left;\">number_of_transactions</th></tr><tr class = \"subheader headerLastRow\"><th class = \"rowNumber\" style = \"font-weight: bold; text-align: right;\"></th><th title = \"Float64\" style = \"text-align: left;\">Float64</th><th title = \"Float64\" style = \"text-align: left;\">Float64</th><th title = \"Float64\" style = \"text-align: left;\">Float64</th><th title = \"Float64\" style = \"text-align: left;\">Float64</th><th title = \"Float64\" style = \"text-align: left;\">Float64</th><th title = \"Float64\" style = \"text-align: left;\">Float64</th><th title = \"DateTime\" style = \"text-align: left;\">DateTime</th><th title = \"Int64\" style = \"text-align: left;\">Int64</th></tr></thead><tbody><tr><td class = \"rowNumber\" style = \"font-weight: bold; text-align: right;\">1</td><td style = \"text-align: right;\">1.17982e8</td><td style = \"text-align: right;\">43.2781</td><td style = \"text-align: right;\">43.1325</td><td style = \"text-align: right;\">43.0575</td><td style = \"text-align: right;\">43.6375</td><td style = \"text-align: right;\">42.99</td><td style = \"text-align: left;\">2018-01-03T05:00:00</td><td style = \"text-align: right;\">188333</td></tr><tr><td class = \"rowNumber\" style = \"font-weight: bold; text-align: right;\">2</td><td style = \"text-align: right;\">8.97384e7</td><td style = \"text-align: right;\">43.2473</td><td style = \"text-align: right;\">43.135</td><td style = \"text-align: right;\">43.2575</td><td style = \"text-align: right;\">43.3675</td><td style = \"text-align: right;\">43.02</td><td style = \"text-align: left;\">2018-01-04T05:00:00</td><td style = \"text-align: right;\">153150</td></tr><tr><td class = \"rowNumber\" style = \"font-weight: bold; text-align: right;\">3</td><td style = \"text-align: right;\">9.46401e7</td><td style = \"text-align: right;\">43.6732</td><td style = \"text-align: right;\">43.36</td><td style = \"text-align: right;\">43.75</td><td style = \"text-align: right;\">43.8425</td><td style = \"text-align: right;\">43.2625</td><td style = \"text-align: left;\">2018-01-05T05:00:00</td><td style = \"text-align: right;\">152173</td></tr><tr><td class = \"rowNumber\" style = \"font-weight: bold; text-align: right;\">4</td><td style = \"text-align: right;\">8.22711e7</td><td style = \"text-align: right;\">43.6581</td><td style = \"text-align: right;\">43.5875</td><td style = \"text-align: right;\">43.5875</td><td style = \"text-align: right;\">43.9025</td><td style = \"text-align: right;\">43.4825</td><td style = \"text-align: left;\">2018-01-08T05:00:00</td><td style = \"text-align: right;\">138842</td></tr><tr><td class = \"rowNumber\" style = \"font-weight: bold; text-align: right;\">5</td><td style = \"text-align: right;\">8.6336e7</td><td style = \"text-align: right;\">43.5803</td><td style = \"text-align: right;\">43.6375</td><td style = \"text-align: right;\">43.5825</td><td style = \"text-align: right;\">43.765</td><td style = \"text-align: right;\">43.3525</td><td style = \"text-align: left;\">2018-01-09T05:00:00</td><td style = \"text-align: right;\">154006</td></tr><tr><td class = \"rowNumber\" style = \"font-weight: bold; text-align: right;\">6</td><td style = \"text-align: right;\">9.58396e7</td><td style = \"text-align: right;\">43.4126</td><td style = \"text-align: right;\">43.29</td><td style = \"text-align: right;\">43.5725</td><td style = \"text-align: right;\">43.575</td><td style = \"text-align: right;\">43.25</td><td style = \"text-align: left;\">2018-01-10T05:00:00</td><td style = \"text-align: right;\">151201</td></tr><tr><td class = \"rowNumber\" style = \"font-weight: bold; text-align: right;\">7</td><td style = \"text-align: right;\">7.46709e7</td><td style = \"text-align: right;\">43.7894</td><td style = \"text-align: right;\">43.6475</td><td style = \"text-align: right;\">43.82</td><td style = \"text-align: right;\">43.8722</td><td style = \"text-align: right;\">43.6225</td><td style = \"text-align: left;\">2018-01-11T05:00:00</td><td style = \"text-align: right;\">117864</td></tr><tr><td class = \"rowNumber\" style = \"font-weight: bold; text-align: right;\">8</td><td style = \"text-align: right;\">9.68123e7</td><td style = \"text-align: right;\">44.1806</td><td style = \"text-align: right;\">44.045</td><td style = \"text-align: right;\">44.2725</td><td style = \"text-align: right;\">44.34</td><td style = \"text-align: right;\">43.9125</td><td style = \"text-align: left;\">2018-01-12T05:00:00</td><td style = \"text-align: right;\">151952</td></tr><tr><td class = \"rowNumber\" style = \"font-weight: bold; text-align: right;\">9</td><td style = \"text-align: right;\">1.18128e8</td><td style = \"text-align: right;\">44.3672</td><td style = \"text-align: right;\">44.475</td><td style = \"text-align: right;\">44.0475</td><td style = \"text-align: right;\">44.8475</td><td style = \"text-align: right;\">44.035</td><td style = \"text-align: left;\">2018-01-16T05:00:00</td><td style = \"text-align: right;\">195534</td></tr><tr><td class = \"rowNumber\" style = \"font-weight: bold; text-align: right;\">10</td><td style = \"text-align: right;\">1.37547e8</td><td style = \"text-align: right;\">44.3277</td><td style = \"text-align: right;\">44.0375</td><td style = \"text-align: right;\">44.775</td><td style = \"text-align: right;\">44.8125</td><td style = \"text-align: right;\">43.7675</td><td style = \"text-align: left;\">2018-01-17T05:00:00</td><td style = \"text-align: right;\">218162</td></tr><tr><td class = \"rowNumber\" style = \"font-weight: bold; text-align: right;\">11</td><td style = \"text-align: right;\">1.24773e8</td><td style = \"text-align: right;\">44.8455</td><td style = \"text-align: right;\">44.8425</td><td style = \"text-align: right;\">44.815</td><td style = \"text-align: right;\">45.025</td><td style = \"text-align: right;\">44.5625</td><td style = \"text-align: left;\">2018-01-18T05:00:00</td><td style = \"text-align: right;\">185121</td></tr><tr><td class = \"rowNumber\" style = \"font-weight: bold; text-align: right;\">12</td><td style = \"text-align: right;\">1.297e8</td><td style = \"text-align: right;\">44.6099</td><td style = \"text-align: right;\">44.6525</td><td style = \"text-align: right;\">44.615</td><td style = \"text-align: right;\">44.895</td><td style = \"text-align: right;\">44.3525</td><td style = \"text-align: left;\">2018-01-19T05:00:00</td><td style = \"text-align: right;\">160569</td></tr><tr><td class = \"rowNumber\" style = \"font-weight: bold; text-align: right;\">13</td><td style = \"text-align: right;\">1.08434e8</td><td style = \"text-align: right;\">44.2809</td><td style = \"text-align: right;\">44.325</td><td style = \"text-align: right;\">44.25</td><td style = \"text-align: right;\">44.445</td><td style = \"text-align: right;\">44.1505</td><td style = \"text-align: left;\">2018-01-22T05:00:00</td><td style = \"text-align: right;\">163847</td></tr><tr><td style = \"text-align: right;\">&vellip;</td><td style = \"text-align: right;\">&vellip;</td><td style = \"text-align: right;\">&vellip;</td><td style = \"text-align: right;\">&vellip;</td><td style = \"text-align: right;\">&vellip;</td><td style = \"text-align: right;\">&vellip;</td><td style = \"text-align: right;\">&vellip;</td><td style = \"text-align: right;\">&vellip;</td><td style = \"text-align: right;\">&vellip;</td></tr><tr><td class = \"rowNumber\" style = \"font-weight: bold; text-align: right;\">1478</td><td style = \"text-align: right;\">5.3609e7</td><td style = \"text-align: right;\">188.419</td><td style = \"text-align: right;\">187.845</td><td style = \"text-align: right;\">188.01</td><td style = \"text-align: right;\">189.5</td><td style = \"text-align: right;\">187.78</td><td style = \"text-align: left;\">2023-11-15T05:00:00</td><td style = \"text-align: right;\">564159</td></tr><tr><td class = \"rowNumber\" style = \"font-weight: bold; text-align: right;\">1479</td><td style = \"text-align: right;\">5.44129e7</td><td style = \"text-align: right;\">189.711</td><td style = \"text-align: right;\">189.57</td><td style = \"text-align: right;\">189.71</td><td style = \"text-align: right;\">190.96</td><td style = \"text-align: right;\">188.65</td><td style = \"text-align: left;\">2023-11-16T05:00:00</td><td style = \"text-align: right;\">620748</td></tr><tr><td class = \"rowNumber\" style = \"font-weight: bold; text-align: right;\">1480</td><td style = \"text-align: right;\">5.07374e7</td><td style = \"text-align: right;\">189.602</td><td style = \"text-align: right;\">190.25</td><td style = \"text-align: right;\">189.69</td><td style = \"text-align: right;\">190.38</td><td style = \"text-align: right;\">188.57</td><td style = \"text-align: left;\">2023-11-17T05:00:00</td><td style = \"text-align: right;\">510217</td></tr><tr><td class = \"rowNumber\" style = \"font-weight: bold; text-align: right;\">1481</td><td style = \"text-align: right;\">4.65386e7</td><td style = \"text-align: right;\">191.298</td><td style = \"text-align: right;\">189.89</td><td style = \"text-align: right;\">191.45</td><td style = \"text-align: right;\">191.905</td><td style = \"text-align: right;\">189.88</td><td style = \"text-align: left;\">2023-11-20T05:00:00</td><td style = \"text-align: right;\">554014</td></tr><tr><td class = \"rowNumber\" style = \"font-weight: bold; text-align: right;\">1482</td><td style = \"text-align: right;\">3.81345e7</td><td style = \"text-align: right;\">190.51</td><td style = \"text-align: right;\">191.41</td><td style = \"text-align: right;\">190.64</td><td style = \"text-align: right;\">191.52</td><td style = \"text-align: right;\">189.74</td><td style = \"text-align: left;\">2023-11-21T05:00:00</td><td style = \"text-align: right;\">450749</td></tr><tr><td class = \"rowNumber\" style = \"font-weight: bold; text-align: right;\">1483</td><td style = \"text-align: right;\">3.963e7</td><td style = \"text-align: right;\">191.722</td><td style = \"text-align: right;\">191.49</td><td style = \"text-align: right;\">191.31</td><td style = \"text-align: right;\">192.93</td><td style = \"text-align: right;\">190.825</td><td style = \"text-align: left;\">2023-11-22T05:00:00</td><td style = \"text-align: right;\">463560</td></tr><tr><td class = \"rowNumber\" style = \"font-weight: bold; text-align: right;\">1484</td><td style = \"text-align: right;\">2.40184e7</td><td style = \"text-align: right;\">189.79</td><td style = \"text-align: right;\">190.87</td><td style = \"text-align: right;\">189.97</td><td style = \"text-align: right;\">190.9</td><td style = \"text-align: right;\">189.25</td><td style = \"text-align: left;\">2023-11-24T05:00:00</td><td style = \"text-align: right;\">335946</td></tr><tr><td class = \"rowNumber\" style = \"font-weight: bold; text-align: right;\">1485</td><td style = \"text-align: right;\">4.04566e7</td><td style = \"text-align: right;\">189.797</td><td style = \"text-align: right;\">189.92</td><td style = \"text-align: right;\">189.79</td><td style = \"text-align: right;\">190.67</td><td style = \"text-align: right;\">188.9</td><td style = \"text-align: left;\">2023-11-27T05:00:00</td><td style = \"text-align: right;\">508895</td></tr><tr><td class = \"rowNumber\" style = \"font-weight: bold; text-align: right;\">1486</td><td style = \"text-align: right;\">3.84154e7</td><td style = \"text-align: right;\">190.165</td><td style = \"text-align: right;\">189.78</td><td style = \"text-align: right;\">190.4</td><td style = \"text-align: right;\">191.08</td><td style = \"text-align: right;\">189.4</td><td style = \"text-align: left;\">2023-11-28T05:00:00</td><td style = \"text-align: right;\">458154</td></tr><tr><td class = \"rowNumber\" style = \"font-weight: bold; text-align: right;\">1487</td><td style = \"text-align: right;\">4.30142e7</td><td style = \"text-align: right;\">189.997</td><td style = \"text-align: right;\">190.9</td><td style = \"text-align: right;\">189.37</td><td style = \"text-align: right;\">192.09</td><td style = \"text-align: right;\">188.97</td><td style = \"text-align: left;\">2023-11-29T05:00:00</td><td style = \"text-align: right;\">493064</td></tr><tr><td class = \"rowNumber\" style = \"font-weight: bold; text-align: right;\">1488</td><td style = \"text-align: right;\">4.87444e7</td><td style = \"text-align: right;\">189.337</td><td style = \"text-align: right;\">189.84</td><td style = \"text-align: right;\">189.95</td><td style = \"text-align: right;\">190.32</td><td style = \"text-align: right;\">188.19</td><td style = \"text-align: left;\">2023-11-30T05:00:00</td><td style = \"text-align: right;\">486786</td></tr><tr><td class = \"rowNumber\" style = \"font-weight: bold; text-align: right;\">1489</td><td style = \"text-align: right;\">4.56767e7</td><td style = \"text-align: right;\">190.861</td><td style = \"text-align: right;\">190.33</td><td style = \"text-align: right;\">191.24</td><td style = \"text-align: right;\">191.56</td><td style = \"text-align: right;\">189.23</td><td style = \"text-align: left;\">2023-12-01T05:00:00</td><td style = \"text-align: right;\">515537</td></tr></tbody></table></div>"
      ],
      "text/latex": [
       "\\begin{tabular}{r|cccccccc}\n",
       "\t& volume & volume\\_weighted\\_average\\_price & open & close & high & low & timestamp & \\\\\n",
       "\t\\hline\n",
       "\t& Float64 & Float64 & Float64 & Float64 & Float64 & Float64 & DateTime & \\\\\n",
       "\t\\hline\n",
       "\t1 & 1.17982e8 & 43.2781 & 43.1325 & 43.0575 & 43.6375 & 42.99 & 2018-01-03T05:00:00 & $\\dots$ \\\\\n",
       "\t2 & 8.97384e7 & 43.2473 & 43.135 & 43.2575 & 43.3675 & 43.02 & 2018-01-04T05:00:00 & $\\dots$ \\\\\n",
       "\t3 & 9.46401e7 & 43.6732 & 43.36 & 43.75 & 43.8425 & 43.2625 & 2018-01-05T05:00:00 & $\\dots$ \\\\\n",
       "\t4 & 8.22711e7 & 43.6581 & 43.5875 & 43.5875 & 43.9025 & 43.4825 & 2018-01-08T05:00:00 & $\\dots$ \\\\\n",
       "\t5 & 8.6336e7 & 43.5803 & 43.6375 & 43.5825 & 43.765 & 43.3525 & 2018-01-09T05:00:00 & $\\dots$ \\\\\n",
       "\t6 & 9.58396e7 & 43.4126 & 43.29 & 43.5725 & 43.575 & 43.25 & 2018-01-10T05:00:00 & $\\dots$ \\\\\n",
       "\t7 & 7.46709e7 & 43.7894 & 43.6475 & 43.82 & 43.8722 & 43.6225 & 2018-01-11T05:00:00 & $\\dots$ \\\\\n",
       "\t8 & 9.68123e7 & 44.1806 & 44.045 & 44.2725 & 44.34 & 43.9125 & 2018-01-12T05:00:00 & $\\dots$ \\\\\n",
       "\t9 & 1.18128e8 & 44.3672 & 44.475 & 44.0475 & 44.8475 & 44.035 & 2018-01-16T05:00:00 & $\\dots$ \\\\\n",
       "\t10 & 1.37547e8 & 44.3277 & 44.0375 & 44.775 & 44.8125 & 43.7675 & 2018-01-17T05:00:00 & $\\dots$ \\\\\n",
       "\t11 & 1.24773e8 & 44.8455 & 44.8425 & 44.815 & 45.025 & 44.5625 & 2018-01-18T05:00:00 & $\\dots$ \\\\\n",
       "\t12 & 1.297e8 & 44.6099 & 44.6525 & 44.615 & 44.895 & 44.3525 & 2018-01-19T05:00:00 & $\\dots$ \\\\\n",
       "\t13 & 1.08434e8 & 44.2809 & 44.325 & 44.25 & 44.445 & 44.1505 & 2018-01-22T05:00:00 & $\\dots$ \\\\\n",
       "\t14 & 1.30757e8 & 44.4905 & 44.325 & 44.26 & 44.86 & 44.205 & 2018-01-23T05:00:00 & $\\dots$ \\\\\n",
       "\t15 & 2.0442e8 & 43.7034 & 44.3125 & 43.555 & 44.325 & 43.3 & 2018-01-24T05:00:00 & $\\dots$ \\\\\n",
       "\t16 & 1.66116e8 & 43.0611 & 43.6263 & 42.7775 & 43.7375 & 42.6325 & 2018-01-25T05:00:00 & $\\dots$ \\\\\n",
       "\t17 & 1.56498e8 & 42.7716 & 43.0 & 42.8775 & 43.0 & 42.515 & 2018-01-26T05:00:00 & $\\dots$ \\\\\n",
       "\t18 & 2.02562e8 & 42.0885 & 42.54 & 41.99 & 42.54 & 41.7675 & 2018-01-29T05:00:00 & $\\dots$ \\\\\n",
       "\t19 & 1.84193e8 & 41.5746 & 41.3813 & 41.7425 & 41.8425 & 41.175 & 2018-01-30T05:00:00 & $\\dots$ \\\\\n",
       "\t20 & 1.29916e8 & 41.8319 & 41.7175 & 41.8575 & 42.1104 & 41.625 & 2018-01-31T05:00:00 & $\\dots$ \\\\\n",
       "\t21 & 1.88923e8 & 41.9943 & 41.7913 & 41.945 & 42.155 & 41.69 & 2018-02-01T05:00:00 & $\\dots$ \\\\\n",
       "\t22 & 3.46375e8 & 40.7329 & 41.5 & 40.125 & 41.7 & 40.025 & 2018-02-02T05:00:00 & $\\dots$ \\\\\n",
       "\t23 & 2.90954e8 & 40.1086 & 39.775 & 39.1225 & 40.97 & 39.0 & 2018-02-05T05:00:00 & $\\dots$ \\\\\n",
       "\t24 & 2.72875e8 & 39.9124 & 38.7075 & 40.7575 & 40.93 & 38.5 & 2018-02-06T05:00:00 & $\\dots$ \\\\\n",
       "\t$\\dots$ & $\\dots$ & $\\dots$ & $\\dots$ & $\\dots$ & $\\dots$ & $\\dots$ & $\\dots$ &  \\\\\n",
       "\\end{tabular}\n"
      ],
      "text/plain": [
       "\u001b[1m1489×8 DataFrame\u001b[0m\n",
       "\u001b[1m  Row \u001b[0m│\u001b[1m volume    \u001b[0m\u001b[1m volume_weighted_average_price \u001b[0m\u001b[1m open     \u001b[0m\u001b[1m close    \u001b[0m\u001b[1m high    \u001b[0m ⋯\n",
       "      │\u001b[90m Float64   \u001b[0m\u001b[90m Float64                       \u001b[0m\u001b[90m Float64  \u001b[0m\u001b[90m Float64  \u001b[0m\u001b[90m Float64 \u001b[0m ⋯\n",
       "──────┼─────────────────────────────────────────────────────────────────────────\n",
       "    1 │ 1.17982e8                        43.2781   43.1325   43.0575   43.6375 ⋯\n",
       "    2 │ 8.97384e7                        43.2473   43.135    43.2575   43.3675\n",
       "    3 │ 9.46401e7                        43.6732   43.36     43.75     43.8425\n",
       "    4 │ 8.22711e7                        43.6581   43.5875   43.5875   43.9025\n",
       "    5 │ 8.6336e7                         43.5803   43.6375   43.5825   43.765  ⋯\n",
       "    6 │ 9.58396e7                        43.4126   43.29     43.5725   43.575\n",
       "    7 │ 7.46709e7                        43.7894   43.6475   43.82     43.8722\n",
       "    8 │ 9.68123e7                        44.1806   44.045    44.2725   44.34\n",
       "  ⋮   │     ⋮                    ⋮                   ⋮         ⋮         ⋮     ⋱\n",
       " 1483 │ 3.963e7                         191.722   191.49    191.31    192.93   ⋯\n",
       " 1484 │ 2.40184e7                       189.79    190.87    189.97    190.9\n",
       " 1485 │ 4.04566e7                       189.797   189.92    189.79    190.67\n",
       " 1486 │ 3.84154e7                       190.165   189.78    190.4     191.08\n",
       " 1487 │ 4.30142e7                       189.997   190.9     189.37    192.09   ⋯\n",
       " 1488 │ 4.87444e7                       189.337   189.84    189.95    190.32\n",
       " 1489 │ 4.56767e7                       190.861   190.33    191.24    191.56\n",
       "\u001b[36m                                                 3 columns and 1474 rows omitted\u001b[0m"
      ]
     },
     "metadata": {},
     "output_type": "display_data"
    }
   ],
   "source": [
    "original_dataset = load(joinpath(_PATH_TO_DATA, \n",
    "        \"SP500-Daily-OHLC-1-3-2018-to-12-01-2023.jld2\")) |> x-> x[\"dataset\"];\n",
    "\n",
    "original_dataset[\"AAPL\"] # Testing Checkpoint"
   ]
  },
  {
   "cell_type": "markdown",
   "id": "d5567fb5-3688-4fe7-8cc9-201119de77f5",
   "metadata": {},
   "source": [
    "### [2] Clean the data\n",
    "Not all of the tickers in our dataset have the maximum number of trading days for various reasons, e.g., acquistion or de-listing events. Let's collect only those tickers with the maximum number of trading days.\n",
    "\n",
    "* First, let's compute the number of records for a company that we know has a maximim value, e.g., `AAPL` and save that value in the `maximum_number_trading_days` variable:"
   ]
  },
  {
   "cell_type": "code",
   "execution_count": 286,
   "id": "5e88a72f-9231-459a-99bc-f0fdccc6e42d",
   "metadata": {
    "tags": []
   },
   "outputs": [],
   "source": [
    "maximum_number_trading_days = original_dataset[\"AAPL\"] |> nrow;"
   ]
  },
  {
   "cell_type": "markdown",
   "id": "d3b64e6f-3662-48fe-bcec-ba6da19f60f9",
   "metadata": {},
   "source": [
    "Now, lets iterate through our data and collect only those tickers that have `maximum_number_trading_days` records. Save that data in the `dataset::Dict{String,DataFrame}` variable:"
   ]
  },
  {
   "cell_type": "code",
   "execution_count": 287,
   "id": "9b263c2a-7cb2-42ef-a700-b857aeb22f8e",
   "metadata": {
    "tags": []
   },
   "outputs": [
    {
     "data": {
      "text/plain": [
       "Dict{String, DataFrame} with 459 entries:\n",
       "  \"NI\"   => \u001b[1m1489×8 DataFrame\u001b[0m\u001b[0m…\n",
       "  \"EMR\"  => \u001b[1m1489×8 DataFrame\u001b[0m\u001b[0m…\n",
       "  \"CTAS\" => \u001b[1m1489×8 DataFrame\u001b[0m\u001b[0m…\n",
       "  \"HSIC\" => \u001b[1m1489×8 DataFrame\u001b[0m\u001b[0m…\n",
       "  \"KIM\"  => \u001b[1m1489×8 DataFrame\u001b[0m\u001b[0m…\n",
       "  \"PLD\"  => \u001b[1m1489×8 DataFrame\u001b[0m\u001b[0m…\n",
       "  \"IEX\"  => \u001b[1m1489×8 DataFrame\u001b[0m\u001b[0m…\n",
       "  \"BAC\"  => \u001b[1m1489×8 DataFrame\u001b[0m\u001b[0m…\n",
       "  \"CBOE\" => \u001b[1m1489×8 DataFrame\u001b[0m\u001b[0m…\n",
       "  \"EXR\"  => \u001b[1m1489×8 DataFrame\u001b[0m\u001b[0m…\n",
       "  \"NCLH\" => \u001b[1m1489×8 DataFrame\u001b[0m\u001b[0m…\n",
       "  \"CVS\"  => \u001b[1m1489×8 DataFrame\u001b[0m\u001b[0m…\n",
       "  \"DRI\"  => \u001b[1m1489×8 DataFrame\u001b[0m\u001b[0m…\n",
       "  \"DTE\"  => \u001b[1m1489×8 DataFrame\u001b[0m\u001b[0m…\n",
       "  \"ZION\" => \u001b[1m1489×8 DataFrame\u001b[0m\u001b[0m…\n",
       "  \"AVY\"  => \u001b[1m1489×8 DataFrame\u001b[0m\u001b[0m…\n",
       "  \"EW\"   => \u001b[1m1489×8 DataFrame\u001b[0m\u001b[0m…\n",
       "  \"EA\"   => \u001b[1m1489×8 DataFrame\u001b[0m\u001b[0m…\n",
       "  \"NWSA\" => \u001b[1m1489×8 DataFrame\u001b[0m\u001b[0m…\n",
       "  ⋮      => ⋮"
      ]
     },
     "metadata": {},
     "output_type": "display_data"
    }
   ],
   "source": [
    "dataset = Dict{String,DataFrame}();\n",
    "for (ticker,data) ∈ original_dataset\n",
    "    if (nrow(data) == maximum_number_trading_days)\n",
    "        dataset[ticker] = data;\n",
    "    end\n",
    "end\n",
    "dataset # Testing Checkpoint"
   ]
  },
  {
   "cell_type": "markdown",
   "id": "5ffb1bec-88c3-4648-b7e9-9b1300504b4a",
   "metadata": {},
   "source": [
    "Let's get a list of firms that we have in cleaned up `dataset`, and save it in the `all_tickers` array:"
   ]
  },
  {
   "cell_type": "code",
   "execution_count": 288,
   "id": "93f5fc90-048c-4e23-83da-8a362b297f77",
   "metadata": {
    "tags": []
   },
   "outputs": [],
   "source": [
    "all_tickers = keys(dataset) |> collect |> sort;\n",
    "K = length(all_tickers);"
   ]
  },
  {
   "cell_type": "markdown",
   "id": "1266557c-c5ce-4c67-9f93-7dcdb3038e26",
   "metadata": {},
   "source": [
    "### [3] Get the 2023 `SPY` data"
   ]
  },
  {
   "cell_type": "code",
   "execution_count": 289,
   "id": "b700d807-61d8-4d3c-8c78-0908bcd81855",
   "metadata": {
    "tags": []
   },
   "outputs": [],
   "source": [
    "startdate = Date(2023,01,03);\n",
    "SPY_dataset = dataset[\"SPY\"];\n",
    "SPY_df = filter(:timestamp => x-> x >= startdate, SPY_dataset);"
   ]
  },
  {
   "cell_type": "markdown",
   "id": "9d07c6db-65c2-424b-878e-652936db2032",
   "metadata": {},
   "source": [
    "### [4] Compute the expected return for all firms in the dataset\n",
    "The expected return $\\mathbb{E}(r_{i})$ and covariance matrix $\\Sigma$ will be used in our calculations, so we'll provide values for both of these items for the entire data set (all `N = 459` tickers), and then you can pick out which tickers you are interested in. \n",
    "\n",
    "* First, we compute the expected (annualized) log return by passing the `dataset` and the entire list of firms we have in the dataset (held in the $N\\times{1}$ `all_array` array) to the `log_return_matrix(...)` method. The result is stored in the `all_firms_return_matrix` variable, a $T-1\\times{N}$ array of log return values. Each row of `all_firms_return_matrix` corresponds to a time-value, while each column corresponds to a firm:"
   ]
  },
  {
   "cell_type": "code",
   "execution_count": 290,
   "id": "870a7ff9-d78c-4313-8e75-92cc67dc0858",
   "metadata": {
    "tags": []
   },
   "outputs": [
    {
     "data": {
      "text/plain": [
       "1488×459 Matrix{Float64}:\n",
       "  0.374988   1.92928    7.02769   …   5.80159    1.79882    2.05452\n",
       "  2.18987   -0.618139   4.02037       4.00668   -0.711936   2.9759\n",
       "  0.936321  -1.91617   -0.803754      2.89928   -0.355978   2.46921\n",
       "  6.20162    1.51203   -1.87102       6.60558    5.1484     3.41373\n",
       " -3.47638    4.92131   -0.267677      1.81502    3.3669    -4.87013\n",
       " -0.32572   10.2817     2.80668   …  10.7317     2.24034    2.48203\n",
       "  3.30669    9.96413    7.37109       5.85955    2.39702    3.15105\n",
       " -0.169697   1.28539   -1.51874       2.72067   -1.55483    1.107\n",
       "  1.69849   -0.255863   1.95851       0.439849  -0.102035   2.84631\n",
       "  0.2133     0.137904  -0.483602     -0.160856  -0.505564  -1.09091\n",
       "  ⋮                               ⋱                        \n",
       "  2.26723    2.1726     7.26467       3.3749    -0.512718   1.11322\n",
       " 20.2293    -4.27888   -4.26492   …   1.34512   -9.76174    4.16186\n",
       "  1.70818    7.19329    4.10883       4.41632    0.37683    1.33906\n",
       "  2.70146   -3.27828    3.66587       3.21533   -1.00101    1.15102\n",
       " -0.483625  -2.99005   -5.954         3.77393   -1.26626   -1.59251\n",
       " -0.607248  -1.8012    -2.35438       1.57735    0.489926  -3.06977\n",
       "  3.91051    5.77739    2.61717   …   5.22148   10.1753    -1.19957\n",
       "  0.933831  -1.09458   -4.99426      -1.27433    0.239867  -0.739941\n",
       "  0.913473  10.6061    11.4015        3.62121   15.4011     3.65162"
      ]
     },
     "metadata": {},
     "output_type": "display_data"
    }
   ],
   "source": [
    "all_firms_return_matrix = log_return_matrix(dataset, all_tickers, \n",
    "    Δt = (1.0/252.0), risk_free_rate = 0.0);\n",
    "all_firms_return_matrix # Testing Checkpoint"
   ]
  },
  {
   "cell_type": "code",
   "execution_count": 291,
   "id": "dfab417f",
   "metadata": {},
   "outputs": [
    {
     "data": {
      "text/plain": [
       "459-element Vector{Float64}:\n",
       "  0.10477118518531323\n",
       " -0.23792329291831055\n",
       " -0.11878362723945904\n",
       "  0.25130568798290637\n",
       "  0.0616291496433946\n",
       "  0.09753407212245463\n",
       "  0.13203999046355291\n",
       "  0.20619167164588215\n",
       "  0.11801068299041018\n",
       "  0.10682284992313297\n",
       "  ⋮\n",
       "  0.04204955516729051\n",
       "  0.030591034311174593\n",
       " -0.1229546043808743\n",
       "  0.07345290303676882\n",
       "  0.07472583421657158\n",
       " -0.010338970697217547\n",
       "  0.13979487846925523\n",
       " -0.04846036175653935\n",
       "  0.1537728141463932"
      ]
     },
     "metadata": {},
     "output_type": "display_data"
    }
   ],
   "source": [
    "μ = mean(all_firms_return_matrix, dims=1) |> vec;\n",
    "μ # Testing Checkpoint"
   ]
  },
  {
   "cell_type": "markdown",
   "id": "66369e97",
   "metadata": {},
   "source": [
    "## Section B : Estimating Single Index Models (SIMs) from Historical Data"
   ]
  },
  {
   "cell_type": "code",
   "execution_count": 292,
   "id": "ed184ad0",
   "metadata": {},
   "outputs": [],
   "source": [
    "risk_free_rate = 0.05;"
   ]
  },
  {
   "cell_type": "markdown",
   "id": "080d71ed",
   "metadata": {},
   "source": [
    "Computing the excess return for all the tickers"
   ]
  },
  {
   "cell_type": "code",
   "execution_count": 293,
   "id": "1157ca1d",
   "metadata": {},
   "outputs": [
    {
     "data": {
      "text/plain": [
       "1488×459 Matrix{Float64}:\n",
       "  0.324988   1.87928     6.97769   …   5.75159    1.74882    2.00452\n",
       "  2.13987   -0.668139    3.97037       3.95668   -0.761936   2.9259\n",
       "  0.886321  -1.96617    -0.853754      2.84928   -0.405978   2.41921\n",
       "  6.15162    1.46203    -1.92102       6.55558    5.0984     3.36373\n",
       " -3.52638    4.87131    -0.317677      1.76502    3.3169    -4.92013\n",
       " -0.37572   10.2317      2.75668   …  10.6817     2.19034    2.43203\n",
       "  3.25669    9.91413     7.32109       5.80955    2.34702    3.10105\n",
       " -0.219697   1.23539    -1.56874       2.67067   -1.60483    1.057\n",
       "  1.64849   -0.305863    1.90851       0.389849  -0.152035   2.79631\n",
       "  0.1633     0.0879042  -0.533602     -0.210856  -0.555564  -1.14091\n",
       "  ⋮                                ⋱                        \n",
       "  2.21723    2.1226      7.21467       3.3249    -0.562718   1.06322\n",
       " 20.1793    -4.32888    -4.31492   …   1.29512   -9.81174    4.11186\n",
       "  1.65818    7.14329     4.05883       4.36632    0.32683    1.28906\n",
       "  2.65146   -3.32828     3.61587       3.16533   -1.05101    1.10102\n",
       " -0.533625  -3.04005    -6.004         3.72393   -1.31626   -1.64251\n",
       " -0.657248  -1.8512     -2.40438       1.52735    0.439926  -3.11977\n",
       "  3.86051    5.72739     2.56717   …   5.17148   10.1253    -1.24957\n",
       "  0.883831  -1.14458    -5.04426      -1.32433    0.189867  -0.789941\n",
       "  0.863473  10.5561     11.3515        3.57121   15.3511     3.60162"
      ]
     },
     "metadata": {},
     "output_type": "display_data"
    }
   ],
   "source": [
    "all_firms_excess_return_matrix = log_return_matrix(dataset, all_tickers, \n",
    "    Δt = (1.0/252.0), risk_free_rate = risk_free_rate)"
   ]
  },
  {
   "cell_type": "markdown",
   "id": "ed18a92f",
   "metadata": {},
   "source": [
    "Next, we estimate the expected excess return for each firm from the `all_firms_excess_return_matrix` using the `mean(...)` function, which is exported by the [Statistics.jl package](https://docs.julialang.org/en/v1/stdlib/Statistics/). We set the $N\\times{1}$ vector of expected values, i.e., $\\mathbb{E}(R_{1}),\\dotsc,\\mathbb{E}(R_{N})$ in the variable $\\mu$:"
   ]
  },
  {
   "cell_type": "markdown",
   "id": "c42c1a18",
   "metadata": {},
   "source": [
    "### Section B1 : Estimate SIM parameters for each asset in our collection"
   ]
  },
  {
   "cell_type": "markdown",
   "id": "fb309039",
   "metadata": {},
   "source": [
    "#### Estimate $\\left(\\alpha_{i},\\beta_{i}\\right)$ values for each firm\n",
    "To estimate the single index model parameters, first let's initialize some storage. We'll store `MySingleIndexModel` instances for each firm in `dataset` in the `sim_model_dictionary::Dict{String, MySingleIndexModel}` dictionary:"
   ]
  },
  {
   "cell_type": "code",
   "execution_count": 294,
   "id": "bca25a9c",
   "metadata": {},
   "outputs": [],
   "source": [
    "sim_model_dictionary = Dict{String, MySingleIndexModel}();"
   ]
  },
  {
   "cell_type": "markdown",
   "id": "104d508a",
   "metadata": {},
   "source": [
    "Next, we need to pull out excess return of the `market porfolio` from `all_firms_excess_return_matrix`. To do this, lookup the index for our market portfolio surrogate `SPY`, and then get the column from the `all_firms_excess_return_matrix`:"
   ]
  },
  {
   "cell_type": "code",
   "execution_count": 295,
   "id": "c7c06141",
   "metadata": {},
   "outputs": [],
   "source": [
    "index_spy = findfirst(x->x==\"SPY\",all_tickers);\n",
    "Rₘ = all_firms_excess_return_matrix[:,index_spy];"
   ]
  },
  {
   "cell_type": "markdown",
   "id": "39e8879c",
   "metadata": {},
   "source": [
    "Finally, for each `ticker` in the `all_tickers` array, compute the values for the $(\\alpha,\\beta)$ parameters using a `for` loop. For each iteration of the loop:\n",
    "* First, look up the index of the `ticker` we are considering and store that in the `asset_ticker_index` variable. Then, store the appropriate column from `all_firms_excess_return_matrix` in the `Rᵢ` variable.\n",
    "* Next, compute the number of trading days of data we have, and formulate the data array `X` and the output array `Y` for `ticker` that we will use to solve the `normal equations`.\n",
    "* Finally, solve for the unknown parameter vector $\\theta$, create a `MySingleIndexModel` instance for each ticker, populate the fields of this model, and store in the `sim_model_dictionary`."
   ]
  },
  {
   "cell_type": "code",
   "execution_count": 296,
   "id": "68dd0c00",
   "metadata": {},
   "outputs": [],
   "source": [
    "for asset_ticker ∈ all_tickers\n",
    "    \n",
    "    # compute the excess return for asset_ticker -\n",
    "    asset_ticker_index = findfirst(x->x==asset_ticker, all_tickers);\n",
    "    Rᵢ = all_firms_excess_return_matrix[:, asset_ticker_index];\n",
    "    \n",
    "    # formulate the Y and X arrays with the price data -\n",
    "    max_length = length(Rᵢ);\n",
    "    Y = Rᵢ;\n",
    "    X = [ones(max_length) Rₘ];\n",
    "    \n",
    "    # compute θ -\n",
    "    θ = inv(transpose(X)*X)*transpose(X)*Y\n",
    "    \n",
    "    # package -\n",
    "    sim_model = MySingleIndexModel();\n",
    "    sim_model.α = θ[1];\n",
    "    sim_model.β = θ[2];\n",
    "    sim_model.r = risk_free_rate;\n",
    "    sim_model_dictionary[asset_ticker] = sim_model;\n",
    "end"
   ]
  },
  {
   "cell_type": "markdown",
   "id": "79822485",
   "metadata": {},
   "source": [
    "### Section B2 : Compute the SIM error model for each asset in our collection\n",
    "Now that we values for the $(\\alpha,\\beta)$ parameters for each firm, we can compute the error models. In particular, the parameters in the error can be estimated by computing the residual vector:\n",
    "\n",
    "$$\\Delta_{i} = R_{i} - \\hat{R}_{i}$$\n",
    "\n",
    "where $R_{i}$ denotes the `observed` excess return and $\\hat{R}_{i}$ denotes the excess return `predicted` using the single index model. We need to do this for each firm in our `dataset` using a `for` loop. In particular, for each `ticker` in the `all_tickers` array:\n",
    "\n",
    "* First, we get the `MySingleIndexModel` instance from `sim_model_dictionary`, and store this model in the `sim_model` variable. Then, store the appropriate column from `all_firms_excess_return_matrix` in the `Rᵢ` variable.\n",
    "* Next, compute the number of trading days of data we have, access the $(\\alpha, \\beta)$ parameter values from `sim_model`, and compute `predicted` excess return, store this in the `R̂ᵢ` variable.\n",
    "* Finally, compute the residual values $\\Delta_{i} = R_{i} - \\hat{R}_{i}$, fit a `Normal` distribution to the residuals using the `fit_mle(...)` function exported by [Distributions.jl](https://github.com/JuliaStats/Distributions.jl.git), and store both the fitted distribution and residual values."
   ]
  },
  {
   "cell_type": "code",
   "execution_count": 297,
   "id": "0962b011",
   "metadata": {},
   "outputs": [],
   "source": [
    "residual_model_dictionary = Dict{String, Array{Float64,1}}()\n",
    "for asset_ticker ∈ all_tickers\n",
    "    \n",
    "    # grab the model -\n",
    "    sim_model = sim_model_dictionary[asset_ticker];\n",
    "    \n",
    "    # compute the excess return for asset_ticker -\n",
    "    asset_ticker_index = findfirst(x->x==asset_ticker, all_tickers);\n",
    "    Rᵢ = all_firms_excess_return_matrix[:, asset_ticker_index];\n",
    "    \n",
    "    # what is the length -\n",
    "    max_length = length(Rᵢ);\n",
    "    \n",
    "    # compute the model excess return -\n",
    "    αᵢ = sim_model.α\n",
    "    βᵢ = sim_model.β\n",
    "    R̂ᵢ = αᵢ .+ βᵢ .* Rₘ\n",
    "    \n",
    "    # compute the residual -\n",
    "    Δᵢ = Rᵢ .- R̂ᵢ;\n",
    "    \n",
    "    # Esimate a distribution -\n",
    "    d = fit_mle(Normal, Δᵢ);\n",
    "    \n",
    "    # update the sim_model -\n",
    "    sim_model.ϵ = d;\n",
    "    \n",
    "    # store the residuals -\n",
    "    residual_model_dictionary[asset_ticker] = Δᵢ\n",
    "end"
   ]
  },
  {
   "cell_type": "code",
   "execution_count": 298,
   "id": "0eba7347",
   "metadata": {},
   "outputs": [],
   "source": [
    "sims = sim_model_dictionary;"
   ]
  },
  {
   "cell_type": "markdown",
   "id": "160acb23",
   "metadata": {},
   "source": [
    "Next let's build the `single index model` version of the covariance array. Substituting the single index model for the excess return of asset $i$ and $j$ into the covariance expression (and simplifying) gives:\n",
    "\n",
    "$$\n",
    "\\begin{equation*}\n",
    "\\text{cov}(R_{i}, R_{j}) = \\begin{cases}\n",
    "\\beta_{i}^{2}\\sigma_{m}^{2}+\\sigma_{\\epsilon_{i}}^{2} & i = j \\\\\n",
    "\\beta_{i}\\beta_{j}\\sigma_{m}^2 & i \\neq j\n",
    "\\end{cases}\n",
    "\\end{equation*}\n",
    "$$\n",
    "\n",
    "where $\\sigma_{m}^2$ denotes the variance of the excess return of the market,  and $\\sigma_{\\epsilon_{i}}^{2}$ denotes the variance of the firm-specific error model."
   ]
  },
  {
   "cell_type": "code",
   "execution_count": 299,
   "id": "3779a119",
   "metadata": {},
   "outputs": [
    {
     "data": {
      "text/plain": [
       "2.5345018373000348"
      ]
     },
     "metadata": {},
     "output_type": "display_data"
    }
   ],
   "source": [
    "σₘ = std(all_firms_return_matrix[:, index_spy])"
   ]
  },
  {
   "cell_type": "markdown",
   "id": "5ea5a43b",
   "metadata": {},
   "source": [
    "We populate the single index covariance array using nested `for` loops:"
   ]
  },
  {
   "cell_type": "code",
   "execution_count": 300,
   "id": "00411da2",
   "metadata": {},
   "outputs": [],
   "source": [
    "Σ_tmp = Array{Float64,2}(undef, length(μ), length(μ));\n",
    "for i ∈ eachindex(all_tickers)\n",
    "    outer_ticker = all_tickers[i];\n",
    "    sim_outer = sims[outer_ticker];\n",
    "    \n",
    "    for j ∈ eachindex(all_tickers)\n",
    "        \n",
    "        inner_ticker = all_tickers[j];\n",
    "        sim_inner = sims[inner_ticker];\n",
    "        \n",
    "        if (i == j)\n",
    "            βᵢ = sim_outer.β\n",
    "            ϵᵢ = sim_outer.ϵ\n",
    "            σ_ϵᵢ = params(ϵᵢ)[2];\n",
    "            Σ_tmp[i,j] = ((βᵢ)^2)*((σₘ)^2)+(σ_ϵᵢ)^2\n",
    "        else\n",
    "            βᵢ = sim_outer.β\n",
    "            βⱼ = sim_inner.β\n",
    "            Σ_tmp[i,j] = βᵢ*βⱼ*(σₘ)^2\n",
    "        end\n",
    "    end\n",
    "end\n",
    "Σ_sim  = Σ_tmp |> x-> x*(1/252);"
   ]
  },
  {
   "cell_type": "markdown",
   "id": "f0d6758f",
   "metadata": {},
   "source": [
    "## Section C : Computing the Efficient Frontier Collection and Selecting a Initial Portfolio"
   ]
  },
  {
   "cell_type": "markdown",
   "id": "3afa2601",
   "metadata": {},
   "source": [
    "For our project we have got a grant amount of 33,052,927.28 USD, this will be our total budget"
   ]
  },
  {
   "cell_type": "code",
   "execution_count": 301,
   "id": "eeb95410",
   "metadata": {},
   "outputs": [],
   "source": [
    "# initialize -\n",
    "μ_sim = Array{Float64,1}();\n",
    "my_list_of_firm_ids = Array{Int64,1}();\n",
    "efficient_frontier_sim = Dict{Float64,Float64}();\n",
    "portfolio_df = DataFrame();\n",
    "\n",
    "total_initial_budget =  33052927.28; # Total Grant Amount\n",
    "enddate::Date = Date(2023,01,03)\n",
    "my_list_of_tickers = [\"AAPL\", \"MRK\", \"GOOGL\",\"AMD\"] \n",
    "number_of_points = 100\n",
    "maxreturn = 0.40\n",
    "\n",
    "number_of_firms = length(my_list_of_tickers);\n",
    "wₒ = zeros(number_of_firms);\n",
    "wₒ[1] = 1.0;\n",
    "bounds = zeros(number_of_firms,2);\n",
    "bounds[:,2] .= 1.0;\n",
    "minimum_desired_reward_array = range(0, stop = maxreturn - risk_free_rate, length = number_of_points) |> collect;\n"
   ]
  },
  {
   "cell_type": "markdown",
   "id": "7fd26403",
   "metadata": {},
   "source": [
    "Get the ids for the tickers in my_list_of_tickers"
   ]
  },
  {
   "cell_type": "code",
   "execution_count": 302,
   "id": "fe05d562",
   "metadata": {},
   "outputs": [],
   "source": [
    "for ticker ∈ my_list_of_tickers\n",
    "    firm_index = findfirst(x->x==ticker, all_tickers);    \n",
    "    push!(my_list_of_firm_ids, firm_index)\n",
    "end"
   ]
  },
  {
   "cell_type": "code",
   "execution_count": 303,
   "id": "a42c9c0f",
   "metadata": {},
   "outputs": [],
   "source": [
    "R_SPY = μ[index_spy];"
   ]
  },
  {
   "cell_type": "markdown",
   "id": "eb0dbb3d",
   "metadata": {},
   "source": [
    "Compute the expected excess return for all firms"
   ]
  },
  {
   "cell_type": "code",
   "execution_count": 304,
   "id": "3a48e2e5",
   "metadata": {},
   "outputs": [],
   "source": [
    "for i ∈ eachindex(all_tickers)\n",
    "\n",
    "    myticker = all_tickers[i];\n",
    "    sim = sims[myticker];\n",
    "\n",
    "    αᵢ = sim.α\n",
    "    βᵢ = sim.β\n",
    "    Rᵢ = αᵢ+βᵢ*R_SPY\n",
    "\n",
    "    push!(μ_sim,Rᵢ)\n",
    "end"
   ]
  },
  {
   "cell_type": "markdown",
   "id": "af905807",
   "metadata": {},
   "source": [
    "Get the μ̂_sim vector (expected excess return) for my_list_of_tickers"
   ]
  },
  {
   "cell_type": "code",
   "execution_count": 305,
   "id": "08ec8a8c",
   "metadata": {},
   "outputs": [],
   "source": [
    "μ̂_sim = Array{Float64,1}();\n",
    "for firm_index ∈ my_list_of_firm_ids\n",
    "    push!(μ̂_sim, μ_sim[firm_index])\n",
    "end"
   ]
  },
  {
   "cell_type": "markdown",
   "id": "00f7a83c",
   "metadata": {},
   "source": [
    "Get the Σ̂_sim matrix (covariance matrix) for my_list_of_tickers"
   ]
  },
  {
   "cell_type": "code",
   "execution_count": 306,
   "id": "00ccf5fd",
   "metadata": {},
   "outputs": [],
   "source": [
    "my_number_of_selected_firms = length(my_list_of_firm_ids)\n",
    "Σ̂_sim = Array{Float64,2}(undef, my_number_of_selected_firms, my_number_of_selected_firms);\n",
    "for i ∈ eachindex(my_list_of_firm_ids)\n",
    "    row_firm_index = my_list_of_firm_ids[i]\n",
    "    for j ∈ eachindex(my_list_of_firm_ids)\n",
    "        col_firm_index = my_list_of_firm_ids[j]\n",
    "        Σ̂_sim[i,j] = Σ_sim[row_firm_index, col_firm_index]\n",
    "    end\n",
    "end"
   ]
  },
  {
   "cell_type": "markdown",
   "id": "140fd1d2",
   "metadata": {},
   "source": [
    "Build the problem object - initialize with the minimum desired excess reward, e.g., zero"
   ]
  },
  {
   "cell_type": "code",
   "execution_count": 307,
   "id": "5ab89b65",
   "metadata": {},
   "outputs": [],
   "source": [
    "problem_risk_sim = build(MyMarkowitzRiskyRiskFreePortfiolioChoiceProblem, (\n",
    "    Σ = Σ̂_sim,\n",
    "    μ = μ̂_sim,\n",
    "    bounds = bounds,\n",
    "    initial = wₒ,\n",
    "    risk_free_rate = 0.0, # = 0 because we are using excess returns\n",
    "    R = 0.0\n",
    "));"
   ]
  },
  {
   "cell_type": "markdown",
   "id": "98d9061c",
   "metadata": {},
   "source": [
    "Computing the Efficient Frontier"
   ]
  },
  {
   "cell_type": "code",
   "execution_count": 308,
   "id": "e196b721",
   "metadata": {},
   "outputs": [
    {
     "data": {
      "text/html": [
       "<div><div style = \"float: left;\"><span>100×5 DataFrame</span></div><div style = \"float: right;\"><span style = \"font-style: italic;\">75 rows omitted</span></div><div style = \"clear: both;\"></div></div><div class = \"data-frame\" style = \"overflow-x: scroll;\"><table class = \"data-frame\" style = \"margin-bottom: 6px;\"><thead><tr class = \"header\"><th class = \"rowNumber\" style = \"font-weight: bold; text-align: right;\">Row</th><th style = \"text-align: left;\">expected_excess_return</th><th style = \"text-align: left;\">risk</th><th style = \"text-align: left;\">tickers</th><th style = \"text-align: left;\">w</th><th style = \"text-align: left;\">risk_free_rate</th></tr><tr class = \"subheader headerLastRow\"><th class = \"rowNumber\" style = \"font-weight: bold; text-align: right;\"></th><th title = \"Float64\" style = \"text-align: left;\">Float64</th><th title = \"Float64\" style = \"text-align: left;\">Float64</th><th title = \"Vector{String}\" style = \"text-align: left;\">Array…</th><th title = \"Vector{Float64}\" style = \"text-align: left;\">Array…</th><th title = \"Float64\" style = \"text-align: left;\">Float64</th></tr></thead><tbody><tr><td class = \"rowNumber\" style = \"font-weight: bold; text-align: right;\">1</td><td style = \"text-align: right;\">0.000119457</td><td style = \"text-align: right;\">0.000113939</td><td style = \"text-align: left;\">[&quot;AAPL&quot;, &quot;MRK&quot;, &quot;GOOGL&quot;, &quot;AMD&quot;]</td><td style = \"text-align: left;\">[0.000214547, 0.000169055, 0.000108688, 7.53688e-5]</td><td style = \"text-align: right;\">0.05</td></tr><tr><td class = \"rowNumber\" style = \"font-weight: bold; text-align: right;\">2</td><td style = \"text-align: right;\">0.00353536</td><td style = \"text-align: right;\">0.00310344</td><td style = \"text-align: left;\">[&quot;AAPL&quot;, &quot;MRK&quot;, &quot;GOOGL&quot;, &quot;AMD&quot;]</td><td style = \"text-align: left;\">[0.00744724, 0.00049374, 9.8476e-6, 0.00357734]</td><td style = \"text-align: right;\">0.05</td></tr><tr><td class = \"rowNumber\" style = \"font-weight: bold; text-align: right;\">3</td><td style = \"text-align: right;\">0.00707093</td><td style = \"text-align: right;\">0.00620717</td><td style = \"text-align: left;\">[&quot;AAPL&quot;, &quot;MRK&quot;, &quot;GOOGL&quot;, &quot;AMD&quot;]</td><td style = \"text-align: left;\">[0.0148905, 0.000991806, 2.7714e-5, 0.00715383]</td><td style = \"text-align: right;\">0.05</td></tr><tr><td class = \"rowNumber\" style = \"font-weight: bold; text-align: right;\">4</td><td style = \"text-align: right;\">0.0106062</td><td style = \"text-align: right;\">0.00931015</td><td style = \"text-align: left;\">[&quot;AAPL&quot;, &quot;MRK&quot;, &quot;GOOGL&quot;, &quot;AMD&quot;]</td><td style = \"text-align: left;\">[0.0223704, 0.00137555, 1.19094e-5, 0.0107406]</td><td style = \"text-align: right;\">0.05</td></tr><tr><td class = \"rowNumber\" style = \"font-weight: bold; text-align: right;\">5</td><td style = \"text-align: right;\">0.0141414</td><td style = \"text-align: right;\">0.0124132</td><td style = \"text-align: left;\">[&quot;AAPL&quot;, &quot;MRK&quot;, &quot;GOOGL&quot;, &quot;AMD&quot;]</td><td style = \"text-align: left;\">[0.0298437, 0.0017817, 8.29441e-7, 0.0143254]</td><td style = \"text-align: right;\">0.05</td></tr><tr><td class = \"rowNumber\" style = \"font-weight: bold; text-align: right;\">6</td><td style = \"text-align: right;\">0.0176768</td><td style = \"text-align: right;\">0.0155164</td><td style = \"text-align: left;\">[&quot;AAPL&quot;, &quot;MRK&quot;, &quot;GOOGL&quot;, &quot;AMD&quot;]</td><td style = \"text-align: left;\">[0.0373075, 0.00221458, 3.57477e-7, 0.0179076]</td><td style = \"text-align: right;\">0.05</td></tr><tr><td class = \"rowNumber\" style = \"font-weight: bold; text-align: right;\">7</td><td style = \"text-align: right;\">0.0212122</td><td style = \"text-align: right;\">0.0186199</td><td style = \"text-align: left;\">[&quot;AAPL&quot;, &quot;MRK&quot;, &quot;GOOGL&quot;, &quot;AMD&quot;]</td><td style = \"text-align: left;\">[0.0447626, 0.0026783, 5.73884e-6, 0.0214874]</td><td style = \"text-align: right;\">0.05</td></tr><tr><td class = \"rowNumber\" style = \"font-weight: bold; text-align: right;\">8</td><td style = \"text-align: right;\">0.0247475</td><td style = \"text-align: right;\">0.0217231</td><td style = \"text-align: left;\">[&quot;AAPL&quot;, &quot;MRK&quot;, &quot;GOOGL&quot;, &quot;AMD&quot;]</td><td style = \"text-align: left;\">[0.052226, 0.00311402, 4.77711e-6, 0.0250694]</td><td style = \"text-align: right;\">0.05</td></tr><tr><td class = \"rowNumber\" style = \"font-weight: bold; text-align: right;\">9</td><td style = \"text-align: right;\">0.0282829</td><td style = \"text-align: right;\">0.0248264</td><td style = \"text-align: left;\">[&quot;AAPL&quot;, &quot;MRK&quot;, &quot;GOOGL&quot;, &quot;AMD&quot;]</td><td style = \"text-align: left;\">[0.0596898, 0.00354721, 3.96887e-6, 0.0286516]</td><td style = \"text-align: right;\">0.05</td></tr><tr><td class = \"rowNumber\" style = \"font-weight: bold; text-align: right;\">10</td><td style = \"text-align: right;\">0.0318182</td><td style = \"text-align: right;\">0.0279297</td><td style = \"text-align: left;\">[&quot;AAPL&quot;, &quot;MRK&quot;, &quot;GOOGL&quot;, &quot;AMD&quot;]</td><td style = \"text-align: left;\">[0.0671524, 0.00398573, 3.48592e-6, 0.0322335]</td><td style = \"text-align: right;\">0.05</td></tr><tr><td class = \"rowNumber\" style = \"font-weight: bold; text-align: right;\">11</td><td style = \"text-align: right;\">0.0353535</td><td style = \"text-align: right;\">0.0310329</td><td style = \"text-align: left;\">[&quot;AAPL&quot;, &quot;MRK&quot;, &quot;GOOGL&quot;, &quot;AMD&quot;]</td><td style = \"text-align: left;\">[0.0746173, 0.00441866, 1.30559e-7, 0.0358159]</td><td style = \"text-align: right;\">0.05</td></tr><tr><td class = \"rowNumber\" style = \"font-weight: bold; text-align: right;\">12</td><td style = \"text-align: right;\">0.0388889</td><td style = \"text-align: right;\">0.0341362</td><td style = \"text-align: left;\">[&quot;AAPL&quot;, &quot;MRK&quot;, &quot;GOOGL&quot;, &quot;AMD&quot;]</td><td style = \"text-align: left;\">[0.0820793, 0.00485927, 1.06586e-7, 0.0393976]</td><td style = \"text-align: right;\">0.05</td></tr><tr><td class = \"rowNumber\" style = \"font-weight: bold; text-align: right;\">13</td><td style = \"text-align: right;\">0.0424242</td><td style = \"text-align: right;\">0.0372394</td><td style = \"text-align: left;\">[&quot;AAPL&quot;, &quot;MRK&quot;, &quot;GOOGL&quot;, &quot;AMD&quot;]</td><td style = \"text-align: left;\">[0.0895411, 0.00530087, 9.62246e-8, 0.0429792]</td><td style = \"text-align: right;\">0.05</td></tr><tr><td style = \"text-align: right;\">&vellip;</td><td style = \"text-align: right;\">&vellip;</td><td style = \"text-align: right;\">&vellip;</td><td style = \"text-align: right;\">&vellip;</td><td style = \"text-align: right;\">&vellip;</td><td style = \"text-align: right;\">&vellip;</td></tr><tr><td class = \"rowNumber\" style = \"font-weight: bold; text-align: right;\">89</td><td style = \"text-align: right;\">0.311111</td><td style = \"text-align: right;\">0.273089</td><td style = \"text-align: left;\">[&quot;AAPL&quot;, &quot;MRK&quot;, &quot;GOOGL&quot;, &quot;AMD&quot;]</td><td style = \"text-align: left;\">[0.656635, 0.0388717, 3.50684e-7, 0.315181]</td><td style = \"text-align: right;\">0.05</td></tr><tr><td class = \"rowNumber\" style = \"font-weight: bold; text-align: right;\">90</td><td style = \"text-align: right;\">0.314646</td><td style = \"text-align: right;\">0.276193</td><td style = \"text-align: left;\">[&quot;AAPL&quot;, &quot;MRK&quot;, &quot;GOOGL&quot;, &quot;AMD&quot;]</td><td style = \"text-align: left;\">[0.664097, 0.0393132, 3.4555e-7, 0.318763]</td><td style = \"text-align: right;\">0.05</td></tr><tr><td class = \"rowNumber\" style = \"font-weight: bold; text-align: right;\">91</td><td style = \"text-align: right;\">0.318182</td><td style = \"text-align: right;\">0.279296</td><td style = \"text-align: left;\">[&quot;AAPL&quot;, &quot;MRK&quot;, &quot;GOOGL&quot;, &quot;AMD&quot;]</td><td style = \"text-align: left;\">[0.671559, 0.0397547, 3.40591e-7, 0.322344]</td><td style = \"text-align: right;\">0.05</td></tr><tr><td class = \"rowNumber\" style = \"font-weight: bold; text-align: right;\">92</td><td style = \"text-align: right;\">0.321717</td><td style = \"text-align: right;\">0.282399</td><td style = \"text-align: left;\">[&quot;AAPL&quot;, &quot;MRK&quot;, &quot;GOOGL&quot;, &quot;AMD&quot;]</td><td style = \"text-align: left;\">[0.67902, 0.0401964, 3.36554e-7, 0.325926]</td><td style = \"text-align: right;\">0.05</td></tr><tr><td class = \"rowNumber\" style = \"font-weight: bold; text-align: right;\">93</td><td style = \"text-align: right;\">0.325253</td><td style = \"text-align: right;\">0.285502</td><td style = \"text-align: left;\">[&quot;AAPL&quot;, &quot;MRK&quot;, &quot;GOOGL&quot;, &quot;AMD&quot;]</td><td style = \"text-align: left;\">[0.686482, 0.0406381, 3.326e-7, 0.329508]</td><td style = \"text-align: right;\">0.05</td></tr><tr><td class = \"rowNumber\" style = \"font-weight: bold; text-align: right;\">94</td><td style = \"text-align: right;\">0.328788</td><td style = \"text-align: right;\">0.288606</td><td style = \"text-align: left;\">[&quot;AAPL&quot;, &quot;MRK&quot;, &quot;GOOGL&quot;, &quot;AMD&quot;]</td><td style = \"text-align: left;\">[0.693944, 0.0410797, 3.2874e-7, 0.333089]</td><td style = \"text-align: right;\">0.05</td></tr><tr><td class = \"rowNumber\" style = \"font-weight: bold; text-align: right;\">95</td><td style = \"text-align: right;\">0.332323</td><td style = \"text-align: right;\">0.291709</td><td style = \"text-align: left;\">[&quot;AAPL&quot;, &quot;MRK&quot;, &quot;GOOGL&quot;, &quot;AMD&quot;]</td><td style = \"text-align: left;\">[0.701406, 0.0415214, 3.24976e-7, 0.336671]</td><td style = \"text-align: right;\">0.05</td></tr><tr><td class = \"rowNumber\" style = \"font-weight: bold; text-align: right;\">96</td><td style = \"text-align: right;\">0.335859</td><td style = \"text-align: right;\">0.294812</td><td style = \"text-align: left;\">[&quot;AAPL&quot;, &quot;MRK&quot;, &quot;GOOGL&quot;, &quot;AMD&quot;]</td><td style = \"text-align: left;\">[0.708868, 0.0419618, 3.1325e-9, 0.340252]</td><td style = \"text-align: right;\">0.05</td></tr><tr><td class = \"rowNumber\" style = \"font-weight: bold; text-align: right;\">97</td><td style = \"text-align: right;\">0.339394</td><td style = \"text-align: right;\">0.297916</td><td style = \"text-align: left;\">[&quot;AAPL&quot;, &quot;MRK&quot;, &quot;GOOGL&quot;, &quot;AMD&quot;]</td><td style = \"text-align: left;\">[0.71633, 0.0424035, 2.99509e-9, 0.343834]</td><td style = \"text-align: right;\">0.05</td></tr><tr><td class = \"rowNumber\" style = \"font-weight: bold; text-align: right;\">98</td><td style = \"text-align: right;\">0.342929</td><td style = \"text-align: right;\">0.301019</td><td style = \"text-align: left;\">[&quot;AAPL&quot;, &quot;MRK&quot;, &quot;GOOGL&quot;, &quot;AMD&quot;]</td><td style = \"text-align: left;\">[0.723791, 0.0428452, 2.86062e-9, 0.347416]</td><td style = \"text-align: right;\">0.05</td></tr><tr><td class = \"rowNumber\" style = \"font-weight: bold; text-align: right;\">99</td><td style = \"text-align: right;\">0.346465</td><td style = \"text-align: right;\">0.304122</td><td style = \"text-align: left;\">[&quot;AAPL&quot;, &quot;MRK&quot;, &quot;GOOGL&quot;, &quot;AMD&quot;]</td><td style = \"text-align: left;\">[0.731253, 0.0432869, 2.72898e-9, 0.350997]</td><td style = \"text-align: right;\">0.05</td></tr><tr><td class = \"rowNumber\" style = \"font-weight: bold; text-align: right;\">100</td><td style = \"text-align: right;\">0.35</td><td style = \"text-align: right;\">0.307225</td><td style = \"text-align: left;\">[&quot;AAPL&quot;, &quot;MRK&quot;, &quot;GOOGL&quot;, &quot;AMD&quot;]</td><td style = \"text-align: left;\">[0.738715, 0.0437286, 2.60008e-9, 0.354579]</td><td style = \"text-align: right;\">0.05</td></tr></tbody></table></div>"
      ],
      "text/latex": [
       "\\begin{tabular}{r|ccccc}\n",
       "\t& expected\\_excess\\_return & risk & tickers & w & \\\\\n",
       "\t\\hline\n",
       "\t& Float64 & Float64 & Array… & Array… & \\\\\n",
       "\t\\hline\n",
       "\t1 & 0.000119457 & 0.000113939 & [\"AAPL\", \"MRK\", \"GOOGL\", \"AMD\"] & [0.000214547, 0.000169055, 0.000108688, 7.53688e-5] & $\\dots$ \\\\\n",
       "\t2 & 0.00353536 & 0.00310344 & [\"AAPL\", \"MRK\", \"GOOGL\", \"AMD\"] & [0.00744724, 0.00049374, 9.8476e-6, 0.00357734] & $\\dots$ \\\\\n",
       "\t3 & 0.00707093 & 0.00620717 & [\"AAPL\", \"MRK\", \"GOOGL\", \"AMD\"] & [0.0148905, 0.000991806, 2.7714e-5, 0.00715383] & $\\dots$ \\\\\n",
       "\t4 & 0.0106062 & 0.00931015 & [\"AAPL\", \"MRK\", \"GOOGL\", \"AMD\"] & [0.0223704, 0.00137555, 1.19094e-5, 0.0107406] & $\\dots$ \\\\\n",
       "\t5 & 0.0141414 & 0.0124132 & [\"AAPL\", \"MRK\", \"GOOGL\", \"AMD\"] & [0.0298437, 0.0017817, 8.29441e-7, 0.0143254] & $\\dots$ \\\\\n",
       "\t6 & 0.0176768 & 0.0155164 & [\"AAPL\", \"MRK\", \"GOOGL\", \"AMD\"] & [0.0373075, 0.00221458, 3.57477e-7, 0.0179076] & $\\dots$ \\\\\n",
       "\t7 & 0.0212122 & 0.0186199 & [\"AAPL\", \"MRK\", \"GOOGL\", \"AMD\"] & [0.0447626, 0.0026783, 5.73884e-6, 0.0214874] & $\\dots$ \\\\\n",
       "\t8 & 0.0247475 & 0.0217231 & [\"AAPL\", \"MRK\", \"GOOGL\", \"AMD\"] & [0.052226, 0.00311402, 4.77711e-6, 0.0250694] & $\\dots$ \\\\\n",
       "\t9 & 0.0282829 & 0.0248264 & [\"AAPL\", \"MRK\", \"GOOGL\", \"AMD\"] & [0.0596898, 0.00354721, 3.96887e-6, 0.0286516] & $\\dots$ \\\\\n",
       "\t10 & 0.0318182 & 0.0279297 & [\"AAPL\", \"MRK\", \"GOOGL\", \"AMD\"] & [0.0671524, 0.00398573, 3.48592e-6, 0.0322335] & $\\dots$ \\\\\n",
       "\t11 & 0.0353535 & 0.0310329 & [\"AAPL\", \"MRK\", \"GOOGL\", \"AMD\"] & [0.0746173, 0.00441866, 1.30559e-7, 0.0358159] & $\\dots$ \\\\\n",
       "\t12 & 0.0388889 & 0.0341362 & [\"AAPL\", \"MRK\", \"GOOGL\", \"AMD\"] & [0.0820793, 0.00485927, 1.06586e-7, 0.0393976] & $\\dots$ \\\\\n",
       "\t13 & 0.0424242 & 0.0372394 & [\"AAPL\", \"MRK\", \"GOOGL\", \"AMD\"] & [0.0895411, 0.00530087, 9.62246e-8, 0.0429792] & $\\dots$ \\\\\n",
       "\t14 & 0.0459596 & 0.0403427 & [\"AAPL\", \"MRK\", \"GOOGL\", \"AMD\"] & [0.0970028, 0.00574249, 8.75524e-8, 0.0465608] & $\\dots$ \\\\\n",
       "\t15 & 0.0494949 & 0.043446 & [\"AAPL\", \"MRK\", \"GOOGL\", \"AMD\"] & [0.104465, 0.00618413, 8.02096e-8, 0.0501424] & $\\dots$ \\\\\n",
       "\t16 & 0.0530303 & 0.0465494 & [\"AAPL\", \"MRK\", \"GOOGL\", \"AMD\"] & [0.111922, 0.00664385, 2.34992e-6, 0.0537227] & $\\dots$ \\\\\n",
       "\t17 & 0.0565657 & 0.0496526 & [\"AAPL\", \"MRK\", \"GOOGL\", \"AMD\"] & [0.119385, 0.00708101, 2.09627e-6, 0.0573046] & $\\dots$ \\\\\n",
       "\t18 & 0.060101 & 0.0527559 & [\"AAPL\", \"MRK\", \"GOOGL\", \"AMD\"] & [0.126848, 0.00751767, 1.88031e-6, 0.0608866] & $\\dots$ \\\\\n",
       "\t19 & 0.0636364 & 0.0558592 & [\"AAPL\", \"MRK\", \"GOOGL\", \"AMD\"] & [0.13431, 0.00795579, 1.73339e-6, 0.0644684] & $\\dots$ \\\\\n",
       "\t20 & 0.0671717 & 0.0589625 & [\"AAPL\", \"MRK\", \"GOOGL\", \"AMD\"] & [0.141773, 0.00839267, 5.64438e-8, 0.0680505] & $\\dots$ \\\\\n",
       "\t21 & 0.0707071 & 0.0620657 & [\"AAPL\", \"MRK\", \"GOOGL\", \"AMD\"] & [0.149235, 0.00883431, 5.29352e-8, 0.0716321] & $\\dots$ \\\\\n",
       "\t22 & 0.0742424 & 0.065169 & [\"AAPL\", \"MRK\", \"GOOGL\", \"AMD\"] & [0.156697, 0.00927599, 5.00576e-8, 0.0752137] & $\\dots$ \\\\\n",
       "\t23 & 0.0777778 & 0.0682723 & [\"AAPL\", \"MRK\", \"GOOGL\", \"AMD\"] & [0.164159, 0.00971766, 4.72151e-8, 0.0787953] & $\\dots$ \\\\\n",
       "\t24 & 0.0813131 & 0.0713756 & [\"AAPL\", \"MRK\", \"GOOGL\", \"AMD\"] & [0.171621, 0.0101593, 4.44497e-8, 0.0823769] & $\\dots$ \\\\\n",
       "\t$\\dots$ & $\\dots$ & $\\dots$ & $\\dots$ & $\\dots$ &  \\\\\n",
       "\\end{tabular}\n"
      ],
      "text/plain": [
       "\u001b[1m100×5 DataFrame\u001b[0m\n",
       "\u001b[1m Row \u001b[0m│\u001b[1m expected_excess_return \u001b[0m\u001b[1m risk        \u001b[0m\u001b[1m tickers                         \u001b[0m\u001b[1m w\u001b[0m ⋯\n",
       "     │\u001b[90m Float64                \u001b[0m\u001b[90m Float64     \u001b[0m\u001b[90m Array…                          \u001b[0m\u001b[90m A\u001b[0m ⋯\n",
       "─────┼──────────────────────────────────────────────────────────────────────────\n",
       "   1 │            0.000119457  0.000113939  [\"AAPL\", \"MRK\", \"GOOGL\", \"AMD\"]  [ ⋯\n",
       "   2 │            0.00353536   0.00310344   [\"AAPL\", \"MRK\", \"GOOGL\", \"AMD\"]  [\n",
       "   3 │            0.00707093   0.00620717   [\"AAPL\", \"MRK\", \"GOOGL\", \"AMD\"]  [\n",
       "   4 │            0.0106062    0.00931015   [\"AAPL\", \"MRK\", \"GOOGL\", \"AMD\"]  [\n",
       "   5 │            0.0141414    0.0124132    [\"AAPL\", \"MRK\", \"GOOGL\", \"AMD\"]  [ ⋯\n",
       "   6 │            0.0176768    0.0155164    [\"AAPL\", \"MRK\", \"GOOGL\", \"AMD\"]  [\n",
       "   7 │            0.0212122    0.0186199    [\"AAPL\", \"MRK\", \"GOOGL\", \"AMD\"]  [\n",
       "   8 │            0.0247475    0.0217231    [\"AAPL\", \"MRK\", \"GOOGL\", \"AMD\"]  [\n",
       "  ⋮  │           ⋮                  ⋮                      ⋮                   ⋱\n",
       "  94 │            0.328788     0.288606     [\"AAPL\", \"MRK\", \"GOOGL\", \"AMD\"]  [ ⋯\n",
       "  95 │            0.332323     0.291709     [\"AAPL\", \"MRK\", \"GOOGL\", \"AMD\"]  [\n",
       "  96 │            0.335859     0.294812     [\"AAPL\", \"MRK\", \"GOOGL\", \"AMD\"]  [\n",
       "  97 │            0.339394     0.297916     [\"AAPL\", \"MRK\", \"GOOGL\", \"AMD\"]  [\n",
       "  98 │            0.342929     0.301019     [\"AAPL\", \"MRK\", \"GOOGL\", \"AMD\"]  [ ⋯\n",
       "  99 │            0.346465     0.304122     [\"AAPL\", \"MRK\", \"GOOGL\", \"AMD\"]  [\n",
       " 100 │            0.35         0.307225     [\"AAPL\", \"MRK\", \"GOOGL\", \"AMD\"]  [\n",
       "\u001b[36m                                                   2 columns and 85 rows omitted\u001b[0m"
      ]
     },
     "metadata": {},
     "output_type": "display_data"
    }
   ],
   "source": [
    "for i ∈ eachindex(minimum_desired_reward_array)\n",
    "    \n",
    "# update the problem object -\n",
    "problem_risk_sim.R = minimum_desired_reward_array[i];\n",
    "\n",
    "# compute -\n",
    "solution_sim = solve(problem_risk_sim)\n",
    "\n",
    "# check: did this converge?\n",
    "status_flag = solution_sim[\"status\"];    \n",
    "if (status_flag == MathOptInterface.LOCALLY_SOLVED)\n",
    "    key = sqrt(solution_sim[\"objective_value\"]);\n",
    "    value = solution_sim[\"reward\"];\n",
    "    efficient_frontier_sim[key] = value;\n",
    "    \n",
    "    w_opt = solution_sim[\"argmax\"];\n",
    "    \n",
    "    # add data to portfolio_df -\n",
    "    row_df = (\n",
    "        expected_excess_return = value,\n",
    "        risk = key,\n",
    "        tickers = my_list_of_tickers,\n",
    "        w = w_opt,\n",
    "        risk_free_rate = risk_free_rate\n",
    "    )\n",
    "    push!(portfolio_df,row_df);\n",
    "end\n",
    "end\n",
    "\n",
    "efficient_frontier = portfolio_df\n",
    "efficient_frontier"
   ]
  },
  {
   "cell_type": "markdown",
   "id": "3bedfa30",
   "metadata": {},
   "source": [
    "Specify which initial portfolio you wish to select, by setting the value of the `portfolio_index` variable:"
   ]
  },
  {
   "cell_type": "code",
   "execution_count": 309,
   "id": "7cfd770c",
   "metadata": {},
   "outputs": [],
   "source": [
    "portfolio_index = 30;"
   ]
  },
  {
   "cell_type": "code",
   "execution_count": 310,
   "id": "a0857eaa",
   "metadata": {},
   "outputs": [
    {
     "name": "stdout",
     "output_type": "stream",
     "text": [
      "The expected excess return for portfolio 30 equals 0.103 with risk = 0.089995\n"
     ]
    }
   ],
   "source": [
    "my_list_of_tickers = efficient_frontier[portfolio_index,:tickers];\n",
    "w = efficient_frontier[portfolio_index,:w] .|> x-> round(x,digits=6) .|> abs;\n",
    "risk = efficient_frontier[portfolio_index,:risk] .|> x-> round(x,digits=6) .|> abs;\n",
    "expected_excess_return = efficient_frontier[portfolio_index,:expected_excess_return] |> x-> round(x,digits=3)\n",
    "println(\"The expected excess return for portfolio $(portfolio_index) equals $(expected_excess_return) with risk = $(risk)\")"
   ]
  },
  {
   "cell_type": "markdown",
   "id": "7003bb75",
   "metadata": {},
   "source": [
    "#### What is in this portfolio?"
   ]
  },
  {
   "cell_type": "code",
   "execution_count": 311,
   "id": "1a219fcd",
   "metadata": {},
   "outputs": [
    {
     "data": {
      "text/html": [
       "<div><div style = \"float: left;\"><span>4×2 DataFrame</span></div><div style = \"clear: both;\"></div></div><div class = \"data-frame\" style = \"overflow-x: scroll;\"><table class = \"data-frame\" style = \"margin-bottom: 6px;\"><thead><tr class = \"header\"><th class = \"rowNumber\" style = \"font-weight: bold; text-align: right;\">Row</th><th style = \"text-align: left;\">ticker</th><th style = \"text-align: left;\">allocation</th></tr><tr class = \"subheader headerLastRow\"><th class = \"rowNumber\" style = \"font-weight: bold; text-align: right;\"></th><th title = \"String\" style = \"text-align: left;\">String</th><th title = \"Float64\" style = \"text-align: left;\">Float64</th></tr></thead><tbody><tr><td class = \"rowNumber\" style = \"font-weight: bold; text-align: right;\">1</td><td style = \"text-align: left;\">AAPL</td><td style = \"text-align: right;\">0.21639</td></tr><tr><td class = \"rowNumber\" style = \"font-weight: bold; text-align: right;\">2</td><td style = \"text-align: left;\">MRK</td><td style = \"text-align: right;\">0.012814</td></tr><tr><td class = \"rowNumber\" style = \"font-weight: bold; text-align: right;\">3</td><td style = \"text-align: left;\">GOOGL</td><td style = \"text-align: right;\">1.0e-6</td></tr><tr><td class = \"rowNumber\" style = \"font-weight: bold; text-align: right;\">4</td><td style = \"text-align: left;\">AMD</td><td style = \"text-align: right;\">0.103866</td></tr></tbody></table></div>"
      ],
      "text/latex": [
       "\\begin{tabular}{r|cc}\n",
       "\t& ticker & allocation\\\\\n",
       "\t\\hline\n",
       "\t& String & Float64\\\\\n",
       "\t\\hline\n",
       "\t1 & AAPL & 0.21639 \\\\\n",
       "\t2 & MRK & 0.012814 \\\\\n",
       "\t3 & GOOGL & 1.0e-6 \\\\\n",
       "\t4 & AMD & 0.103866 \\\\\n",
       "\\end{tabular}\n"
      ],
      "text/plain": [
       "\u001b[1m4×2 DataFrame\u001b[0m\n",
       "\u001b[1m Row \u001b[0m│\u001b[1m ticker \u001b[0m\u001b[1m allocation \u001b[0m\n",
       "     │\u001b[90m String \u001b[0m\u001b[90m Float64    \u001b[0m\n",
       "─────┼────────────────────\n",
       "   1 │ AAPL      0.21639\n",
       "   2 │ MRK       0.012814\n",
       "   3 │ GOOGL     1.0e-6\n",
       "   4 │ AMD       0.103866"
      ]
     },
     "metadata": {},
     "output_type": "display_data"
    }
   ],
   "source": [
    "tmp_df = DataFrame();\n",
    "for i ∈ eachindex(w)\n",
    "    wᵢ = w[i];\n",
    "    row_df = (\n",
    "        ticker = my_list_of_tickers[i],\n",
    "        allocation = wᵢ\n",
    "    );\n",
    "    push!(tmp_df, row_df);\n",
    "end\n",
    "tmp_df"
   ]
  },
  {
   "cell_type": "markdown",
   "id": "ae290d6f",
   "metadata": {},
   "source": [
    "### Compute the number of shares of each asset in your initial portfolio"
   ]
  },
  {
   "cell_type": "markdown",
   "id": "33b9d506",
   "metadata": {},
   "source": [
    "Get the `close` share price for each asset in the portfolio for the `startdate`. We'll store these values in the `Sₒ::Array{Float64,1}` variable:"
   ]
  },
  {
   "cell_type": "code",
   "execution_count": 312,
   "id": "d14ea0cc",
   "metadata": {},
   "outputs": [],
   "source": [
    "Sₒ = Array{Float64,1}() # these are close prices at the end of Jan 3, 2023\n",
    "for ticker ∈ my_list_of_tickers\n",
    "    price_df = dataset[ticker];\n",
    "    startprice = filter(:timestamp => x-> x >= startdate, price_df) |> x-> x[1,:close] \n",
    "    push!(Sₒ,startprice)\n",
    "end"
   ]
  },
  {
   "cell_type": "markdown",
   "id": "d879d0aa",
   "metadata": {},
   "source": [
    "Now that we have the `total_budget`, and the share price array `Sₒ`, we compute the number of shares of each asset that corresponds to the optimal allocation (the point in the efficient frontier) and store these values in the `Nₒ::Array{Float64,1}` variable (in this case, we allow for fractional shares):"
   ]
  },
  {
   "cell_type": "code",
   "execution_count": 313,
   "id": "dfc8d435",
   "metadata": {},
   "outputs": [
    {
     "data": {
      "text/plain": [
       "4-element Vector{Float64}:\n",
       " 57186.55899991366\n",
       "  3810.871065016376\n",
       "     0.37088114093357266\n",
       " 53625.04443712091"
      ]
     },
     "metadata": {},
     "output_type": "display_data"
    }
   ],
   "source": [
    "Nₒ = Array{Float64,1}()\n",
    "for i ∈ eachindex(w)\n",
    "    \n",
    "    wᵢ = w[i]\n",
    "    nᵢ = (wᵢ*total_initial_budget)/Sₒ[i];\n",
    "    push!(Nₒ,nᵢ)\n",
    "end\n",
    "Nₒ"
   ]
  },
  {
   "cell_type": "markdown",
   "id": "121a86f1",
   "metadata": {},
   "source": [
    "## Section D : Reallocate your portfolio after the close every day\n",
    "In section we'll solve the Minimum Variance allocation problem to estimate the dollar fractions $\\omega_{i}$ for each portfolio component. We'll keep the covariance matrix $\\hat{\\Sigma}$ the same but update the `expected return` using current market data. In particular, suppose we update the expected return after each trading data using the update rule (incremental average):\n",
    "\n",
    "$$\n",
    "\\hat{\\mu}_{i,k} = \\hat{\\mu}_{i,k-1} + \\alpha\\cdot\\left(\\mu_{i,k}-\\hat{\\mu}_{i,k-1}\\right)\\qquad{i\\in\\mathcal{P}}\n",
    "$$\n",
    "\n",
    "where $\\hat{\\mu}_{i,k}$ denotes the estimated average return for asset $i$ at time $k$, $\\mu_{i,k}$ denotes the observed return for asset $i$ at time $k$ asset $i$ at time $k$, and $\\alpha\\geq{0}$ denotes the `learning rate` hyperparameter (you specify a value for this parameter). We'll initialize $\\hat{\\mu}_{i,k}$ using the historical expected value computed from the `2018` to `2022` data."
   ]
  },
  {
   "cell_type": "code",
   "execution_count": 314,
   "id": "1039785a",
   "metadata": {},
   "outputs": [],
   "source": [
    "number_of_trading_days = 230; # Till 2023-12-01"
   ]
  },
  {
   "cell_type": "code",
   "execution_count": 315,
   "id": "2ee524c3",
   "metadata": {},
   "outputs": [],
   "source": [
    "# --- DO NOT CHANGE THIS BLOCK ----------------------------------------- #\n",
    "my_list_of_firm_ids = Array{Int64,1}();\n",
    "for ticker ∈ my_list_of_tickers\n",
    "    firm_index = findfirst(x->x==ticker, all_tickers);    \n",
    "    push!(my_list_of_firm_ids, firm_index)\n",
    "end\n",
    "# ---------------------------------------------------------------------- #\n",
    "\n",
    "# --- DO NOT CHANGE THIS BLOCK ----------------------------------------- #\n",
    "μ̂ = Array{Float64,1}();\n",
    "for firm_index ∈ my_list_of_firm_ids\n",
    "    push!(μ̂, μ[firm_index])\n",
    "end\n",
    "# ---------------------------------------------------------------------- #\n",
    "\n",
    "# --- DO NOT CHANGE THIS BLOCK FOR SIM  -------------------------------- #\n",
    "my_number_of_selected_firms = length(my_list_of_firm_ids)\n",
    "Σ̂ = Array{Float64,2}(undef, my_number_of_selected_firms, my_number_of_selected_firms);\n",
    "for i ∈ eachindex(my_list_of_firm_ids)\n",
    "    row_firm_index = my_list_of_firm_ids[i]\n",
    "    for j ∈ eachindex(my_list_of_firm_ids)\n",
    "        col_firm_index = my_list_of_firm_ids[j]\n",
    "        Σ̂[i,j] = Σ_sim[row_firm_index, col_firm_index]\n",
    "    end\n",
    "end\n",
    "# ---------------------------------------------------------------------- #"
   ]
  },
  {
   "cell_type": "markdown",
   "id": "eecb5914",
   "metadata": {},
   "source": [
    "Specify the learning rate parameter $\\alpha\\geq{0}$."
   ]
  },
  {
   "cell_type": "code",
   "execution_count": 316,
   "id": "5821fe8d",
   "metadata": {},
   "outputs": [],
   "source": [
    "α = 0.01; # learning rate"
   ]
  },
  {
   "cell_type": "markdown",
   "id": "a5fdd563",
   "metadata": {},
   "source": [
    "Build an instance of the `MyMarkowitzRiskyAssetOnlyPortfiolioChoiceProblem` type, using the `build(...)` method. Save the `sim` version of the problem in the `problem_risk_sim` variable:"
   ]
  },
  {
   "cell_type": "code",
   "execution_count": 317,
   "id": "ff3d4e28",
   "metadata": {},
   "outputs": [],
   "source": [
    "# setup the bounds\n",
    "number_of_firms = length(my_list_of_tickers);\n",
    "bounds = zeros(number_of_firms,2);\n",
    "bounds[:,2] .= 1.0;\n",
    "\n",
    "# build an inital problem instance (we'll update in the main simulation loop)\n",
    "problem_risk_sim = build(MyMarkowitzRiskyAssetOnlyPortfiolioChoiceProblem, (\n",
    "    Σ = Σ̂,\n",
    "    μ = μ̂,\n",
    "    bounds = bounds,\n",
    "    initial = w, # let start with the initial optimal allocation \n",
    "    R = 0.0\n",
    "));"
   ]
  },
  {
   "cell_type": "markdown",
   "id": "215d9ace",
   "metadata": {},
   "source": [
    "Next, construct a [Queue](https://en.wikipedia.org/wiki/Queue_(abstract_data_type)) data structure (exported by the [DataStructures.jl](https://juliacollections.github.io/DataStructures.jl/stable/stack_and_queue/) package, holding the `close` price of each asset in your portfolio, for each trading day we are considering. Store these values in the `next_market_day_close_queue` variable:"
   ]
  },
  {
   "cell_type": "code",
   "execution_count": 318,
   "id": "4b19a72a",
   "metadata": {},
   "outputs": [],
   "source": [
    "next_market_day_close_queue = Queue{Vector{Float64}}()\n",
    "for i ∈ 2:(number_of_trading_days + 1)\n",
    "    \n",
    "    price_array = Array{Float64,1}();\n",
    "    for ticker ∈ my_list_of_tickers\n",
    "        price_df = dataset[ticker];\n",
    "        startprice = filter(:timestamp => x-> x >= startdate, price_df) |> x-> x[i,:close] # get the close price starting *after* Jan 03, 2023\n",
    "        push!(price_array,startprice)\n",
    "    end\n",
    "    \n",
    "    # add the price array to the queue -\n",
    "    enqueue!(next_market_day_close_queue, price_array);\n",
    "end"
   ]
  },
  {
   "cell_type": "markdown",
   "id": "5df9caa6",
   "metadata": {},
   "source": [
    "Specify the minimum desired return in the `minimum_desired_return` variable (as a multiple of the historical expected return of `SPY`):"
   ]
  },
  {
   "cell_type": "code",
   "execution_count": 319,
   "id": "82fccb78",
   "metadata": {},
   "outputs": [
    {
     "data": {
      "text/plain": [
       "0.17894705891204601"
      ]
     },
     "metadata": {},
     "output_type": "display_data"
    }
   ],
   "source": [
    "minimum_desired_return = 2.0*R_SPY # multiple of expected SPY return"
   ]
  },
  {
   "cell_type": "markdown",
   "id": "cac474db",
   "metadata": {},
   "source": [
    "#### Main simulation loop\n",
    "In this block of code, let's simulate the reallocation of our portfolio after the close of the market each day using a `while` loop. In particular,\n",
    "* First, `dequeue!(..)` a close price array from the `next_market_day_close_queue`; this gives us a `close` price for each asset in our portfolio at the end of the market day\n",
    "* Next, we calculate the observed annualized return for each asset at the end of the day; this is the $\\mu_{i,k}$ value we'll use to update the expected returns\n",
    "* Then, we calculate an updated value for the expected annualized return using the above mentioned incremental update rule. Once completed, we update the `problem_risk_sim` object and solve the MinVar allocation problem with the updated expected return values.\n",
    "* We then use the new optimal values for the dollar fractions $\\omega_{i}$ to reallocate the entire portfolio (we liquidate the portfolio and take the proceeds to purchase the appropriate asset mix).\n",
    "* Finally, we capture data from the loop and store this in the `my_results_df::DataFrame` variable"
   ]
  },
  {
   "cell_type": "code",
   "execution_count": 320,
   "id": "d48f2f9a",
   "metadata": {},
   "outputs": [
    {
     "data": {
      "text/html": [
       "<div><div style = \"float: left;\"><span>230×10 DataFrame</span></div><div style = \"float: right;\"><span style = \"font-style: italic;\">205 rows omitted</span></div><div style = \"clear: both;\"></div></div><div class = \"data-frame\" style = \"overflow-x: scroll;\"><table class = \"data-frame\" style = \"margin-bottom: 6px;\"><thead><tr class = \"header\"><th class = \"rowNumber\" style = \"font-weight: bold; text-align: right;\">Row</th><th style = \"text-align: left;\">N_new</th><th style = \"text-align: left;\">N_old</th><th style = \"text-align: left;\">w_old</th><th style = \"text-align: left;\">w_new</th><th style = \"text-align: left;\">μ_previous</th><th style = \"text-align: left;\">μ_new</th><th style = \"text-align: left;\">previous_close</th><th style = \"text-align: left;\">current_close</th><th style = \"text-align: left;\">liquidation_value_of_porfolio</th><th style = \"text-align: left;\">risk</th></tr><tr class = \"subheader headerLastRow\"><th class = \"rowNumber\" style = \"font-weight: bold; text-align: right;\"></th><th title = \"Vector{Float64}\" style = \"text-align: left;\">Array…</th><th title = \"Vector{Float64}\" style = \"text-align: left;\">Array…</th><th title = \"Vector{Float64}\" style = \"text-align: left;\">Array…</th><th title = \"Vector{Float64}\" style = \"text-align: left;\">Array…</th><th title = \"Vector{Float64}\" style = \"text-align: left;\">Array…</th><th title = \"Vector{Float64}\" style = \"text-align: left;\">Array…</th><th title = \"Vector{Float64}\" style = \"text-align: left;\">Array…</th><th title = \"Vector{Float64}\" style = \"text-align: left;\">Array…</th><th title = \"Float64\" style = \"text-align: left;\">Float64</th><th title = \"Float64\" style = \"text-align: left;\">Float64</th></tr></thead><tbody><tr><td class = \"rowNumber\" style = \"font-weight: bold; text-align: right;\">1</td><td style = \"text-align: left;\">[26022.4, 55305.4, 13683.9, 6627.51]</td><td style = \"text-align: left;\">[57186.6, 3810.87, 0.370881, 53625.0]</td><td style = \"text-align: left;\">[0.21639, 0.012814, 1.0e-6, 0.103866]</td><td style = \"text-align: left;\">[0.295684, 0.557399, 0.108382, 0.038535]</td><td style = \"text-align: left;\">[0.251306, 0.103371, 0.149501, 0.394844]</td><td style = \"text-align: left;\">[0.274651, 0.123561, 0.118426, 0.415963]</td><td style = \"text-align: left;\">[125.07, 111.14, 89.12, 64.02]</td><td style = \"text-align: left;\">[126.36, 112.08, 88.08, 64.66]</td><td style = \"text-align: right;\">1.11206e7</td><td style = \"text-align: right;\">0.178257</td></tr><tr><td class = \"rowNumber\" style = \"font-weight: bold; text-align: right;\">2</td><td style = \"text-align: left;\">[25992.0, 59711.8, 9984.86, 3770.58]</td><td style = \"text-align: left;\">[26022.4, 55305.4, 13683.9, 6627.51]</td><td style = \"text-align: left;\">[0.21639, 0.012814, 1.0e-6, 0.103866]</td><td style = \"text-align: left;\">[0.291937, 0.609624, 0.077325, 0.0211143]</td><td style = \"text-align: left;\">[0.274651, 0.123561, 0.118426, 0.415963]</td><td style = \"text-align: left;\">[0.245038, 0.157158, 0.0628716, 0.319319]</td><td style = \"text-align: left;\">[126.36, 112.08, 88.08, 64.66]</td><td style = \"text-align: left;\">[125.02, 113.64, 86.2, 62.33]</td><td style = \"text-align: right;\">1.11309e7</td><td style = \"text-align: right;\">0.177599</td></tr><tr><td class = \"rowNumber\" style = \"font-weight: bold; text-align: right;\">3</td><td style = \"text-align: left;\">[16318.1, 60222.3, 26431.6, 0.0766771]</td><td style = \"text-align: left;\">[25992.0, 59711.8, 9984.86, 3770.58]</td><td style = \"text-align: left;\">[0.21639, 0.012814, 1.0e-6, 0.103866]</td><td style = \"text-align: left;\">[0.186528, 0.609891, 0.203581, 4.32489e-7]</td><td style = \"text-align: left;\">[0.245038, 0.157158, 0.0628716, 0.319319]</td><td style = \"text-align: left;\">[0.333644, 0.182058, 0.0953515, 0.38118]</td><td style = \"text-align: left;\">[125.02, 113.64, 86.2, 62.33]</td><td style = \"text-align: left;\">[129.62, 114.84, 87.34, 63.96]</td><td style = \"text-align: right;\">1.13396e7</td><td style = \"text-align: right;\">0.174648</td></tr><tr><td class = \"rowNumber\" style = \"font-weight: bold; text-align: right;\">4</td><td style = \"text-align: left;\">[26429.9, 54117.5, 14992.5, 5423.44]</td><td style = \"text-align: left;\">[16318.1, 60222.3, 26431.6, 0.0766771]</td><td style = \"text-align: left;\">[0.21639, 0.012814, 1.0e-6, 0.103866]</td><td style = \"text-align: left;\">[0.309962, 0.538266, 0.118911, 0.0328603]</td><td style = \"text-align: left;\">[0.333644, 0.182058, 0.0953515, 0.38118]</td><td style = \"text-align: left;\">[0.340591, 0.0804177, 0.113942, 0.503395]</td><td style = \"text-align: left;\">[129.62, 114.84, 87.34, 63.96]</td><td style = \"text-align: left;\">[130.15, 110.38, 88.02, 67.24]</td><td style = \"text-align: right;\">1.10977e7</td><td style = \"text-align: right;\">0.178442</td></tr><tr><td class = \"rowNumber\" style = \"font-weight: bold; text-align: right;\">5</td><td style = \"text-align: left;\">[24307.6, 55597.6, 17313.6, 4074.54]</td><td style = \"text-align: left;\">[26429.9, 54117.5, 14992.5, 5423.44]</td><td style = \"text-align: left;\">[0.21639, 0.012814, 1.0e-6, 0.103866]</td><td style = \"text-align: left;\">[0.285084, 0.552702, 0.137339, 0.024875]</td><td style = \"text-align: left;\">[0.340591, 0.0804177, 0.113942, 0.503395]</td><td style = \"text-align: left;\">[0.34839, 0.0894114, 0.124228, 0.528536]</td><td style = \"text-align: left;\">[130.15, 110.38, 88.02, 67.24]</td><td style = \"text-align: left;\">[130.73, 110.81, 88.42, 68.05]</td><td style = \"text-align: right;\">1.11466e7</td><td style = \"text-align: right;\">0.177094</td></tr><tr><td class = \"rowNumber\" style = \"font-weight: bold; text-align: right;\">6</td><td style = \"text-align: left;\">[17173.3, 60763.6, 24524.7, 0.102695]</td><td style = \"text-align: left;\">[24307.6, 55597.6, 17313.6, 4074.54]</td><td style = \"text-align: left;\">[0.21639, 0.012814, 1.0e-6, 0.103866]</td><td style = \"text-align: left;\">[0.203125, 0.597999, 0.198875, 6.28403e-7]</td><td style = \"text-align: left;\">[0.34839, 0.0894114, 0.124228, 0.528536]</td><td style = \"text-align: left;\">[0.397555, 0.0944232, 0.209824, 0.560378]</td><td style = \"text-align: left;\">[130.73, 110.81, 88.42, 68.05]</td><td style = \"text-align: left;\">[133.49, 111.07, 91.52, 69.06]</td><td style = \"text-align: right;\">1.1286e7</td><td style = \"text-align: right;\">0.174694</td></tr><tr><td class = \"rowNumber\" style = \"font-weight: bold; text-align: right;\">7</td><td style = \"text-align: left;\">[15823.8, 61756.1, 25283.1, 0.000989443]</td><td style = \"text-align: left;\">[17173.3, 60763.6, 24524.7, 0.102695]</td><td style = \"text-align: left;\">[0.21639, 0.012814, 1.0e-6, 0.103866]</td><td style = \"text-align: left;\">[0.186528, 0.60989, 0.203581, 6.18971e-9]</td><td style = \"text-align: left;\">[0.397555, 0.0944232, 0.209824, 0.560378]</td><td style = \"text-align: left;\">[0.392069, 0.109311, 0.196964, 0.61748]</td><td style = \"text-align: left;\">[133.49, 111.07, 91.52, 69.06]</td><td style = \"text-align: left;\">[133.41, 111.77, 91.13, 70.8]</td><td style = \"text-align: right;\">1.13176e7</td><td style = \"text-align: right;\">0.174648</td></tr><tr><td class = \"rowNumber\" style = \"font-weight: bold; text-align: right;\">8</td><td style = \"text-align: left;\">[15770.5, 61905.1, 25179.4, 0.0790102]</td><td style = \"text-align: left;\">[15823.8, 61756.1, 25283.1, 0.000989443]</td><td style = \"text-align: left;\">[0.21639, 0.012814, 1.0e-6, 0.103866]</td><td style = \"text-align: left;\">[0.186528, 0.60989, 0.203581, 4.92357e-7]</td><td style = \"text-align: left;\">[0.392069, 0.109311, 0.196964, 0.61748]</td><td style = \"text-align: left;\">[0.41352, 0.119017, 0.222223, 0.618414]</td><td style = \"text-align: left;\">[133.41, 111.77, 91.13, 70.8]</td><td style = \"text-align: left;\">[134.76, 112.25, 92.12, 71.0]</td><td style = \"text-align: right;\">1.13936e7</td><td style = \"text-align: right;\">0.174648</td></tr><tr><td class = \"rowNumber\" style = \"font-weight: bold; text-align: right;\">9</td><td style = \"text-align: left;\">[18461.1, 59814.9, 23701.6, 0.253045]</td><td style = \"text-align: left;\">[15770.5, 61905.1, 25179.4, 0.0790102]</td><td style = \"text-align: left;\">[0.21639, 0.012814, 1.0e-6, 0.103866]</td><td style = \"text-align: left;\">[0.222485, 0.585693, 0.191821, 1.606e-6]</td><td style = \"text-align: left;\">[0.41352, 0.119017, 0.222223, 0.618414]</td><td style = \"text-align: left;\">[0.431355, 0.0770895, 0.197193, 0.633084]</td><td style = \"text-align: left;\">[134.76, 112.25, 92.12, 71.0]</td><td style = \"text-align: left;\">[135.94, 110.45, 91.29, 71.59]</td><td style = \"text-align: right;\">1.12799e7</td><td style = \"text-align: right;\">0.174854</td></tr><tr><td class = \"rowNumber\" style = \"font-weight: bold; text-align: right;\">10</td><td style = \"text-align: left;\">[23270.0, 54528.7, 20863.2, 2602.21]</td><td style = \"text-align: left;\">[18461.1, 59814.9, 23701.6, 0.253045]</td><td style = \"text-align: left;\">[0.21639, 0.012814, 1.0e-6, 0.103866]</td><td style = \"text-align: left;\">[0.281852, 0.531409, 0.170298, 0.0164412]</td><td style = \"text-align: left;\">[0.431355, 0.0770895, 0.197193, 0.633084]</td><td style = \"text-align: left;\">[0.413472, 0.0381569, 0.190524, 0.589162]</td><td style = \"text-align: left;\">[135.94, 110.45, 91.29, 71.59]</td><td style = \"text-align: left;\">[135.21, 108.79, 91.12, 70.53]</td><td style = \"text-align: right;\">1.11631e7</td><td style = \"text-align: right;\">0.176831</td></tr><tr><td class = \"rowNumber\" style = \"font-weight: bold; text-align: right;\">11</td><td style = \"text-align: left;\">[19261.3, 58448.2, 23954.6, 0.53899]</td><td style = \"text-align: left;\">[23270.0, 54528.7, 20863.2, 2602.21]</td><td style = \"text-align: left;\">[0.21639, 0.012814, 1.0e-6, 0.103866]</td><td style = \"text-align: left;\">[0.231434, 0.570571, 0.197992, 3.24171e-6]</td><td style = \"text-align: left;\">[0.413472, 0.0381569, 0.190524, 0.589162]</td><td style = \"text-align: left;\">[0.410456, 0.063357, 0.241437, 0.480443]</td><td style = \"text-align: left;\">[135.21, 108.79, 91.12, 70.53]</td><td style = \"text-align: left;\">[135.27, 109.9, 93.05, 67.71]</td><td style = \"text-align: right;\">1.12579e7</td><td style = \"text-align: right;\">0.175037</td></tr><tr><td class = \"rowNumber\" style = \"font-weight: bold; text-align: right;\">12</td><td style = \"text-align: left;\">[15463.1, 63404.5, 23738.2, 0.105258]</td><td style = \"text-align: left;\">[19261.3, 58448.2, 23954.6, 0.53899]</td><td style = \"text-align: left;\">[0.21639, 0.012814, 1.0e-6, 0.103866]</td><td style = \"text-align: left;\">[0.186528, 0.60989, 0.203581, 6.45304e-7]</td><td style = \"text-align: left;\">[0.410456, 0.063357, 0.241437, 0.480443]</td><td style = \"text-align: left;\">[0.454328, 0.0636405, 0.370149, 0.561976]</td><td style = \"text-align: left;\">[135.27, 109.9, 93.05, 67.71]</td><td style = \"text-align: left;\">[137.87, 109.94, 98.02, 70.07]</td><td style = \"text-align: right;\">1.14294e7</td><td style = \"text-align: right;\">0.174648</td></tr><tr><td class = \"rowNumber\" style = \"font-weight: bold; text-align: right;\">13</td><td style = \"text-align: left;\">[15224.8, 63929.3, 23497.3, 0.0611763]</td><td style = \"text-align: left;\">[15463.1, 63404.5, 23738.2, 0.105258]</td><td style = \"text-align: left;\">[0.21639, 0.012814, 1.0e-6, 0.103866]</td><td style = \"text-align: left;\">[0.186528, 0.60989, 0.203581, 4.06489e-7]</td><td style = \"text-align: left;\">[0.454328, 0.0636405, 0.370149, 0.561976]</td><td style = \"text-align: left;\">[0.508321, 0.0616284, 0.411547, 0.77859]</td><td style = \"text-align: left;\">[137.87, 109.94, 98.02, 70.07]</td><td style = \"text-align: left;\">[141.11, 109.88, 99.79, 76.53]</td><td style = \"text-align: right;\">1.15177e7</td><td style = \"text-align: right;\">0.174648</td></tr><tr><td style = \"text-align: right;\">&vellip;</td><td style = \"text-align: right;\">&vellip;</td><td style = \"text-align: right;\">&vellip;</td><td style = \"text-align: right;\">&vellip;</td><td style = \"text-align: right;\">&vellip;</td><td style = \"text-align: right;\">&vellip;</td><td style = \"text-align: right;\">&vellip;</td><td style = \"text-align: right;\">&vellip;</td><td style = \"text-align: right;\">&vellip;</td><td style = \"text-align: right;\">&vellip;</td><td style = \"text-align: right;\">&vellip;</td></tr><tr><td class = \"rowNumber\" style = \"font-weight: bold; text-align: right;\">219</td><td style = \"text-align: left;\">[87.7904, 167.379, 141.523, 20.7952]</td><td style = \"text-align: left;\">[86.2549, 172.092, 134.429, 27.2872]</td><td style = \"text-align: left;\">[0.21639, 0.012814, 1.0e-6, 0.103866]</td><td style = \"text-align: left;\">[0.300236, 0.308574, 0.346554, 0.0446354]</td><td style = \"text-align: left;\">[0.294114, -0.123851, 0.303675, 0.552386]</td><td style = \"text-align: left;\">[0.298825, -0.142919, 0.319427, 0.507029]</td><td style = \"text-align: left;\">[187.44, 102.17, 133.62, 119.88]</td><td style = \"text-align: left;\">[188.01, 101.35, 134.62, 118.0]</td><td style = \"text-align: right;\">54975.1</td><td style = \"text-align: right;\">0.191181</td></tr><tr><td class = \"rowNumber\" style = \"font-weight: bold; text-align: right;\">220</td><td style = \"text-align: left;\">[79.6627, 197.016, 135.351, 15.4918]</td><td style = \"text-align: left;\">[87.7904, 167.379, 141.523, 20.7952]</td><td style = \"text-align: left;\">[0.21639, 0.012814, 1.0e-6, 0.103866]</td><td style = \"text-align: left;\">[0.271831, 0.36142, 0.333359, 0.0333903]</td><td style = \"text-align: left;\">[0.298825, -0.142919, 0.319427, 0.507029]</td><td style = \"text-align: left;\">[0.31852, -0.125627, 0.359108, 0.54074]</td><td style = \"text-align: left;\">[188.01, 101.35, 134.62, 118.0]</td><td style = \"text-align: left;\">[189.71, 101.99, 136.93, 119.83]</td><td style = \"text-align: right;\">55596.4</td><td style = \"text-align: right;\">0.186084</td></tr><tr><td class = \"rowNumber\" style = \"font-weight: bold; text-align: right;\">221</td><td style = \"text-align: left;\">[85.2436, 183.711, 132.469, 21.1709]</td><td style = \"text-align: left;\">[79.6627, 197.016, 135.351, 15.4918]</td><td style = \"text-align: left;\">[0.21639, 0.012814, 1.0e-6, 0.103866]</td><td style = \"text-align: left;\">[0.292189, 0.337774, 0.323893, 0.0461441]</td><td style = \"text-align: left;\">[0.31852, -0.125627, 0.359108, 0.54074]</td><td style = \"text-align: left;\">[0.315069, -0.130308, 0.325525, 0.551892]</td><td style = \"text-align: left;\">[189.71, 101.99, 136.93, 119.83]</td><td style = \"text-align: left;\">[189.69, 101.75, 135.31, 120.62]</td><td style = \"text-align: right;\">55340.5</td><td style = \"text-align: right;\">0.188535</td></tr><tr><td class = \"rowNumber\" style = \"font-weight: bold; text-align: right;\">222</td><td style = \"text-align: left;\">[82.0499, 204.612, 124.954, 16.9682]</td><td style = \"text-align: left;\">[85.2436, 183.711, 132.469, 21.1709]</td><td style = \"text-align: left;\">[0.21639, 0.012814, 1.0e-6, 0.103866]</td><td style = \"text-align: left;\">[0.281488, 0.37648, 0.30508, 0.0369526]</td><td style = \"text-align: left;\">[0.315069, -0.130308, 0.325525, 0.551892]</td><td style = \"text-align: left;\">[0.335192, -0.106076, 0.339716, 0.565313]</td><td style = \"text-align: left;\">[189.69, 101.75, 135.31, 120.62]</td><td style = \"text-align: left;\">[191.45, 102.68, 136.25, 121.53]</td><td style = \"text-align: right;\">55805.2</td><td style = \"text-align: right;\">0.184948</td></tr><tr><td class = \"rowNumber\" style = \"font-weight: bold; text-align: right;\">223</td><td style = \"text-align: left;\">[82.0618, 195.629, 134.469, 13.7174]</td><td style = \"text-align: left;\">[82.0499, 204.612, 124.954, 16.9682]</td><td style = \"text-align: left;\">[0.21639, 0.012814, 1.0e-6, 0.103866]</td><td style = \"text-align: left;\">[0.280905, 0.35903, 0.330714, 0.02935]</td><td style = \"text-align: left;\">[0.335192, -0.106076, 0.339716, 0.565313]</td><td style = \"text-align: left;\">[0.321156, -0.116577, 0.3496, 0.510031]</td><td style = \"text-align: left;\">[191.45, 102.68, 136.25, 121.53]</td><td style = \"text-align: left;\">[190.64, 102.21, 136.97, 119.16]</td><td style = \"text-align: right;\">55692.3</td><td style = \"text-align: right;\">0.186108</td></tr><tr><td class = \"rowNumber\" style = \"font-weight: bold; text-align: right;\">224</td><td style = \"text-align: left;\">[76.8846, 207.035, 131.993, 15.1345]</td><td style = \"text-align: left;\">[82.0618, 195.629, 134.469, 13.7174]</td><td style = \"text-align: left;\">[0.21639, 0.012814, 1.0e-6, 0.103866]</td><td style = \"text-align: left;\">[0.263156, 0.376631, 0.327042, 0.0331721]</td><td style = \"text-align: left;\">[0.321156, -0.116577, 0.3496, 0.510031]</td><td style = \"text-align: left;\">[0.326785, -0.128512, 0.373916, 0.574799]</td><td style = \"text-align: left;\">[190.64, 102.21, 136.97, 119.16]</td><td style = \"text-align: left;\">[191.31, 101.68, 138.49, 122.51]</td><td style = \"text-align: right;\">55893.9</td><td style = \"text-align: right;\">0.184878</td></tr><tr><td class = \"rowNumber\" style = \"font-weight: bold; text-align: right;\">225</td><td style = \"text-align: left;\">[80.309, 190.303, 134.167, 21.3212]</td><td style = \"text-align: left;\">[76.8846, 207.035, 131.993, 15.1345]</td><td style = \"text-align: left;\">[0.21639, 0.012814, 1.0e-6, 0.103866]</td><td style = \"text-align: left;\">[0.274445, 0.348738, 0.329905, 0.0469116]</td><td style = \"text-align: left;\">[0.326785, -0.128512, 0.373916, 0.574799]</td><td style = \"text-align: left;\">[0.305804, -0.122523, 0.337209, 0.564934]</td><td style = \"text-align: left;\">[191.31, 101.68, 138.49, 122.51]</td><td style = \"text-align: left;\">[189.97, 101.87, 136.69, 122.31]</td><td style = \"text-align: right;\">55589.6</td><td style = \"text-align: right;\">0.187672</td></tr><tr><td class = \"rowNumber\" style = \"font-weight: bold; text-align: right;\">226</td><td style = \"text-align: left;\">[81.8033, 182.891, 135.628, 23.515]</td><td style = \"text-align: left;\">[80.309, 190.303, 134.167, 21.3212]</td><td style = \"text-align: left;\">[0.21639, 0.012814, 1.0e-6, 0.103866]</td><td style = \"text-align: left;\">[0.279934, 0.334479, 0.333584, 0.0520024]</td><td style = \"text-align: left;\">[0.305804, -0.122523, 0.337209, 0.564934]</td><td style = \"text-align: left;\">[0.300357, -0.132205, 0.328669, 0.56628]</td><td style = \"text-align: left;\">[189.97, 101.87, 136.69, 122.31]</td><td style = \"text-align: left;\">[189.79, 101.43, 136.41, 122.65]</td><td style = \"text-align: right;\">55461.1</td><td style = \"text-align: right;\">0.189146</td></tr><tr><td class = \"rowNumber\" style = \"font-weight: bold; text-align: right;\">227</td><td style = \"text-align: left;\">[83.6776, 176.628, 140.286, 20.4937]</td><td style = \"text-align: left;\">[81.8033, 182.891, 135.628, 23.515]</td><td style = \"text-align: left;\">[0.21639, 0.012814, 1.0e-6, 0.103866]</td><td style = \"text-align: left;\">[0.287718, 0.319544, 0.347583, 0.045155]</td><td style = \"text-align: left;\">[0.300357, -0.132205, 0.328669, 0.56628]</td><td style = \"text-align: left;\">[0.30544, -0.162132, 0.339935, 0.547433]</td><td style = \"text-align: left;\">[189.79, 101.43, 136.41, 122.65]</td><td style = \"text-align: left;\">[190.4, 100.18, 137.2, 122.01]</td><td style = \"text-align: right;\">55374.5</td><td style = \"text-align: right;\">0.190203</td></tr><tr><td class = \"rowNumber\" style = \"font-weight: bold; text-align: right;\">228</td><td style = \"text-align: left;\">[85.9692, 169.619, 132.689, 30.9933]</td><td style = \"text-align: left;\">[83.6776, 176.628, 140.286, 20.4937]</td><td style = \"text-align: left;\">[0.21639, 0.012814, 1.0e-6, 0.103866]</td><td style = \"text-align: left;\">[0.295014, 0.310845, 0.324582, 0.0695588]</td><td style = \"text-align: left;\">[0.30544, -0.162132, 0.339935, 0.547433]</td><td style = \"text-align: left;\">[0.288717, -0.136726, 0.295613, 0.579679]</td><td style = \"text-align: left;\">[190.4, 100.18, 137.2, 122.01]</td><td style = \"text-align: left;\">[189.37, 101.13, 134.99, 123.85]</td><td style = \"text-align: right;\">55183.8</td><td style = \"text-align: right;\">0.192252</td></tr><tr><td class = \"rowNumber\" style = \"font-weight: bold; text-align: right;\">229</td><td style = \"text-align: left;\">[99.494, 159.621, 119.001, 33.2184]</td><td style = \"text-align: left;\">[85.9692, 169.619, 132.689, 30.9933]</td><td style = \"text-align: left;\">[0.21639, 0.012814, 1.0e-6, 0.103866]</td><td style = \"text-align: left;\">[0.343286, 0.297133, 0.286474, 0.0731068]</td><td style = \"text-align: left;\">[0.288717, -0.136726, 0.295613, 0.579679]</td><td style = \"text-align: left;\">[0.293536, -0.101942, 0.24631, 0.518545]</td><td style = \"text-align: left;\">[189.37, 101.13, 134.99, 123.85]</td><td style = \"text-align: left;\">[189.95, 102.48, 132.53, 121.16]</td><td style = \"text-align: right;\">55052.8</td><td style = \"text-align: right;\">0.194028</td></tr><tr><td class = \"rowNumber\" style = \"font-weight: bold; text-align: right;\">230</td><td style = \"text-align: left;\">[102.472, 172.609, 105.511, 32.1101]</td><td style = \"text-align: left;\">[99.494, 159.621, 119.001, 33.2184]</td><td style = \"text-align: left;\">[0.21639, 0.012814, 1.0e-6, 0.103866]</td><td style = \"text-align: left;\">[0.354593, 0.323134, 0.251744, 0.0705295]</td><td style = \"text-align: left;\">[0.293536, -0.101942, 0.24631, 0.518545]</td><td style = \"text-align: left;\">[0.307657, -0.0769386, 0.231075, 0.518139]</td><td style = \"text-align: left;\">[189.95, 102.48, 132.53, 121.16]</td><td style = \"text-align: left;\">[191.24, 103.46, 131.86, 121.39]</td><td style = \"text-align: right;\">55265.5</td><td style = \"text-align: right;\">0.191791</td></tr></tbody></table></div>"
      ],
      "text/latex": [
       "\\begin{tabular}{r|ccc}\n",
       "\t& N\\_new & N\\_old & \\\\\n",
       "\t\\hline\n",
       "\t& Array… & Array… & \\\\\n",
       "\t\\hline\n",
       "\t1 & [26022.4, 55305.4, 13683.9, 6627.51] & [57186.6, 3810.87, 0.370881, 53625.0] & $\\dots$ \\\\\n",
       "\t2 & [25992.0, 59711.8, 9984.86, 3770.58] & [26022.4, 55305.4, 13683.9, 6627.51] & $\\dots$ \\\\\n",
       "\t3 & [16318.1, 60222.3, 26431.6, 0.0766771] & [25992.0, 59711.8, 9984.86, 3770.58] & $\\dots$ \\\\\n",
       "\t4 & [26429.9, 54117.5, 14992.5, 5423.44] & [16318.1, 60222.3, 26431.6, 0.0766771] & $\\dots$ \\\\\n",
       "\t5 & [24307.6, 55597.6, 17313.6, 4074.54] & [26429.9, 54117.5, 14992.5, 5423.44] & $\\dots$ \\\\\n",
       "\t6 & [17173.3, 60763.6, 24524.7, 0.102695] & [24307.6, 55597.6, 17313.6, 4074.54] & $\\dots$ \\\\\n",
       "\t7 & [15823.8, 61756.1, 25283.1, 0.000989443] & [17173.3, 60763.6, 24524.7, 0.102695] & $\\dots$ \\\\\n",
       "\t8 & [15770.5, 61905.1, 25179.4, 0.0790102] & [15823.8, 61756.1, 25283.1, 0.000989443] & $\\dots$ \\\\\n",
       "\t9 & [18461.1, 59814.9, 23701.6, 0.253045] & [15770.5, 61905.1, 25179.4, 0.0790102] & $\\dots$ \\\\\n",
       "\t10 & [23270.0, 54528.7, 20863.2, 2602.21] & [18461.1, 59814.9, 23701.6, 0.253045] & $\\dots$ \\\\\n",
       "\t11 & [19261.3, 58448.2, 23954.6, 0.53899] & [23270.0, 54528.7, 20863.2, 2602.21] & $\\dots$ \\\\\n",
       "\t12 & [15463.1, 63404.5, 23738.2, 0.105258] & [19261.3, 58448.2, 23954.6, 0.53899] & $\\dots$ \\\\\n",
       "\t13 & [15224.8, 63929.3, 23497.3, 0.0611763] & [15463.1, 63404.5, 23738.2, 0.105258] & $\\dots$ \\\\\n",
       "\t14 & [14923.4, 64087.4, 23761.5, 0.000997708] & [15224.8, 63929.3, 23497.3, 0.0611763] & $\\dots$ \\\\\n",
       "\t15 & [16055.1, 62338.0, 24070.5, 0.00182634] & [14923.4, 64087.4, 23761.5, 0.000997708] & $\\dots$ \\\\\n",
       "\t16 & [16531.8, 61936.5, 23806.6, 0.328488] & [16055.1, 62338.0, 24070.5, 0.00182634] & $\\dots$ \\\\\n",
       "\t17 & [16781.2, 61636.7, 23758.4, 0.105505] & [16531.8, 61936.5, 23806.6, 0.328488] & $\\dots$ \\\\\n",
       "\t18 & [19424.2, 57765.3, 24096.5, 0.00822174] & [16781.2, 61636.7, 23758.4, 0.105505] & $\\dots$ \\\\\n",
       "\t19 & [15074.3, 64126.8, 23533.6, 0.0660514] & [19424.2, 57765.3, 24096.5, 0.00822174] & $\\dots$ \\\\\n",
       "\t20 & [14642.7, 65081.5, 23141.6, 0.0546807] & [15074.3, 64126.8, 23533.6, 0.0660514] & $\\dots$ \\\\\n",
       "\t21 & [14144.1, 67404.3, 21609.0, 0.0525193] & [14642.7, 65081.5, 23141.6, 0.0546807] & $\\dots$ \\\\\n",
       "\t22 & [14599.3, 65809.5, 22504.6, 0.0715518] & [14144.1, 67404.3, 21609.0, 0.0525193] & $\\dots$ \\\\\n",
       "\t23 & [15278.1, 64343.8, 22985.4, 0.151069] & [14599.3, 65809.5, 22504.6, 0.0715518] & $\\dots$ \\\\\n",
       "\t24 & [14035.4, 67157.0, 22008.8, 0.0550525] & [15278.1, 64343.8, 22985.4, 0.151069] & $\\dots$ \\\\\n",
       "\t$\\dots$ & $\\dots$ & $\\dots$ &  \\\\\n",
       "\\end{tabular}\n"
      ],
      "text/plain": [
       "\u001b[1m230×10 DataFrame\u001b[0m\n",
       "\u001b[1m Row \u001b[0m│\u001b[1m N_new                             \u001b[0m\u001b[1m N_old                             \u001b[0m\u001b[1m w\u001b[0m ⋯\n",
       "     │\u001b[90m Array…                            \u001b[0m\u001b[90m Array…                            \u001b[0m\u001b[90m A\u001b[0m ⋯\n",
       "─────┼──────────────────────────────────────────────────────────────────────────\n",
       "   1 │ [26022.4, 55305.4, 13683.9, 6627…  [57186.6, 3810.87, 0.370881, 536…  [ ⋯\n",
       "   2 │ [25992.0, 59711.8, 9984.86, 3770…  [26022.4, 55305.4, 13683.9, 6627…  [\n",
       "   3 │ [16318.1, 60222.3, 26431.6, 0.07…  [25992.0, 59711.8, 9984.86, 3770…  [\n",
       "   4 │ [26429.9, 54117.5, 14992.5, 5423…  [16318.1, 60222.3, 26431.6, 0.07…  [\n",
       "   5 │ [24307.6, 55597.6, 17313.6, 4074…  [26429.9, 54117.5, 14992.5, 5423…  [ ⋯\n",
       "   6 │ [17173.3, 60763.6, 24524.7, 0.10…  [24307.6, 55597.6, 17313.6, 4074…  [\n",
       "   7 │ [15823.8, 61756.1, 25283.1, 0.00…  [17173.3, 60763.6, 24524.7, 0.10…  [\n",
       "   8 │ [15770.5, 61905.1, 25179.4, 0.07…  [15823.8, 61756.1, 25283.1, 0.00…  [\n",
       "  ⋮  │                 ⋮                                  ⋮                    ⋱\n",
       " 224 │ [76.8846, 207.035, 131.993, 15.1…  [82.0618, 195.629, 134.469, 13.7…  [ ⋯\n",
       " 225 │ [80.309, 190.303, 134.167, 21.32…  [76.8846, 207.035, 131.993, 15.1…  [\n",
       " 226 │ [81.8033, 182.891, 135.628, 23.5…  [80.309, 190.303, 134.167, 21.32…  [\n",
       " 227 │ [83.6776, 176.628, 140.286, 20.4…  [81.8033, 182.891, 135.628, 23.5…  [\n",
       " 228 │ [85.9692, 169.619, 132.689, 30.9…  [83.6776, 176.628, 140.286, 20.4…  [ ⋯\n",
       " 229 │ [99.494, 159.621, 119.001, 33.21…  [85.9692, 169.619, 132.689, 30.9…  [\n",
       " 230 │ [102.472, 172.609, 105.511, 32.1…  [99.494, 159.621, 119.001, 33.21…  [\n",
       "\u001b[36m                                                  8 columns and 215 rows omitted\u001b[0m"
      ]
     },
     "metadata": {},
     "output_type": "display_data"
    }
   ],
   "source": [
    "previous_price_array = Sₒ\n",
    "μ̂_previous = μ̂\n",
    "N_previous = Nₒ\n",
    "Δt = (1/252);\n",
    "my_results_df = DataFrame();\n",
    "while (isempty(next_market_day_close_queue) == false)\n",
    "    \n",
    "    # what was the market vwap\n",
    "    current_price_array = dequeue!(next_market_day_close_queue); # holds the close price at the end of the trading day\n",
    "    \n",
    "    # compute the return -\n",
    "    asset_return_array = Array{Float64,1}();\n",
    "    for j ∈ eachindex(my_list_of_tickers)\n",
    "        tmp = (1/Δt)*log(current_price_array[j]/previous_price_array[j]);\n",
    "        push!(asset_return_array,tmp);\n",
    "    end\n",
    "    \n",
    "    # update the average return for each asset -\n",
    "    μ̂_new = μ̂_previous .+ α*(asset_return_array .- μ̂_previous);\n",
    "    \n",
    "    # compute new allocation -\n",
    "    problem_risk_sim.μ = μ̂_new;\n",
    "    problem_risk_sim.R = minimum_desired_return;\n",
    "    \n",
    "    # compute -\n",
    "    solution_sim = solve(problem_risk_sim)\n",
    "\n",
    "    # check: did this converge?\n",
    "    w_new = w; # initialize to orginal portfolio -\n",
    "    risk_new = risk; # initialize to orginal portfolio -\n",
    "    status_flag = solution_sim[\"status\"];    \n",
    "    if (status_flag == MathOptInterface.LOCALLY_SOLVED)\n",
    "        w_new = solution_sim[\"argmax\"];\n",
    "        risk_new = sqrt(solution_sim[\"objective_value\"]);\n",
    "    end\n",
    "    \n",
    "    # liqudation value of the portfolio at the close of trading day i\n",
    "    liquidation_value_of_porfolio = dot(N_previous, current_price_array);\n",
    "    \n",
    "    # compute the number of shares for the new allocation -\n",
    "    N_new = Array{Float64,1}()\n",
    "    for i ∈ eachindex(w_new)\n",
    "        wᵢ = w_new[i]\n",
    "        nᵢ = (wᵢ*liquidation_value_of_porfolio)/current_price_array[i];\n",
    "        push!(N_new,nᵢ)\n",
    "    end\n",
    "    \n",
    "    # store data -\n",
    "    results_tuple = (\n",
    "        N_new = N_new,\n",
    "        N_old = N_previous,\n",
    "        w_old = w,\n",
    "        w_new = w_new,\n",
    "        μ_previous = μ̂_previous,\n",
    "        μ_new = μ̂_new,\n",
    "        previous_close = previous_price_array,\n",
    "        current_close = current_price_array,\n",
    "        liquidation_value_of_porfolio = liquidation_value_of_porfolio,\n",
    "        risk = risk_new\n",
    "    );\n",
    "    push!(my_results_df,results_tuple)\n",
    "    \n",
    "    # update values -\n",
    "    μ̂_previous = μ̂_new;\n",
    "    previous_price_array = current_price_array;\n",
    "    N_previous = N_new;\n",
    "end\n",
    "my_results_df"
   ]
  },
  {
   "cell_type": "markdown",
   "id": "619dc48a",
   "metadata": {},
   "source": [
    "### Visualize and analyze the original and reallocated portfolios"
   ]
  },
  {
   "cell_type": "markdown",
   "id": "c098e504",
   "metadata": {},
   "source": [
    "#### Original case"
   ]
  },
  {
   "cell_type": "code",
   "execution_count": 321,
   "id": "f729f63e",
   "metadata": {},
   "outputs": [],
   "source": [
    "portfolio_performance_array_original = Array{Float64,2}(undef, number_of_trading_days, length(w)+2)\n",
    "for i ∈ eachindex(my_list_of_tickers)\n",
    "    \n",
    "    ticker = my_list_of_tickers[i];\n",
    "    price_df = dataset[ticker];\n",
    "    ticker_data = filter(:timestamp => x-> x >= startdate, price_df)\n",
    "    nᵢ = Nₒ[i]\n",
    "    \n",
    "    for j ∈ 1:number_of_trading_days\n",
    "        portfolio_performance_array_original[j,i] = nᵢ*ticker_data[j+1,:close];\n",
    "    end\n",
    "end\n",
    "\n",
    "# total -\n",
    "for i ∈ 1:number_of_trading_days\n",
    "    portfolio_performance_array_original[i,end] = sum(portfolio_performance_array_original[i,1:end-2])\n",
    "end\n",
    "\n",
    "# compute the risk -\n",
    "for i ∈ 1:number_of_trading_days\n",
    "    data = portfolio_performance_array_original[i,1:end-2];\n",
    "    total = portfolio_performance_array_original[i,end];\n",
    "    w = (1/total)*data;\n",
    "    portfolio_performance_array_original[i,end-1] = transpose(w)*Σ̂*w |> sqrt\n",
    "end"
   ]
  },
  {
   "cell_type": "code",
   "execution_count": 322,
   "id": "919bdd40",
   "metadata": {},
   "outputs": [
    {
     "name": "stdout",
     "output_type": "stream",
     "text": [
      "┌───────┬───────────┬───────────┬─────────┬───────────┬─────────────┬───────────┐\n",
      "│\u001b[1m index \u001b[0m│\u001b[1m      AAPL \u001b[0m│\u001b[1m       MRK \u001b[0m│\u001b[1m   GOOGL \u001b[0m│\u001b[1m       AMD \u001b[0m│\u001b[1m risk (sqrt) \u001b[0m│\u001b[1m total USD \u001b[0m│\n",
      "├───────┼───────────┼───────────┼─────────┼───────────┼─────────────┼───────────┤\n",
      "│   1.0 │ 7.22609e6 │ 4.27122e5 │ 32.6672 │  3.4674e6 │    0.270202 │ 1.11206e7 │\n",
      "│   2.0 │ 7.14946e6 │ 4.33067e5 │   31.97 │ 3.34245e6 │    0.269162 │  1.0925e7 │\n",
      "│   3.0 │ 7.41252e6 │  4.3764e5 │ 32.3928 │ 3.42986e6 │    0.269034 │ 1.12801e7 │\n",
      "│   4.0 │ 7.44283e6 │ 4.20644e5 │  32.645 │ 3.60575e6 │     0.27086 │ 1.14693e7 │\n",
      "│   5.0 │   7.476e6 │ 4.22283e5 │ 32.7933 │ 3.64918e6 │    0.271117 │ 1.15475e7 │\n",
      "│   6.0 │ 7.63383e6 │ 4.23273e5 │  33.943 │ 3.70335e6 │    0.271046 │ 1.17605e7 │\n",
      "│   7.0 │ 7.62926e6 │ 4.25941e5 │ 33.7984 │ 3.79665e6 │     0.27186 │ 1.18519e7 │\n",
      "│   8.0 │ 7.70646e6 │  4.2777e5 │ 34.1656 │ 3.80738e6 │    0.271654 │ 1.19416e7 │\n",
      "│   9.0 │ 7.77394e6 │ 4.20911e5 │ 33.8577 │ 3.83902e6 │    0.271818 │ 1.20339e7 │\n",
      "│  10.0 │ 7.73219e6 │ 4.14585e5 │ 33.7947 │ 3.78217e6 │    0.271564 │  1.1929e7 │\n",
      "│  11.0 │ 7.73563e6 │ 4.18815e5 │ 34.5105 │ 3.63095e6 │    0.270137 │ 1.17854e7 │\n",
      "│  12.0 │ 7.88431e6 │ 4.18967e5 │ 36.3538 │ 3.75751e6 │    0.270763 │ 1.20608e7 │\n",
      "│  13.0 │  8.0696e6 │ 4.18739e5 │ 37.0102 │ 4.10392e6 │    0.273132 │ 1.25923e7 │\n",
      "│  14.0 │  8.1508e6 │ 4.13556e5 │ 36.2351 │ 4.00579e6 │    0.272103 │ 1.25702e7 │\n",
      "│  15.0 │ 8.11249e6 │ 4.13822e5 │ 35.3153 │ 4.01705e6 │    0.272323 │ 1.25434e7 │\n",
      "│  16.0 │ 8.23258e6 │ 4.07268e5 │ 36.1683 │ 4.03046e6 │    0.272141 │ 1.26703e7 │\n",
      "│  17.0 │ 8.34523e6 │  4.0159e5 │ 36.8545 │ 4.04333e6 │    0.271972 │ 1.27902e7 │\n",
      "│  18.0 │ 8.17768e6 │ 4.04295e5 │ 35.9532 │ 3.88513e6 │    0.271152 │ 1.24671e7 │\n",
      "│  19.0 │ 8.25145e6 │ 4.09326e5 │ 36.6579 │ 4.02992e6 │    0.272042 │ 1.26907e7 │\n",
      "│  20.0 │ 8.31664e6 │  407687.0 │ 37.2476 │ 4.53882e6 │    0.276085 │ 1.32632e7 │\n",
      "│  21.0 │ 8.62488e6 │ 3.94273e5 │ 39.9587 │ 4.73563e6 │    0.276749 │ 1.37548e7 │\n",
      "│  22.0 │ 8.83532e6 │ 3.92291e5 │ 38.8609 │ 4.61658e6 │    0.275085 │ 1.38442e7 │\n",
      "│  23.0 │ 8.67692e6 │ 3.96445e5 │ 38.1637 │ 4.48734e6 │    0.274544 │ 1.35607e7 │\n",
      "│  24.0 │  8.8439e6 │ 4.02733e5 │ 39.9216 │ 4.60693e6 │    0.274824 │ 1.38536e7 │\n",
      "│  25.0 │ 8.68778e6 │ 4.06391e5 │ 36.8545 │ 4.54151e6 │    0.274786 │ 1.36357e7 │\n",
      "│  26.0 │ 8.62774e6 │ 4.06696e5 │ 35.2374 │ 4.46214e6 │    0.274354 │ 1.34966e7 │\n",
      "│  27.0 │ 8.63574e6 │ 4.13746e5 │ 35.0742 │ 4.36937e6 │    0.273477 │ 1.34189e7 │\n",
      "│  28.0 │ 8.79815e6 │ 4.17481e5 │ 35.0891 │ 4.45785e6 │    0.273588 │ 1.36735e7 │\n",
      "│  29.0 │ 8.76098e6 │ 4.14394e5 │  35.115 │ 4.60907e6 │    0.274949 │ 1.37845e7 │\n",
      "│  30.0 │ 8.88279e6 │ 4.10355e5 │ 35.9532 │ 4.56778e6 │    0.274275 │  1.3861e7 │\n",
      "│  31.0 │ 8.79015e6 │ 4.05896e5 │ 35.4229 │ 4.29429e6 │    0.272508 │ 1.34904e7 │\n",
      "│  32.0 │ 8.72381e6 │ 4.17367e5 │ 34.9926 │ 4.20957e6 │    0.271874 │ 1.33508e7 │\n",
      "│  33.0 │ 8.49106e6 │ 4.15652e5 │ 34.0432 │ 4.11679e6 │    0.271885 │ 1.30235e7 │\n",
      "│  34.0 │ 8.51565e6 │ 4.15995e5 │ 33.9913 │ 4.10821e6 │    0.271733 │ 1.30399e7 │\n",
      "│  35.0 │ 8.54367e6 │ 4.21444e5 │ 33.7094 │  4.2766e6 │    0.272917 │ 1.32417e7 │\n",
      "│  36.0 │ 8.38984e6 │ 4.18777e5 │ 33.0566 │ 4.18758e6 │     0.27274 │ 1.29962e7 │\n",
      "│  37.0 │ 8.45904e6 │ 4.16757e5 │ 33.3311 │ 4.22404e6 │    0.272842 │ 1.30999e7 │\n",
      "│  38.0 │ 8.42987e6 │ 4.04867e5 │ 33.4016 │ 4.21386e6 │    0.273042 │ 1.30486e7 │\n",
      "│  39.0 │ 8.30978e6 │ 4.06429e5 │ 33.5128 │  4.1983e6 │    0.273294 │ 1.29145e7 │\n",
      "│  40.0 │ 8.34409e6 │ 4.07801e5 │ 34.1211 │  4.3136e6 │     0.27411 │ 1.30655e7 │\n",
      "│  41.0 │ 8.63689e6 │ 4.07306e5 │  34.733 │ 4.37151e6 │    0.273589 │ 1.34157e7 │\n",
      "│  42.0 │ 8.79701e6 │ 4.23388e5 │ 35.2819 │ 4.35221e6 │    0.272675 │ 1.35726e7 │\n",
      "│  43.0 │ 8.66948e6 │ 4.24036e5 │ 34.8109 │ 4.40315e6 │    0.273478 │ 1.34967e7 │\n",
      "│  44.0 │ 8.74211e6 │ 4.12641e5 │ 34.9555 │ 4.57797e6 │    0.274794 │ 1.37328e7 │\n",
      "│  45.0 │ 8.61172e6 │  4.1005e5 │ 34.2397 │ 4.50611e6 │    0.274711 │ 1.35279e7 │\n",
      "│  46.0 │  8.4922e6 │ 4.10393e5 │  33.613 │ 4.43318e6 │    0.274533 │ 1.33358e7 │\n",
      "│  47.0 │ 8.60486e6 │ 4.02923e5 │  33.791 │ 4.39779e6 │    0.273974 │ 1.34056e7 │\n",
      "│  48.0 │  8.7261e6 │ 4.07649e5 │ 34.8517 │ 4.68951e6 │     0.27581 │ 1.38233e7 │\n",
      "│  49.0 │ 8.74897e6 │ 4.10164e5 │ 35.6454 │ 4.80909e6 │    0.276638 │ 1.39683e7 │\n",
      "│  50.0 │ 8.91253e6 │ 4.09059e5 │ 37.2068 │ 5.18018e6 │    0.278952 │ 1.45018e7 │\n",
      "│  51.0 │ 8.86392e6 │ 3.96712e5 │ 37.6889 │ 5.24667e6 │    0.279841 │ 1.45073e7 │\n",
      "│  52.0 │ 9.00116e6 │ 4.03381e5 │ 37.5406 │ 5.19144e6 │    0.278784 │  1.4596e7 │\n",
      "│  53.0 │ 9.10868e6 │ 4.02199e5 │ 38.9128 │ 5.14425e6 │     0.27804 │ 1.46552e7 │\n",
      "│  54.0 │ 9.02575e6 │ 3.97855e5 │  38.338 │ 5.23273e6 │    0.279088 │ 1.46564e7 │\n",
      "│  55.0 │ 9.08866e6 │ 3.97207e5 │  39.165 │ 5.37752e6 │    0.279961 │ 1.48634e7 │\n",
      "│  56.0 │ 9.16415e6 │ 3.99379e5 │ 39.1057 │ 5.25257e6 │    0.278697 │ 1.48161e7 │\n",
      "│  57.0 │ 9.05149e6 │ 4.07496e5 │ 38.0005 │ 5.18072e6 │    0.278453 │ 1.46397e7 │\n",
      "│  58.0 │ 9.01546e6 │ 4.02161e5 │ 37.4701 │ 5.07078e6 │    0.277821 │ 1.44884e7 │\n",
      "│  59.0 │ 9.19388e6 │ 3.99837e5 │ 37.6036 │ 5.15283e6 │     0.27783 │ 1.47466e7 │\n",
      "│  60.0 │ 9.28481e6 │ 4.03647e5 │ 37.4182 │ 5.24882e6 │    0.278168 │ 1.49373e7 │\n",
      "│  61.0 │ 9.43006e6 │ 4.05439e5 │ 38.4715 │ 5.25579e6 │     0.27768 │ 1.50913e7 │\n",
      "│  62.0 │ 9.50269e6 │  4.1489e5 │ 38.7052 │ 5.17803e6 │    0.276731 │ 1.50957e7 │\n",
      "│  63.0 │ 9.47181e6 │ 4.14737e5 │ 38.8387 │ 5.14103e6 │    0.276567 │ 1.50276e7 │\n",
      "│  64.0 │ 9.36487e6 │ 4.26475e5 │  38.746 │ 4.96353e6 │    0.275453 │ 1.47549e7 │\n",
      "│  65.0 │ 9.41634e6 │ 4.28075e5 │ 40.2109 │ 4.95871e6 │    0.275227 │ 1.48032e7 │\n",
      "│  66.0 │ 9.26594e6 │ 4.29142e5 │ 39.4766 │ 5.12012e6 │    0.276913 │ 1.48152e7 │\n",
      "│  67.0 │  9.1956e6 │ 4.28685e5 │ 39.0723 │ 5.04236e6 │     0.27658 │ 1.46667e7 │\n",
      "│  68.0 │ 9.15557e6 │ 4.33487e5 │  38.809 │  4.9512e6 │     0.27596 │ 1.45403e7 │\n",
      "│  69.0 │ 9.46781e6 │  4.4046e5 │ 39.8438 │ 4.93833e6 │     0.27474 │ 1.48466e7 │\n",
      "│  70.0 │ 9.44779e6 │ 4.39432e5 │ 40.3778 │  4.9201e6 │    0.274685 │ 1.48074e7 │\n",
      "│  71.0 │ 9.44894e6 │ 4.38288e5 │ 39.3023 │ 4.81928e6 │     0.27396 │ 1.47065e7 │\n",
      "│  72.0 │ 9.51985e6 │ 4.37602e5 │ 38.7571 │ 4.81446e6 │    0.273719 │ 1.47719e7 │\n",
      "│  73.0 │ 9.58618e6 │ 4.34935e5 │ 38.6384 │ 4.82304e6 │    0.273618 │ 1.48442e7 │\n",
      "│  74.0 │ 9.53014e6 │ 4.35087e5 │ 39.0501 │ 4.83215e6 │    0.273851 │ 1.47974e7 │\n",
      "│  75.0 │ 9.43693e6 │  4.3966e5 │ 39.0946 │ 4.74206e6 │    0.273414 │ 1.46187e7 │\n",
      "│  76.0 │ 9.45465e6 │ 4.41832e5 │ 39.3023 │ 4.69595e6 │    0.272994 │ 1.45925e7 │\n",
      "│  77.0 │ 9.36544e6 │ 4.44081e5 │  38.516 │ 4.49378e6 │    0.271745 │ 1.43033e7 │\n",
      "│  78.0 │ 9.36487e6 │ 4.32267e5 │ 38.4641 │ 4.60854e6 │    0.272756 │ 1.44057e7 │\n",
      "│  79.0 │ 9.63079e6 │  4.3886e5 │ 39.9031 │ 4.68897e6 │    0.272475 │ 1.47587e7 │\n",
      "│  80.0 │ 9.70342e6 │ 4.40041e5 │ 39.8104 │ 4.79247e6 │    0.272987 │  1.4936e7 │\n",
      "│  81.0 │ 9.69827e6 │ 4.43357e5 │ 39.7585 │ 4.80963e6 │    0.273077 │ 1.49513e7 │\n",
      "│  82.0 │ 9.63822e6 │ 4.49264e5 │ 39.0612 │ 4.82143e6 │    0.273255 │  1.4909e7 │\n",
      "│  83.0 │ 9.57589e6 │ 4.50521e5 │ 39.0946 │ 4.37688e6 │    0.270243 │ 1.44033e7 │\n",
      "│  84.0 │ 9.48096e6 │ 4.47282e5 │ 38.8275 │ 4.64447e6 │    0.272467 │ 1.45727e7 │\n",
      "│  85.0 │ 9.92587e6 │ 4.48463e5 │ 39.1539 │ 4.81767e6 │    0.272424 │  1.5192e7 │\n",
      "│  86.0 │ 9.92187e6 │ 4.51131e5 │ 39.9699 │ 5.09652e6 │    0.274332 │ 1.54696e7 │\n",
      "│  87.0 │ 9.82294e6 │ 4.47511e5 │ 39.8141 │  5.0976e6 │    0.274685 │ 1.53681e7 │\n",
      "│  88.0 │ 9.92501e6 │ 4.49302e5 │  41.446 │  5.2027e6 │    0.275086 │ 1.55771e7 │\n",
      "│  89.0 │ 9.93616e6 │ 4.47968e5 │ 43.2336 │ 5.20699e6 │      0.2751 │ 1.55912e7 │\n",
      "│  90.0 │ 9.86868e6 │ 4.46405e5 │ 43.5822 │ 5.10832e6 │    0.274637 │ 1.54235e7 │\n",
      "│  91.0 │ 9.84009e6 │ 4.43471e5 │ 43.2114 │ 5.22308e6 │    0.275569 │ 1.55067e7 │\n",
      "│  92.0 │ 9.84009e6 │ 4.42366e5 │  44.324 │ 5.44187e6 │    0.277123 │ 1.57244e7 │\n",
      "│  93.0 │ 9.87555e6 │ 4.37336e5 │ 44.8173 │  5.5636e6 │    0.277927 │ 1.58765e7 │\n",
      "│  94.0 │ 1.00105e7 │ 4.34439e5 │ 45.5553 │ 5.78775e6 │    0.279067 │ 1.62327e7 │\n",
      "│  95.0 │ 1.00168e7 │ 4.40117e5 │ 45.5294 │  5.6746e6 │     0.27819 │ 1.61316e7 │\n",
      "│  96.0 │  9.9619e6 │ 4.36307e5 │ 46.3787 │  5.7915e6 │    0.279236 │ 1.61898e7 │\n",
      "│  97.0 │ 9.81093e6 │ 4.31657e5 │ 45.4552 │ 5.79794e6 │    0.279874 │ 1.60406e7 │\n",
      "│  98.0 │ 9.82694e6 │  432915.0 │ 44.8395 │ 5.80598e6 │    0.279857 │ 1.60659e7 │\n",
      "│  99.0 │  9.8927e6 │ 4.27961e5 │ 45.7964 │ 6.45377e6 │    0.284195 │ 1.67745e7 │\n",
      "│ 100.0 │ 1.00322e7 │ 4.23273e5 │ 46.2155 │ 6.81199e6 │    0.286147 │ 1.72675e7 │\n",
      "│ 101.0 │ 1.01392e7 │ 4.19539e5 │ 45.2623 │ 6.71761e6 │    0.285131 │ 1.72764e7 │\n",
      "│ 102.0 │ 1.01363e7 │ 4.20758e5 │ 45.5702 │ 6.33902e6 │     0.28257 │ 1.68961e7 │\n",
      "│ 103.0 │ 1.02987e7 │  4.2274e5 │ 45.8854 │ 6.40658e6 │    0.282403 │ 1.71281e7 │\n",
      "│ 104.0 │ 1.03479e7 │ 4.28799e5 │ 46.2378 │ 6.32025e6 │    0.281575 │  1.7097e7 │\n",
      "│ 105.0 │ 1.02696e7 │ 4.31048e5 │ 46.7347 │   6.324e6 │    0.281851 │ 1.70247e7 │\n",
      "│ 106.0 │ 1.02484e7 │ 4.19234e5 │ 47.2169 │ 6.66184e6 │    0.284339 │ 1.73295e7 │\n",
      "│ 107.0 │ 1.01689e7 │ 4.13899e5 │ 45.4329 │ 6.31864e6 │      0.2824 │ 1.69015e7 │\n",
      "│ 108.0 │ 1.03262e7 │ 4.20415e5 │ 45.2994 │ 6.49131e6 │    0.282897 │ 1.72379e7 │\n",
      "│ 109.0 │ 1.03485e7 │ 4.21902e5 │ 45.3328 │ 6.69884e6 │    0.284171 │ 1.74693e7 │\n",
      "│ 110.0 │ 1.05103e7 │ 4.18662e5 │ 45.8557 │ 6.92782e6 │    0.285099 │ 1.78568e7 │\n",
      "│ 111.0 │ 1.04829e7 │ 4.19158e5 │ 45.9262 │ 6.67793e6 │    0.283568 │   1.758e7 │\n",
      "│ 112.0 │ 1.05195e7 │ 4.14089e5 │ 45.8669 │ 6.82808e6 │    0.284474 │ 1.77617e7 │\n",
      "│ 113.0 │ 1.06373e7 │ 4.16909e5 │ 46.3935 │ 6.66238e6 │    0.282936 │ 1.77166e7 │\n",
      "│ 114.0 │ 1.05749e7 │ 4.16604e5 │ 45.8149 │  6.4393e6 │    0.281714 │ 1.74309e7 │\n",
      "│ 115.0 │ 1.05801e7 │ 4.20072e5 │ 45.6555 │ 6.37763e6 │    0.281251 │ 1.73778e7 │\n",
      "│ 116.0 │   1.052e7 │ 4.23616e5 │ 44.7097 │  6.0119e6 │    0.279016 │ 1.69556e7 │\n",
      "│ 117.0 │ 1.06939e7 │ 4.33372e5 │  45.674 │ 5.93629e6 │    0.277851 │ 1.70636e7 │\n",
      "│ 118.0 │ 1.06756e7 │ 4.36726e5 │ 45.3736 │ 5.89929e6 │    0.277626 │ 1.70116e7 │\n",
      "│ 119.0 │  1.0595e7 │ 4.30933e5 │ 43.8901 │ 5.76523e6 │    0.277074 │ 1.67912e7 │\n",
      "│ 120.0 │ 1.07545e7 │ 4.31848e5 │ 43.8864 │ 5.91967e6 │    0.277577 │ 1.71061e7 │\n",
      "│ 121.0 │ 1.08226e7 │ 4.28494e5 │ 44.5725 │ 5.90787e6 │    0.277337 │  1.7159e7 │\n",
      "│ 122.0 │  1.0842e7 │ 4.32686e5 │ 44.1719 │ 5.96525e6 │    0.277593 │   1.724e7 │\n",
      "│ 123.0 │ 1.10925e7 │ 4.39736e5 │ 44.3945 │ 6.10843e6 │    0.277662 │ 1.76407e7 │\n",
      "│ 124.0 │ 1.10061e7 │ 4.35697e5 │ 44.4686 │ 6.21085e6 │    0.278611 │ 1.76527e7 │\n",
      "│ 125.0 │ 1.09415e7 │  433296.0 │ 45.1548 │ 6.11057e6 │    0.278206 │ 1.74854e7 │\n",
      "│ 126.0 │  1.0969e7 │ 4.25865e5 │ 44.5465 │ 6.08537e6 │    0.278054 │ 1.74802e7 │\n",
      "│ 127.0 │ 1.09043e7 │ 4.15385e5 │ 44.3129 │ 6.06875e6 │    0.278272 │ 1.73885e7 │\n",
      "│ 128.0 │  1.0786e7 │ 4.19043e5 │ 43.1891 │ 6.09073e6 │    0.278734 │ 1.72958e7 │\n",
      "│ 129.0 │ 1.07556e7 │ 4.14242e5 │  43.445 │ 5.96954e6 │    0.278111 │ 1.71395e7 │\n",
      "│ 130.0 │ 1.08523e7 │ 4.09554e5 │ 44.1089 │ 6.14436e6 │    0.278985 │ 1.74062e7 │\n",
      "│ 131.0 │ 1.08963e7 │ 4.05172e5 │ 46.1895 │ 6.21622e6 │    0.279355 │ 1.75178e7 │\n",
      "│ 132.0 │ 1.09049e7 │ 4.09059e5 │ 46.5159 │ 6.21729e6 │    0.279288 │ 1.75313e7 │\n",
      "│ 133.0 │ 1.10936e7 │ 4.02314e5 │ 46.2303 │ 6.34492e6 │    0.279578 │ 1.78409e7 │\n",
      "│ 134.0 │ 1.10788e7 │ 4.03762e5 │ 45.9003 │   6.324e6 │    0.279477 │ 1.78066e7 │\n",
      "│ 135.0 │ 1.11571e7 │ 4.03762e5 │ 45.2586 │ 6.24356e6 │    0.278737 │ 1.78045e7 │\n",
      "│ 136.0 │ 1.10444e7 │ 4.13327e5 │  44.209 │ 5.91216e6 │    0.276896 │   1.737e7 │\n",
      "│ 137.0 │ 1.09764e7 │ 4.20682e5 │ 44.5132 │  5.9497e6 │    0.277241 │ 1.73468e7 │\n",
      "│ 138.0 │ 1.10227e7 │ 4.14585e5 │ 45.0732 │ 5.93147e6 │    0.277065 │ 1.73688e7 │\n",
      "│ 139.0 │ 1.10725e7 │  409783.0 │ 45.3254 │ 6.05963e6 │    0.277777 │ 1.75419e7 │\n",
      "│ 140.0 │ 1.11228e7 │ 4.08297e5 │ 47.9438 │ 5.90358e6 │    0.276679 │ 1.74347e7 │\n",
      "│ 141.0 │ 1.10496e7 │  4.0117e5 │  47.992 │ 5.95774e6 │    0.277313 │ 1.74085e7 │\n",
      "│ 142.0 │ 1.11988e7 │  405248.0 │ 49.1714 │ 6.05749e6 │    0.277448 │ 1.76616e7 │\n",
      "│ 143.0 │ 1.12343e7 │ 4.06429e5 │ 49.2233 │ 6.13471e6 │    0.277805 │ 1.77755e7 │\n",
      "│ 144.0 │  1.1186e7 │ 4.01209e5 │ 48.7894 │ 6.30631e6 │    0.279067 │ 1.78935e7 │\n",
      "│ 145.0 │  1.1013e7 │ 4.02809e5 │ 47.6137 │  5.8639e6 │    0.276813 │ 1.72797e7 │\n",
      "│ 146.0 │ 1.09324e7 │ 4.02923e5 │ 47.6397 │ 6.06767e6 │    0.278332 │  1.7403e7 │\n",
      "│ 147.0 │ 1.04074e7 │ 4.00141e5 │ 47.5136 │ 6.21085e6 │    0.281001 │ 1.70184e7 │\n",
      "│ 148.0 │ 1.02278e7 │ 4.04295e5 │  48.782 │ 6.26394e6 │    0.281939 │ 1.68961e7 │\n",
      "│ 149.0 │ 1.02821e7 │ 4.05515e5 │ 48.7338 │ 6.07196e6 │    0.280441 │ 1.67597e7 │\n",
      "│ 150.0 │ 1.01901e7 │ 4.04333e5 │ 48.0884 │ 5.92396e6 │    0.279775 │ 1.65184e7 │\n",
      "│ 151.0 │ 1.01775e7 │ 4.02314e5 │ 48.0996 │ 5.91109e6 │    0.279757 │ 1.64909e7 │\n",
      "│ 152.0 │ 1.01672e7 │  409440.0 │ 48.0514 │ 5.76845e6 │    0.278731 │ 1.63451e7 │\n",
      "│ 153.0 │ 1.02627e7 │  415042.0 │ 48.7078 │ 6.00493e6 │    0.279936 │ 1.66827e7 │\n",
      "│ 154.0 │ 1.01478e7 │ 4.14089e5 │  48.133 │ 5.97115e6 │    0.280116 │  1.6533e7 │\n",
      "│ 155.0 │ 1.00974e7 │  414356.0 │ 47.7324 │ 5.74807e6 │    0.278762 │ 1.62599e7 │\n",
      "│ 156.0 │ 9.95046e6 │  4.1508e5 │ 48.1849 │  5.6006e6 │    0.278229 │ 1.59662e7 │\n",
      "│ 157.0 │ 9.97848e6 │ 4.16147e5 │ 47.2725 │ 5.65476e6 │    0.278496 │ 1.60494e7 │\n",
      "│ 158.0 │ 1.00557e7 │ 4.17824e5 │   47.61 │  5.8033e6 │    0.279237 │ 1.62769e7 │\n",
      "│ 159.0 │ 1.01352e7 │  4.0864e5 │ 47.8733 │ 5.66602e6 │     0.27815 │ 1.62099e7 │\n",
      "│ 160.0 │ 1.03576e7 │  4.2415e5 │ 49.0935 │ 5.86819e6 │    0.278586 │   1.665e7 │\n",
      "│ 161.0 │ 1.00866e7 │   4.171e5 │  48.133 │ 5.45903e6 │    0.276781 │ 1.59627e7 │\n",
      "│ 162.0 │ 1.02141e7 │ 4.19996e5 │   48.17 │ 5.48316e6 │    0.276509 │ 1.61173e7 │\n",
      "│ 163.0 │ 1.03044e7 │ 4.15118e5 │ 48.5891 │ 5.50247e6 │    0.276424 │ 1.62221e7 │\n",
      "│ 164.0 │ 1.05292e7 │ 4.19158e5 │ 49.9095 │ 5.67996e6 │    0.276864 │ 1.66284e7 │\n",
      "│ 165.0 │ 1.07311e7 │ 4.19996e5 │ 50.3953 │ 5.71589e6 │    0.276484 │  1.6867e7 │\n",
      "│ 166.0 │ 1.07436e7 │ 4.15309e5 │ 50.5029 │ 5.66924e6 │    0.276206 │ 1.68282e7 │\n",
      "│ 167.0 │ 1.08346e7 │ 4.18586e5 │ 50.3137 │ 5.86926e6 │    0.277177 │ 1.71225e7 │\n",
      "│ 168.0 │ 1.08483e7 │ 4.09707e5 │ 50.3545 │ 5.94058e6 │    0.277699 │ 1.71986e7 │\n",
      "│ 169.0 │   1.046e7 │  4.0582e5 │ 49.8687 │ 5.86014e6 │    0.278434 │  1.6726e7 │\n",
      "│ 170.0 │  1.0154e7 │ 4.11345e5 │ 50.1654 │ 5.71589e6 │    0.278392 │ 1.62813e7 │\n",
      "│ 171.0 │ 1.01895e7 │ 4.15575e5 │ 50.5808 │ 5.68908e6 │    0.278039 │ 1.62942e7 │\n",
      "│ 172.0 │  1.0257e7 │ 4.13861e5 │  50.781 │ 5.64779e6 │    0.277565 │ 1.63187e7 │\n",
      "│ 173.0 │  1.0082e7 │ 4.15461e5 │ 50.1951 │ 5.64725e6 │    0.278108 │ 1.61448e7 │\n",
      "│ 174.0 │ 9.96247e6 │  410850.0 │ 50.7032 │ 5.77595e6 │    0.279461 │ 1.61493e7 │\n",
      "│ 175.0 │   1.005e7 │ 4.12489e5 │ 51.2187 │ 5.71804e6 │     0.27874 │ 1.61805e7 │\n",
      "│ 176.0 │ 1.00082e7 │ 4.09745e5 │ 50.9591 │ 5.44241e6 │    0.277014 │ 1.58604e7 │\n",
      "│ 177.0 │ 1.01775e7 │ 4.10888e5 │ 51.2595 │  5.4896e6 │    0.276785 │  1.6078e7 │\n",
      "│ 178.0 │ 1.02404e7 │ 4.09135e5 │ 51.1964 │ 5.44884e6 │    0.276337 │ 1.60984e7 │\n",
      "│ 179.0 │ 1.00357e7 │ 4.08945e5 │ 49.6016 │ 5.38074e6 │    0.276512 │ 1.58254e7 │\n",
      "│ 180.0 │ 9.94646e6 │ 4.06734e5 │ 48.3777 │  5.1539e6 │    0.275252 │ 1.55071e7 │\n",
      "│ 181.0 │ 9.99564e6 │  405248.0 │ 48.3073 │ 5.15873e6 │    0.275156 │ 1.55597e7 │\n",
      "│ 182.0 │ 1.00694e7 │ 4.03343e5 │ 48.6262 │ 5.22201e6 │    0.275393 │ 1.56948e7 │\n",
      "│ 183.0 │  9.8338e6 │ 4.01628e5 │ 47.6823 │ 5.14586e6 │    0.275611 │ 1.53813e7 │\n",
      "│ 184.0 │ 9.74631e6 │ 3.96102e5 │ 48.4148 │ 5.25901e6 │    0.276763 │ 1.54015e7 │\n",
      "│ 185.0 │ 9.76117e6 │ 3.97474e5 │ 49.0713 │ 5.51051e6 │    0.278477 │ 1.56692e7 │\n",
      "│ 186.0 │ 9.79091e6 │ 3.92329e5 │ 48.5335 │ 5.51373e6 │    0.278466 │  1.5697e7 │\n",
      "│ 187.0 │ 9.93616e6 │ 3.90805e5 │ 49.7611 │ 5.53786e6 │    0.278163 │ 1.58649e7 │\n",
      "│ 188.0 │ 9.85896e6 │ 3.87832e5 │ 49.1158 │ 5.36679e6 │    0.277266 │ 1.56136e7 │\n",
      "│ 189.0 │ 9.93102e6 │ 3.89357e5 │  50.158 │ 5.58076e6 │    0.278498 │ 1.59012e7 │\n",
      "│ 190.0 │ 1.00025e7 │ 3.94806e5 │ 50.0949 │ 5.51855e6 │    0.277756 │ 1.59159e7 │\n",
      "│ 191.0 │   1.015e7 │ 3.95873e5 │ 51.0258 │ 5.75075e6 │    0.278844 │ 1.62967e7 │\n",
      "│ 192.0 │ 1.02358e7 │  398236.0 │ 51.3374 │ 5.73627e6 │    0.278432 │ 1.63704e7 │\n",
      "│ 193.0 │ 1.02015e7 │ 3.94844e5 │ 51.2039 │ 5.84567e6 │    0.279329 │ 1.64421e7 │\n",
      "│ 194.0 │ 1.02821e7 │ 3.94273e5 │ 52.1273 │ 5.80813e6 │    0.278814 │ 1.64846e7 │\n",
      "│ 195.0 │ 1.03342e7 │ 3.94768e5 │ 51.5414 │ 5.83387e6 │    0.278809 │ 1.65629e7 │\n",
      "│ 196.0 │ 1.02278e7 │ 3.96369e5 │ 50.9442 │ 5.63546e6 │    0.277801 │ 1.62597e7 │\n",
      "│ 197.0 │ 1.02204e7 │ 3.96864e5 │ 51.5877 │ 5.70892e6 │    0.278315 │ 1.63262e7 │\n",
      "│ 198.0 │ 1.01306e7 │ 3.96978e5 │ 51.8195 │ 5.63814e6 │    0.278127 │ 1.61658e7 │\n",
      "│ 199.0 │ 1.00557e7 │ 3.88671e5 │ 51.1668 │ 5.47887e6 │    0.277391 │ 1.59233e7 │\n",
      "│ 200.0 │  1.0034e7 │ 3.82726e5 │ 51.0889 │  5.4912e6 │    0.277625 │ 1.59079e7 │\n",
      "│ 201.0 │ 9.88641e6 │ 3.91262e5 │ 50.2915 │ 5.45957e6 │    0.277778 │ 1.57373e7 │\n",
      "│ 202.0 │ 9.89327e6 │ 3.93854e5 │ 50.6253 │ 5.36304e6 │    0.277046 │ 1.56502e7 │\n",
      "│ 203.0 │ 9.91844e6 │  392634.0 │  51.482 │ 5.45206e6 │    0.277601 │ 1.57632e7 │\n",
      "│ 204.0 │ 9.78462e6 │ 3.94921e5 │ 46.5864 │ 5.15095e6 │    0.275892 │ 1.53305e7 │\n",
      "│ 205.0 │ 9.54386e6 │ 4.02237e5 │ 45.3513 │ 5.02306e6 │    0.275646 │ 1.49692e7 │\n",
      "│ 206.0 │ 9.61992e6 │ 3.91834e5 │ 45.3105 │ 5.17106e6 │    0.276609 │ 1.51829e7 │\n",
      "│ 207.0 │  9.7383e6 │   3.913e5 │ 46.1599 │ 5.15766e6 │    0.276137 │ 1.52873e7 │\n",
      "│ 208.0 │ 9.76575e6 │ 3.91376e5 │ 46.0189 │ 5.28207e6 │    0.276927 │ 1.54392e7 │\n",
      "│ 209.0 │ 9.94875e6 │ 3.91948e5 │ 46.8979 │ 5.79365e6 │    0.279882 │ 1.61344e7 │\n",
      "│ 210.0 │ 1.01546e7 │ 3.91948e5 │ 47.2836 │ 5.78239e6 │    0.279095 │  1.6329e7 │\n",
      "│ 211.0 │  1.0102e7 │ 3.93968e5 │ 47.8808 │ 6.01941e6 │    0.280866 │ 1.65154e7 │\n",
      "│ 212.0 │ 1.02495e7 │ 3.97626e5 │ 48.3073 │  5.9926e6 │    0.280121 │ 1.66398e7 │\n",
      "│ 213.0 │ 1.03977e7 │ 3.96331e5 │ 48.5743 │ 6.08376e6 │    0.280241 │ 1.68778e7 │\n",
      "│ 214.0 │ 1.04588e7 │ 3.97855e5 │  48.897 │ 6.09127e6 │    0.280064 │  1.6948e7 │\n",
      "│ 215.0 │ 1.04314e7 │  390157.0 │ 48.3036 │ 6.08591e6 │    0.280219 │ 1.69075e7 │\n",
      "│ 216.0 │ 1.06596e7 │ 3.86384e5 │ 49.1751 │ 6.35939e6 │    0.281278 │ 1.74054e7 │\n",
      "│ 217.0 │ 1.05681e7 │  390500.0 │ 48.9897 │ 6.26287e6 │    0.280912 │ 1.72215e7 │\n",
      "│ 218.0 │  1.0719e7 │ 3.89357e5 │ 49.5571 │ 6.42857e6 │    0.281485 │  1.7537e7 │\n",
      "│ 219.0 │ 1.07516e7 │ 3.86232e5 │  49.928 │ 6.32776e6 │    0.280767 │ 1.74657e7 │\n",
      "│ 220.0 │ 1.08489e7 │ 3.88671e5 │ 50.7848 │ 6.42589e6 │    0.281039 │ 1.76635e7 │\n",
      "│ 221.0 │ 1.08477e7 │ 3.87756e5 │ 50.1839 │ 6.46825e6 │    0.281323 │ 1.77038e7 │\n",
      "│ 222.0 │ 1.09484e7 │   3.913e5 │ 50.5326 │ 6.51705e6 │    0.281253 │ 1.78568e7 │\n",
      "│ 223.0 │  1.0902e7 │ 3.89509e5 │ 50.7996 │ 6.38996e6 │    0.280626 │ 1.76816e7 │\n",
      "│ 224.0 │ 1.09404e7 │ 3.87489e5 │ 51.3633 │  6.5696e6 │    0.281656 │ 1.78975e7 │\n",
      "│ 225.0 │ 1.08637e7 │ 3.88213e5 │ 50.6957 │ 6.55888e6 │    0.281838 │ 1.78109e7 │\n",
      "│ 226.0 │ 1.08534e7 │ 3.86537e5 │ 50.5919 │ 6.57711e6 │    0.282009 │ 1.78171e7 │\n",
      "│ 227.0 │ 1.08883e7 │ 3.81773e5 │ 50.8849 │ 6.54279e6 │    0.281731 │ 1.78129e7 │\n",
      "│ 228.0 │ 1.08294e7 │ 3.85393e5 │ 50.0652 │ 6.64146e6 │    0.282513 │ 1.78563e7 │\n",
      "│ 229.0 │ 1.08626e7 │ 3.90538e5 │ 49.1529 │ 6.49721e6 │    0.281423 │ 1.77504e7 │\n",
      "│ 230.0 │ 1.09364e7 │ 3.94273e5 │ 48.9044 │ 6.50954e6 │     0.28121 │ 1.78402e7 │\n",
      "└───────┴───────────┴───────────┴─────────┴───────────┴─────────────┴───────────┘\n"
     ]
    }
   ],
   "source": [
    "orignal_table_data = Array{Float64,2}(undef, number_of_trading_days, length(w)+3)\n",
    "for i ∈ 1:number_of_trading_days\n",
    "    orignal_table_data[i,1] = i\n",
    "    for j ∈ eachindex(my_list_of_tickers)\n",
    "        orignal_table_data[i,1+j] = portfolio_performance_array_original[i,j];\n",
    "    end\n",
    "    orignal_table_data[i,end-1] = portfolio_performance_array_original[i,end-1]\n",
    "    orignal_table_data[i,end] = portfolio_performance_array_original[i,end]\n",
    "end\n",
    "\n",
    "pretty_table(orignal_table_data, header=[\"index\",my_list_of_tickers...,\"risk (sqrt)\",\"total USD\"])"
   ]
  },
  {
   "cell_type": "markdown",
   "id": "23d08282",
   "metadata": {},
   "source": [
    "#### Reallocated case"
   ]
  },
  {
   "cell_type": "code",
   "execution_count": 323,
   "id": "9a1febe2",
   "metadata": {},
   "outputs": [],
   "source": [
    "portfolio_performance_array_reallocate = Array{Float64,2}(undef, number_of_trading_days, length(w)+2)\n",
    "\n",
    "# values for each asset -\n",
    "for i ∈ 1:(number_of_trading_days)\n",
    "    \n",
    "    risk_new = my_results_df[i,:risk]\n",
    "    N_new = my_results_df[i,:N_new]\n",
    "    new_price = my_results_df[i,:current_close]\n",
    "    \n",
    "    for j ∈ eachindex(my_list_of_tickers)\n",
    "        portfolio_performance_array_reallocate[i,j] = N_new[j]*new_price[j] |> x-> round(x, digits=3) |> abs\n",
    "    end\n",
    "    \n",
    "    # compute the risk -\n",
    "    portfolio_performance_array_reallocate[i,end-1] = risk_new\n",
    "end\n",
    "\n",
    "# total -\n",
    "for i ∈ 1:number_of_trading_days\n",
    "    portfolio_performance_array_reallocate[i,end] = sum(portfolio_performance_array_reallocate[i,1:end-2])\n",
    "end\n",
    "\n",
    "# compute the initial risk -\n",
    "total = portfolio_performance_array_reallocate[1,end];\n",
    "data = portfolio_performance_array_reallocate[1,1:end-2];\n",
    "w = (1/total)*data\n",
    "portfolio_performance_array_reallocate[1,end-1] = transpose(w)*Σ̂*w |> sqrt;"
   ]
  },
  {
   "cell_type": "code",
   "execution_count": 324,
   "id": "71889020",
   "metadata": {},
   "outputs": [
    {
     "name": "stdout",
     "output_type": "stream",
     "text": [
      "┌───────┬───────────┬───────────┬───────────┬───────────┬─────────────┬───────────┐\n",
      "│\u001b[1m   day \u001b[0m│\u001b[1m      AAPL \u001b[0m│\u001b[1m       MRK \u001b[0m│\u001b[1m     GOOGL \u001b[0m│\u001b[1m       AMD \u001b[0m│\u001b[1m risk (sqrt) \u001b[0m│\u001b[1m total USD \u001b[0m│\n",
      "├───────┼───────────┼───────────┼───────────┼───────────┼─────────────┼───────────┤\n",
      "│   1.0 │ 3.28819e6 │ 6.19863e6 │ 1.20528e6 │ 4.28535e5 │    0.178257 │ 1.11206e7 │\n",
      "│   2.0 │ 3.24952e6 │ 6.78565e6 │  860695.0 │ 2.35021e5 │    0.177599 │ 1.11309e7 │\n",
      "│   3.0 │ 2.11516e6 │ 6.91593e6 │ 2.30853e6 │     4.904 │    0.174648 │ 1.13396e7 │\n",
      "│   4.0 │ 3.43986e6 │ 5.97349e6 │ 1.31964e6 │  364672.0 │    0.178442 │ 1.10977e7 │\n",
      "│   5.0 │ 3.17773e6 │ 6.16077e6 │ 1.53087e6 │ 2.77273e5 │    0.177094 │ 1.11466e7 │\n",
      "│   6.0 │ 2.29246e6 │ 6.74901e6 │  2.2445e6 │     7.092 │    0.174694 │  1.1286e7 │\n",
      "│   7.0 │ 2.11105e6 │ 6.90248e6 │ 2.30405e6 │      0.07 │    0.174648 │ 1.13176e7 │\n",
      "│   8.0 │ 2.12523e6 │ 6.94885e6 │ 2.31952e6 │      5.61 │    0.174648 │ 1.13936e7 │\n",
      "│   9.0 │  2.5096e6 │ 6.60655e6 │ 2.16372e6 │    18.116 │    0.174854 │ 1.12799e7 │\n",
      "│  10.0 │ 3.14634e6 │ 5.93217e6 │ 1.90105e6 │ 1.83534e5 │    0.176831 │ 1.11631e7 │\n",
      "│  11.0 │ 2.60547e6 │ 6.42346e6 │ 2.22898e6 │    36.495 │    0.175037 │ 1.12579e7 │\n",
      "│  12.0 │  2.1319e6 │ 6.97069e6 │ 2.32682e6 │     7.375 │    0.174648 │ 1.14294e7 │\n",
      "│  13.0 │ 2.14838e6 │ 7.02455e6 │  2.3448e6 │     4.682 │    0.174648 │ 1.15177e7 │\n",
      "│  14.0 │ 2.12703e6 │ 6.95477e6 │  2.3215e6 │     0.075 │    0.174648 │ 1.14033e7 │\n",
      "│  15.0 │ 2.27758e6 │ 6.76928e6 │   2.292e6 │     0.137 │    0.174689 │ 1.13389e7 │\n",
      "│  16.0 │ 2.37992e6 │ 6.61915e6 │ 2.32162e6 │    24.689 │    0.174783 │ 1.13207e7 │\n",
      "│  17.0 │ 2.44888e6 │ 6.49528e6 │ 2.36087e6 │     7.955 │    0.174898 │  1.1305e7 │\n",
      "│  18.0 │ 2.77767e6 │ 6.12832e6 │ 2.33591e6 │     0.596 │    0.175534 │ 1.12419e7 │\n",
      "│  19.0 │ 2.17507e6 │ 6.88786e6 │ 2.32606e6 │     4.964 │    0.174654 │  1.1389e7 │\n",
      "│  20.0 │ 2.12949e6 │ 6.96242e6 │ 2.32411e6 │     4.628 │    0.174648 │  1.1416e7 │\n",
      "│  21.0 │ 2.13322e6 │ 6.97365e6 │ 2.32815e6 │     4.638 │    0.174648 │  1.1435e7 │\n",
      "│  22.0 │ 2.25559e6 │ 6.77443e6 │ 2.35803e6 │      6.16 │    0.174691 │ 1.13881e7 │\n",
      "│  23.0 │ 2.31814e6 │ 6.69369e6 │  2.3652e6 │    12.641 │    0.174738 │  1.1377e7 │\n",
      "│  24.0 │ 2.17058e6 │ 7.09715e6 │ 2.36903e6 │      4.73 │    0.174648 │ 1.16368e7 │\n",
      "│  25.0 │ 2.14151e6 │  7.0021e6 │  2.3373e6 │     0.074 │    0.174648 │ 1.14809e7 │\n",
      "│  26.0 │ 2.63022e6 │  6.5582e6 │ 2.18039e6 │     1.649 │    0.174985 │ 1.13688e7 │\n",
      "│  27.0 │ 2.17684e6 │ 6.97416e6 │ 2.32384e6 │     4.911 │     0.17465 │ 1.14748e7 │\n",
      "│  28.0 │ 2.15994e6 │ 7.06236e6 │ 2.35742e6 │     0.076 │    0.174648 │ 1.15797e7 │\n",
      "│  29.0 │ 2.14885e6 │ 7.02599e6 │ 2.34527e6 │      4.67 │    0.174648 │ 1.15201e7 │\n",
      "│  30.0 │ 2.15206e6 │  7.0366e6 │ 2.34882e6 │     0.075 │    0.174648 │ 1.15375e7 │\n",
      "│  31.0 │ 2.63176e6 │ 6.58423e6 │ 2.18791e6 │    34.798 │    0.174976 │ 1.14039e7 │\n",
      "│  32.0 │ 2.15323e6 │  7.0403e6 │ 2.35004e6 │     4.686 │    0.174648 │ 1.15436e7 │\n",
      "│  33.0 │ 2.87729e6 │ 6.54755e6 │ 1.96855e6 │    36.781 │    0.175286 │ 1.13934e7 │\n",
      "│  34.0 │ 2.86646e6 │ 6.56958e6 │ 1.96811e6 │    22.889 │     0.17526 │ 1.14042e7 │\n",
      "│  35.0 │ 2.47507e6 │ 6.85727e6 │ 2.15097e6 │    31.632 │    0.174768 │ 1.14833e7 │\n",
      "│  36.0 │ 3.13545e6 │ 6.49904e6 │ 1.61791e6 │ 1.01324e5 │    0.176086 │ 1.13537e7 │\n",
      "│  37.0 │ 3.13995e6 │ 6.45158e6 │ 1.67568e6 │   95341.7 │    0.176073 │ 1.13625e7 │\n",
      "│  38.0 │ 3.85035e6 │ 5.71532e6 │ 1.27553e6 │ 3.29774e5 │    0.179838 │  1.1171e7 │\n",
      "│  39.0 │ 3.91689e6 │  5.5868e6 │  1.2026e6 │  434923.0 │    0.180896 │ 1.11412e7 │\n",
      "│  40.0 │ 3.55871e6 │ 5.72933e6 │ 1.52062e6 │ 4.01355e5 │    0.179179 │   1.121e7 │\n",
      "│  41.0 │ 3.19604e6 │ 6.14291e6 │ 1.89634e6 │ 1.25297e5 │    0.176481 │ 1.13606e7 │\n",
      "│  42.0 │ 2.18085e6 │ 7.13072e6 │ 2.38023e6 │     5.815 │    0.174648 │ 1.16918e7 │\n",
      "│  43.0 │ 2.17106e6 │ 7.09871e6 │ 2.36955e6 │     0.076 │    0.174648 │ 1.16393e7 │\n",
      "│  44.0 │ 2.79919e6 │ 6.55969e6 │ 2.09081e6 │   26918.8 │    0.175225 │ 1.14766e7 │\n",
      "│  45.0 │ 3.23312e6 │ 6.16964e6 │ 1.71853e6 │  229140.0 │    0.176918 │ 1.13504e7 │\n",
      "│  46.0 │ 3.51634e6 │  6.0111e6 │ 1.38246e6 │  3.6565e5 │    0.178517 │ 1.12755e7 │\n",
      "│  47.0 │ 3.82403e6 │ 5.66702e6 │ 1.35948e6 │ 3.66661e5 │    0.179959 │ 1.12172e7 │\n",
      "│  48.0 │ 3.09663e6 │ 6.20139e6 │ 1.88997e6 │  2.1653e5 │     0.17654 │ 1.14045e7 │\n",
      "│  49.0 │ 2.78483e6 │ 6.46529e6 │ 2.14304e6 │  106301.0 │    0.175471 │ 1.14995e7 │\n",
      "│  50.0 │ 2.32933e6 │ 6.93768e6 │ 2.36915e6 │     20.11 │     0.17469 │ 1.16362e7 │\n",
      "│  51.0 │ 2.69931e6 │ 6.16765e6 │ 2.38246e6 │ 1.95349e5 │    0.176011 │ 1.14448e7 │\n",
      "│  52.0 │ 2.57017e6 │ 6.62315e6 │ 2.37785e6 │    7647.1 │    0.174965 │ 1.15788e7 │\n",
      "│  53.0 │ 2.25247e6 │  7.0266e6 │  2.3979e6 │     0.115 │    0.174661 │  1.1677e7 │\n",
      "│  54.0 │ 2.62188e6 │  6.4218e6 │ 2.44079e6 │   60672.0 │      0.1753 │ 1.15451e7 │\n",
      "│  55.0 │ 2.50892e6 │ 6.60589e6 │ 2.49221e6 │   270.072 │    0.174959 │ 1.16073e7 │\n",
      "│  56.0 │ 2.39552e6 │ 6.82597e6 │ 2.43897e6 │     10.32 │    0.174763 │ 1.16605e7 │\n",
      "│  57.0 │ 2.30646e6 │ 7.00168e6 │ 2.39268e6 │     7.057 │    0.174676 │ 1.17008e7 │\n",
      "│  58.0 │ 2.75982e6 │  6.3768e6 │ 2.33896e6 │   90998.0 │    0.175531 │ 1.15666e7 │\n",
      "│  59.0 │ 2.76174e6 │ 6.44559e6 │ 2.33541e6 │   51406.8 │    0.175371 │ 1.15941e7 │\n",
      "│  60.0 │ 2.59295e6 │ 6.74103e6 │ 2.33835e6 │     4.178 │    0.174902 │ 1.16723e7 │\n",
      "│  61.0 │ 2.20266e6 │ 7.20195e6 │ 2.40402e6 │     4.786 │    0.174648 │ 1.18086e7 │\n",
      "│  62.0 │ 2.23984e6 │ 7.32361e6 │ 2.44462e6 │      4.88 │    0.174648 │ 1.20081e7 │\n",
      "│  63.0 │ 2.23955e6 │ 7.32267e6 │ 2.44431e6 │     4.878 │    0.174648 │ 1.20065e7 │\n",
      "│  64.0 │  2.2724e6 │ 7.43009e6 │ 2.48016e6 │      4.95 │    0.174648 │ 1.21827e7 │\n",
      "│  65.0 │ 2.29743e6 │  7.5119e6 │ 2.50747e6 │      5.01 │    0.174648 │ 1.23168e7 │\n",
      "│  66.0 │ 2.28553e6 │ 7.47302e6 │ 2.49449e6 │     0.088 │    0.174648 │  1.2253e7 │\n",
      "│  67.0 │ 2.27605e6 │   7.442e6 │ 2.48414e6 │     0.082 │    0.174648 │ 1.22022e7 │\n",
      "│  68.0 │ 2.28662e6 │ 7.47658e6 │ 2.49568e6 │     10.15 │    0.174648 │ 1.22589e7 │\n",
      "│  69.0 │ 2.33602e6 │ 7.63809e6 │ 2.54959e6 │     5.095 │    0.174648 │ 1.25237e7 │\n",
      "│  70.0 │ 2.33814e6 │ 7.64504e6 │ 2.55191e6 │     5.094 │    0.174648 │ 1.25351e7 │\n",
      "│  71.0 │  2.3218e6 │ 7.59162e6 │ 2.53407e6 │    18.674 │    0.174648 │ 1.24475e7 │\n",
      "│  72.0 │ 2.31628e6 │ 7.57356e6 │ 2.52805e6 │     0.084 │    0.174648 │ 1.24179e7 │\n",
      "│  73.0 │ 2.30924e6 │ 7.55053e6 │ 2.52037e6 │     0.084 │    0.174648 │ 1.23801e7 │\n",
      "│  74.0 │ 2.31222e6 │ 7.56028e6 │ 2.52362e6 │    16.969 │    0.174648 │ 1.23961e7 │\n",
      "│  75.0 │ 2.32336e6 │ 7.59671e6 │ 2.53578e6 │     7.044 │    0.174648 │ 1.24559e7 │\n",
      "│  76.0 │ 2.33369e6 │ 7.63048e6 │ 2.54705e6 │     8.906 │    0.174648 │ 1.25112e7 │\n",
      "│  77.0 │ 2.32732e6 │ 7.60965e6 │  2.5401e6 │     0.087 │    0.174648 │ 1.24771e7 │\n",
      "│  78.0 │ 2.28889e6 │ 7.48401e6 │ 2.49816e6 │    11.996 │    0.174648 │ 1.22711e7 │\n",
      "│  79.0 │ 2.33974e6 │ 7.65027e6 │ 2.55365e6 │    15.938 │    0.174648 │ 1.25437e7 │\n",
      "│  80.0 │ 2.34576e6 │ 7.66997e6 │ 2.56023e6 │    19.608 │    0.174648 │  1.2576e7 │\n",
      "│  81.0 │ 2.35569e6 │ 7.70242e6 │ 2.57106e6 │    18.102 │    0.174648 │ 1.26292e7 │\n",
      "│  82.0 │  2.3637e6 │ 7.72861e6 │ 2.57981e6 │     9.773 │    0.174648 │ 1.26721e7 │\n",
      "│  83.0 │  2.3653e6 │ 7.73383e6 │ 2.58155e6 │      7.24 │    0.174648 │ 1.26807e7 │\n",
      "│  84.0 │ 2.34726e6 │ 7.67486e6 │ 2.56186e6 │    19.389 │    0.174648 │  1.2584e7 │\n",
      "│  85.0 │ 2.37561e6 │ 7.76754e6 │  2.5928e6 │     0.088 │    0.174648 │ 1.27359e7 │\n",
      "│  86.0 │ 2.39412e6 │ 7.82808e6 │ 2.61301e6 │      5.41 │    0.174648 │ 1.28352e7 │\n",
      "│  87.0 │ 2.37606e6 │   7.769e6 │ 2.59329e6 │     5.175 │    0.174648 │ 1.27384e7 │\n",
      "│  88.0 │ 2.40629e6 │ 7.86785e6 │ 2.62629e6 │     5.256 │    0.174648 │ 1.29004e7 │\n",
      "│  89.0 │ 2.42356e6 │ 7.92434e6 │ 2.64514e6 │     5.472 │    0.174648 │ 1.29931e7 │\n",
      "│  90.0 │ 2.41932e6 │ 7.91045e6 │ 2.64051e6 │     5.269 │    0.174648 │ 1.29703e7 │\n",
      "│  91.0 │ 2.40412e6 │ 7.86076e6 │ 2.62392e6 │     0.095 │    0.174648 │ 1.28888e7 │\n",
      "│  92.0 │ 2.41307e6 │ 7.89002e6 │ 2.63369e6 │     0.099 │    0.174648 │ 1.29368e7 │\n",
      "│  93.0 │ 2.40342e6 │ 7.85848e6 │ 2.62316e6 │     5.235 │    0.174648 │ 1.28851e7 │\n",
      "│  94.0 │  2.4079e6 │ 7.87312e6 │ 2.62805e6 │     5.254 │    0.174648 │ 1.29091e7 │\n",
      "│  95.0 │ 2.42709e6 │ 7.93589e6 │   2.649e6 │     5.297 │    0.174648 │  1.3012e7 │\n",
      "│  96.0 │ 2.42101e6 │   7.916e6 │ 2.64236e6 │     5.278 │    0.174648 │ 1.29794e7 │\n",
      "│  97.0 │ 2.38862e6 │ 7.81009e6 │ 2.60701e6 │      0.09 │    0.174648 │ 1.28057e7 │\n",
      "│  98.0 │ 2.38701e6 │ 7.80481e6 │ 2.60525e6 │     0.089 │    0.174648 │ 1.27971e7 │\n",
      "│  99.0 │  2.3837e6 │ 7.79399e6 │ 2.60163e6 │     0.092 │    0.174648 │ 1.27793e7 │\n",
      "│ 100.0 │ 2.37849e6 │ 7.77695e6 │ 2.59595e6 │     0.091 │    0.174648 │ 1.27514e7 │\n",
      "│ 101.0 │ 2.36043e6 │ 7.71791e6 │ 2.57624e6 │     0.089 │    0.174648 │ 1.26546e7 │\n",
      "│ 102.0 │ 2.36776e6 │ 7.74187e6 │ 2.58424e6 │     0.094 │    0.174648 │ 1.26939e7 │\n",
      "│ 103.0 │ 2.38497e6 │ 7.79815e6 │ 2.60302e6 │     5.196 │    0.174648 │ 1.27861e7 │\n",
      "│ 104.0 │ 2.41167e6 │ 7.88545e6 │ 2.63216e6 │      5.26 │    0.174648 │ 1.29293e7 │\n",
      "│ 105.0 │ 2.42126e6 │ 7.91679e6 │ 2.64262e6 │     5.279 │    0.174648 │ 1.29807e7 │\n",
      "│ 106.0 │ 2.38494e6 │ 7.79805e6 │ 2.60299e6 │     0.094 │    0.174648 │  1.2786e7 │\n",
      "│ 107.0 │ 2.34463e6 │ 7.66626e6 │   2.559e6 │     0.083 │    0.174648 │ 1.25699e7 │\n",
      "│ 108.0 │ 2.37251e6 │  7.7574e6 │ 2.58942e6 │     0.092 │    0.174648 │ 1.27193e7 │\n",
      "│ 109.0 │ 2.37894e6 │ 7.77842e6 │ 2.59644e6 │     0.092 │    0.174648 │ 1.27538e7 │\n",
      "│ 110.0 │ 2.38032e6 │ 7.78295e6 │ 2.59795e6 │     0.091 │    0.174648 │ 1.27612e7 │\n",
      "│ 111.0 │ 2.38163e6 │ 7.78721e6 │ 2.59937e6 │     0.093 │    0.174648 │ 1.27682e7 │\n",
      "│ 112.0 │ 2.36499e6 │ 7.73281e6 │ 2.58121e6 │     0.085 │    0.174648 │  1.2679e7 │\n",
      "│ 113.0 │ 2.38528e6 │ 7.79915e6 │ 2.60336e6 │     0.096 │    0.174648 │ 1.27878e7 │\n",
      "│ 114.0 │ 2.37555e6 │ 7.76735e6 │ 2.59274e6 │     0.093 │    0.174648 │ 1.27356e7 │\n",
      "│ 115.0 │ 2.38614e6 │ 7.80198e6 │  2.6043e6 │     0.097 │    0.174648 │ 1.27924e7 │\n",
      "│ 116.0 │ 2.38583e6 │ 7.80097e6 │ 2.60396e6 │     0.094 │    0.174648 │ 1.27908e7 │\n",
      "│ 117.0 │ 2.43717e6 │ 7.96883e6 │    2.66e6 │     5.322 │    0.174648 │  1.3066e7 │\n",
      "│ 118.0 │ 2.44463e6 │ 7.99323e6 │ 2.66814e6 │     5.334 │    0.174648 │  1.3106e7 │\n",
      "│ 119.0 │ 2.40514e6 │  7.8641e6 │ 2.62503e6 │    18.966 │    0.174648 │ 1.28943e7 │\n",
      "│ 120.0 │ 2.41497e6 │ 7.89624e6 │ 2.63576e6 │     5.266 │    0.174648 │  1.2947e7 │\n",
      "│ 121.0 │ 2.41407e6 │ 7.89329e6 │ 2.63478e6 │     5.267 │    0.174648 │ 1.29421e7 │\n",
      "│ 122.0 │ 2.42487e6 │ 7.92859e6 │ 2.64656e6 │     5.291 │    0.174648 │     1.3e7 │\n",
      "│ 123.0 │  2.4619e6 │ 8.04968e6 │ 2.68698e6 │     5.623 │    0.174648 │ 1.31986e7 │\n",
      "│ 124.0 │ 2.44537e6 │ 7.99563e6 │ 2.66894e6 │     5.529 │    0.174648 │ 1.31099e7 │\n",
      "│ 125.0 │ 2.44215e6 │ 7.98512e6 │ 2.66543e6 │     5.332 │    0.174648 │ 1.30927e7 │\n",
      "│ 126.0 │ 2.41106e6 │ 7.88343e6 │ 2.63149e6 │     5.257 │    0.174648 │  1.2926e7 │\n",
      "│ 127.0 │ 2.36968e6 │ 7.74799e6 │  2.5863e6 │     5.149 │    0.174648 │  1.2704e7 │\n",
      "│ 128.0 │ 2.42379e6 │  7.6758e6 │ 2.58131e6 │      5.58 │    0.174653 │ 1.26809e7 │\n",
      "│ 129.0 │ 2.76127e6 │ 7.24198e6 │ 2.59816e6 │    11.048 │    0.174909 │ 1.26014e7 │\n",
      "│ 130.0 │ 2.82838e6 │ 7.10955e6 │ 2.64604e6 │    14.225 │    0.175051 │  1.2584e7 │\n",
      "│ 131.0 │ 2.60821e6 │ 7.31677e6 │ 2.71922e6 │     9.697 │    0.174825 │ 1.26442e7 │\n",
      "│ 132.0 │ 2.41278e6 │ 7.70632e6 │ 2.61657e6 │     5.461 │    0.174652 │ 1.27357e7 │\n",
      "│ 133.0 │ 2.68008e6 │ 7.23639e6 │ 2.71778e6 │    35.227 │    0.174902 │ 1.26343e7 │\n",
      "│ 134.0 │ 2.70886e6 │ 7.21804e6 │ 2.71044e6 │     0.282 │    0.174928 │ 1.26373e7 │\n",
      "│ 135.0 │  2.8228e6 │ 7.11535e6 │ 2.68045e6 │      0.38 │     0.17506 │ 1.26186e7 │\n",
      "│ 136.0 │ 2.63084e6 │ 7.46268e6 │ 2.60299e6 │     0.143 │    0.174752 │ 1.26965e7 │\n",
      "│ 137.0 │ 2.39337e6 │ 7.82547e6 │ 2.61216e6 │     5.006 │    0.174648 │  1.2831e7 │\n",
      "│ 138.0 │ 2.44137e6 │ 7.70784e6 │ 2.61134e6 │     0.094 │    0.174655 │ 1.27605e7 │\n",
      "│ 139.0 │ 2.67012e6 │ 7.36149e6 │ 2.66529e6 │     0.189 │    0.174823 │ 1.26969e7 │\n",
      "│ 140.0 │ 2.39437e6 │ 7.82866e6 │ 2.61327e6 │     5.204 │    0.174648 │ 1.28363e7 │\n",
      "│ 141.0 │ 2.61916e6 │ 7.24451e6 │ 2.82285e6 │    17.288 │    0.174917 │ 1.26865e7 │\n",
      "│ 142.0 │ 2.39969e6 │ 7.84614e6 │ 2.61909e6 │     5.216 │    0.174648 │ 1.28649e7 │\n",
      "│ 143.0 │ 2.40587e6 │ 7.86645e6 │ 2.62583e6 │     5.228 │    0.174648 │ 1.28982e7 │\n",
      "│ 144.0 │ 2.53677e6 │ 7.47065e6 │  2.7562e6 │     0.139 │    0.174756 │ 1.27636e7 │\n",
      "│ 145.0 │ 2.72067e6 │ 7.07428e6 │ 2.89282e6 │      0.15 │    0.175135 │ 1.26878e7 │\n",
      "│ 146.0 │ 2.74917e6 │ 6.95778e6 │ 2.96448e6 │     0.321 │    0.175304 │ 1.26714e7 │\n",
      "│ 147.0 │ 2.70582e6 │ 6.06986e6 │ 3.58206e6 │ 1.25802e5 │    0.177634 │ 1.24835e7 │\n",
      "│ 148.0 │ 2.40835e6 │ 6.62348e6 │  3.5371e6 │   27626.8 │    0.176164 │ 1.25966e7 │\n",
      "│ 149.0 │ 2.45131e6 │ 6.70143e6 │ 3.47221e6 │    36.504 │    0.175936 │  1.2625e7 │\n",
      "│ 150.0 │ 2.48207e6 │ 6.22559e6 │ 3.82742e6 │   2464.45 │    0.177275 │ 1.25375e7 │\n",
      "│ 151.0 │  2.4875e6 │ 6.02749e6 │  3.9675e6 │   21761.7 │    0.177999 │ 1.25043e7 │\n",
      "│ 152.0 │ 2.42239e6 │ 6.52932e6 │ 3.65224e6 │    51.086 │    0.176427 │  1.2604e7 │\n",
      "│ 153.0 │ 2.39473e6 │ 7.36074e6 │ 3.01051e6 │     8.342 │    0.174888 │  1.2766e7 │\n",
      "│ 154.0 │ 2.37391e6 │ 6.87792e6 │ 3.43488e6 │    31.343 │    0.175658 │ 1.26867e7 │\n",
      "│ 155.0 │ 2.36781e6 │ 6.62103e6 │ 3.66197e6 │     0.593 │    0.176294 │ 1.26508e7 │\n",
      "│ 156.0 │ 2.19146e6 │ 6.72934e6 │ 3.74181e6 │    23.432 │    0.176228 │ 1.26626e7 │\n",
      "│ 157.0 │  2.2688e6 │ 6.33546e6 │ 4.01091e6 │    76.731 │    0.177339 │ 1.26153e7 │\n",
      "│ 158.0 │ 2.32187e6 │ 6.71767e6 │ 3.64743e6 │     1.139 │     0.17613 │  1.2687e7 │\n",
      "│ 159.0 │ 2.45665e6 │ 6.00769e6 │ 4.11348e6 │    14.218 │    0.178302 │ 1.25778e7 │\n",
      "│ 160.0 │ 2.41826e6 │ 7.90701e6 │ 2.63936e6 │     0.091 │    0.174648 │ 1.29646e7 │\n",
      "│ 161.0 │ 2.30637e6 │ 6.78167e6 │ 3.63023e6 │     5.216 │    0.176024 │ 1.27183e7 │\n",
      "│ 162.0 │ 2.39681e6 │ 7.20122e6 │ 3.19929e6 │     5.258 │    0.175136 │ 1.27973e7 │\n",
      "│ 163.0 │ 2.44852e6 │ 6.92959e6 │  3.3846e6 │     4.979 │    0.175583 │ 1.27627e7 │\n",
      "│ 164.0 │  2.4203e6 │ 7.91363e6 │  2.6416e6 │     5.263 │    0.174648 │ 1.29755e7 │\n",
      "│ 165.0 │  2.4367e6 │ 7.96729e6 │ 2.65948e6 │     0.093 │    0.174648 │ 1.30635e7 │\n",
      "│ 166.0 │ 2.42171e6 │ 7.91823e6 │ 2.64315e6 │     5.262 │    0.174648 │ 1.29831e7 │\n",
      "│ 167.0 │ 2.43534e6 │ 7.96284e6 │ 2.65799e6 │     0.088 │    0.174648 │ 1.30562e7 │\n",
      "│ 168.0 │ 2.51948e6 │ 7.43572e6 │  2.9373e6 │     0.114 │    0.174854 │ 1.28925e7 │\n",
      "│ 169.0 │ 2.51454e6 │ 6.44584e6 │ 3.74304e6 │    10.705 │    0.176783 │ 1.27034e7 │\n",
      "│ 170.0 │  2.2042e6 │ 6.74218e6 │ 3.79353e6 │    12.117 │    0.176312 │ 1.27399e7 │\n",
      "│ 171.0 │ 2.26854e6 │ 7.24426e6 │ 3.33556e6 │     6.553 │    0.175218 │ 1.28484e7 │\n",
      "│ 172.0 │ 2.29209e6 │ 7.18156e6 │ 3.37304e6 │     5.692 │    0.175307 │ 1.28467e7 │\n",
      "│ 173.0 │ 2.14257e6 │ 6.93528e6 │ 3.71859e6 │     7.418 │    0.175963 │ 1.27964e7 │\n",
      "│ 174.0 │ 1.96535e6 │ 6.66445e6 │ 4.10191e6 │     0.252 │     0.17697 │ 1.27317e7 │\n",
      "│ 175.0 │ 2.09734e6 │ 6.98024e6 │ 3.73967e6 │      8.31 │    0.175949 │ 1.28173e7 │\n",
      "│ 176.0 │ 1.99345e6 │ 6.62298e6 │ 4.12673e6 │     3.964 │     0.17708 │ 1.27432e7 │\n",
      "│ 177.0 │ 2.17836e6 │ 6.87145e6 │ 3.76987e6 │     0.042 │    0.176121 │ 1.28197e7 │\n",
      "│ 178.0 │ 2.21959e6 │ 6.70681e6 │ 3.87277e6 │    13.101 │    0.176507 │ 1.27992e7 │\n",
      "│ 179.0 │ 1.99573e6 │  5.7945e6 │ 4.84082e6 │     4.797 │    0.180534 │ 1.26311e7 │\n",
      "│ 180.0 │  1.9561e6 │ 4.68575e6 │  5.8207e6 │     1.588 │    0.187697 │ 1.24626e7 │\n",
      "│ 181.0 │ 2.15321e6 │ 4.44802e6 │ 5.84539e6 │     1.538 │    0.188873 │ 1.24466e7 │\n",
      "│ 182.0 │ 2.31706e6 │ 4.53264e6 │ 5.63049e6 │     1.825 │    0.187717 │ 1.24802e7 │\n",
      "│ 183.0 │ 1.87068e6 │ 3.49076e6 │ 6.93597e6 │     1.457 │    0.198793 │ 1.22974e7 │\n",
      "│ 184.0 │ 1.55106e6 │ 3.84034e6 │ 6.94789e6 │     2.956 │    0.196926 │ 1.23393e7 │\n",
      "│ 185.0 │ 1.47884e6 │ 4.43192e6 │ 6.53837e6 │    35.287 │    0.191978 │ 1.24492e7 │\n",
      "│ 186.0 │ 1.78215e6 │  3.5635e6 │ 6.95886e6 │   20146.0 │    0.198518 │ 1.23247e7 │\n",
      "│ 187.0 │ 1.99904e6 │ 4.33448e6 │ 6.17982e6 │     8.393 │    0.190713 │ 1.25134e7 │\n",
      "│ 188.0 │ 1.99615e6 │ 3.65457e6 │ 6.73398e6 │     0.028 │    0.196789 │ 1.23847e7 │\n",
      "│ 189.0 │ 1.94309e6 │ 4.44642e6 │ 6.16702e6 │    11.822 │    0.190118 │ 1.25565e7 │\n",
      "│ 190.0 │  2.0133e6 │ 4.71825e6 │ 5.89346e6 │    12.107 │    0.187807 │  1.2625e7 │\n",
      "│ 191.0 │  2.1678e6 │ 5.34227e6 │ 5.26691e6 │    14.438 │    0.183231 │  1.2777e7 │\n",
      "│ 192.0 │ 2.24569e6 │ 5.67225e6 │ 4.94139e6 │     17.99 │    0.181234 │ 1.28593e7 │\n",
      "│ 193.0 │ 2.24316e6 │ 5.30108e6 │ 5.24633e6 │    88.361 │    0.183326 │ 1.27907e7 │\n",
      "│ 194.0 │ 2.26118e6 │ 5.73016e6 │ 4.90397e6 │    26.107 │    0.180971 │ 1.28953e7 │\n",
      "│ 195.0 │ 2.41432e6 │ 5.45365e6 │ 4.99087e6 │    13.287 │    0.182114 │ 1.28589e7 │\n",
      "│ 196.0 │ 2.30911e6 │ 5.14152e6 │ 5.34765e6 │     6.067 │    0.184241 │ 1.27983e7 │\n",
      "│ 197.0 │ 2.18639e6 │ 5.51481e6 │ 5.16938e6 │     7.184 │    0.182373 │ 1.28706e7 │\n",
      "│ 198.0 │ 1.99753e6 │ 5.59721e6 │ 5.28145e6 │     6.619 │    0.182444 │ 1.28762e7 │\n",
      "│ 199.0 │ 2.02754e6 │ 4.59381e6 │  6.0564e6 │    12.635 │    0.188967 │ 1.26778e7 │\n",
      "│ 200.0 │ 2.11019e6 │ 4.13971e6 │ 6.34397e6 │    14.293 │    0.192327 │ 1.25939e7 │\n",
      "│ 201.0 │   1.631e6 │ 4.13418e6 │ 6.79099e6 │     4.169 │    0.194417 │ 1.25562e7 │\n",
      "│ 202.0 │ 1.54339e6 │  4.5339e6 │ 6.55248e6 │     3.484 │    0.191429 │ 1.26298e7 │\n",
      "│ 203.0 │ 1.57855e6 │ 4.97525e6 │ 6.17674e6 │     3.319 │    0.187933 │ 1.27305e7 │\n",
      "│ 204.0 │ 2.62932e6 │  155701.0 │    12.151 │ 1.26206e6 │    0.089995 │  4.0471e6 │\n",
      "│ 205.0 │ 8.55595e5 │   50665.9 │     3.954 │ 4.10681e5 │    0.089995 │ 1.31695e6 │\n",
      "│ 206.0 │ 2.88784e5 │   17101.0 │     1.335 │ 1.38615e5 │    0.089995 │ 4.44501e5 │\n",
      "│ 207.0 │   96871.8 │   5736.47 │     0.448 │   46497.9 │    0.089995 │ 1.49107e5 │\n",
      "│ 208.0 │   32567.2 │   1928.54 │     0.151 │   15632.1 │    0.089995 │   50128.0 │\n",
      "│ 209.0 │   14245.9 │   1960.98 │   28619.9 │   7428.24 │    0.234072 │   52255.1 │\n",
      "│ 210.0 │   18603.3 │   4344.79 │   25125.1 │   4697.55 │     0.22157 │   52770.8 │\n",
      "│ 211.0 │   12561.7 │   9563.35 │   24775.8 │   6305.84 │    0.211934 │   53206.7 │\n",
      "│ 212.0 │   14076.3 │   11828.1 │   23234.8 │   4532.36 │    0.203625 │   53671.6 │\n",
      "│ 213.0 │   15540.5 │   13778.8 │   20789.5 │    3925.0 │    0.198335 │   54033.8 │\n",
      "│ 214.0 │   15327.8 │   15353.1 │   20389.4 │   3250.95 │    0.194668 │   54321.2 │\n",
      "│ 215.0 │   17785.2 │   11295.3 │   20504.9 │   4148.17 │    0.203527 │   53733.6 │\n",
      "│ 216.0 │   16945.5 │   15713.7 │   18381.9 │   3528.76 │    0.194182 │   54569.8 │\n",
      "│ 217.0 │   16592.3 │   14916.4 │   19214.9 │   3745.33 │    0.195895 │   54468.9 │\n",
      "│ 218.0 │   16167.6 │   17582.6 │   17962.5 │   3271.19 │    0.190828 │   54983.9 │\n",
      "│ 219.0 │   16505.5 │   16963.9 │   19051.8 │   2453.83 │    0.191181 │   54975.1 │\n",
      "│ 220.0 │   15112.8 │   20093.6 │   18533.6 │   1856.38 │    0.186084 │   55596.4 │\n",
      "│ 221.0 │   16169.9 │   18692.6 │   17924.4 │   2553.64 │    0.188535 │   55340.5 │\n",
      "│ 222.0 │   15708.5 │   21009.5 │   17025.0 │   2062.15 │    0.184948 │   55805.2 │\n",
      "│ 223.0 │   15644.3 │   19995.2 │   18418.2 │   1634.57 │    0.186108 │   55692.3 │\n",
      "│ 224.0 │   14708.8 │   21051.4 │   18279.6 │   1854.12 │    0.184878 │   55893.9 │\n",
      "│ 225.0 │   15256.3 │   19386.2 │   18339.3 │    2607.8 │    0.187672 │   55589.6 │\n",
      "│ 226.0 │   15525.5 │   18550.6 │   18501.0 │   2884.11 │    0.189146 │   55461.1 │\n",
      "│ 227.0 │   15932.2 │   17694.6 │   19247.2 │   2500.44 │    0.190203 │   55374.5 │\n",
      "│ 228.0 │   16280.0 │   17153.6 │   17911.7 │   3838.51 │    0.192252 │   55183.8 │\n",
      "│ 229.0 │   18898.9 │   16358.0 │   15771.2 │   4024.74 │    0.194028 │   55052.8 │\n",
      "│ 230.0 │   19596.8 │   17858.2 │   13912.7 │   3897.85 │    0.191791 │   55265.5 │\n",
      "└───────┴───────────┴───────────┴───────────┴───────────┴─────────────┴───────────┘\n"
     ]
    }
   ],
   "source": [
    "reallocate_table_data = Array{Float64,2}(undef, number_of_trading_days, length(w)+3)\n",
    "for i ∈ 1:number_of_trading_days\n",
    "    reallocate_table_data[i,1] = i\n",
    "    for j ∈ eachindex(my_list_of_tickers)\n",
    "        reallocate_table_data[i,1+j] = portfolio_performance_array_reallocate[i,j];\n",
    "    end\n",
    "    reallocate_table_data[i,end-1] = portfolio_performance_array_reallocate[i,end-1]\n",
    "    reallocate_table_data[i,end] = portfolio_performance_array_reallocate[i,end]\n",
    "end\n",
    "\n",
    "pretty_table(reallocate_table_data, header=[\"day\",my_list_of_tickers...,\"risk (sqrt)\",\"total USD\"])"
   ]
  },
  {
   "cell_type": "code",
   "execution_count": 325,
   "id": "c253678c",
   "metadata": {},
   "outputs": [
    {
     "data": {
      "image/png": "[encoded data removed]",
      "image/svg+xml": [
       "<?xml version=\"1.0\" encoding=\"utf-8\"?>\n",
       "<svg xmlns=\"http://www.w3.org/2000/svg\" xmlns:xlink=\"http://www.w3.org/1999/xlink\" width=\"600\" height=\"400\" viewBox=\"0 0 2400 1600\">\n",
       "<defs>\n",
       "  <clipPath id=\"clip880\">\n",
       "    <rect x=\"0\" y=\"0\" width=\"2400\" height=\"1600\"/>\n",
       "  </clipPath>\n",
       "</defs>\n",
       "<path clip-path=\"url(#clip880)\" d=\"M0 1600 L2400 1600 L2400 0 L0 0  Z\" fill=\"#ffffff\" fill-rule=\"evenodd\" fill-opacity=\"1\"/>\n",
       "<defs>\n",
       "  <clipPath id=\"clip881\">\n",
       "    <rect x=\"480\" y=\"0\" width=\"1681\" height=\"1600\"/>\n",
       "  </clipPath>\n",
       "</defs>\n",
       "<path clip-path=\"url(#clip880)\" d=\"M219.38 1423.18 L2352.76 1423.18 L2352.76 47.2441 L219.38 47.2441  Z\" fill=\"#ffffff\" fill-rule=\"evenodd\" fill-opacity=\"1\"/>\n",
       "<defs>\n",
       "  <clipPath id=\"clip882\">\n",
       "    <rect x=\"219\" y=\"47\" width=\"2134\" height=\"1377\"/>\n",
       "  </clipPath>\n",
       "</defs>\n",
       "<polyline clip-path=\"url(#clip882)\" style=\"stroke:#000000; stroke-linecap:round; stroke-linejoin:round; stroke-width:2; stroke-opacity:0.1; fill:none\" points=\"270.97,1423.18 270.97,47.2441 \"/>\n",
       "<polyline clip-path=\"url(#clip882)\" style=\"stroke:#000000; stroke-linecap:round; stroke-linejoin:round; stroke-width:2; stroke-opacity:0.1; fill:none\" points=\"710.406,1423.18 710.406,47.2441 \"/>\n",
       "<polyline clip-path=\"url(#clip882)\" style=\"stroke:#000000; stroke-linecap:round; stroke-linejoin:round; stroke-width:2; stroke-opacity:0.1; fill:none\" points=\"1149.84,1423.18 1149.84,47.2441 \"/>\n",
       "<polyline clip-path=\"url(#clip882)\" style=\"stroke:#000000; stroke-linecap:round; stroke-linejoin:round; stroke-width:2; stroke-opacity:0.1; fill:none\" points=\"1589.28,1423.18 1589.28,47.2441 \"/>\n",
       "<polyline clip-path=\"url(#clip882)\" style=\"stroke:#000000; stroke-linecap:round; stroke-linejoin:round; stroke-width:2; stroke-opacity:0.1; fill:none\" points=\"2028.72,1423.18 2028.72,47.2441 \"/>\n",
       "<polyline clip-path=\"url(#clip880)\" style=\"stroke:#000000; stroke-linecap:round; stroke-linejoin:round; stroke-width:4; stroke-opacity:1; fill:none\" points=\"219.38,1423.18 2352.76,1423.18 \"/>\n",
       "<polyline clip-path=\"url(#clip880)\" style=\"stroke:#000000; stroke-linecap:round; stroke-linejoin:round; stroke-width:4; stroke-opacity:1; fill:none\" points=\"270.97,1423.18 270.97,1404.28 \"/>\n",
       "<polyline clip-path=\"url(#clip880)\" style=\"stroke:#000000; stroke-linecap:round; stroke-linejoin:round; stroke-width:4; stroke-opacity:1; fill:none\" points=\"710.406,1423.18 710.406,1404.28 \"/>\n",
       "<polyline clip-path=\"url(#clip880)\" style=\"stroke:#000000; stroke-linecap:round; stroke-linejoin:round; stroke-width:4; stroke-opacity:1; fill:none\" points=\"1149.84,1423.18 1149.84,1404.28 \"/>\n",
       "<polyline clip-path=\"url(#clip880)\" style=\"stroke:#000000; stroke-linecap:round; stroke-linejoin:round; stroke-width:4; stroke-opacity:1; fill:none\" points=\"1589.28,1423.18 1589.28,1404.28 \"/>\n",
       "<polyline clip-path=\"url(#clip880)\" style=\"stroke:#000000; stroke-linecap:round; stroke-linejoin:round; stroke-width:4; stroke-opacity:1; fill:none\" points=\"2028.72,1423.18 2028.72,1404.28 \"/>\n",
       "<path clip-path=\"url(#clip880)\" d=\"M270.97 1454.1 Q267.359 1454.1 265.53 1457.66 Q263.725 1461.2 263.725 1468.33 Q263.725 1475.44 265.53 1479.01 Q267.359 1482.55 270.97 1482.55 Q274.604 1482.55 276.41 1479.01 Q278.238 1475.44 278.238 1468.33 Q278.238 1461.2 276.41 1457.66 Q274.604 1454.1 270.97 1454.1 M270.97 1450.39 Q276.78 1450.39 279.836 1455 Q282.914 1459.58 282.914 1468.33 Q282.914 1477.06 279.836 1481.67 Q276.78 1486.25 270.97 1486.25 Q265.16 1486.25 262.081 1481.67 Q259.026 1477.06 259.026 1468.33 Q259.026 1459.58 262.081 1455 Q265.16 1450.39 270.97 1450.39 Z\" fill=\"#000000\" fill-rule=\"nonzero\" fill-opacity=\"1\" /><path clip-path=\"url(#clip880)\" d=\"M685.106 1451.02 L703.462 1451.02 L703.462 1454.96 L689.388 1454.96 L689.388 1463.43 Q690.406 1463.08 691.425 1462.92 Q692.444 1462.73 693.462 1462.73 Q699.249 1462.73 702.629 1465.9 Q706.008 1469.08 706.008 1474.49 Q706.008 1480.07 702.536 1483.17 Q699.064 1486.25 692.744 1486.25 Q690.569 1486.25 688.3 1485.88 Q686.055 1485.51 683.647 1484.77 L683.647 1480.07 Q685.731 1481.2 687.953 1481.76 Q690.175 1482.32 692.652 1482.32 Q696.656 1482.32 698.994 1480.21 Q701.332 1478.1 701.332 1474.49 Q701.332 1470.88 698.994 1468.77 Q696.656 1466.67 692.652 1466.67 Q690.777 1466.67 688.902 1467.08 Q687.05 1467.5 685.106 1468.38 L685.106 1451.02 Z\" fill=\"#000000\" fill-rule=\"nonzero\" fill-opacity=\"1\" /><path clip-path=\"url(#clip880)\" d=\"M725.221 1454.1 Q721.61 1454.1 719.781 1457.66 Q717.976 1461.2 717.976 1468.33 Q717.976 1475.44 719.781 1479.01 Q721.61 1482.55 725.221 1482.55 Q728.855 1482.55 730.661 1479.01 Q732.49 1475.44 732.49 1468.33 Q732.49 1461.2 730.661 1457.66 Q728.855 1454.1 725.221 1454.1 M725.221 1450.39 Q731.031 1450.39 734.087 1455 Q737.165 1459.58 737.165 1468.33 Q737.165 1477.06 734.087 1481.67 Q731.031 1486.25 725.221 1486.25 Q719.411 1486.25 716.332 1481.67 Q713.277 1477.06 713.277 1468.33 Q713.277 1459.58 716.332 1455 Q719.411 1450.39 725.221 1450.39 Z\" fill=\"#000000\" fill-rule=\"nonzero\" fill-opacity=\"1\" /><path clip-path=\"url(#clip880)\" d=\"M1109.45 1481.64 L1117.09 1481.64 L1117.09 1455.28 L1108.78 1456.95 L1108.78 1452.69 L1117.04 1451.02 L1121.72 1451.02 L1121.72 1481.64 L1129.36 1481.64 L1129.36 1485.58 L1109.45 1485.58 L1109.45 1481.64 Z\" fill=\"#000000\" fill-rule=\"nonzero\" fill-opacity=\"1\" /><path clip-path=\"url(#clip880)\" d=\"M1148.8 1454.1 Q1145.19 1454.1 1143.36 1457.66 Q1141.56 1461.2 1141.56 1468.33 Q1141.56 1475.44 1143.36 1479.01 Q1145.19 1482.55 1148.8 1482.55 Q1152.44 1482.55 1154.24 1479.01 Q1156.07 1475.44 1156.07 1468.33 Q1156.07 1461.2 1154.24 1457.66 Q1152.44 1454.1 1148.8 1454.1 M1148.8 1450.39 Q1154.61 1450.39 1157.67 1455 Q1160.75 1459.58 1160.75 1468.33 Q1160.75 1477.06 1157.67 1481.67 Q1154.61 1486.25 1148.8 1486.25 Q1142.99 1486.25 1139.91 1481.67 Q1136.86 1477.06 1136.86 1468.33 Q1136.86 1459.58 1139.91 1455 Q1142.99 1450.39 1148.8 1450.39 Z\" fill=\"#000000\" fill-rule=\"nonzero\" fill-opacity=\"1\" /><path clip-path=\"url(#clip880)\" d=\"M1178.96 1454.1 Q1175.35 1454.1 1173.52 1457.66 Q1171.72 1461.2 1171.72 1468.33 Q1171.72 1475.44 1173.52 1479.01 Q1175.35 1482.55 1178.96 1482.55 Q1182.6 1482.55 1184.4 1479.01 Q1186.23 1475.44 1186.23 1468.33 Q1186.23 1461.2 1184.4 1457.66 Q1182.6 1454.1 1178.96 1454.1 M1178.96 1450.39 Q1184.77 1450.39 1187.83 1455 Q1190.91 1459.58 1190.91 1468.33 Q1190.91 1477.06 1187.83 1481.67 Q1184.77 1486.25 1178.96 1486.25 Q1173.15 1486.25 1170.07 1481.67 Q1167.02 1477.06 1167.02 1468.33 Q1167.02 1459.58 1170.07 1455 Q1173.15 1450.39 1178.96 1450.39 Z\" fill=\"#000000\" fill-rule=\"nonzero\" fill-opacity=\"1\" /><path clip-path=\"url(#clip880)\" d=\"M1548.89 1481.64 L1556.52 1481.64 L1556.52 1455.28 L1548.21 1456.95 L1548.21 1452.69 L1556.48 1451.02 L1561.15 1451.02 L1561.15 1481.64 L1568.79 1481.64 L1568.79 1485.58 L1548.89 1485.58 L1548.89 1481.64 Z\" fill=\"#000000\" fill-rule=\"nonzero\" fill-opacity=\"1\" /><path clip-path=\"url(#clip880)\" d=\"M1578.28 1451.02 L1596.64 1451.02 L1596.64 1454.96 L1582.57 1454.96 L1582.57 1463.43 Q1583.58 1463.08 1584.6 1462.92 Q1585.62 1462.73 1586.64 1462.73 Q1592.43 1462.73 1595.81 1465.9 Q1599.19 1469.08 1599.19 1474.49 Q1599.19 1480.07 1595.71 1483.17 Q1592.24 1486.25 1585.92 1486.25 Q1583.75 1486.25 1581.48 1485.88 Q1579.23 1485.51 1576.83 1484.77 L1576.83 1480.07 Q1578.91 1481.2 1581.13 1481.76 Q1583.35 1482.32 1585.83 1482.32 Q1589.83 1482.32 1592.17 1480.21 Q1594.51 1478.1 1594.51 1474.49 Q1594.51 1470.88 1592.17 1468.77 Q1589.83 1466.67 1585.83 1466.67 Q1583.96 1466.67 1582.08 1467.08 Q1580.23 1467.5 1578.28 1468.38 L1578.28 1451.02 Z\" fill=\"#000000\" fill-rule=\"nonzero\" fill-opacity=\"1\" /><path clip-path=\"url(#clip880)\" d=\"M1618.4 1454.1 Q1614.79 1454.1 1612.96 1457.66 Q1611.15 1461.2 1611.15 1468.33 Q1611.15 1475.44 1612.96 1479.01 Q1614.79 1482.55 1618.4 1482.55 Q1622.03 1482.55 1623.84 1479.01 Q1625.67 1475.44 1625.67 1468.33 Q1625.67 1461.2 1623.84 1457.66 Q1622.03 1454.1 1618.4 1454.1 M1618.4 1450.39 Q1624.21 1450.39 1627.27 1455 Q1630.34 1459.58 1630.34 1468.33 Q1630.34 1477.06 1627.27 1481.67 Q1624.21 1486.25 1618.4 1486.25 Q1612.59 1486.25 1609.51 1481.67 Q1606.45 1477.06 1606.45 1468.33 Q1606.45 1459.58 1609.51 1455 Q1612.59 1450.39 1618.4 1450.39 Z\" fill=\"#000000\" fill-rule=\"nonzero\" fill-opacity=\"1\" /><path clip-path=\"url(#clip880)\" d=\"M1992.41 1481.64 L2008.73 1481.64 L2008.73 1485.58 L1986.78 1485.58 L1986.78 1481.64 Q1989.44 1478.89 1994.03 1474.26 Q1998.63 1469.61 1999.82 1468.27 Q2002.06 1465.74 2002.94 1464.01 Q2003.84 1462.25 2003.84 1460.56 Q2003.84 1457.8 2001.9 1456.07 Q1999.98 1454.33 1996.88 1454.33 Q1994.68 1454.33 1992.22 1455.09 Q1989.79 1455.86 1987.01 1457.41 L1987.01 1452.69 Q1989.84 1451.55 1992.29 1450.97 Q1994.75 1450.39 1996.78 1450.39 Q2002.15 1450.39 2005.35 1453.08 Q2008.54 1455.77 2008.54 1460.26 Q2008.54 1462.39 2007.73 1464.31 Q2006.94 1466.2 2004.84 1468.8 Q2004.26 1469.47 2001.16 1472.69 Q1998.06 1475.88 1992.41 1481.64 Z\" fill=\"#000000\" fill-rule=\"nonzero\" fill-opacity=\"1\" /><path clip-path=\"url(#clip880)\" d=\"M2028.54 1454.1 Q2024.93 1454.1 2023.1 1457.66 Q2021.3 1461.2 2021.3 1468.33 Q2021.3 1475.44 2023.1 1479.01 Q2024.93 1482.55 2028.54 1482.55 Q2032.18 1482.55 2033.98 1479.01 Q2035.81 1475.44 2035.81 1468.33 Q2035.81 1461.2 2033.98 1457.66 Q2032.18 1454.1 2028.54 1454.1 M2028.54 1450.39 Q2034.35 1450.39 2037.41 1455 Q2040.49 1459.58 2040.49 1468.33 Q2040.49 1477.06 2037.41 1481.67 Q2034.35 1486.25 2028.54 1486.25 Q2022.73 1486.25 2019.65 1481.67 Q2016.6 1477.06 2016.6 1468.33 Q2016.6 1459.58 2019.65 1455 Q2022.73 1450.39 2028.54 1450.39 Z\" fill=\"#000000\" fill-rule=\"nonzero\" fill-opacity=\"1\" /><path clip-path=\"url(#clip880)\" d=\"M2058.7 1454.1 Q2055.09 1454.1 2053.26 1457.66 Q2051.46 1461.2 2051.46 1468.33 Q2051.46 1475.44 2053.26 1479.01 Q2055.09 1482.55 2058.7 1482.55 Q2062.34 1482.55 2064.14 1479.01 Q2065.97 1475.44 2065.97 1468.33 Q2065.97 1461.2 2064.14 1457.66 Q2062.34 1454.1 2058.7 1454.1 M2058.7 1450.39 Q2064.51 1450.39 2067.57 1455 Q2070.65 1459.58 2070.65 1468.33 Q2070.65 1477.06 2067.57 1481.67 Q2064.51 1486.25 2058.7 1486.25 Q2052.89 1486.25 2049.81 1481.67 Q2046.76 1477.06 2046.76 1468.33 Q2046.76 1459.58 2049.81 1455 Q2052.89 1450.39 2058.7 1450.39 Z\" fill=\"#000000\" fill-rule=\"nonzero\" fill-opacity=\"1\" /><path clip-path=\"url(#clip880)\" d=\"M875.655 1520.52 L915.854 1520.52 L915.854 1525.93 L898.985 1525.93 L898.985 1568.04 L892.524 1568.04 L892.524 1525.93 L875.655 1525.93 L875.655 1520.52 Z\" fill=\"#000000\" fill-rule=\"nonzero\" fill-opacity=\"1\" /><path clip-path=\"url(#clip880)\" d=\"M932.883 1537.87 Q931.896 1537.3 930.718 1537.04 Q929.573 1536.76 928.172 1536.76 Q923.207 1536.76 920.533 1540 Q917.891 1543.22 917.891 1549.27 L917.891 1568.04 L912.003 1568.04 L912.003 1532.4 L917.891 1532.4 L917.891 1537.93 Q919.738 1534.69 922.698 1533.13 Q925.658 1531.54 929.891 1531.54 Q930.496 1531.54 931.228 1531.63 Q931.96 1531.7 932.851 1531.85 L932.883 1537.87 Z\" fill=\"#000000\" fill-rule=\"nonzero\" fill-opacity=\"1\" /><path clip-path=\"url(#clip880)\" d=\"M955.226 1550.12 Q948.129 1550.12 945.391 1551.75 Q942.654 1553.37 942.654 1557.29 Q942.654 1560.4 944.691 1562.25 Q946.76 1564.07 950.293 1564.07 Q955.163 1564.07 958.091 1560.63 Q961.051 1557.16 961.051 1551.43 L961.051 1550.12 L955.226 1550.12 M966.907 1547.71 L966.907 1568.04 L961.051 1568.04 L961.051 1562.63 Q959.046 1565.88 956.054 1567.44 Q953.062 1568.97 948.733 1568.97 Q943.259 1568.97 940.012 1565.91 Q936.798 1562.82 936.798 1557.67 Q936.798 1551.65 940.808 1548.6 Q944.85 1545.54 952.839 1545.54 L961.051 1545.54 L961.051 1544.97 Q961.051 1540.93 958.377 1538.73 Q955.736 1536.5 950.929 1536.5 Q947.874 1536.5 944.978 1537.23 Q942.081 1537.97 939.408 1539.43 L939.408 1534.02 Q942.622 1532.78 945.646 1532.17 Q948.67 1531.54 951.534 1531.54 Q959.269 1531.54 963.088 1535.55 Q966.907 1539.56 966.907 1547.71 Z\" fill=\"#000000\" fill-rule=\"nonzero\" fill-opacity=\"1\" /><path clip-path=\"url(#clip880)\" d=\"M1002.43 1537.81 L1002.43 1518.52 L1008.28 1518.52 L1008.28 1568.04 L1002.43 1568.04 L1002.43 1562.7 Q1000.58 1565.88 997.749 1567.44 Q994.948 1568.97 991.002 1568.97 Q984.54 1568.97 980.466 1563.81 Q976.424 1558.65 976.424 1550.25 Q976.424 1541.85 980.466 1536.69 Q984.54 1531.54 991.002 1531.54 Q994.948 1531.54 997.749 1533.1 Q1000.58 1534.62 1002.43 1537.81 M982.472 1550.25 Q982.472 1556.71 985.113 1560.4 Q987.787 1564.07 992.434 1564.07 Q997.081 1564.07 999.754 1560.4 Q1002.43 1556.71 1002.43 1550.25 Q1002.43 1543.79 999.754 1540.13 Q997.081 1536.44 992.434 1536.44 Q987.787 1536.44 985.113 1540.13 Q982.472 1543.79 982.472 1550.25 Z\" fill=\"#000000\" fill-rule=\"nonzero\" fill-opacity=\"1\" /><path clip-path=\"url(#clip880)\" d=\"M1020.35 1532.4 L1026.2 1532.4 L1026.2 1568.04 L1020.35 1568.04 L1020.35 1532.4 M1020.35 1518.52 L1026.2 1518.52 L1026.2 1525.93 L1020.35 1525.93 L1020.35 1518.52 Z\" fill=\"#000000\" fill-rule=\"nonzero\" fill-opacity=\"1\" /><path clip-path=\"url(#clip880)\" d=\"M1068.09 1546.53 L1068.09 1568.04 L1062.23 1568.04 L1062.23 1546.72 Q1062.23 1541.66 1060.26 1539.14 Q1058.29 1536.63 1054.34 1536.63 Q1049.6 1536.63 1046.86 1539.65 Q1044.12 1542.68 1044.12 1547.9 L1044.12 1568.04 L1038.24 1568.04 L1038.24 1532.4 L1044.12 1532.4 L1044.12 1537.93 Q1046.22 1534.72 1049.06 1533.13 Q1051.92 1531.54 1055.65 1531.54 Q1061.79 1531.54 1064.94 1535.36 Q1068.09 1539.14 1068.09 1546.53 Z\" fill=\"#000000\" fill-rule=\"nonzero\" fill-opacity=\"1\" /><path clip-path=\"url(#clip880)\" d=\"M1103.23 1549.81 Q1103.23 1543.44 1100.59 1539.94 Q1097.98 1536.44 1093.23 1536.44 Q1088.52 1536.44 1085.88 1539.94 Q1083.27 1543.44 1083.27 1549.81 Q1083.27 1556.14 1085.88 1559.64 Q1088.52 1563.14 1093.23 1563.14 Q1097.98 1563.14 1100.59 1559.64 Q1103.23 1556.14 1103.23 1549.81 M1109.09 1563.62 Q1109.09 1572.72 1105.04 1577.15 Q1101 1581.6 1092.66 1581.6 Q1089.57 1581.6 1086.84 1581.13 Q1084.1 1580.68 1081.52 1579.72 L1081.52 1574.03 Q1084.1 1575.43 1086.61 1576.1 Q1089.13 1576.76 1091.74 1576.76 Q1097.5 1576.76 1100.36 1573.74 Q1103.23 1570.75 1103.23 1564.67 L1103.23 1561.77 Q1101.41 1564.92 1098.58 1566.48 Q1095.75 1568.04 1091.8 1568.04 Q1085.25 1568.04 1081.24 1563.05 Q1077.23 1558.05 1077.23 1549.81 Q1077.23 1541.53 1081.24 1536.53 Q1085.25 1531.54 1091.8 1531.54 Q1095.75 1531.54 1098.58 1533.1 Q1101.41 1534.66 1103.23 1537.81 L1103.23 1532.4 L1109.09 1532.4 L1109.09 1563.62 Z\" fill=\"#000000\" fill-rule=\"nonzero\" fill-opacity=\"1\" /><path clip-path=\"url(#clip880)\" d=\"M1148.55 1525.81 L1148.55 1562.76 L1156.32 1562.76 Q1166.15 1562.76 1170.71 1558.3 Q1175.29 1553.85 1175.29 1544.24 Q1175.29 1534.69 1170.71 1530.26 Q1166.15 1525.81 1156.32 1525.81 L1148.55 1525.81 M1142.12 1520.52 L1155.33 1520.52 Q1169.15 1520.52 1175.61 1526.28 Q1182.07 1532.01 1182.07 1544.24 Q1182.07 1556.52 1175.58 1562.28 Q1169.08 1568.04 1155.33 1568.04 L1142.12 1568.04 L1142.12 1520.52 Z\" fill=\"#000000\" fill-rule=\"nonzero\" fill-opacity=\"1\" /><path clip-path=\"url(#clip880)\" d=\"M1208.26 1550.12 Q1201.17 1550.12 1198.43 1551.75 Q1195.69 1553.37 1195.69 1557.29 Q1195.69 1560.4 1197.73 1562.25 Q1199.8 1564.07 1203.33 1564.07 Q1208.2 1564.07 1211.13 1560.63 Q1214.09 1557.16 1214.09 1551.43 L1214.09 1550.12 L1208.26 1550.12 M1219.94 1547.71 L1219.94 1568.04 L1214.09 1568.04 L1214.09 1562.63 Q1212.08 1565.88 1209.09 1567.44 Q1206.1 1568.97 1201.77 1568.97 Q1196.3 1568.97 1193.05 1565.91 Q1189.83 1562.82 1189.83 1557.67 Q1189.83 1551.65 1193.84 1548.6 Q1197.89 1545.54 1205.88 1545.54 L1214.09 1545.54 L1214.09 1544.97 Q1214.09 1540.93 1211.41 1538.73 Q1208.77 1536.5 1203.97 1536.5 Q1200.91 1536.5 1198.01 1537.23 Q1195.12 1537.97 1192.44 1539.43 L1192.44 1534.02 Q1195.66 1532.78 1198.68 1532.17 Q1201.71 1531.54 1204.57 1531.54 Q1212.31 1531.54 1216.12 1535.55 Q1219.94 1539.56 1219.94 1547.71 Z\" fill=\"#000000\" fill-rule=\"nonzero\" fill-opacity=\"1\" /><path clip-path=\"url(#clip880)\" d=\"M1246.84 1571.35 Q1244.36 1577.72 1242 1579.66 Q1239.65 1581.6 1235.7 1581.6 L1231.02 1581.6 L1231.02 1576.7 L1234.46 1576.7 Q1236.88 1576.7 1238.21 1575.56 Q1239.55 1574.41 1241.17 1570.14 L1242.22 1567.47 L1227.81 1532.4 L1234.01 1532.4 L1245.15 1560.28 L1256.29 1532.4 L1262.5 1532.4 L1246.84 1571.35 Z\" fill=\"#000000\" fill-rule=\"nonzero\" fill-opacity=\"1\" /><path clip-path=\"url(#clip880)\" d=\"M1291.56 1520.52 L1297.99 1520.52 L1297.99 1568.04 L1291.56 1568.04 L1291.56 1520.52 Z\" fill=\"#000000\" fill-rule=\"nonzero\" fill-opacity=\"1\" /><path clip-path=\"url(#clip880)\" d=\"M1340.16 1546.53 L1340.16 1568.04 L1334.3 1568.04 L1334.3 1546.72 Q1334.3 1541.66 1332.33 1539.14 Q1330.36 1536.63 1326.41 1536.63 Q1321.67 1536.63 1318.93 1539.65 Q1316.19 1542.68 1316.19 1547.9 L1316.19 1568.04 L1310.31 1568.04 L1310.31 1532.4 L1316.19 1532.4 L1316.19 1537.93 Q1318.29 1534.72 1321.13 1533.13 Q1323.99 1531.54 1327.72 1531.54 Q1333.86 1531.54 1337.01 1535.36 Q1340.16 1539.14 1340.16 1546.53 Z\" fill=\"#000000\" fill-rule=\"nonzero\" fill-opacity=\"1\" /><path clip-path=\"url(#clip880)\" d=\"M1375.3 1537.81 L1375.3 1518.52 L1381.16 1518.52 L1381.16 1568.04 L1375.3 1568.04 L1375.3 1562.7 Q1373.45 1565.88 1370.62 1567.44 Q1367.82 1568.97 1363.87 1568.97 Q1357.41 1568.97 1353.34 1563.81 Q1349.3 1558.65 1349.3 1550.25 Q1349.3 1541.85 1353.34 1536.69 Q1357.41 1531.54 1363.87 1531.54 Q1367.82 1531.54 1370.62 1533.1 Q1373.45 1534.62 1375.3 1537.81 M1355.34 1550.25 Q1355.34 1556.71 1357.98 1560.4 Q1360.66 1564.07 1365.31 1564.07 Q1369.95 1564.07 1372.63 1560.4 Q1375.3 1556.71 1375.3 1550.25 Q1375.3 1543.79 1372.63 1540.13 Q1369.95 1536.44 1365.31 1536.44 Q1360.66 1536.44 1357.98 1540.13 Q1355.34 1543.79 1355.34 1550.25 Z\" fill=\"#000000\" fill-rule=\"nonzero\" fill-opacity=\"1\" /><path clip-path=\"url(#clip880)\" d=\"M1423.71 1548.76 L1423.71 1551.62 L1396.78 1551.62 Q1397.17 1557.67 1400.41 1560.85 Q1403.69 1564 1409.51 1564 Q1412.89 1564 1416.04 1563.17 Q1419.22 1562.35 1422.34 1560.69 L1422.34 1566.23 Q1419.19 1567.57 1415.88 1568.27 Q1412.57 1568.97 1409.16 1568.97 Q1400.63 1568.97 1395.64 1564 Q1390.67 1559.04 1390.67 1550.57 Q1390.67 1541.82 1395.38 1536.69 Q1400.13 1531.54 1408.15 1531.54 Q1415.34 1531.54 1419.51 1536.18 Q1423.71 1540.8 1423.71 1548.76 M1417.85 1547.04 Q1417.79 1542.23 1415.15 1539.37 Q1412.54 1536.5 1408.21 1536.5 Q1403.31 1536.5 1400.35 1539.27 Q1397.42 1542.04 1396.97 1547.07 L1417.85 1547.04 Z\" fill=\"#000000\" fill-rule=\"nonzero\" fill-opacity=\"1\" /><path clip-path=\"url(#clip880)\" d=\"M1461.81 1532.4 L1448.92 1549.74 L1462.48 1568.04 L1455.57 1568.04 L1445.19 1554.04 L1434.82 1568.04 L1427.91 1568.04 L1441.76 1549.39 L1429.09 1532.4 L1436 1532.4 L1445.45 1545.1 L1454.9 1532.4 L1461.81 1532.4 Z\" fill=\"#000000\" fill-rule=\"nonzero\" fill-opacity=\"1\" /><path clip-path=\"url(#clip880)\" d=\"M1505.54 1518.58 Q1501.28 1525.9 1499.21 1533.06 Q1497.14 1540.23 1497.14 1547.58 Q1497.14 1554.93 1499.21 1562.16 Q1501.31 1569.35 1505.54 1576.64 L1500.45 1576.64 Q1495.67 1569.16 1493.29 1561.93 Q1490.93 1554.71 1490.93 1547.58 Q1490.93 1540.48 1493.29 1533.29 Q1495.64 1526.09 1500.45 1518.58 L1505.54 1518.58 Z\" fill=\"#000000\" fill-rule=\"nonzero\" fill-opacity=\"1\" /><path clip-path=\"url(#clip880)\" d=\"M1523.27 1562.63 L1545.71 1562.63 L1545.71 1568.04 L1515.54 1568.04 L1515.54 1562.63 Q1519.2 1558.85 1525.5 1552.48 Q1531.83 1546.08 1533.46 1544.24 Q1536.54 1540.77 1537.75 1538.38 Q1538.99 1535.96 1538.99 1533.64 Q1538.99 1529.85 1536.32 1527.46 Q1533.68 1525.08 1529.41 1525.08 Q1526.39 1525.08 1523.02 1526.13 Q1519.67 1527.18 1515.85 1529.31 L1515.85 1522.82 Q1519.74 1521.26 1523.11 1520.46 Q1526.48 1519.66 1529.29 1519.66 Q1536.67 1519.66 1541.06 1523.36 Q1545.45 1527.05 1545.45 1533.22 Q1545.45 1536.15 1544.34 1538.79 Q1543.26 1541.4 1540.36 1544.97 Q1539.57 1545.89 1535.3 1550.32 Q1531.04 1554.71 1523.27 1562.63 Z\" fill=\"#000000\" fill-rule=\"nonzero\" fill-opacity=\"1\" /><path clip-path=\"url(#clip880)\" d=\"M1572.95 1524.76 Q1567.99 1524.76 1565.47 1529.66 Q1562.99 1534.53 1562.99 1544.33 Q1562.99 1554.1 1565.47 1559 Q1567.99 1563.87 1572.95 1563.87 Q1577.95 1563.87 1580.43 1559 Q1582.95 1554.1 1582.95 1544.33 Q1582.95 1534.53 1580.43 1529.66 Q1577.95 1524.76 1572.95 1524.76 M1572.95 1519.66 Q1580.94 1519.66 1585.14 1526 Q1589.38 1532.3 1589.38 1544.33 Q1589.38 1556.33 1585.14 1562.66 Q1580.94 1568.97 1572.95 1568.97 Q1564.97 1568.97 1560.73 1562.66 Q1556.53 1556.33 1556.53 1544.33 Q1556.53 1532.3 1560.73 1526 Q1564.97 1519.66 1572.95 1519.66 Z\" fill=\"#000000\" fill-rule=\"nonzero\" fill-opacity=\"1\" /><path clip-path=\"url(#clip880)\" d=\"M1606.22 1562.63 L1628.65 1562.63 L1628.65 1568.04 L1598.48 1568.04 L1598.48 1562.63 Q1602.14 1558.85 1608.44 1552.48 Q1614.78 1546.08 1616.4 1544.24 Q1619.49 1540.77 1620.7 1538.38 Q1621.94 1535.96 1621.94 1533.64 Q1621.94 1529.85 1619.27 1527.46 Q1616.62 1525.08 1612.36 1525.08 Q1609.33 1525.08 1605.96 1526.13 Q1602.62 1527.18 1598.8 1529.31 L1598.8 1522.82 Q1602.68 1521.26 1606.06 1520.46 Q1609.43 1519.66 1612.23 1519.66 Q1619.62 1519.66 1624.01 1523.36 Q1628.4 1527.05 1628.4 1533.22 Q1628.4 1536.15 1627.29 1538.79 Q1626.2 1541.4 1623.31 1544.97 Q1622.51 1545.89 1618.25 1550.32 Q1613.98 1554.71 1606.22 1562.63 Z\" fill=\"#000000\" fill-rule=\"nonzero\" fill-opacity=\"1\" /><path clip-path=\"url(#clip880)\" d=\"M1661.63 1542.42 Q1666.24 1543.41 1668.82 1546.53 Q1671.43 1549.65 1671.43 1554.23 Q1671.43 1561.26 1666.59 1565.12 Q1661.76 1568.97 1652.84 1568.97 Q1649.85 1568.97 1646.67 1568.36 Q1643.52 1567.79 1640.14 1566.61 L1640.14 1560.4 Q1642.82 1561.96 1646 1562.76 Q1649.18 1563.56 1652.65 1563.56 Q1658.7 1563.56 1661.85 1561.17 Q1665.03 1558.78 1665.03 1554.23 Q1665.03 1550.03 1662.07 1547.67 Q1659.15 1545.29 1653.89 1545.29 L1648.36 1545.29 L1648.36 1540 L1654.15 1540 Q1658.89 1540 1661.41 1538.13 Q1663.92 1536.22 1663.92 1532.65 Q1663.92 1528.99 1661.31 1527.05 Q1658.73 1525.08 1653.89 1525.08 Q1651.25 1525.08 1648.23 1525.65 Q1645.21 1526.22 1641.58 1527.43 L1641.58 1521.7 Q1645.24 1520.68 1648.42 1520.17 Q1651.63 1519.66 1654.47 1519.66 Q1661.79 1519.66 1666.05 1523.01 Q1670.32 1526.32 1670.32 1531.98 Q1670.32 1535.93 1668.06 1538.67 Q1665.8 1541.37 1661.63 1542.42 Z\" fill=\"#000000\" fill-rule=\"nonzero\" fill-opacity=\"1\" /><path clip-path=\"url(#clip880)\" d=\"M1681.87 1518.58 L1686.96 1518.58 Q1691.74 1526.09 1694.09 1533.29 Q1696.48 1540.48 1696.48 1547.58 Q1696.48 1554.71 1694.09 1561.93 Q1691.74 1569.16 1686.96 1576.64 L1681.87 1576.64 Q1686.1 1569.35 1688.17 1562.16 Q1690.27 1554.93 1690.27 1547.58 Q1690.27 1540.23 1688.17 1533.06 Q1686.1 1525.9 1681.87 1518.58 Z\" fill=\"#000000\" fill-rule=\"nonzero\" fill-opacity=\"1\" /><polyline clip-path=\"url(#clip882)\" style=\"stroke:#000000; stroke-linecap:round; stroke-linejoin:round; stroke-width:2; stroke-opacity:0.1; fill:none\" points=\"219.38,1387.88 2352.76,1387.88 \"/>\n",
       "<polyline clip-path=\"url(#clip882)\" style=\"stroke:#000000; stroke-linecap:round; stroke-linejoin:round; stroke-width:2; stroke-opacity:0.1; fill:none\" points=\"219.38,983.478 2352.76,983.478 \"/>\n",
       "<polyline clip-path=\"url(#clip882)\" style=\"stroke:#000000; stroke-linecap:round; stroke-linejoin:round; stroke-width:2; stroke-opacity:0.1; fill:none\" points=\"219.38,579.072 2352.76,579.072 \"/>\n",
       "<polyline clip-path=\"url(#clip882)\" style=\"stroke:#000000; stroke-linecap:round; stroke-linejoin:round; stroke-width:2; stroke-opacity:0.1; fill:none\" points=\"219.38,174.665 2352.76,174.665 \"/>\n",
       "<polyline clip-path=\"url(#clip880)\" style=\"stroke:#000000; stroke-linecap:round; stroke-linejoin:round; stroke-width:4; stroke-opacity:1; fill:none\" points=\"219.38,1423.18 219.38,47.2441 \"/>\n",
       "<polyline clip-path=\"url(#clip880)\" style=\"stroke:#000000; stroke-linecap:round; stroke-linejoin:round; stroke-width:4; stroke-opacity:1; fill:none\" points=\"219.38,1387.88 238.278,1387.88 \"/>\n",
       "<polyline clip-path=\"url(#clip880)\" style=\"stroke:#000000; stroke-linecap:round; stroke-linejoin:round; stroke-width:4; stroke-opacity:1; fill:none\" points=\"219.38,983.478 238.278,983.478 \"/>\n",
       "<polyline clip-path=\"url(#clip880)\" style=\"stroke:#000000; stroke-linecap:round; stroke-linejoin:round; stroke-width:4; stroke-opacity:1; fill:none\" points=\"219.38,579.072 238.278,579.072 \"/>\n",
       "<polyline clip-path=\"url(#clip880)\" style=\"stroke:#000000; stroke-linecap:round; stroke-linejoin:round; stroke-width:4; stroke-opacity:1; fill:none\" points=\"219.38,174.665 238.278,174.665 \"/>\n",
       "<path clip-path=\"url(#clip880)\" d=\"M126.205 1373.68 Q122.593 1373.68 120.765 1377.25 Q118.959 1380.79 118.959 1387.92 Q118.959 1395.03 120.765 1398.59 Q122.593 1402.13 126.205 1402.13 Q129.839 1402.13 131.644 1398.59 Q133.473 1395.03 133.473 1387.92 Q133.473 1380.79 131.644 1377.25 Q129.839 1373.68 126.205 1373.68 M126.205 1369.98 Q132.015 1369.98 135.07 1374.59 Q138.149 1379.17 138.149 1387.92 Q138.149 1396.65 135.07 1401.25 Q132.015 1405.84 126.205 1405.84 Q120.394 1405.84 117.316 1401.25 Q114.26 1396.65 114.26 1387.92 Q114.26 1379.17 117.316 1374.59 Q120.394 1369.98 126.205 1369.98 Z\" fill=\"#000000\" fill-rule=\"nonzero\" fill-opacity=\"1\" /><path clip-path=\"url(#clip880)\" d=\"M146.366 1399.28 L151.251 1399.28 L151.251 1405.16 L146.366 1405.16 L146.366 1399.28 Z\" fill=\"#000000\" fill-rule=\"nonzero\" fill-opacity=\"1\" /><path clip-path=\"url(#clip880)\" d=\"M171.436 1373.68 Q167.825 1373.68 165.996 1377.25 Q164.19 1380.79 164.19 1387.92 Q164.19 1395.03 165.996 1398.59 Q167.825 1402.13 171.436 1402.13 Q175.07 1402.13 176.876 1398.59 Q178.704 1395.03 178.704 1387.92 Q178.704 1380.79 176.876 1377.25 Q175.07 1373.68 171.436 1373.68 M171.436 1369.98 Q177.246 1369.98 180.301 1374.59 Q183.38 1379.17 183.38 1387.92 Q183.38 1396.65 180.301 1401.25 Q177.246 1405.84 171.436 1405.84 Q165.626 1405.84 162.547 1401.25 Q159.491 1396.65 159.491 1387.92 Q159.491 1379.17 162.547 1374.59 Q165.626 1369.98 171.436 1369.98 Z\" fill=\"#000000\" fill-rule=\"nonzero\" fill-opacity=\"1\" /><path clip-path=\"url(#clip880)\" d=\"M127.2 969.277 Q123.589 969.277 121.76 972.841 Q119.955 976.383 119.955 983.513 Q119.955 990.619 121.76 994.184 Q123.589 997.726 127.2 997.726 Q130.834 997.726 132.64 994.184 Q134.468 990.619 134.468 983.513 Q134.468 976.383 132.64 972.841 Q130.834 969.277 127.2 969.277 M127.2 965.573 Q133.01 965.573 136.066 970.179 Q139.144 974.763 139.144 983.513 Q139.144 992.239 136.066 996.846 Q133.01 1001.43 127.2 1001.43 Q121.39 1001.43 118.311 996.846 Q115.256 992.239 115.256 983.513 Q115.256 974.763 118.311 970.179 Q121.39 965.573 127.2 965.573 Z\" fill=\"#000000\" fill-rule=\"nonzero\" fill-opacity=\"1\" /><path clip-path=\"url(#clip880)\" d=\"M147.362 994.878 L152.246 994.878 L152.246 1000.76 L147.362 1000.76 L147.362 994.878 Z\" fill=\"#000000\" fill-rule=\"nonzero\" fill-opacity=\"1\" /><path clip-path=\"url(#clip880)\" d=\"M162.477 966.198 L180.834 966.198 L180.834 970.133 L166.76 970.133 L166.76 978.605 Q167.778 978.258 168.797 978.096 Q169.815 977.911 170.834 977.911 Q176.621 977.911 180.001 981.082 Q183.38 984.253 183.38 989.67 Q183.38 995.249 179.908 998.35 Q176.436 1001.43 170.116 1001.43 Q167.94 1001.43 165.672 1001.06 Q163.427 1000.69 161.019 999.948 L161.019 995.249 Q163.102 996.383 165.325 996.938 Q167.547 997.494 170.024 997.494 Q174.028 997.494 176.366 995.388 Q178.704 993.281 178.704 989.67 Q178.704 986.059 176.366 983.952 Q174.028 981.846 170.024 981.846 Q168.149 981.846 166.274 982.263 Q164.422 982.679 162.477 983.559 L162.477 966.198 Z\" fill=\"#000000\" fill-rule=\"nonzero\" fill-opacity=\"1\" /><path clip-path=\"url(#clip880)\" d=\"M117.015 592.417 L124.654 592.417 L124.654 566.051 L116.343 567.718 L116.343 563.458 L124.607 561.792 L129.283 561.792 L129.283 592.417 L136.922 592.417 L136.922 596.352 L117.015 596.352 L117.015 592.417 Z\" fill=\"#000000\" fill-rule=\"nonzero\" fill-opacity=\"1\" /><path clip-path=\"url(#clip880)\" d=\"M146.366 590.472 L151.251 590.472 L151.251 596.352 L146.366 596.352 L146.366 590.472 Z\" fill=\"#000000\" fill-rule=\"nonzero\" fill-opacity=\"1\" /><path clip-path=\"url(#clip880)\" d=\"M171.436 564.87 Q167.825 564.87 165.996 568.435 Q164.19 571.977 164.19 579.106 Q164.19 586.213 165.996 589.778 Q167.825 593.319 171.436 593.319 Q175.07 593.319 176.876 589.778 Q178.704 586.213 178.704 579.106 Q178.704 571.977 176.876 568.435 Q175.07 564.87 171.436 564.87 M171.436 561.167 Q177.246 561.167 180.301 565.773 Q183.38 570.356 183.38 579.106 Q183.38 587.833 180.301 592.44 Q177.246 597.023 171.436 597.023 Q165.626 597.023 162.547 592.44 Q159.491 587.833 159.491 579.106 Q159.491 570.356 162.547 565.773 Q165.626 561.167 171.436 561.167 Z\" fill=\"#000000\" fill-rule=\"nonzero\" fill-opacity=\"1\" /><path clip-path=\"url(#clip880)\" d=\"M118.01 188.01 L125.649 188.01 L125.649 161.645 L117.339 163.311 L117.339 159.052 L125.603 157.385 L130.279 157.385 L130.279 188.01 L137.917 188.01 L137.917 191.945 L118.01 191.945 L118.01 188.01 Z\" fill=\"#000000\" fill-rule=\"nonzero\" fill-opacity=\"1\" /><path clip-path=\"url(#clip880)\" d=\"M147.362 186.066 L152.246 186.066 L152.246 191.945 L147.362 191.945 L147.362 186.066 Z\" fill=\"#000000\" fill-rule=\"nonzero\" fill-opacity=\"1\" /><path clip-path=\"url(#clip880)\" d=\"M162.477 157.385 L180.834 157.385 L180.834 161.321 L166.76 161.321 L166.76 169.793 Q167.778 169.446 168.797 169.284 Q169.815 169.098 170.834 169.098 Q176.621 169.098 180.001 172.27 Q183.38 175.441 183.38 180.858 Q183.38 186.436 179.908 189.538 Q176.436 192.617 170.116 192.617 Q167.94 192.617 165.672 192.246 Q163.427 191.876 161.019 191.135 L161.019 186.436 Q163.102 187.57 165.325 188.126 Q167.547 188.682 170.024 188.682 Q174.028 188.682 176.366 186.575 Q178.704 184.469 178.704 180.858 Q178.704 177.246 176.366 175.14 Q174.028 173.034 170.024 173.034 Q168.149 173.034 166.274 173.45 Q164.422 173.867 162.477 174.746 L162.477 157.385 Z\" fill=\"#000000\" fill-rule=\"nonzero\" fill-opacity=\"1\" /><path clip-path=\"url(#clip880)\" d=\"M16.4842 949.593 L16.4842 943.1 L56.6518 933.106 L16.4842 923.144 L16.4842 915.918 L56.6518 905.924 L16.4842 895.962 L16.4842 889.437 L64.0042 901.373 L64.0042 909.457 L22.7544 919.483 L64.0042 929.605 L64.0042 937.689 L16.4842 949.593 Z\" fill=\"#000000\" fill-rule=\"nonzero\" fill-opacity=\"1\" /><path clip-path=\"url(#clip880)\" d=\"M44.7161 854.489 L47.5806 854.489 L47.5806 881.416 Q53.6281 881.034 56.8109 877.788 Q59.9619 874.51 59.9619 868.685 Q59.9619 865.311 59.1344 862.16 Q58.3069 858.977 56.6518 855.858 L62.1899 855.858 Q63.5267 859.009 64.227 862.319 Q64.9272 865.629 64.9272 869.035 Q64.9272 877.565 59.9619 882.562 Q54.9967 887.527 46.5303 887.527 Q37.7774 887.527 32.6531 882.817 Q27.4968 878.074 27.4968 870.054 Q27.4968 862.86 32.1438 858.691 Q36.7589 854.489 44.7161 854.489 M42.9973 860.346 Q38.1912 860.41 35.3266 863.051 Q32.4621 865.661 32.4621 869.99 Q32.4621 874.891 35.2312 877.852 Q38.0002 880.78 43.0292 881.225 L42.9973 860.346 Z\" fill=\"#000000\" fill-rule=\"nonzero\" fill-opacity=\"1\" /><path clip-path=\"url(#clip880)\" d=\"M46.0847 828.676 Q46.0847 835.774 47.7079 838.511 Q49.3312 841.249 53.2461 841.249 Q56.3653 841.249 58.2114 839.212 Q60.0256 837.143 60.0256 833.61 Q60.0256 828.74 56.5881 825.812 Q53.1188 822.852 47.3897 822.852 L46.0847 822.852 L46.0847 828.676 M43.6657 816.995 L64.0042 816.995 L64.0042 822.852 L58.5933 822.852 Q61.8398 824.857 63.3994 827.849 Q64.9272 830.841 64.9272 835.169 Q64.9272 840.644 61.8716 843.89 Q58.7843 847.105 53.6281 847.105 Q47.6125 847.105 44.5569 843.095 Q41.5014 839.053 41.5014 831.064 L41.5014 822.852 L40.9285 822.852 Q36.8862 822.852 34.6901 825.525 Q32.4621 828.167 32.4621 832.973 Q32.4621 836.029 33.1941 838.925 Q33.9262 841.822 35.3903 844.495 L29.9795 844.495 Q28.7381 841.281 28.1334 838.257 Q27.4968 835.233 27.4968 832.369 Q27.4968 824.634 31.5072 820.815 Q35.5176 816.995 43.6657 816.995 Z\" fill=\"#000000\" fill-rule=\"nonzero\" fill-opacity=\"1\" /><path clip-path=\"url(#clip880)\" d=\"M14.479 804.932 L14.479 799.076 L64.0042 799.076 L64.0042 804.932 L14.479 804.932 Z\" fill=\"#000000\" fill-rule=\"nonzero\" fill-opacity=\"1\" /><path clip-path=\"url(#clip880)\" d=\"M18.2347 781.029 L28.3562 781.029 L28.3562 768.966 L32.9077 768.966 L32.9077 781.029 L52.2594 781.029 Q56.6199 781.029 57.8613 779.851 Q59.1026 778.642 59.1026 774.982 L59.1026 768.966 L64.0042 768.966 L64.0042 774.982 Q64.0042 781.761 61.4897 784.339 Q58.9434 786.917 52.2594 786.917 L32.9077 786.917 L32.9077 791.214 L28.3562 791.214 L28.3562 786.917 L18.2347 786.917 L18.2347 781.029 Z\" fill=\"#000000\" fill-rule=\"nonzero\" fill-opacity=\"1\" /><path clip-path=\"url(#clip880)\" d=\"M42.4881 731.631 L64.0042 731.631 L64.0042 737.488 L42.679 737.488 Q37.6183 737.488 35.1038 739.461 Q32.5894 741.434 32.5894 745.381 Q32.5894 750.124 35.6131 752.861 Q38.6368 755.598 43.8567 755.598 L64.0042 755.598 L64.0042 761.486 L14.479 761.486 L14.479 755.598 L33.8944 755.598 Q30.6797 753.497 29.0883 750.665 Q27.4968 747.8 27.4968 744.076 Q27.4968 737.933 31.3163 734.782 Q35.1038 731.631 42.4881 731.631 Z\" fill=\"#000000\" fill-rule=\"nonzero\" fill-opacity=\"1\" /><path clip-path=\"url(#clip880)\" d=\"M14.5426 685.162 Q21.8632 689.427 29.0246 691.495 Q36.186 693.564 43.5384 693.564 Q50.8908 693.564 58.1159 691.495 Q65.3091 689.395 72.5979 685.162 L72.5979 690.254 Q65.1182 695.028 57.8931 697.416 Q50.668 699.771 43.5384 699.771 Q36.4406 699.771 29.2474 697.416 Q22.0542 695.06 14.5426 690.254 L14.5426 685.162 Z\" fill=\"#000000\" fill-rule=\"nonzero\" fill-opacity=\"1\" /><path clip-path=\"url(#clip880)\" d=\"M16.4842 674.276 L16.4842 667.815 L45.3526 667.815 Q52.9915 667.815 56.3653 665.046 Q59.7073 662.277 59.7073 656.07 Q59.7073 649.896 56.3653 647.127 Q52.9915 644.357 45.3526 644.357 L16.4842 644.357 L16.4842 637.896 L46.1484 637.896 Q55.4423 637.896 60.1847 642.511 Q64.9272 647.095 64.9272 656.07 Q64.9272 665.078 60.1847 669.693 Q55.4423 674.276 46.1484 674.276 L16.4842 674.276 Z\" fill=\"#000000\" fill-rule=\"nonzero\" fill-opacity=\"1\" /><path clip-path=\"url(#clip880)\" d=\"M18.0438 597.347 L24.314 597.347 Q22.5634 601.007 21.704 604.253 Q20.8447 607.5 20.8447 610.524 Q20.8447 615.775 22.8817 618.64 Q24.9187 621.473 28.6745 621.473 Q31.8255 621.473 33.4488 619.595 Q35.0402 617.685 36.0269 612.402 L36.8226 608.518 Q38.1912 601.325 41.6605 597.92 Q45.098 594.482 50.8908 594.482 Q57.7976 594.482 61.3624 599.129 Q64.9272 603.744 64.9272 612.688 Q64.9272 616.062 64.1633 619.881 Q63.3994 623.669 61.9035 627.743 L55.2831 627.743 Q57.4793 623.828 58.5933 620.072 Q59.7073 616.316 59.7073 612.688 Q59.7073 607.182 57.543 604.19 Q55.3786 601.198 51.3682 601.198 Q47.8671 601.198 45.8937 603.362 Q43.9204 605.495 42.9337 610.396 L42.1698 614.311 Q40.7375 621.505 37.682 624.719 Q34.6264 627.934 29.1837 627.934 Q22.8817 627.934 19.2532 623.51 Q15.6248 619.054 15.6248 611.256 Q15.6248 607.914 16.2295 604.444 Q16.8343 600.975 18.0438 597.347 Z\" fill=\"#000000\" fill-rule=\"nonzero\" fill-opacity=\"1\" /><path clip-path=\"url(#clip880)\" d=\"M21.7677 578.027 L58.7206 578.027 L58.7206 570.261 Q58.7206 560.426 54.2646 555.874 Q49.8086 551.291 40.1964 551.291 Q30.6479 551.291 26.2237 555.874 Q21.7677 560.426 21.7677 570.261 L21.7677 578.027 M16.4842 584.456 L16.4842 571.247 Q16.4842 557.434 22.2451 550.973 Q27.9743 544.511 40.1964 544.511 Q52.4822 544.511 58.2432 551.004 Q64.0042 557.497 64.0042 571.247 L64.0042 584.456 L16.4842 584.456 Z\" fill=\"#000000\" fill-rule=\"nonzero\" fill-opacity=\"1\" /><path clip-path=\"url(#clip880)\" d=\"M14.5426 535.44 L14.5426 530.348 Q22.0542 525.573 29.2474 523.218 Q36.4406 520.831 43.5384 520.831 Q50.668 520.831 57.8931 523.218 Q65.1182 525.573 72.5979 530.348 L72.5979 535.44 Q65.3091 531.207 58.1159 529.138 Q50.8908 527.037 43.5384 527.037 Q36.186 527.037 29.0246 529.138 Q21.8632 531.207 14.5426 535.44 Z\" fill=\"#000000\" fill-rule=\"nonzero\" fill-opacity=\"1\" /><polyline clip-path=\"url(#clip882)\" style=\"stroke:#ff0000; stroke-linecap:round; stroke-linejoin:round; stroke-width:12; stroke-opacity:1; fill:none\" points=\"279.759,579.072 288.547,593.3 297.336,567.478 306.125,553.717 314.914,548.026 323.702,532.535 332.491,525.888 341.28,519.36 350.069,512.65 358.857,520.28 367.646,530.722 376.435,510.692 385.223,472.037 394.012,473.646 402.801,475.594 411.59,466.361 420.378,457.644 429.167,481.14 437.956,464.878 446.745,423.243 455.533,387.486 464.322,380.983 473.111,401.601 481.899,380.302 490.688,396.149 499.477,406.266 508.266,411.918 517.054,393.399 525.843,385.329 534.632,379.767 543.421,406.72 552.209,416.872 560.998,440.673 569.787,439.483 578.575,424.802 587.364,442.659 596.153,435.121 604.942,438.848 613.73,448.6 622.519,437.619 631.308,412.148 640.097,400.736 648.885,406.259 657.674,389.091 666.463,403.989 675.251,417.961 684.04,412.885 692.829,382.506 701.618,371.962 710.406,333.158 719.195,332.755 727.984,326.305 736.773,322.004 745.561,321.915 754.35,306.856 763.139,310.296 771.927,323.125 780.716,334.129 789.505,315.354 798.294,301.483 807.082,290.281 815.871,289.966 824.66,294.915 833.449,314.748 842.237,311.239 851.026,310.361 859.815,321.166 868.603,330.358 877.392,308.078 886.181,310.934 894.97,318.266 903.758,313.51 912.547,308.255 921.336,311.657 930.125,324.656 938.913,326.563 947.702,347.592 956.491,340.146 965.279,314.476 974.068,301.581 982.857,300.466 991.646,303.545 1000.43,340.32 1009.22,327.998 1018.01,282.956 1026.8,262.772 1035.59,270.152 1044.38,254.953 1053.17,253.927 1061.96,266.125 1070.74,260.072 1079.53,244.239 1088.32,233.173 1097.11,207.265 1105.9,214.624 1114.69,210.391 1123.48,221.242 1132.27,219.401 1141.05,167.864 1149.84,132.003 1158.63,131.361 1167.42,159.016 1176.21,142.145 1185,144.407 1193.79,149.668 1202.58,127.495 1211.36,158.626 1220.15,134.156 1228.94,117.332 1237.73,89.1429 1246.52,109.278 1255.31,96.0644 1264.1,99.3428 1272.88,120.123 1281.67,123.982 1290.46,154.691 1299.25,146.836 1308.04,150.615 1316.83,166.651 1325.62,143.748 1334.41,139.9 1343.19,134.008 1351.98,104.864 1360.77,103.989 1369.56,116.157 1378.35,116.534 1387.14,123.205 1395.93,129.95 1404.72,141.318 1413.5,121.915 1422.29,113.805 1431.08,112.82 1439.87,90.3029 1448.66,92.8001 1457.45,92.9523 1466.24,124.554 1475.03,126.238 1483.81,124.638 1492.6,112.048 1501.39,119.845 1510.18,121.748 1518.97,103.341 1527.76,95.0604 1536.55,86.4741 1545.34,131.116 1554.12,122.151 1562.91,150.122 1571.7,159.018 1580.49,168.941 1589.28,186.488 1598.07,188.486 1606.86,199.091 1615.65,174.538 1624.43,185.424 1633.22,205.29 1642.01,226.652 1650.8,220.597 1659.59,204.057 1668.38,208.928 1677.17,176.916 1685.96,226.902 1694.74,215.662 1703.53,208.041 1712.32,178.491 1721.11,161.135 1729.9,163.954 1738.69,142.555 1747.48,137.015 1756.26,171.39 1765.05,203.731 1773.84,202.795 1782.63,201.015 1791.42,213.664 1800.21,213.332 1809,211.061 1817.79,234.344 1826.57,218.518 1835.36,217.034 1844.15,236.891 1852.94,260.038 1861.73,256.219 1870.52,246.389 1879.31,269.189 1888.1,267.725 1896.88,248.251 1905.67,246.229 1914.46,234.02 1923.25,252.293 1932.04,231.38 1940.83,230.308 1949.62,202.612 1958.41,197.255 1967.19,192.04 1975.98,188.948 1984.77,183.255 1993.56,205.305 2002.35,200.466 2011.14,212.136 2019.93,229.773 2028.72,230.889 2037.5,243.3 2046.29,249.632 2055.08,241.417 2063.87,272.883 2072.66,299.163 2081.45,283.623 2090.24,276.028 2099.03,264.977 2107.81,214.418 2116.6,200.264 2125.39,186.705 2134.18,177.658 2142.97,160.35 2151.76,155.242 2160.55,158.189 2169.34,121.977 2178.12,135.352 2186.91,112.404 2195.7,117.593 2204.49,103.207 2213.28,100.276 2222.07,89.1485 2230.86,101.891 2239.64,86.1857 2248.43,92.4865 2257.22,92.031 2266.01,92.3364 2274.8,89.1808 2283.59,96.8859 2292.38,90.3518 \"/>\n",
       "<polyline clip-path=\"url(#clip882)\" style=\"stroke:#0000ff; stroke-linecap:round; stroke-linejoin:round; stroke-width:12; stroke-opacity:1; fill:none\" points=\"279.759,579.072 288.547,574.418 297.336,580.547 306.125,569.966 314.914,559.103 323.702,561.822 332.491,552.867 341.28,546.473 350.069,545.357 358.857,542.47 367.646,550.203 376.435,561.429 385.223,554.375 394.012,539.13 402.801,538.779 411.59,543.197 420.378,533.096 429.167,526.352 437.956,533.913 446.745,529.81 455.533,521.949 464.322,505.687 473.111,509.408 481.899,517.429 490.688,513.183 499.477,513.324 508.266,517.844 517.054,523.762 525.843,514.468 534.632,512.902 543.421,512.61 552.209,516.73 560.998,525.621 569.787,536.216 578.575,540.956 587.364,539.449 596.153,547.546 604.942,541.55 613.73,544.118 622.519,548.967 631.308,548.351 640.097,534.271 648.885,527.117 657.674,537.834 666.463,542.34 675.251,548.347 684.04,563.465 692.829,568.178 701.618,559.412 710.406,565.9 719.195,553.524 727.984,557.286 736.773,554.873 745.561,544.805 754.35,543.732 763.139,550.16 771.927,553.267 780.716,545.145 789.505,548.707 798.294,538.91 807.082,531.794 815.871,523.222 824.66,517.325 833.449,519.122 842.237,523.083 851.026,521.442 859.815,521.486 868.603,517.372 877.392,518.035 886.181,513.765 894.97,512.613 903.758,511.917 912.547,508.763 921.336,509.635 930.125,513.129 938.913,513.669 947.702,512.993 956.491,521.047 965.279,526.754 974.068,517.195 982.857,508.068 991.646,504.233 1000.43,515.131 1009.22,516.161 1018.01,526.988 1026.8,514.792 1035.59,512.079 1044.38,514.532 1053.17,513.24 1061.96,514.171 1070.74,514.956 1079.53,512.91 1088.32,514.487 1097.11,510.129 1105.9,502.162 1114.69,498.254 1123.48,498.225 1132.27,504.899 1141.05,514.807 1149.84,509.107 1158.63,498.496 1167.42,495.232 1176.21,500.396 1185,495.191 1193.79,481.659 1202.58,479.217 1211.36,480.078 1220.15,480.599 1228.94,478.569 1237.73,474.46 1246.52,470.796 1255.31,462.203 1264.1,460.671 1272.88,452.219 1281.67,451.65 1290.46,459.779 1299.25,463.135 1308.04,463.38 1316.83,466.767 1325.62,469.61 1334.41,464.939 1343.19,462.756 1351.98,459.53 1360.77,447.893 1369.56,446.228 1378.35,446.685 1387.14,455.536 1395.93,453.864 1404.72,456.081 1413.5,451.117 1422.29,441.704 1431.08,435.477 1439.87,432.87 1448.66,431.502 1457.45,425.679 1466.24,421.13 1475.03,425.477 1483.81,426.257 1492.6,424.158 1501.39,421.037 1510.18,421.881 1518.97,421.18 1527.76,419.189 1536.55,417.253 1545.34,418.733 1554.12,429.422 1562.91,434.176 1571.7,434.44 1580.49,433.402 1589.28,437.712 1598.07,438.928 1606.86,437.695 1615.65,442.522 1624.43,439.435 1633.22,444.672 1642.01,450.269 1650.8,457.25 1659.59,463.085 1668.38,458.024 1677.17,456.162 1685.96,449.67 1694.74,453.414 1703.53,456.318 1712.32,449.421 1721.11,438.521 1729.9,431.179 1738.69,429.649 1747.48,429.83 1756.26,432.391 1765.05,440.892 1773.84,444.038 1782.63,441.635 1791.42,437.06 1800.21,439.359 1809,439.848 1817.79,433.686 1826.57,443.314 1835.36,445.969 1844.15,449.553 1852.94,450.68 1861.73,467.076 1870.52,471.261 1879.31,473.035 1888.1,481 1896.88,484.675 1905.67,479.501 1914.46,478.113 1923.25,482.694 1932.04,491.293 1940.83,489.545 1949.62,488.553 1958.41,481.41 1967.19,474.272 1975.98,464.287 1984.77,463.994 1993.56,465.433 2002.35,469.975 2011.14,462.965 2019.93,463.513 2028.72,470.422 2037.5,477.168 2046.29,488.783 2055.08,493.186 2063.87,489.701 2072.66,498.035 2081.45,508.554 2090.24,514.06 2099.03,508.211 2107.81,502.766 2116.6,494.324 2125.39,477.477 2134.18,465.492 2142.97,464.227 2151.76,461.085 2160.55,460.483 2169.34,462.998 2178.12,457.986 2186.91,453.518 2195.7,437.01 2204.49,432.446 2213.28,433.603 2222.07,431.361 2230.86,425.49 2239.64,426.06 2248.43,421.801 2257.22,421.666 2266.01,422.235 2274.8,422.462 2283.59,420.136 2292.38,421.563 \"/>\n",
       "<polyline clip-path=\"url(#clip882)\" style=\"stroke:#008000; stroke-linecap:round; stroke-linejoin:round; stroke-width:12; stroke-opacity:1; fill:none\" points=\"279.759,579.072 288.547,578.327 297.336,563.145 306.125,580.743 314.914,577.18 323.702,567.047 332.491,564.749 341.28,559.218 350.069,567.489 358.857,575.984 367.646,569.086 376.435,556.614 385.223,550.191 394.012,558.514 402.801,563.201 411.59,564.52 420.378,565.661 429.167,570.253 437.956,559.555 446.745,557.589 455.533,556.207 464.322,559.622 473.111,560.424 481.899,541.533 490.688,552.869 499.477,561.022 508.266,553.311 517.054,545.683 525.843,550.018 534.632,548.755 543.421,558.468 552.209,548.312 560.998,559.231 569.787,558.451 578.575,552.692 587.364,562.12 596.153,561.478 604.942,575.411 613.73,577.576 622.519,572.572 631.308,561.62 640.097,537.531 648.885,541.348 657.674,553.183 666.463,562.36 675.251,567.806 684.04,572.05 692.829,558.425 701.618,551.52 710.406,541.576 719.195,555.498 727.984,545.749 736.773,538.61 745.561,548.198 754.35,543.678 763.139,539.81 771.927,536.875 780.716,546.639 789.505,544.634 798.294,538.947 807.082,529.034 815.871,514.528 824.66,514.64 833.449,501.831 842.237,492.074 851.026,496.711 859.815,500.41 868.603,496.286 877.392,477.026 886.181,476.198 894.97,482.568 903.758,484.721 912.547,487.468 921.336,486.305 930.125,481.961 938.913,477.934 947.702,480.417 956.491,495.4 965.279,475.574 974.068,473.224 982.857,469.354 991.646,466.231 1000.43,465.609 1009.22,472.641 1018.01,461.589 1026.8,454.369 1035.59,461.415 1044.38,449.627 1053.17,442.89 1061.96,444.546 1070.74,450.472 1079.53,446.983 1088.32,450.744 1097.11,448.999 1105.9,441.513 1114.69,443.884 1123.48,456.515 1132.27,457.144 1141.05,458.435 1149.84,460.467 1158.63,467.507 1167.42,464.65 1176.21,457.939 1185,447.527 1193.79,443.79 1202.58,457.951 1211.36,473.667 1220.15,462.798 1228.94,460.292 1237.73,459.751 1246.52,459.243 1255.31,465.731 1264.1,457.819 1272.88,461.612 1281.67,457.482 1290.46,457.603 1299.25,437.584 1308.04,434.675 1316.83,450.073 1325.62,446.241 1334.41,446.593 1343.19,442.383 1351.98,427.943 1360.77,434.389 1369.56,435.642 1378.35,447.768 1387.14,463.915 1395.93,465.593 1404.72,471.373 1413.5,472.641 1422.29,468.261 1431.08,461.609 1439.87,468.983 1448.66,468.761 1457.45,470.124 1466.24,464.458 1475.03,454.676 1483.81,459.801 1492.6,464.429 1501.39,454.29 1510.18,465.183 1518.97,452.209 1527.76,449.791 1536.55,459.577 1545.34,465.093 1554.12,466.281 1562.91,479.948 1571.7,471.727 1580.49,469.659 1589.28,476.02 1598.07,478.441 1606.86,471.186 1615.65,459.404 1624.43,465.168 1633.22,467.781 1642.01,466.922 1650.8,470.368 1659.59,465.151 1668.38,473.089 1677.17,444.957 1685.96,462.875 1694.74,457.126 1703.53,459.642 1712.32,444.165 1721.11,437.768 1729.9,443.615 1738.69,438.299 1747.48,450.203 1756.26,463.955 1765.05,461.301 1773.84,453.414 1782.63,453.535 1791.42,457.19 1800.21,461.898 1809,455.676 1817.79,461.065 1826.57,455.499 1835.36,456.989 1844.15,469.218 1852.94,481.474 1861.73,482.632 1870.52,480.19 1879.31,493.484 1888.1,490.439 1896.88,482.447 1905.67,491.503 1914.46,477.779 1923.25,487.135 1932.04,474.637 1940.83,469.658 1949.62,458.605 1958.41,452.615 1967.19,457.61 1975.98,449.997 1984.77,452.651 1993.56,457.055 2002.35,451.797 2011.14,451.389 2019.93,465.821 2028.72,471.921 2037.5,474.664 2046.29,469.312 2055.08,461.983 2063.87,1093.54 2072.66,1292.1 2081.45,1355.56 2090.24,1377.04 2099.03,1384.24 2107.81,1384.08 2116.6,1384.05 2125.39,1384.01 2134.18,1383.98 2142.97,1383.95 2151.76,1383.93 2160.55,1383.98 2169.34,1383.92 2178.12,1383.92 2186.91,1383.89 2195.7,1383.89 2204.49,1383.84 2213.28,1383.86 2222.07,1383.83 2230.86,1383.83 2239.64,1383.82 2248.43,1383.84 2257.22,1383.85 2266.01,1383.86 2274.8,1383.87 2283.59,1383.88 2292.38,1383.86 \"/>\n",
       "<path clip-path=\"url(#clip880)\" d=\"M290.493 1377.32 L1225.86 1377.32 L1225.86 1169.96 L290.493 1169.96  Z\" fill=\"#ffffff\" fill-rule=\"evenodd\" fill-opacity=\"1\"/>\n",
       "<polyline clip-path=\"url(#clip880)\" style=\"stroke:#000000; stroke-linecap:round; stroke-linejoin:round; stroke-width:4; stroke-opacity:1; fill:none\" points=\"290.493,1377.32 1225.86,1377.32 1225.86,1169.96 290.493,1169.96 290.493,1377.32 \"/>\n",
       "<polyline clip-path=\"url(#clip880)\" style=\"stroke:#ff0000; stroke-linecap:round; stroke-linejoin:round; stroke-width:12; stroke-opacity:1; fill:none\" points=\"314.197,1221.8 456.422,1221.8 \"/>\n",
       "<path clip-path=\"url(#clip880)\" d=\"M484.802 1208.36 L484.802 1221.34 L490.682 1221.34 Q493.945 1221.34 495.728 1219.65 Q497.51 1217.96 497.51 1214.84 Q497.51 1211.74 495.728 1210.05 Q493.945 1208.36 490.682 1208.36 L484.802 1208.36 M480.126 1204.52 L490.682 1204.52 Q496.492 1204.52 499.455 1207.15 Q502.441 1209.77 502.441 1214.84 Q502.441 1219.96 499.455 1222.57 Q496.492 1225.19 490.682 1225.19 L484.802 1225.19 L484.802 1239.08 L480.126 1239.08 L480.126 1204.52 Z\" fill=\"#000000\" fill-rule=\"nonzero\" fill-opacity=\"1\" /><path clip-path=\"url(#clip880)\" d=\"M516.885 1216.14 Q513.459 1216.14 511.469 1218.82 Q509.478 1221.48 509.478 1226.14 Q509.478 1230.79 511.445 1233.47 Q513.436 1236.14 516.885 1236.14 Q520.288 1236.14 522.279 1233.45 Q524.269 1230.77 524.269 1226.14 Q524.269 1221.53 522.279 1218.84 Q520.288 1216.14 516.885 1216.14 M516.885 1212.52 Q522.441 1212.52 525.612 1216.14 Q528.783 1219.75 528.783 1226.14 Q528.783 1232.5 525.612 1236.14 Q522.441 1239.75 516.885 1239.75 Q511.306 1239.75 508.135 1236.14 Q504.987 1232.5 504.987 1226.14 Q504.987 1219.75 508.135 1216.14 Q511.306 1212.52 516.885 1212.52 Z\" fill=\"#000000\" fill-rule=\"nonzero\" fill-opacity=\"1\" /><path clip-path=\"url(#clip880)\" d=\"M550.866 1217.13 Q550.149 1216.71 549.292 1216.53 Q548.459 1216.32 547.441 1216.32 Q543.829 1216.32 541.885 1218.68 Q539.964 1221.02 539.964 1225.42 L539.964 1239.08 L535.681 1239.08 L535.681 1213.15 L539.964 1213.15 L539.964 1217.18 Q541.306 1214.82 543.459 1213.68 Q545.612 1212.52 548.691 1212.52 Q549.13 1212.52 549.663 1212.59 Q550.195 1212.64 550.843 1212.76 L550.866 1217.13 Z\" fill=\"#000000\" fill-rule=\"nonzero\" fill-opacity=\"1\" /><path clip-path=\"url(#clip880)\" d=\"M559.547 1205.79 L559.547 1213.15 L568.32 1213.15 L568.32 1216.46 L559.547 1216.46 L559.547 1230.53 Q559.547 1233.7 560.403 1234.61 Q561.283 1235.51 563.945 1235.51 L568.32 1235.51 L568.32 1239.08 L563.945 1239.08 Q559.015 1239.08 557.14 1237.25 Q555.265 1235.39 555.265 1230.53 L555.265 1216.46 L552.14 1216.46 L552.14 1213.15 L555.265 1213.15 L555.265 1205.79 L559.547 1205.79 Z\" fill=\"#000000\" fill-rule=\"nonzero\" fill-opacity=\"1\" /><path clip-path=\"url(#clip880)\" d=\"M587.047 1203.06 L587.047 1206.6 L582.973 1206.6 Q580.681 1206.6 579.778 1207.52 Q578.899 1208.45 578.899 1210.86 L578.899 1213.15 L585.913 1213.15 L585.913 1216.46 L578.899 1216.46 L578.899 1239.08 L574.616 1239.08 L574.616 1216.46 L570.542 1216.46 L570.542 1213.15 L574.616 1213.15 L574.616 1211.34 Q574.616 1207.02 576.63 1205.05 Q578.644 1203.06 583.019 1203.06 L587.047 1203.06 Z\" fill=\"#000000\" fill-rule=\"nonzero\" fill-opacity=\"1\" /><path clip-path=\"url(#clip880)\" d=\"M600.658 1216.14 Q597.232 1216.14 595.241 1218.82 Q593.25 1221.48 593.25 1226.14 Q593.25 1230.79 595.218 1233.47 Q597.209 1236.14 600.658 1236.14 Q604.061 1236.14 606.051 1233.45 Q608.042 1230.77 608.042 1226.14 Q608.042 1221.53 606.051 1218.84 Q604.061 1216.14 600.658 1216.14 M600.658 1212.52 Q606.213 1212.52 609.385 1216.14 Q612.556 1219.75 612.556 1226.14 Q612.556 1232.5 609.385 1236.14 Q606.213 1239.75 600.658 1239.75 Q595.079 1239.75 591.908 1236.14 Q588.76 1232.5 588.76 1226.14 Q588.76 1219.75 591.908 1216.14 Q595.079 1212.52 600.658 1212.52 Z\" fill=\"#000000\" fill-rule=\"nonzero\" fill-opacity=\"1\" /><path clip-path=\"url(#clip880)\" d=\"M619.616 1203.06 L623.875 1203.06 L623.875 1239.08 L619.616 1239.08 L619.616 1203.06 Z\" fill=\"#000000\" fill-rule=\"nonzero\" fill-opacity=\"1\" /><path clip-path=\"url(#clip880)\" d=\"M632.787 1213.15 L637.047 1213.15 L637.047 1239.08 L632.787 1239.08 L632.787 1213.15 M632.787 1203.06 L637.047 1203.06 L637.047 1208.45 L632.787 1208.45 L632.787 1203.06 Z\" fill=\"#000000\" fill-rule=\"nonzero\" fill-opacity=\"1\" /><path clip-path=\"url(#clip880)\" d=\"M656.005 1216.14 Q652.579 1216.14 650.588 1218.82 Q648.597 1221.48 648.597 1226.14 Q648.597 1230.79 650.565 1233.47 Q652.556 1236.14 656.005 1236.14 Q659.408 1236.14 661.398 1233.45 Q663.389 1230.77 663.389 1226.14 Q663.389 1221.53 661.398 1218.84 Q659.408 1216.14 656.005 1216.14 M656.005 1212.52 Q661.56 1212.52 664.732 1216.14 Q667.903 1219.75 667.903 1226.14 Q667.903 1232.5 664.732 1236.14 Q661.56 1239.75 656.005 1239.75 Q650.426 1239.75 647.255 1236.14 Q644.107 1232.5 644.107 1226.14 Q644.107 1219.75 647.255 1216.14 Q650.426 1212.52 656.005 1212.52 Z\" fill=\"#000000\" fill-rule=\"nonzero\" fill-opacity=\"1\" /><path clip-path=\"url(#clip880)\" d=\"M704.801 1220.44 Q708.157 1221.16 710.032 1223.43 Q711.93 1225.7 711.93 1229.03 Q711.93 1234.14 708.412 1236.95 Q704.893 1239.75 698.412 1239.75 Q696.236 1239.75 693.921 1239.31 Q691.63 1238.89 689.176 1238.03 L689.176 1233.52 Q691.12 1234.65 693.435 1235.23 Q695.75 1235.81 698.273 1235.81 Q702.671 1235.81 704.963 1234.08 Q707.278 1232.34 707.278 1229.03 Q707.278 1225.97 705.125 1224.26 Q702.995 1222.52 699.176 1222.52 L695.148 1222.52 L695.148 1218.68 L699.361 1218.68 Q702.81 1218.68 704.639 1217.32 Q706.467 1215.93 706.467 1213.33 Q706.467 1210.67 704.569 1209.26 Q702.694 1207.83 699.176 1207.83 Q697.255 1207.83 695.055 1208.24 Q692.856 1208.66 690.218 1209.54 L690.218 1205.37 Q692.88 1204.63 695.194 1204.26 Q697.532 1203.89 699.592 1203.89 Q704.917 1203.89 708.018 1206.32 Q711.12 1208.73 711.12 1212.85 Q711.12 1215.72 709.477 1217.71 Q707.833 1219.68 704.801 1220.44 Z\" fill=\"#000000\" fill-rule=\"nonzero\" fill-opacity=\"1\" /><path clip-path=\"url(#clip880)\" d=\"M730.796 1207.59 Q727.185 1207.59 725.356 1211.16 Q723.551 1214.7 723.551 1221.83 Q723.551 1228.94 725.356 1232.5 Q727.185 1236.04 730.796 1236.04 Q734.43 1236.04 736.236 1232.5 Q738.065 1228.94 738.065 1221.83 Q738.065 1214.7 736.236 1211.16 Q734.43 1207.59 730.796 1207.59 M730.796 1203.89 Q736.606 1203.89 739.662 1208.5 Q742.74 1213.08 742.74 1221.83 Q742.74 1230.56 739.662 1235.16 Q736.606 1239.75 730.796 1239.75 Q724.986 1239.75 721.907 1235.16 Q718.852 1230.56 718.852 1221.83 Q718.852 1213.08 721.907 1208.5 Q724.986 1203.89 730.796 1203.89 Z\" fill=\"#000000\" fill-rule=\"nonzero\" fill-opacity=\"1\" /><path clip-path=\"url(#clip880)\" d=\"M775.657 1203.1 Q772.555 1208.43 771.05 1213.64 Q769.546 1218.84 769.546 1224.19 Q769.546 1229.54 771.05 1234.79 Q772.578 1240.02 775.657 1245.33 L771.953 1245.33 Q768.481 1239.89 766.745 1234.63 Q765.032 1229.38 765.032 1224.19 Q765.032 1219.03 766.745 1213.8 Q768.458 1208.57 771.953 1203.1 L775.657 1203.1 Z\" fill=\"#000000\" fill-rule=\"nonzero\" fill-opacity=\"1\" /><path clip-path=\"url(#clip880)\" d=\"M795.703 1226.04 Q790.541 1226.04 788.55 1227.22 Q786.56 1228.4 786.56 1231.25 Q786.56 1233.52 788.041 1234.86 Q789.546 1236.18 792.115 1236.18 Q795.657 1236.18 797.786 1233.68 Q799.939 1231.16 799.939 1226.99 L799.939 1226.04 L795.703 1226.04 M804.198 1224.28 L804.198 1239.08 L799.939 1239.08 L799.939 1235.14 Q798.481 1237.5 796.305 1238.64 Q794.129 1239.75 790.981 1239.75 Q786.999 1239.75 784.638 1237.52 Q782.3 1235.28 782.3 1231.53 Q782.3 1227.15 785.217 1224.93 Q788.157 1222.71 793.967 1222.71 L799.939 1222.71 L799.939 1222.29 Q799.939 1219.35 797.995 1217.76 Q796.073 1216.14 792.578 1216.14 Q790.356 1216.14 788.249 1216.67 Q786.143 1217.2 784.199 1218.27 L784.199 1214.33 Q786.536 1213.43 788.736 1212.99 Q790.935 1212.52 793.018 1212.52 Q798.643 1212.52 801.421 1215.44 Q804.198 1218.36 804.198 1224.28 Z\" fill=\"#000000\" fill-rule=\"nonzero\" fill-opacity=\"1\" /><path clip-path=\"url(#clip880)\" d=\"M831.629 1214.14 L831.629 1218.13 Q829.823 1217.13 827.995 1216.64 Q826.189 1216.14 824.337 1216.14 Q820.194 1216.14 817.902 1218.77 Q815.61 1221.39 815.61 1226.14 Q815.61 1230.88 817.902 1233.52 Q820.194 1236.14 824.337 1236.14 Q826.189 1236.14 827.995 1235.65 Q829.823 1235.14 831.629 1234.14 L831.629 1238.08 Q829.846 1238.91 827.925 1239.33 Q826.027 1239.75 823.874 1239.75 Q818.018 1239.75 814.569 1236.07 Q811.12 1232.39 811.12 1226.14 Q811.12 1219.79 814.592 1216.16 Q818.087 1212.52 824.152 1212.52 Q826.12 1212.52 827.995 1212.94 Q829.87 1213.33 831.629 1214.14 Z\" fill=\"#000000\" fill-rule=\"nonzero\" fill-opacity=\"1\" /><path clip-path=\"url(#clip880)\" d=\"M843.249 1205.79 L843.249 1213.15 L852.022 1213.15 L852.022 1216.46 L843.249 1216.46 L843.249 1230.53 Q843.249 1233.7 844.106 1234.61 Q844.985 1235.51 847.647 1235.51 L852.022 1235.51 L852.022 1239.08 L847.647 1239.08 Q842.717 1239.08 840.842 1237.25 Q838.967 1235.39 838.967 1230.53 L838.967 1216.46 L835.842 1216.46 L835.842 1213.15 L838.967 1213.15 L838.967 1205.79 L843.249 1205.79 Z\" fill=\"#000000\" fill-rule=\"nonzero\" fill-opacity=\"1\" /><path clip-path=\"url(#clip880)\" d=\"M857.184 1228.84 L857.184 1213.15 L861.443 1213.15 L861.443 1228.68 Q861.443 1232.36 862.879 1234.21 Q864.314 1236.04 867.184 1236.04 Q870.633 1236.04 872.624 1233.84 Q874.638 1231.64 874.638 1227.85 L874.638 1213.15 L878.897 1213.15 L878.897 1239.08 L874.638 1239.08 L874.638 1235.09 Q873.087 1237.45 871.027 1238.61 Q868.99 1239.75 866.281 1239.75 Q861.814 1239.75 859.499 1236.97 Q857.184 1234.19 857.184 1228.84 M867.902 1212.52 L867.902 1212.52 Z\" fill=\"#000000\" fill-rule=\"nonzero\" fill-opacity=\"1\" /><path clip-path=\"url(#clip880)\" d=\"M899.453 1226.04 Q894.291 1226.04 892.3 1227.22 Q890.309 1228.4 890.309 1231.25 Q890.309 1233.52 891.791 1234.86 Q893.295 1236.18 895.865 1236.18 Q899.406 1236.18 901.536 1233.68 Q903.689 1231.16 903.689 1226.99 L903.689 1226.04 L899.453 1226.04 M907.948 1224.28 L907.948 1239.08 L903.689 1239.08 L903.689 1235.14 Q902.23 1237.5 900.054 1238.64 Q897.878 1239.75 894.73 1239.75 Q890.749 1239.75 888.388 1237.52 Q886.05 1235.28 886.05 1231.53 Q886.05 1227.15 888.966 1224.93 Q891.906 1222.71 897.716 1222.71 L903.689 1222.71 L903.689 1222.29 Q903.689 1219.35 901.744 1217.76 Q899.823 1216.14 896.328 1216.14 Q894.105 1216.14 891.999 1216.67 Q889.892 1217.2 887.948 1218.27 L887.948 1214.33 Q890.286 1213.43 892.485 1212.99 Q894.684 1212.52 896.767 1212.52 Q902.392 1212.52 905.17 1215.44 Q907.948 1218.36 907.948 1224.28 Z\" fill=\"#000000\" fill-rule=\"nonzero\" fill-opacity=\"1\" /><path clip-path=\"url(#clip880)\" d=\"M916.721 1203.06 L920.98 1203.06 L920.98 1239.08 L916.721 1239.08 L916.721 1203.06 Z\" fill=\"#000000\" fill-rule=\"nonzero\" fill-opacity=\"1\" /><path clip-path=\"url(#clip880)\" d=\"M929.221 1203.1 L932.925 1203.1 Q936.397 1208.57 938.11 1213.8 Q939.846 1219.03 939.846 1224.19 Q939.846 1229.38 938.11 1234.63 Q936.397 1239.89 932.925 1245.33 L929.221 1245.33 Q932.3 1240.02 933.804 1234.79 Q935.332 1229.54 935.332 1224.19 Q935.332 1218.84 933.804 1213.64 Q932.3 1208.43 929.221 1203.1 Z\" fill=\"#000000\" fill-rule=\"nonzero\" fill-opacity=\"1\" /><polyline clip-path=\"url(#clip880)\" style=\"stroke:#0000ff; stroke-linecap:round; stroke-linejoin:round; stroke-width:12; stroke-opacity:1; fill:none\" points=\"314.197,1273.64 456.422,1273.64 \"/>\n",
       "<path clip-path=\"url(#clip880)\" d=\"M502.371 1257.49 L502.371 1262.05 Q499.709 1260.78 497.348 1260.15 Q494.987 1259.53 492.788 1259.53 Q488.969 1259.53 486.885 1261.01 Q484.825 1262.49 484.825 1265.22 Q484.825 1267.51 486.191 1268.69 Q487.58 1269.85 491.422 1270.57 L494.246 1271.15 Q499.478 1272.14 501.955 1274.67 Q504.455 1277.17 504.455 1281.38 Q504.455 1286.4 501.075 1288.99 Q497.719 1291.59 491.214 1291.59 Q488.76 1291.59 485.983 1291.03 Q483.228 1290.48 480.265 1289.39 L480.265 1284.57 Q483.112 1286.17 485.844 1286.98 Q488.575 1287.79 491.214 1287.79 Q495.219 1287.79 497.395 1286.22 Q499.57 1284.64 499.57 1281.73 Q499.57 1279.18 497.996 1277.74 Q496.445 1276.31 492.881 1275.59 L490.033 1275.04 Q484.802 1273.99 482.464 1271.77 Q480.126 1269.55 480.126 1265.59 Q480.126 1261.01 483.344 1258.37 Q486.584 1255.73 492.256 1255.73 Q494.686 1255.73 497.209 1256.17 Q499.732 1256.61 502.371 1257.49 Z\" fill=\"#000000\" fill-rule=\"nonzero\" fill-opacity=\"1\" /><path clip-path=\"url(#clip880)\" d=\"M516.422 1260.2 L516.422 1273.18 L522.302 1273.18 Q525.566 1273.18 527.348 1271.49 Q529.13 1269.8 529.13 1266.68 Q529.13 1263.58 527.348 1261.89 Q525.566 1260.2 522.302 1260.2 L516.422 1260.2 M511.746 1256.36 L522.302 1256.36 Q528.112 1256.36 531.075 1258.99 Q534.061 1261.61 534.061 1266.68 Q534.061 1271.8 531.075 1274.41 Q528.112 1277.03 522.302 1277.03 L516.422 1277.03 L516.422 1290.92 L511.746 1290.92 L511.746 1256.36 Z\" fill=\"#000000\" fill-rule=\"nonzero\" fill-opacity=\"1\" /><path clip-path=\"url(#clip880)\" d=\"M534.547 1256.36 L539.57 1256.36 L549.153 1270.57 L558.667 1256.36 L563.69 1256.36 L551.468 1274.46 L551.468 1290.92 L546.769 1290.92 L546.769 1274.46 L534.547 1256.36 Z\" fill=\"#000000\" fill-rule=\"nonzero\" fill-opacity=\"1\" /><polyline clip-path=\"url(#clip880)\" style=\"stroke:#008000; stroke-linecap:round; stroke-linejoin:round; stroke-width:12; stroke-opacity:1; fill:none\" points=\"314.197,1325.48 456.422,1325.48 \"/>\n",
       "<path clip-path=\"url(#clip880)\" d=\"M496.515 1326.55 Q498.02 1327.06 499.432 1328.73 Q500.867 1330.39 502.302 1333.31 L507.047 1342.76 L502.024 1342.76 L497.603 1333.89 Q495.89 1330.42 494.27 1329.28 Q492.672 1328.15 489.895 1328.15 L484.802 1328.15 L484.802 1342.76 L480.126 1342.76 L480.126 1308.2 L490.682 1308.2 Q496.607 1308.2 499.524 1310.67 Q502.441 1313.15 502.441 1318.15 Q502.441 1321.41 500.913 1323.57 Q499.408 1325.72 496.515 1326.55 M484.802 1312.04 L484.802 1324.31 L490.682 1324.31 Q494.061 1324.31 495.774 1322.76 Q497.51 1321.18 497.51 1318.15 Q497.51 1315.12 495.774 1313.59 Q494.061 1312.04 490.682 1312.04 L484.802 1312.04 Z\" fill=\"#000000\" fill-rule=\"nonzero\" fill-opacity=\"1\" /><path clip-path=\"url(#clip880)\" d=\"M532.927 1328.73 L532.927 1330.81 L513.343 1330.81 Q513.621 1335.21 515.982 1337.52 Q518.367 1339.82 522.603 1339.82 Q525.056 1339.82 527.348 1339.21 Q529.663 1338.61 531.931 1337.41 L531.931 1341.44 Q529.64 1342.41 527.232 1342.92 Q524.825 1343.43 522.348 1343.43 Q516.144 1343.43 512.51 1339.82 Q508.899 1336.2 508.899 1330.05 Q508.899 1323.68 512.325 1319.95 Q515.774 1316.2 521.607 1316.2 Q526.839 1316.2 529.871 1319.58 Q532.927 1322.94 532.927 1328.73 M528.667 1327.48 Q528.621 1323.98 526.7 1321.9 Q524.802 1319.82 521.654 1319.82 Q518.089 1319.82 515.936 1321.83 Q513.806 1323.84 513.482 1327.5 L528.667 1327.48 Z\" fill=\"#000000\" fill-rule=\"nonzero\" fill-opacity=\"1\" /><path clip-path=\"url(#clip880)\" d=\"M551.7 1329.72 Q546.538 1329.72 544.547 1330.9 Q542.556 1332.08 542.556 1334.93 Q542.556 1337.2 544.038 1338.54 Q545.542 1339.86 548.112 1339.86 Q551.653 1339.86 553.783 1337.36 Q555.936 1334.84 555.936 1330.67 L555.936 1329.72 L551.7 1329.72 M560.195 1327.96 L560.195 1342.76 L555.936 1342.76 L555.936 1338.82 Q554.478 1341.18 552.302 1342.32 Q550.126 1343.43 546.978 1343.43 Q542.996 1343.43 540.635 1341.2 Q538.297 1338.96 538.297 1335.21 Q538.297 1330.83 541.214 1328.61 Q544.154 1326.39 549.964 1326.39 L555.936 1326.39 L555.936 1325.97 Q555.936 1323.03 553.991 1321.44 Q552.07 1319.82 548.575 1319.82 Q546.353 1319.82 544.246 1320.35 Q542.14 1320.88 540.195 1321.95 L540.195 1318.01 Q542.533 1317.11 544.732 1316.67 Q546.931 1316.2 549.015 1316.2 Q554.64 1316.2 557.417 1319.12 Q560.195 1322.04 560.195 1327.96 Z\" fill=\"#000000\" fill-rule=\"nonzero\" fill-opacity=\"1\" /><path clip-path=\"url(#clip880)\" d=\"M568.968 1306.74 L573.227 1306.74 L573.227 1342.76 L568.968 1342.76 L568.968 1306.74 Z\" fill=\"#000000\" fill-rule=\"nonzero\" fill-opacity=\"1\" /><path clip-path=\"url(#clip880)\" d=\"M582.139 1306.74 L586.399 1306.74 L586.399 1342.76 L582.139 1342.76 L582.139 1306.74 Z\" fill=\"#000000\" fill-rule=\"nonzero\" fill-opacity=\"1\" /><path clip-path=\"url(#clip880)\" d=\"M605.357 1319.82 Q601.931 1319.82 599.94 1322.5 Q597.95 1325.16 597.95 1329.82 Q597.95 1334.47 599.917 1337.15 Q601.908 1339.82 605.357 1339.82 Q608.76 1339.82 610.75 1337.13 Q612.741 1334.45 612.741 1329.82 Q612.741 1325.21 610.75 1322.52 Q608.76 1319.82 605.357 1319.82 M605.357 1316.2 Q610.912 1316.2 614.084 1319.82 Q617.255 1323.43 617.255 1329.82 Q617.255 1336.18 614.084 1339.82 Q610.912 1343.43 605.357 1343.43 Q599.778 1343.43 596.607 1339.82 Q593.459 1336.18 593.459 1329.82 Q593.459 1323.43 596.607 1319.82 Q599.778 1316.2 605.357 1316.2 Z\" fill=\"#000000\" fill-rule=\"nonzero\" fill-opacity=\"1\" /><path clip-path=\"url(#clip880)\" d=\"M642.972 1317.82 L642.972 1321.81 Q641.167 1320.81 639.338 1320.32 Q637.533 1319.82 635.681 1319.82 Q631.537 1319.82 629.246 1322.45 Q626.954 1325.07 626.954 1329.82 Q626.954 1334.56 629.246 1337.2 Q631.537 1339.82 635.681 1339.82 Q637.533 1339.82 639.338 1339.33 Q641.167 1338.82 642.972 1337.82 L642.972 1341.76 Q641.19 1342.59 639.269 1343.01 Q637.371 1343.43 635.218 1343.43 Q629.361 1343.43 625.912 1339.75 Q622.463 1336.07 622.463 1329.82 Q622.463 1323.47 625.935 1319.84 Q629.431 1316.2 635.496 1316.2 Q637.463 1316.2 639.338 1316.62 Q641.213 1317.01 642.972 1317.82 Z\" fill=\"#000000\" fill-rule=\"nonzero\" fill-opacity=\"1\" /><path clip-path=\"url(#clip880)\" d=\"M662.162 1329.72 Q657 1329.72 655.009 1330.9 Q653.019 1332.08 653.019 1334.93 Q653.019 1337.2 654.5 1338.54 Q656.005 1339.86 658.574 1339.86 Q662.116 1339.86 664.245 1337.36 Q666.398 1334.84 666.398 1330.67 L666.398 1329.72 L662.162 1329.72 M670.657 1327.96 L670.657 1342.76 L666.398 1342.76 L666.398 1338.82 Q664.94 1341.18 662.764 1342.32 Q660.588 1343.43 657.44 1343.43 Q653.458 1343.43 651.097 1341.2 Q648.759 1338.96 648.759 1335.21 Q648.759 1330.83 651.676 1328.61 Q654.616 1326.39 660.426 1326.39 L666.398 1326.39 L666.398 1325.97 Q666.398 1323.03 664.454 1321.44 Q662.533 1319.82 659.037 1319.82 Q656.815 1319.82 654.708 1320.35 Q652.602 1320.88 650.658 1321.95 L650.658 1318.01 Q652.996 1317.11 655.195 1316.67 Q657.394 1316.2 659.477 1316.2 Q665.102 1316.2 667.88 1319.12 Q670.657 1322.04 670.657 1327.96 Z\" fill=\"#000000\" fill-rule=\"nonzero\" fill-opacity=\"1\" /><path clip-path=\"url(#clip880)\" d=\"M683.644 1309.47 L683.644 1316.83 L692.417 1316.83 L692.417 1320.14 L683.644 1320.14 L683.644 1334.21 Q683.644 1337.38 684.5 1338.29 Q685.38 1339.19 688.042 1339.19 L692.417 1339.19 L692.417 1342.76 L688.042 1342.76 Q683.111 1342.76 681.236 1340.93 Q679.361 1339.07 679.361 1334.21 L679.361 1320.14 L676.236 1320.14 L676.236 1316.83 L679.361 1316.83 L679.361 1309.47 L683.644 1309.47 Z\" fill=\"#000000\" fill-rule=\"nonzero\" fill-opacity=\"1\" /><path clip-path=\"url(#clip880)\" d=\"M720.194 1328.73 L720.194 1330.81 L700.611 1330.81 Q700.889 1335.21 703.25 1337.52 Q705.634 1339.82 709.87 1339.82 Q712.324 1339.82 714.616 1339.21 Q716.93 1338.61 719.199 1337.41 L719.199 1341.44 Q716.907 1342.41 714.5 1342.92 Q712.092 1343.43 709.616 1343.43 Q703.412 1343.43 699.778 1339.82 Q696.167 1336.2 696.167 1330.05 Q696.167 1323.68 699.592 1319.95 Q703.042 1316.2 708.875 1316.2 Q714.106 1316.2 717.139 1319.58 Q720.194 1322.94 720.194 1328.73 M715.935 1327.48 Q715.889 1323.98 713.967 1321.9 Q712.069 1319.82 708.921 1319.82 Q705.356 1319.82 703.204 1321.83 Q701.074 1323.84 700.75 1327.5 L715.935 1327.48 Z\" fill=\"#000000\" fill-rule=\"nonzero\" fill-opacity=\"1\" /><path clip-path=\"url(#clip880)\" d=\"M747.115 1312.04 L747.115 1325.02 L752.995 1325.02 Q756.259 1325.02 758.041 1323.33 Q759.824 1321.64 759.824 1318.52 Q759.824 1315.42 758.041 1313.73 Q756.259 1312.04 752.995 1312.04 L747.115 1312.04 M742.439 1308.2 L752.995 1308.2 Q758.805 1308.2 761.768 1310.83 Q764.754 1313.45 764.754 1318.52 Q764.754 1323.64 761.768 1326.25 Q758.805 1328.87 752.995 1328.87 L747.115 1328.87 L747.115 1342.76 L742.439 1342.76 L742.439 1308.2 Z\" fill=\"#000000\" fill-rule=\"nonzero\" fill-opacity=\"1\" /><path clip-path=\"url(#clip880)\" d=\"M779.199 1319.82 Q775.773 1319.82 773.782 1322.5 Q771.791 1325.16 771.791 1329.82 Q771.791 1334.47 773.759 1337.15 Q775.749 1339.82 779.199 1339.82 Q782.601 1339.82 784.592 1337.13 Q786.583 1334.45 786.583 1329.82 Q786.583 1325.21 784.592 1322.52 Q782.601 1319.82 779.199 1319.82 M779.199 1316.2 Q784.754 1316.2 787.925 1319.82 Q791.097 1323.43 791.097 1329.82 Q791.097 1336.18 787.925 1339.82 Q784.754 1343.43 779.199 1343.43 Q773.62 1343.43 770.449 1339.82 Q767.3 1336.18 767.3 1329.82 Q767.3 1323.43 770.449 1319.82 Q773.62 1316.2 779.199 1316.2 Z\" fill=\"#000000\" fill-rule=\"nonzero\" fill-opacity=\"1\" /><path clip-path=\"url(#clip880)\" d=\"M813.18 1320.81 Q812.462 1320.39 811.606 1320.21 Q810.772 1320 809.754 1320 Q806.143 1320 804.198 1322.36 Q802.277 1324.7 802.277 1329.1 L802.277 1342.76 L797.995 1342.76 L797.995 1316.83 L802.277 1316.83 L802.277 1320.86 Q803.62 1318.5 805.772 1317.36 Q807.925 1316.2 811.004 1316.2 Q811.444 1316.2 811.976 1316.27 Q812.509 1316.32 813.157 1316.44 L813.18 1320.81 Z\" fill=\"#000000\" fill-rule=\"nonzero\" fill-opacity=\"1\" /><path clip-path=\"url(#clip880)\" d=\"M821.86 1309.47 L821.86 1316.83 L830.633 1316.83 L830.633 1320.14 L821.86 1320.14 L821.86 1334.21 Q821.86 1337.38 822.717 1338.29 Q823.596 1339.19 826.258 1339.19 L830.633 1339.19 L830.633 1342.76 L826.258 1342.76 Q821.328 1342.76 819.453 1340.93 Q817.578 1339.07 817.578 1334.21 L817.578 1320.14 L814.453 1320.14 L814.453 1316.83 L817.578 1316.83 L817.578 1309.47 L821.86 1309.47 Z\" fill=\"#000000\" fill-rule=\"nonzero\" fill-opacity=\"1\" /><path clip-path=\"url(#clip880)\" d=\"M849.36 1306.74 L849.36 1310.28 L845.286 1310.28 Q842.995 1310.28 842.092 1311.2 Q841.212 1312.13 841.212 1314.54 L841.212 1316.83 L848.226 1316.83 L848.226 1320.14 L841.212 1320.14 L841.212 1342.76 L836.93 1342.76 L836.93 1320.14 L832.856 1320.14 L832.856 1316.83 L836.93 1316.83 L836.93 1315.02 Q836.93 1310.7 838.944 1308.73 Q840.957 1306.74 845.332 1306.74 L849.36 1306.74 Z\" fill=\"#000000\" fill-rule=\"nonzero\" fill-opacity=\"1\" /><path clip-path=\"url(#clip880)\" d=\"M862.971 1319.82 Q859.545 1319.82 857.555 1322.5 Q855.564 1325.16 855.564 1329.82 Q855.564 1334.47 857.531 1337.15 Q859.522 1339.82 862.971 1339.82 Q866.374 1339.82 868.365 1337.13 Q870.355 1334.45 870.355 1329.82 Q870.355 1325.21 868.365 1322.52 Q866.374 1319.82 862.971 1319.82 M862.971 1316.2 Q868.527 1316.2 871.698 1319.82 Q874.869 1323.43 874.869 1329.82 Q874.869 1336.18 871.698 1339.82 Q868.527 1343.43 862.971 1343.43 Q857.393 1343.43 854.221 1339.82 Q851.073 1336.18 851.073 1329.82 Q851.073 1323.43 854.221 1319.82 Q857.393 1316.2 862.971 1316.2 Z\" fill=\"#000000\" fill-rule=\"nonzero\" fill-opacity=\"1\" /><path clip-path=\"url(#clip880)\" d=\"M881.929 1306.74 L886.189 1306.74 L886.189 1342.76 L881.929 1342.76 L881.929 1306.74 Z\" fill=\"#000000\" fill-rule=\"nonzero\" fill-opacity=\"1\" /><path clip-path=\"url(#clip880)\" d=\"M895.101 1316.83 L899.36 1316.83 L899.36 1342.76 L895.101 1342.76 L895.101 1316.83 M895.101 1306.74 L899.36 1306.74 L899.36 1312.13 L895.101 1312.13 L895.101 1306.74 Z\" fill=\"#000000\" fill-rule=\"nonzero\" fill-opacity=\"1\" /><path clip-path=\"url(#clip880)\" d=\"M918.318 1319.82 Q914.892 1319.82 912.902 1322.5 Q910.911 1325.16 910.911 1329.82 Q910.911 1334.47 912.878 1337.15 Q914.869 1339.82 918.318 1339.82 Q921.721 1339.82 923.712 1337.13 Q925.702 1334.45 925.702 1329.82 Q925.702 1325.21 923.712 1322.52 Q921.721 1319.82 918.318 1319.82 M918.318 1316.2 Q923.874 1316.2 927.045 1319.82 Q930.216 1323.43 930.216 1329.82 Q930.216 1336.18 927.045 1339.82 Q923.874 1343.43 918.318 1343.43 Q912.74 1343.43 909.568 1339.82 Q906.42 1336.18 906.42 1329.82 Q906.42 1323.43 909.568 1319.82 Q912.74 1316.2 918.318 1316.2 Z\" fill=\"#000000\" fill-rule=\"nonzero\" fill-opacity=\"1\" /><path clip-path=\"url(#clip880)\" d=\"M967.114 1324.12 Q970.471 1324.84 972.346 1327.11 Q974.244 1329.38 974.244 1332.71 Q974.244 1337.82 970.725 1340.63 Q967.207 1343.43 960.725 1343.43 Q958.549 1343.43 956.235 1342.99 Q953.943 1342.57 951.489 1341.71 L951.489 1337.2 Q953.434 1338.33 955.749 1338.91 Q958.063 1339.49 960.586 1339.49 Q964.985 1339.49 967.276 1337.76 Q969.591 1336.02 969.591 1332.71 Q969.591 1329.65 967.438 1327.94 Q965.309 1326.2 961.489 1326.2 L957.461 1326.2 L957.461 1322.36 L961.674 1322.36 Q965.123 1322.36 966.952 1321 Q968.781 1319.61 968.781 1317.01 Q968.781 1314.35 966.883 1312.94 Q965.008 1311.51 961.489 1311.51 Q959.568 1311.51 957.369 1311.92 Q955.17 1312.34 952.531 1313.22 L952.531 1309.05 Q955.193 1308.31 957.508 1307.94 Q959.846 1307.57 961.906 1307.57 Q967.23 1307.57 970.332 1310 Q973.434 1312.41 973.434 1316.53 Q973.434 1319.4 971.79 1321.39 Q970.147 1323.36 967.114 1324.12 Z\" fill=\"#000000\" fill-rule=\"nonzero\" fill-opacity=\"1\" /><path clip-path=\"url(#clip880)\" d=\"M993.109 1311.27 Q989.498 1311.27 987.67 1314.84 Q985.864 1318.38 985.864 1325.51 Q985.864 1332.62 987.67 1336.18 Q989.498 1339.72 993.109 1339.72 Q996.744 1339.72 998.549 1336.18 Q1000.38 1332.62 1000.38 1325.51 Q1000.38 1318.38 998.549 1314.84 Q996.744 1311.27 993.109 1311.27 M993.109 1307.57 Q998.92 1307.57 1001.98 1312.18 Q1005.05 1316.76 1005.05 1325.51 Q1005.05 1334.24 1001.98 1338.84 Q998.92 1343.43 993.109 1343.43 Q987.299 1343.43 984.221 1338.84 Q981.165 1334.24 981.165 1325.51 Q981.165 1316.76 984.221 1312.18 Q987.299 1307.57 993.109 1307.57 Z\" fill=\"#000000\" fill-rule=\"nonzero\" fill-opacity=\"1\" /><path clip-path=\"url(#clip880)\" d=\"M1037.97 1306.78 Q1034.87 1312.11 1033.36 1317.32 Q1031.86 1322.52 1031.86 1327.87 Q1031.86 1333.22 1033.36 1338.47 Q1034.89 1343.7 1037.97 1349.01 L1034.27 1349.01 Q1030.79 1343.57 1029.06 1338.31 Q1027.35 1333.06 1027.35 1327.87 Q1027.35 1322.71 1029.06 1317.48 Q1030.77 1312.25 1034.27 1306.78 L1037.97 1306.78 Z\" fill=\"#000000\" fill-rule=\"nonzero\" fill-opacity=\"1\" /><path clip-path=\"url(#clip880)\" d=\"M1058.02 1329.72 Q1052.85 1329.72 1050.86 1330.9 Q1048.87 1332.08 1048.87 1334.93 Q1048.87 1337.2 1050.35 1338.54 Q1051.86 1339.86 1054.43 1339.86 Q1057.97 1339.86 1060.1 1337.36 Q1062.25 1334.84 1062.25 1330.67 L1062.25 1329.72 L1058.02 1329.72 M1066.51 1327.96 L1066.51 1342.76 L1062.25 1342.76 L1062.25 1338.82 Q1060.79 1341.18 1058.62 1342.32 Q1056.44 1343.43 1053.29 1343.43 Q1049.31 1343.43 1046.95 1341.2 Q1044.61 1338.96 1044.61 1335.21 Q1044.61 1330.83 1047.53 1328.61 Q1050.47 1326.39 1056.28 1326.39 L1062.25 1326.39 L1062.25 1325.97 Q1062.25 1323.03 1060.31 1321.44 Q1058.39 1319.82 1054.89 1319.82 Q1052.67 1319.82 1050.56 1320.35 Q1048.46 1320.88 1046.51 1321.95 L1046.51 1318.01 Q1048.85 1317.11 1051.05 1316.67 Q1053.25 1316.2 1055.33 1316.2 Q1060.96 1316.2 1063.73 1319.12 Q1066.51 1322.04 1066.51 1327.96 Z\" fill=\"#000000\" fill-rule=\"nonzero\" fill-opacity=\"1\" /><path clip-path=\"url(#clip880)\" d=\"M1093.94 1317.82 L1093.94 1321.81 Q1092.14 1320.81 1090.31 1320.32 Q1088.5 1319.82 1086.65 1319.82 Q1082.51 1319.82 1080.22 1322.45 Q1077.92 1325.07 1077.92 1329.82 Q1077.92 1334.56 1080.22 1337.2 Q1082.51 1339.82 1086.65 1339.82 Q1088.5 1339.82 1090.31 1339.33 Q1092.14 1338.82 1093.94 1337.82 L1093.94 1341.76 Q1092.16 1342.59 1090.24 1343.01 Q1088.34 1343.43 1086.19 1343.43 Q1080.33 1343.43 1076.88 1339.75 Q1073.43 1336.07 1073.43 1329.82 Q1073.43 1323.47 1076.91 1319.84 Q1080.4 1316.2 1086.47 1316.2 Q1088.43 1316.2 1090.31 1316.62 Q1092.18 1317.01 1093.94 1317.82 Z\" fill=\"#000000\" fill-rule=\"nonzero\" fill-opacity=\"1\" /><path clip-path=\"url(#clip880)\" d=\"M1105.56 1309.47 L1105.56 1316.83 L1114.34 1316.83 L1114.34 1320.14 L1105.56 1320.14 L1105.56 1334.21 Q1105.56 1337.38 1106.42 1338.29 Q1107.3 1339.19 1109.96 1339.19 L1114.34 1339.19 L1114.34 1342.76 L1109.96 1342.76 Q1105.03 1342.76 1103.16 1340.93 Q1101.28 1339.07 1101.28 1334.21 L1101.28 1320.14 L1098.16 1320.14 L1098.16 1316.83 L1101.28 1316.83 L1101.28 1309.47 L1105.56 1309.47 Z\" fill=\"#000000\" fill-rule=\"nonzero\" fill-opacity=\"1\" /><path clip-path=\"url(#clip880)\" d=\"M1119.5 1332.52 L1119.5 1316.83 L1123.76 1316.83 L1123.76 1332.36 Q1123.76 1336.04 1125.19 1337.89 Q1126.63 1339.72 1129.5 1339.72 Q1132.95 1339.72 1134.94 1337.52 Q1136.95 1335.32 1136.95 1331.53 L1136.95 1316.83 L1141.21 1316.83 L1141.21 1342.76 L1136.95 1342.76 L1136.95 1338.77 Q1135.4 1341.13 1133.34 1342.29 Q1131.3 1343.43 1128.59 1343.43 Q1124.13 1343.43 1121.81 1340.65 Q1119.5 1337.87 1119.5 1332.52 M1130.22 1316.2 L1130.22 1316.2 Z\" fill=\"#000000\" fill-rule=\"nonzero\" fill-opacity=\"1\" /><path clip-path=\"url(#clip880)\" d=\"M1161.77 1329.72 Q1156.6 1329.72 1154.61 1330.9 Q1152.62 1332.08 1152.62 1334.93 Q1152.62 1337.2 1154.1 1338.54 Q1155.61 1339.86 1158.18 1339.86 Q1161.72 1339.86 1163.85 1337.36 Q1166 1334.84 1166 1330.67 L1166 1329.72 L1161.77 1329.72 M1170.26 1327.96 L1170.26 1342.76 L1166 1342.76 L1166 1338.82 Q1164.54 1341.18 1162.37 1342.32 Q1160.19 1343.43 1157.04 1343.43 Q1153.06 1343.43 1150.7 1341.2 Q1148.36 1338.96 1148.36 1335.21 Q1148.36 1330.83 1151.28 1328.61 Q1154.22 1326.39 1160.03 1326.39 L1166 1326.39 L1166 1325.97 Q1166 1323.03 1164.06 1321.44 Q1162.14 1319.82 1158.64 1319.82 Q1156.42 1319.82 1154.31 1320.35 Q1152.21 1320.88 1150.26 1321.95 L1150.26 1318.01 Q1152.6 1317.11 1154.8 1316.67 Q1157 1316.2 1159.08 1316.2 Q1164.71 1316.2 1167.48 1319.12 Q1170.26 1322.04 1170.26 1327.96 Z\" fill=\"#000000\" fill-rule=\"nonzero\" fill-opacity=\"1\" /><path clip-path=\"url(#clip880)\" d=\"M1179.03 1306.74 L1183.29 1306.74 L1183.29 1342.76 L1179.03 1342.76 L1179.03 1306.74 Z\" fill=\"#000000\" fill-rule=\"nonzero\" fill-opacity=\"1\" /><path clip-path=\"url(#clip880)\" d=\"M1191.53 1306.78 L1195.24 1306.78 Q1198.71 1312.25 1200.42 1317.48 Q1202.16 1322.71 1202.16 1327.87 Q1202.16 1333.06 1200.42 1338.31 Q1198.71 1343.57 1195.24 1349.01 L1191.53 1349.01 Q1194.61 1343.7 1196.12 1338.47 Q1197.65 1333.22 1197.65 1327.87 Q1197.65 1322.52 1196.12 1317.32 Q1194.61 1312.11 1191.53 1306.78 Z\" fill=\"#000000\" fill-rule=\"nonzero\" fill-opacity=\"1\" /></svg>\n"
      ],
      "text/html": [
       "<?xml version=\"1.0\" encoding=\"utf-8\"?>\n",
       "<svg xmlns=\"http://www.w3.org/2000/svg\" xmlns:xlink=\"http://www.w3.org/1999/xlink\" width=\"600\" height=\"400\" viewBox=\"0 0 2400 1600\">\n",
       "<defs>\n",
       "  <clipPath id=\"clip930\">\n",
       "    <rect x=\"0\" y=\"0\" width=\"2400\" height=\"1600\"/>\n",
       "  </clipPath>\n",
       "</defs>\n",
       "<path clip-path=\"url(#clip930)\" d=\"M0 1600 L2400 1600 L2400 0 L0 0  Z\" fill=\"#ffffff\" fill-rule=\"evenodd\" fill-opacity=\"1\"/>\n",
       "<defs>\n",
       "  <clipPath id=\"clip931\">\n",
       "    <rect x=\"480\" y=\"0\" width=\"1681\" height=\"1600\"/>\n",
       "  </clipPath>\n",
       "</defs>\n",
       "<path clip-path=\"url(#clip930)\" d=\"M219.38 1423.18 L2352.76 1423.18 L2352.76 47.2441 L219.38 47.2441  Z\" fill=\"#ffffff\" fill-rule=\"evenodd\" fill-opacity=\"1\"/>\n",
       "<defs>\n",
       "  <clipPath id=\"clip932\">\n",
       "    <rect x=\"219\" y=\"47\" width=\"2134\" height=\"1377\"/>\n",
       "  </clipPath>\n",
       "</defs>\n",
       "<polyline clip-path=\"url(#clip932)\" style=\"stroke:#000000; stroke-linecap:round; stroke-linejoin:round; stroke-width:2; stroke-opacity:0.1; fill:none\" points=\"270.97,1423.18 270.97,47.2441 \"/>\n",
       "<polyline clip-path=\"url(#clip932)\" style=\"stroke:#000000; stroke-linecap:round; stroke-linejoin:round; stroke-width:2; stroke-opacity:0.1; fill:none\" points=\"710.406,1423.18 710.406,47.2441 \"/>\n",
       "<polyline clip-path=\"url(#clip932)\" style=\"stroke:#000000; stroke-linecap:round; stroke-linejoin:round; stroke-width:2; stroke-opacity:0.1; fill:none\" points=\"1149.84,1423.18 1149.84,47.2441 \"/>\n",
       "<polyline clip-path=\"url(#clip932)\" style=\"stroke:#000000; stroke-linecap:round; stroke-linejoin:round; stroke-width:2; stroke-opacity:0.1; fill:none\" points=\"1589.28,1423.18 1589.28,47.2441 \"/>\n",
       "<polyline clip-path=\"url(#clip932)\" style=\"stroke:#000000; stroke-linecap:round; stroke-linejoin:round; stroke-width:2; stroke-opacity:0.1; fill:none\" points=\"2028.72,1423.18 2028.72,47.2441 \"/>\n",
       "<polyline clip-path=\"url(#clip930)\" style=\"stroke:#000000; stroke-linecap:round; stroke-linejoin:round; stroke-width:4; stroke-opacity:1; fill:none\" points=\"219.38,1423.18 2352.76,1423.18 \"/>\n",
       "<polyline clip-path=\"url(#clip930)\" style=\"stroke:#000000; stroke-linecap:round; stroke-linejoin:round; stroke-width:4; stroke-opacity:1; fill:none\" points=\"270.97,1423.18 270.97,1404.28 \"/>\n",
       "<polyline clip-path=\"url(#clip930)\" style=\"stroke:#000000; stroke-linecap:round; stroke-linejoin:round; stroke-width:4; stroke-opacity:1; fill:none\" points=\"710.406,1423.18 710.406,1404.28 \"/>\n",
       "<polyline clip-path=\"url(#clip930)\" style=\"stroke:#000000; stroke-linecap:round; stroke-linejoin:round; stroke-width:4; stroke-opacity:1; fill:none\" points=\"1149.84,1423.18 1149.84,1404.28 \"/>\n",
       "<polyline clip-path=\"url(#clip930)\" style=\"stroke:#000000; stroke-linecap:round; stroke-linejoin:round; stroke-width:4; stroke-opacity:1; fill:none\" points=\"1589.28,1423.18 1589.28,1404.28 \"/>\n",
       "<polyline clip-path=\"url(#clip930)\" style=\"stroke:#000000; stroke-linecap:round; stroke-linejoin:round; stroke-width:4; stroke-opacity:1; fill:none\" points=\"2028.72,1423.18 2028.72,1404.28 \"/>\n",
       "<path clip-path=\"url(#clip930)\" d=\"M270.97 1454.1 Q267.359 1454.1 265.53 1457.66 Q263.725 1461.2 263.725 1468.33 Q263.725 1475.44 265.53 1479.01 Q267.359 1482.55 270.97 1482.55 Q274.604 1482.55 276.41 1479.01 Q278.238 1475.44 278.238 1468.33 Q278.238 1461.2 276.41 1457.66 Q274.604 1454.1 270.97 1454.1 M270.97 1450.39 Q276.78 1450.39 279.836 1455 Q282.914 1459.58 282.914 1468.33 Q282.914 1477.06 279.836 1481.67 Q276.78 1486.25 270.97 1486.25 Q265.16 1486.25 262.081 1481.67 Q259.026 1477.06 259.026 1468.33 Q259.026 1459.58 262.081 1455 Q265.16 1450.39 270.97 1450.39 Z\" fill=\"#000000\" fill-rule=\"nonzero\" fill-opacity=\"1\" /><path clip-path=\"url(#clip930)\" d=\"M685.106 1451.02 L703.462 1451.02 L703.462 1454.96 L689.388 1454.96 L689.388 1463.43 Q690.406 1463.08 691.425 1462.92 Q692.444 1462.73 693.462 1462.73 Q699.249 1462.73 702.629 1465.9 Q706.008 1469.08 706.008 1474.49 Q706.008 1480.07 702.536 1483.17 Q699.064 1486.25 692.744 1486.25 Q690.569 1486.25 688.3 1485.88 Q686.055 1485.51 683.647 1484.77 L683.647 1480.07 Q685.731 1481.2 687.953 1481.76 Q690.175 1482.32 692.652 1482.32 Q696.656 1482.32 698.994 1480.21 Q701.332 1478.1 701.332 1474.49 Q701.332 1470.88 698.994 1468.77 Q696.656 1466.67 692.652 1466.67 Q690.777 1466.67 688.902 1467.08 Q687.05 1467.5 685.106 1468.38 L685.106 1451.02 Z\" fill=\"#000000\" fill-rule=\"nonzero\" fill-opacity=\"1\" /><path clip-path=\"url(#clip930)\" d=\"M725.221 1454.1 Q721.61 1454.1 719.781 1457.66 Q717.976 1461.2 717.976 1468.33 Q717.976 1475.44 719.781 1479.01 Q721.61 1482.55 725.221 1482.55 Q728.855 1482.55 730.661 1479.01 Q732.49 1475.44 732.49 1468.33 Q732.49 1461.2 730.661 1457.66 Q728.855 1454.1 725.221 1454.1 M725.221 1450.39 Q731.031 1450.39 734.087 1455 Q737.165 1459.58 737.165 1468.33 Q737.165 1477.06 734.087 1481.67 Q731.031 1486.25 725.221 1486.25 Q719.411 1486.25 716.332 1481.67 Q713.277 1477.06 713.277 1468.33 Q713.277 1459.58 716.332 1455 Q719.411 1450.39 725.221 1450.39 Z\" fill=\"#000000\" fill-rule=\"nonzero\" fill-opacity=\"1\" /><path clip-path=\"url(#clip930)\" d=\"M1109.45 1481.64 L1117.09 1481.64 L1117.09 1455.28 L1108.78 1456.95 L1108.78 1452.69 L1117.04 1451.02 L1121.72 1451.02 L1121.72 1481.64 L1129.36 1481.64 L1129.36 1485.58 L1109.45 1485.58 L1109.45 1481.64 Z\" fill=\"#000000\" fill-rule=\"nonzero\" fill-opacity=\"1\" /><path clip-path=\"url(#clip930)\" d=\"M1148.8 1454.1 Q1145.19 1454.1 1143.36 1457.66 Q1141.56 1461.2 1141.56 1468.33 Q1141.56 1475.44 1143.36 1479.01 Q1145.19 1482.55 1148.8 1482.55 Q1152.44 1482.55 1154.24 1479.01 Q1156.07 1475.44 1156.07 1468.33 Q1156.07 1461.2 1154.24 1457.66 Q1152.44 1454.1 1148.8 1454.1 M1148.8 1450.39 Q1154.61 1450.39 1157.67 1455 Q1160.75 1459.58 1160.75 1468.33 Q1160.75 1477.06 1157.67 1481.67 Q1154.61 1486.25 1148.8 1486.25 Q1142.99 1486.25 1139.91 1481.67 Q1136.86 1477.06 1136.86 1468.33 Q1136.86 1459.58 1139.91 1455 Q1142.99 1450.39 1148.8 1450.39 Z\" fill=\"#000000\" fill-rule=\"nonzero\" fill-opacity=\"1\" /><path clip-path=\"url(#clip930)\" d=\"M1178.96 1454.1 Q1175.35 1454.1 1173.52 1457.66 Q1171.72 1461.2 1171.72 1468.33 Q1171.72 1475.44 1173.52 1479.01 Q1175.35 1482.55 1178.96 1482.55 Q1182.6 1482.55 1184.4 1479.01 Q1186.23 1475.44 1186.23 1468.33 Q1186.23 1461.2 1184.4 1457.66 Q1182.6 1454.1 1178.96 1454.1 M1178.96 1450.39 Q1184.77 1450.39 1187.83 1455 Q1190.91 1459.58 1190.91 1468.33 Q1190.91 1477.06 1187.83 1481.67 Q1184.77 1486.25 1178.96 1486.25 Q1173.15 1486.25 1170.07 1481.67 Q1167.02 1477.06 1167.02 1468.33 Q1167.02 1459.58 1170.07 1455 Q1173.15 1450.39 1178.96 1450.39 Z\" fill=\"#000000\" fill-rule=\"nonzero\" fill-opacity=\"1\" /><path clip-path=\"url(#clip930)\" d=\"M1548.89 1481.64 L1556.52 1481.64 L1556.52 1455.28 L1548.21 1456.95 L1548.21 1452.69 L1556.48 1451.02 L1561.15 1451.02 L1561.15 1481.64 L1568.79 1481.64 L1568.79 1485.58 L1548.89 1485.58 L1548.89 1481.64 Z\" fill=\"#000000\" fill-rule=\"nonzero\" fill-opacity=\"1\" /><path clip-path=\"url(#clip930)\" d=\"M1578.28 1451.02 L1596.64 1451.02 L1596.64 1454.96 L1582.57 1454.96 L1582.57 1463.43 Q1583.58 1463.08 1584.6 1462.92 Q1585.62 1462.73 1586.64 1462.73 Q1592.43 1462.73 1595.81 1465.9 Q1599.19 1469.08 1599.19 1474.49 Q1599.19 1480.07 1595.71 1483.17 Q1592.24 1486.25 1585.92 1486.25 Q1583.75 1486.25 1581.48 1485.88 Q1579.23 1485.51 1576.83 1484.77 L1576.83 1480.07 Q1578.91 1481.2 1581.13 1481.76 Q1583.35 1482.32 1585.83 1482.32 Q1589.83 1482.32 1592.17 1480.21 Q1594.51 1478.1 1594.51 1474.49 Q1594.51 1470.88 1592.17 1468.77 Q1589.83 1466.67 1585.83 1466.67 Q1583.96 1466.67 1582.08 1467.08 Q1580.23 1467.5 1578.28 1468.38 L1578.28 1451.02 Z\" fill=\"#000000\" fill-rule=\"nonzero\" fill-opacity=\"1\" /><path clip-path=\"url(#clip930)\" d=\"M1618.4 1454.1 Q1614.79 1454.1 1612.96 1457.66 Q1611.15 1461.2 1611.15 1468.33 Q1611.15 1475.44 1612.96 1479.01 Q1614.79 1482.55 1618.4 1482.55 Q1622.03 1482.55 1623.84 1479.01 Q1625.67 1475.44 1625.67 1468.33 Q1625.67 1461.2 1623.84 1457.66 Q1622.03 1454.1 1618.4 1454.1 M1618.4 1450.39 Q1624.21 1450.39 1627.27 1455 Q1630.34 1459.58 1630.34 1468.33 Q1630.34 1477.06 1627.27 1481.67 Q1624.21 1486.25 1618.4 1486.25 Q1612.59 1486.25 1609.51 1481.67 Q1606.45 1477.06 1606.45 1468.33 Q1606.45 1459.58 1609.51 1455 Q1612.59 1450.39 1618.4 1450.39 Z\" fill=\"#000000\" fill-rule=\"nonzero\" fill-opacity=\"1\" /><path clip-path=\"url(#clip930)\" d=\"M1992.41 1481.64 L2008.73 1481.64 L2008.73 1485.58 L1986.78 1485.58 L1986.78 1481.64 Q1989.44 1478.89 1994.03 1474.26 Q1998.63 1469.61 1999.82 1468.27 Q2002.06 1465.74 2002.94 1464.01 Q2003.84 1462.25 2003.84 1460.56 Q2003.84 1457.8 2001.9 1456.07 Q1999.98 1454.33 1996.88 1454.33 Q1994.68 1454.33 1992.22 1455.09 Q1989.79 1455.86 1987.01 1457.41 L1987.01 1452.69 Q1989.84 1451.55 1992.29 1450.97 Q1994.75 1450.39 1996.78 1450.39 Q2002.15 1450.39 2005.35 1453.08 Q2008.54 1455.77 2008.54 1460.26 Q2008.54 1462.39 2007.73 1464.31 Q2006.94 1466.2 2004.84 1468.8 Q2004.26 1469.47 2001.16 1472.69 Q1998.06 1475.88 1992.41 1481.64 Z\" fill=\"#000000\" fill-rule=\"nonzero\" fill-opacity=\"1\" /><path clip-path=\"url(#clip930)\" d=\"M2028.54 1454.1 Q2024.93 1454.1 2023.1 1457.66 Q2021.3 1461.2 2021.3 1468.33 Q2021.3 1475.44 2023.1 1479.01 Q2024.93 1482.55 2028.54 1482.55 Q2032.18 1482.55 2033.98 1479.01 Q2035.81 1475.44 2035.81 1468.33 Q2035.81 1461.2 2033.98 1457.66 Q2032.18 1454.1 2028.54 1454.1 M2028.54 1450.39 Q2034.35 1450.39 2037.41 1455 Q2040.49 1459.58 2040.49 1468.33 Q2040.49 1477.06 2037.41 1481.67 Q2034.35 1486.25 2028.54 1486.25 Q2022.73 1486.25 2019.65 1481.67 Q2016.6 1477.06 2016.6 1468.33 Q2016.6 1459.58 2019.65 1455 Q2022.73 1450.39 2028.54 1450.39 Z\" fill=\"#000000\" fill-rule=\"nonzero\" fill-opacity=\"1\" /><path clip-path=\"url(#clip930)\" d=\"M2058.7 1454.1 Q2055.09 1454.1 2053.26 1457.66 Q2051.46 1461.2 2051.46 1468.33 Q2051.46 1475.44 2053.26 1479.01 Q2055.09 1482.55 2058.7 1482.55 Q2062.34 1482.55 2064.14 1479.01 Q2065.97 1475.44 2065.97 1468.33 Q2065.97 1461.2 2064.14 1457.66 Q2062.34 1454.1 2058.7 1454.1 M2058.7 1450.39 Q2064.51 1450.39 2067.57 1455 Q2070.65 1459.58 2070.65 1468.33 Q2070.65 1477.06 2067.57 1481.67 Q2064.51 1486.25 2058.7 1486.25 Q2052.89 1486.25 2049.81 1481.67 Q2046.76 1477.06 2046.76 1468.33 Q2046.76 1459.58 2049.81 1455 Q2052.89 1450.39 2058.7 1450.39 Z\" fill=\"#000000\" fill-rule=\"nonzero\" fill-opacity=\"1\" /><path clip-path=\"url(#clip930)\" d=\"M875.655 1520.52 L915.854 1520.52 L915.854 1525.93 L898.985 1525.93 L898.985 1568.04 L892.524 1568.04 L892.524 1525.93 L875.655 1525.93 L875.655 1520.52 Z\" fill=\"#000000\" fill-rule=\"nonzero\" fill-opacity=\"1\" /><path clip-path=\"url(#clip930)\" d=\"M932.883 1537.87 Q931.896 1537.3 930.718 1537.04 Q929.573 1536.76 928.172 1536.76 Q923.207 1536.76 920.533 1540 Q917.891 1543.22 917.891 1549.27 L917.891 1568.04 L912.003 1568.04 L912.003 1532.4 L917.891 1532.4 L917.891 1537.93 Q919.738 1534.69 922.698 1533.13 Q925.658 1531.54 929.891 1531.54 Q930.496 1531.54 931.228 1531.63 Q931.96 1531.7 932.851 1531.85 L932.883 1537.87 Z\" fill=\"#000000\" fill-rule=\"nonzero\" fill-opacity=\"1\" /><path clip-path=\"url(#clip930)\" d=\"M955.226 1550.12 Q948.129 1550.12 945.391 1551.75 Q942.654 1553.37 942.654 1557.29 Q942.654 1560.4 944.691 1562.25 Q946.76 1564.07 950.293 1564.07 Q955.163 1564.07 958.091 1560.63 Q961.051 1557.16 961.051 1551.43 L961.051 1550.12 L955.226 1550.12 M966.907 1547.71 L966.907 1568.04 L961.051 1568.04 L961.051 1562.63 Q959.046 1565.88 956.054 1567.44 Q953.062 1568.97 948.733 1568.97 Q943.259 1568.97 940.012 1565.91 Q936.798 1562.82 936.798 1557.67 Q936.798 1551.65 940.808 1548.6 Q944.85 1545.54 952.839 1545.54 L961.051 1545.54 L961.051 1544.97 Q961.051 1540.93 958.377 1538.73 Q955.736 1536.5 950.929 1536.5 Q947.874 1536.5 944.978 1537.23 Q942.081 1537.97 939.408 1539.43 L939.408 1534.02 Q942.622 1532.78 945.646 1532.17 Q948.67 1531.54 951.534 1531.54 Q959.269 1531.54 963.088 1535.55 Q966.907 1539.56 966.907 1547.71 Z\" fill=\"#000000\" fill-rule=\"nonzero\" fill-opacity=\"1\" /><path clip-path=\"url(#clip930)\" d=\"M1002.43 1537.81 L1002.43 1518.52 L1008.28 1518.52 L1008.28 1568.04 L1002.43 1568.04 L1002.43 1562.7 Q1000.58 1565.88 997.749 1567.44 Q994.948 1568.97 991.002 1568.97 Q984.54 1568.97 980.466 1563.81 Q976.424 1558.65 976.424 1550.25 Q976.424 1541.85 980.466 1536.69 Q984.54 1531.54 991.002 1531.54 Q994.948 1531.54 997.749 1533.1 Q1000.58 1534.62 1002.43 1537.81 M982.472 1550.25 Q982.472 1556.71 985.113 1560.4 Q987.787 1564.07 992.434 1564.07 Q997.081 1564.07 999.754 1560.4 Q1002.43 1556.71 1002.43 1550.25 Q1002.43 1543.79 999.754 1540.13 Q997.081 1536.44 992.434 1536.44 Q987.787 1536.44 985.113 1540.13 Q982.472 1543.79 982.472 1550.25 Z\" fill=\"#000000\" fill-rule=\"nonzero\" fill-opacity=\"1\" /><path clip-path=\"url(#clip930)\" d=\"M1020.35 1532.4 L1026.2 1532.4 L1026.2 1568.04 L1020.35 1568.04 L1020.35 1532.4 M1020.35 1518.52 L1026.2 1518.52 L1026.2 1525.93 L1020.35 1525.93 L1020.35 1518.52 Z\" fill=\"#000000\" fill-rule=\"nonzero\" fill-opacity=\"1\" /><path clip-path=\"url(#clip930)\" d=\"M1068.09 1546.53 L1068.09 1568.04 L1062.23 1568.04 L1062.23 1546.72 Q1062.23 1541.66 1060.26 1539.14 Q1058.29 1536.63 1054.34 1536.63 Q1049.6 1536.63 1046.86 1539.65 Q1044.12 1542.68 1044.12 1547.9 L1044.12 1568.04 L1038.24 1568.04 L1038.24 1532.4 L1044.12 1532.4 L1044.12 1537.93 Q1046.22 1534.72 1049.06 1533.13 Q1051.92 1531.54 1055.65 1531.54 Q1061.79 1531.54 1064.94 1535.36 Q1068.09 1539.14 1068.09 1546.53 Z\" fill=\"#000000\" fill-rule=\"nonzero\" fill-opacity=\"1\" /><path clip-path=\"url(#clip930)\" d=\"M1103.23 1549.81 Q1103.23 1543.44 1100.59 1539.94 Q1097.98 1536.44 1093.23 1536.44 Q1088.52 1536.44 1085.88 1539.94 Q1083.27 1543.44 1083.27 1549.81 Q1083.27 1556.14 1085.88 1559.64 Q1088.52 1563.14 1093.23 1563.14 Q1097.98 1563.14 1100.59 1559.64 Q1103.23 1556.14 1103.23 1549.81 M1109.09 1563.62 Q1109.09 1572.72 1105.04 1577.15 Q1101 1581.6 1092.66 1581.6 Q1089.57 1581.6 1086.84 1581.13 Q1084.1 1580.68 1081.52 1579.72 L1081.52 1574.03 Q1084.1 1575.43 1086.61 1576.1 Q1089.13 1576.76 1091.74 1576.76 Q1097.5 1576.76 1100.36 1573.74 Q1103.23 1570.75 1103.23 1564.67 L1103.23 1561.77 Q1101.41 1564.92 1098.58 1566.48 Q1095.75 1568.04 1091.8 1568.04 Q1085.25 1568.04 1081.24 1563.05 Q1077.23 1558.05 1077.23 1549.81 Q1077.23 1541.53 1081.24 1536.53 Q1085.25 1531.54 1091.8 1531.54 Q1095.75 1531.54 1098.58 1533.1 Q1101.41 1534.66 1103.23 1537.81 L1103.23 1532.4 L1109.09 1532.4 L1109.09 1563.62 Z\" fill=\"#000000\" fill-rule=\"nonzero\" fill-opacity=\"1\" /><path clip-path=\"url(#clip930)\" d=\"M1148.55 1525.81 L1148.55 1562.76 L1156.32 1562.76 Q1166.15 1562.76 1170.71 1558.3 Q1175.29 1553.85 1175.29 1544.24 Q1175.29 1534.69 1170.71 1530.26 Q1166.15 1525.81 1156.32 1525.81 L1148.55 1525.81 M1142.12 1520.52 L1155.33 1520.52 Q1169.15 1520.52 1175.61 1526.28 Q1182.07 1532.01 1182.07 1544.24 Q1182.07 1556.52 1175.58 1562.28 Q1169.08 1568.04 1155.33 1568.04 L1142.12 1568.04 L1142.12 1520.52 Z\" fill=\"#000000\" fill-rule=\"nonzero\" fill-opacity=\"1\" /><path clip-path=\"url(#clip930)\" d=\"M1208.26 1550.12 Q1201.17 1550.12 1198.43 1551.75 Q1195.69 1553.37 1195.69 1557.29 Q1195.69 1560.4 1197.73 1562.25 Q1199.8 1564.07 1203.33 1564.07 Q1208.2 1564.07 1211.13 1560.63 Q1214.09 1557.16 1214.09 1551.43 L1214.09 1550.12 L1208.26 1550.12 M1219.94 1547.71 L1219.94 1568.04 L1214.09 1568.04 L1214.09 1562.63 Q1212.08 1565.88 1209.09 1567.44 Q1206.1 1568.97 1201.77 1568.97 Q1196.3 1568.97 1193.05 1565.91 Q1189.83 1562.82 1189.83 1557.67 Q1189.83 1551.65 1193.84 1548.6 Q1197.89 1545.54 1205.88 1545.54 L1214.09 1545.54 L1214.09 1544.97 Q1214.09 1540.93 1211.41 1538.73 Q1208.77 1536.5 1203.97 1536.5 Q1200.91 1536.5 1198.01 1537.23 Q1195.12 1537.97 1192.44 1539.43 L1192.44 1534.02 Q1195.66 1532.78 1198.68 1532.17 Q1201.71 1531.54 1204.57 1531.54 Q1212.31 1531.54 1216.12 1535.55 Q1219.94 1539.56 1219.94 1547.71 Z\" fill=\"#000000\" fill-rule=\"nonzero\" fill-opacity=\"1\" /><path clip-path=\"url(#clip930)\" d=\"M1246.84 1571.35 Q1244.36 1577.72 1242 1579.66 Q1239.65 1581.6 1235.7 1581.6 L1231.02 1581.6 L1231.02 1576.7 L1234.46 1576.7 Q1236.88 1576.7 1238.21 1575.56 Q1239.55 1574.41 1241.17 1570.14 L1242.22 1567.47 L1227.81 1532.4 L1234.01 1532.4 L1245.15 1560.28 L1256.29 1532.4 L1262.5 1532.4 L1246.84 1571.35 Z\" fill=\"#000000\" fill-rule=\"nonzero\" fill-opacity=\"1\" /><path clip-path=\"url(#clip930)\" d=\"M1291.56 1520.52 L1297.99 1520.52 L1297.99 1568.04 L1291.56 1568.04 L1291.56 1520.52 Z\" fill=\"#000000\" fill-rule=\"nonzero\" fill-opacity=\"1\" /><path clip-path=\"url(#clip930)\" d=\"M1340.16 1546.53 L1340.16 1568.04 L1334.3 1568.04 L1334.3 1546.72 Q1334.3 1541.66 1332.33 1539.14 Q1330.36 1536.63 1326.41 1536.63 Q1321.67 1536.63 1318.93 1539.65 Q1316.19 1542.68 1316.19 1547.9 L1316.19 1568.04 L1310.31 1568.04 L1310.31 1532.4 L1316.19 1532.4 L1316.19 1537.93 Q1318.29 1534.72 1321.13 1533.13 Q1323.99 1531.54 1327.72 1531.54 Q1333.86 1531.54 1337.01 1535.36 Q1340.16 1539.14 1340.16 1546.53 Z\" fill=\"#000000\" fill-rule=\"nonzero\" fill-opacity=\"1\" /><path clip-path=\"url(#clip930)\" d=\"M1375.3 1537.81 L1375.3 1518.52 L1381.16 1518.52 L1381.16 1568.04 L1375.3 1568.04 L1375.3 1562.7 Q1373.45 1565.88 1370.62 1567.44 Q1367.82 1568.97 1363.87 1568.97 Q1357.41 1568.97 1353.34 1563.81 Q1349.3 1558.65 1349.3 1550.25 Q1349.3 1541.85 1353.34 1536.69 Q1357.41 1531.54 1363.87 1531.54 Q1367.82 1531.54 1370.62 1533.1 Q1373.45 1534.62 1375.3 1537.81 M1355.34 1550.25 Q1355.34 1556.71 1357.98 1560.4 Q1360.66 1564.07 1365.31 1564.07 Q1369.95 1564.07 1372.63 1560.4 Q1375.3 1556.71 1375.3 1550.25 Q1375.3 1543.79 1372.63 1540.13 Q1369.95 1536.44 1365.31 1536.44 Q1360.66 1536.44 1357.98 1540.13 Q1355.34 1543.79 1355.34 1550.25 Z\" fill=\"#000000\" fill-rule=\"nonzero\" fill-opacity=\"1\" /><path clip-path=\"url(#clip930)\" d=\"M1423.71 1548.76 L1423.71 1551.62 L1396.78 1551.62 Q1397.17 1557.67 1400.41 1560.85 Q1403.69 1564 1409.51 1564 Q1412.89 1564 1416.04 1563.17 Q1419.22 1562.35 1422.34 1560.69 L1422.34 1566.23 Q1419.19 1567.57 1415.88 1568.27 Q1412.57 1568.97 1409.16 1568.97 Q1400.63 1568.97 1395.64 1564 Q1390.67 1559.04 1390.67 1550.57 Q1390.67 1541.82 1395.38 1536.69 Q1400.13 1531.54 1408.15 1531.54 Q1415.34 1531.54 1419.51 1536.18 Q1423.71 1540.8 1423.71 1548.76 M1417.85 1547.04 Q1417.79 1542.23 1415.15 1539.37 Q1412.54 1536.5 1408.21 1536.5 Q1403.31 1536.5 1400.35 1539.27 Q1397.42 1542.04 1396.97 1547.07 L1417.85 1547.04 Z\" fill=\"#000000\" fill-rule=\"nonzero\" fill-opacity=\"1\" /><path clip-path=\"url(#clip930)\" d=\"M1461.81 1532.4 L1448.92 1549.74 L1462.48 1568.04 L1455.57 1568.04 L1445.19 1554.04 L1434.82 1568.04 L1427.91 1568.04 L1441.76 1549.39 L1429.09 1532.4 L1436 1532.4 L1445.45 1545.1 L1454.9 1532.4 L1461.81 1532.4 Z\" fill=\"#000000\" fill-rule=\"nonzero\" fill-opacity=\"1\" /><path clip-path=\"url(#clip930)\" d=\"M1505.54 1518.58 Q1501.28 1525.9 1499.21 1533.06 Q1497.14 1540.23 1497.14 1547.58 Q1497.14 1554.93 1499.21 1562.16 Q1501.31 1569.35 1505.54 1576.64 L1500.45 1576.64 Q1495.67 1569.16 1493.29 1561.93 Q1490.93 1554.71 1490.93 1547.58 Q1490.93 1540.48 1493.29 1533.29 Q1495.64 1526.09 1500.45 1518.58 L1505.54 1518.58 Z\" fill=\"#000000\" fill-rule=\"nonzero\" fill-opacity=\"1\" /><path clip-path=\"url(#clip930)\" d=\"M1523.27 1562.63 L1545.71 1562.63 L1545.71 1568.04 L1515.54 1568.04 L1515.54 1562.63 Q1519.2 1558.85 1525.5 1552.48 Q1531.83 1546.08 1533.46 1544.24 Q1536.54 1540.77 1537.75 1538.38 Q1538.99 1535.96 1538.99 1533.64 Q1538.99 1529.85 1536.32 1527.46 Q1533.68 1525.08 1529.41 1525.08 Q1526.39 1525.08 1523.02 1526.13 Q1519.67 1527.18 1515.85 1529.31 L1515.85 1522.82 Q1519.74 1521.26 1523.11 1520.46 Q1526.48 1519.66 1529.29 1519.66 Q1536.67 1519.66 1541.06 1523.36 Q1545.45 1527.05 1545.45 1533.22 Q1545.45 1536.15 1544.34 1538.79 Q1543.26 1541.4 1540.36 1544.97 Q1539.57 1545.89 1535.3 1550.32 Q1531.04 1554.71 1523.27 1562.63 Z\" fill=\"#000000\" fill-rule=\"nonzero\" fill-opacity=\"1\" /><path clip-path=\"url(#clip930)\" d=\"M1572.95 1524.76 Q1567.99 1524.76 1565.47 1529.66 Q1562.99 1534.53 1562.99 1544.33 Q1562.99 1554.1 1565.47 1559 Q1567.99 1563.87 1572.95 1563.87 Q1577.95 1563.87 1580.43 1559 Q1582.95 1554.1 1582.95 1544.33 Q1582.95 1534.53 1580.43 1529.66 Q1577.95 1524.76 1572.95 1524.76 M1572.95 1519.66 Q1580.94 1519.66 1585.14 1526 Q1589.38 1532.3 1589.38 1544.33 Q1589.38 1556.33 1585.14 1562.66 Q1580.94 1568.97 1572.95 1568.97 Q1564.97 1568.97 1560.73 1562.66 Q1556.53 1556.33 1556.53 1544.33 Q1556.53 1532.3 1560.73 1526 Q1564.97 1519.66 1572.95 1519.66 Z\" fill=\"#000000\" fill-rule=\"nonzero\" fill-opacity=\"1\" /><path clip-path=\"url(#clip930)\" d=\"M1606.22 1562.63 L1628.65 1562.63 L1628.65 1568.04 L1598.48 1568.04 L1598.48 1562.63 Q1602.14 1558.85 1608.44 1552.48 Q1614.78 1546.08 1616.4 1544.24 Q1619.49 1540.77 1620.7 1538.38 Q1621.94 1535.96 1621.94 1533.64 Q1621.94 1529.85 1619.27 1527.46 Q1616.62 1525.08 1612.36 1525.08 Q1609.33 1525.08 1605.96 1526.13 Q1602.62 1527.18 1598.8 1529.31 L1598.8 1522.82 Q1602.68 1521.26 1606.06 1520.46 Q1609.43 1519.66 1612.23 1519.66 Q1619.62 1519.66 1624.01 1523.36 Q1628.4 1527.05 1628.4 1533.22 Q1628.4 1536.15 1627.29 1538.79 Q1626.2 1541.4 1623.31 1544.97 Q1622.51 1545.89 1618.25 1550.32 Q1613.98 1554.71 1606.22 1562.63 Z\" fill=\"#000000\" fill-rule=\"nonzero\" fill-opacity=\"1\" /><path clip-path=\"url(#clip930)\" d=\"M1661.63 1542.42 Q1666.24 1543.41 1668.82 1546.53 Q1671.43 1549.65 1671.43 1554.23 Q1671.43 1561.26 1666.59 1565.12 Q1661.76 1568.97 1652.84 1568.97 Q1649.85 1568.97 1646.67 1568.36 Q1643.52 1567.79 1640.14 1566.61 L1640.14 1560.4 Q1642.82 1561.96 1646 1562.76 Q1649.18 1563.56 1652.65 1563.56 Q1658.7 1563.56 1661.85 1561.17 Q1665.03 1558.78 1665.03 1554.23 Q1665.03 1550.03 1662.07 1547.67 Q1659.15 1545.29 1653.89 1545.29 L1648.36 1545.29 L1648.36 1540 L1654.15 1540 Q1658.89 1540 1661.41 1538.13 Q1663.92 1536.22 1663.92 1532.65 Q1663.92 1528.99 1661.31 1527.05 Q1658.73 1525.08 1653.89 1525.08 Q1651.25 1525.08 1648.23 1525.65 Q1645.21 1526.22 1641.58 1527.43 L1641.58 1521.7 Q1645.24 1520.68 1648.42 1520.17 Q1651.63 1519.66 1654.47 1519.66 Q1661.79 1519.66 1666.05 1523.01 Q1670.32 1526.32 1670.32 1531.98 Q1670.32 1535.93 1668.06 1538.67 Q1665.8 1541.37 1661.63 1542.42 Z\" fill=\"#000000\" fill-rule=\"nonzero\" fill-opacity=\"1\" /><path clip-path=\"url(#clip930)\" d=\"M1681.87 1518.58 L1686.96 1518.58 Q1691.74 1526.09 1694.09 1533.29 Q1696.48 1540.48 1696.48 1547.58 Q1696.48 1554.71 1694.09 1561.93 Q1691.74 1569.16 1686.96 1576.64 L1681.87 1576.64 Q1686.1 1569.35 1688.17 1562.16 Q1690.27 1554.93 1690.27 1547.58 Q1690.27 1540.23 1688.17 1533.06 Q1686.1 1525.9 1681.87 1518.58 Z\" fill=\"#000000\" fill-rule=\"nonzero\" fill-opacity=\"1\" /><polyline clip-path=\"url(#clip932)\" style=\"stroke:#000000; stroke-linecap:round; stroke-linejoin:round; stroke-width:2; stroke-opacity:0.1; fill:none\" points=\"219.38,1387.88 2352.76,1387.88 \"/>\n",
       "<polyline clip-path=\"url(#clip932)\" style=\"stroke:#000000; stroke-linecap:round; stroke-linejoin:round; stroke-width:2; stroke-opacity:0.1; fill:none\" points=\"219.38,983.478 2352.76,983.478 \"/>\n",
       "<polyline clip-path=\"url(#clip932)\" style=\"stroke:#000000; stroke-linecap:round; stroke-linejoin:round; stroke-width:2; stroke-opacity:0.1; fill:none\" points=\"219.38,579.072 2352.76,579.072 \"/>\n",
       "<polyline clip-path=\"url(#clip932)\" style=\"stroke:#000000; stroke-linecap:round; stroke-linejoin:round; stroke-width:2; stroke-opacity:0.1; fill:none\" points=\"219.38,174.665 2352.76,174.665 \"/>\n",
       "<polyline clip-path=\"url(#clip930)\" style=\"stroke:#000000; stroke-linecap:round; stroke-linejoin:round; stroke-width:4; stroke-opacity:1; fill:none\" points=\"219.38,1423.18 219.38,47.2441 \"/>\n",
       "<polyline clip-path=\"url(#clip930)\" style=\"stroke:#000000; stroke-linecap:round; stroke-linejoin:round; stroke-width:4; stroke-opacity:1; fill:none\" points=\"219.38,1387.88 238.278,1387.88 \"/>\n",
       "<polyline clip-path=\"url(#clip930)\" style=\"stroke:#000000; stroke-linecap:round; stroke-linejoin:round; stroke-width:4; stroke-opacity:1; fill:none\" points=\"219.38,983.478 238.278,983.478 \"/>\n",
       "<polyline clip-path=\"url(#clip930)\" style=\"stroke:#000000; stroke-linecap:round; stroke-linejoin:round; stroke-width:4; stroke-opacity:1; fill:none\" points=\"219.38,579.072 238.278,579.072 \"/>\n",
       "<polyline clip-path=\"url(#clip930)\" style=\"stroke:#000000; stroke-linecap:round; stroke-linejoin:round; stroke-width:4; stroke-opacity:1; fill:none\" points=\"219.38,174.665 238.278,174.665 \"/>\n",
       "<path clip-path=\"url(#clip930)\" d=\"M126.205 1373.68 Q122.593 1373.68 120.765 1377.25 Q118.959 1380.79 118.959 1387.92 Q118.959 1395.03 120.765 1398.59 Q122.593 1402.13 126.205 1402.13 Q129.839 1402.13 131.644 1398.59 Q133.473 1395.03 133.473 1387.92 Q133.473 1380.79 131.644 1377.25 Q129.839 1373.68 126.205 1373.68 M126.205 1369.98 Q132.015 1369.98 135.07 1374.59 Q138.149 1379.17 138.149 1387.92 Q138.149 1396.65 135.07 1401.25 Q132.015 1405.84 126.205 1405.84 Q120.394 1405.84 117.316 1401.25 Q114.26 1396.65 114.26 1387.92 Q114.26 1379.17 117.316 1374.59 Q120.394 1369.98 126.205 1369.98 Z\" fill=\"#000000\" fill-rule=\"nonzero\" fill-opacity=\"1\" /><path clip-path=\"url(#clip930)\" d=\"M146.366 1399.28 L151.251 1399.28 L151.251 1405.16 L146.366 1405.16 L146.366 1399.28 Z\" fill=\"#000000\" fill-rule=\"nonzero\" fill-opacity=\"1\" /><path clip-path=\"url(#clip930)\" d=\"M171.436 1373.68 Q167.825 1373.68 165.996 1377.25 Q164.19 1380.79 164.19 1387.92 Q164.19 1395.03 165.996 1398.59 Q167.825 1402.13 171.436 1402.13 Q175.07 1402.13 176.876 1398.59 Q178.704 1395.03 178.704 1387.92 Q178.704 1380.79 176.876 1377.25 Q175.07 1373.68 171.436 1373.68 M171.436 1369.98 Q177.246 1369.98 180.301 1374.59 Q183.38 1379.17 183.38 1387.92 Q183.38 1396.65 180.301 1401.25 Q177.246 1405.84 171.436 1405.84 Q165.626 1405.84 162.547 1401.25 Q159.491 1396.65 159.491 1387.92 Q159.491 1379.17 162.547 1374.59 Q165.626 1369.98 171.436 1369.98 Z\" fill=\"#000000\" fill-rule=\"nonzero\" fill-opacity=\"1\" /><path clip-path=\"url(#clip930)\" d=\"M127.2 969.277 Q123.589 969.277 121.76 972.841 Q119.955 976.383 119.955 983.513 Q119.955 990.619 121.76 994.184 Q123.589 997.726 127.2 997.726 Q130.834 997.726 132.64 994.184 Q134.468 990.619 134.468 983.513 Q134.468 976.383 132.64 972.841 Q130.834 969.277 127.2 969.277 M127.2 965.573 Q133.01 965.573 136.066 970.179 Q139.144 974.763 139.144 983.513 Q139.144 992.239 136.066 996.846 Q133.01 1001.43 127.2 1001.43 Q121.39 1001.43 118.311 996.846 Q115.256 992.239 115.256 983.513 Q115.256 974.763 118.311 970.179 Q121.39 965.573 127.2 965.573 Z\" fill=\"#000000\" fill-rule=\"nonzero\" fill-opacity=\"1\" /><path clip-path=\"url(#clip930)\" d=\"M147.362 994.878 L152.246 994.878 L152.246 1000.76 L147.362 1000.76 L147.362 994.878 Z\" fill=\"#000000\" fill-rule=\"nonzero\" fill-opacity=\"1\" /><path clip-path=\"url(#clip930)\" d=\"M162.477 966.198 L180.834 966.198 L180.834 970.133 L166.76 970.133 L166.76 978.605 Q167.778 978.258 168.797 978.096 Q169.815 977.911 170.834 977.911 Q176.621 977.911 180.001 981.082 Q183.38 984.253 183.38 989.67 Q183.38 995.249 179.908 998.35 Q176.436 1001.43 170.116 1001.43 Q167.94 1001.43 165.672 1001.06 Q163.427 1000.69 161.019 999.948 L161.019 995.249 Q163.102 996.383 165.325 996.938 Q167.547 997.494 170.024 997.494 Q174.028 997.494 176.366 995.388 Q178.704 993.281 178.704 989.67 Q178.704 986.059 176.366 983.952 Q174.028 981.846 170.024 981.846 Q168.149 981.846 166.274 982.263 Q164.422 982.679 162.477 983.559 L162.477 966.198 Z\" fill=\"#000000\" fill-rule=\"nonzero\" fill-opacity=\"1\" /><path clip-path=\"url(#clip930)\" d=\"M117.015 592.417 L124.654 592.417 L124.654 566.051 L116.343 567.718 L116.343 563.458 L124.607 561.792 L129.283 561.792 L129.283 592.417 L136.922 592.417 L136.922 596.352 L117.015 596.352 L117.015 592.417 Z\" fill=\"#000000\" fill-rule=\"nonzero\" fill-opacity=\"1\" /><path clip-path=\"url(#clip930)\" d=\"M146.366 590.472 L151.251 590.472 L151.251 596.352 L146.366 596.352 L146.366 590.472 Z\" fill=\"#000000\" fill-rule=\"nonzero\" fill-opacity=\"1\" /><path clip-path=\"url(#clip930)\" d=\"M171.436 564.87 Q167.825 564.87 165.996 568.435 Q164.19 571.977 164.19 579.106 Q164.19 586.213 165.996 589.778 Q167.825 593.319 171.436 593.319 Q175.07 593.319 176.876 589.778 Q178.704 586.213 178.704 579.106 Q178.704 571.977 176.876 568.435 Q175.07 564.87 171.436 564.87 M171.436 561.167 Q177.246 561.167 180.301 565.773 Q183.38 570.356 183.38 579.106 Q183.38 587.833 180.301 592.44 Q177.246 597.023 171.436 597.023 Q165.626 597.023 162.547 592.44 Q159.491 587.833 159.491 579.106 Q159.491 570.356 162.547 565.773 Q165.626 561.167 171.436 561.167 Z\" fill=\"#000000\" fill-rule=\"nonzero\" fill-opacity=\"1\" /><path clip-path=\"url(#clip930)\" d=\"M118.01 188.01 L125.649 188.01 L125.649 161.645 L117.339 163.311 L117.339 159.052 L125.603 157.385 L130.279 157.385 L130.279 188.01 L137.917 188.01 L137.917 191.945 L118.01 191.945 L118.01 188.01 Z\" fill=\"#000000\" fill-rule=\"nonzero\" fill-opacity=\"1\" /><path clip-path=\"url(#clip930)\" d=\"M147.362 186.066 L152.246 186.066 L152.246 191.945 L147.362 191.945 L147.362 186.066 Z\" fill=\"#000000\" fill-rule=\"nonzero\" fill-opacity=\"1\" /><path clip-path=\"url(#clip930)\" d=\"M162.477 157.385 L180.834 157.385 L180.834 161.321 L166.76 161.321 L166.76 169.793 Q167.778 169.446 168.797 169.284 Q169.815 169.098 170.834 169.098 Q176.621 169.098 180.001 172.27 Q183.38 175.441 183.38 180.858 Q183.38 186.436 179.908 189.538 Q176.436 192.617 170.116 192.617 Q167.94 192.617 165.672 192.246 Q163.427 191.876 161.019 191.135 L161.019 186.436 Q163.102 187.57 165.325 188.126 Q167.547 188.682 170.024 188.682 Q174.028 188.682 176.366 186.575 Q178.704 184.469 178.704 180.858 Q178.704 177.246 176.366 175.14 Q174.028 173.034 170.024 173.034 Q168.149 173.034 166.274 173.45 Q164.422 173.867 162.477 174.746 L162.477 157.385 Z\" fill=\"#000000\" fill-rule=\"nonzero\" fill-opacity=\"1\" /><path clip-path=\"url(#clip930)\" d=\"M16.4842 949.593 L16.4842 943.1 L56.6518 933.106 L16.4842 923.144 L16.4842 915.918 L56.6518 905.924 L16.4842 895.962 L16.4842 889.437 L64.0042 901.373 L64.0042 909.457 L22.7544 919.483 L64.0042 929.605 L64.0042 937.689 L16.4842 949.593 Z\" fill=\"#000000\" fill-rule=\"nonzero\" fill-opacity=\"1\" /><path clip-path=\"url(#clip930)\" d=\"M44.7161 854.489 L47.5806 854.489 L47.5806 881.416 Q53.6281 881.034 56.8109 877.788 Q59.9619 874.51 59.9619 868.685 Q59.9619 865.311 59.1344 862.16 Q58.3069 858.977 56.6518 855.858 L62.1899 855.858 Q63.5267 859.009 64.227 862.319 Q64.9272 865.629 64.9272 869.035 Q64.9272 877.565 59.9619 882.562 Q54.9967 887.527 46.5303 887.527 Q37.7774 887.527 32.6531 882.817 Q27.4968 878.074 27.4968 870.054 Q27.4968 862.86 32.1438 858.691 Q36.7589 854.489 44.7161 854.489 M42.9973 860.346 Q38.1912 860.41 35.3266 863.051 Q32.4621 865.661 32.4621 869.99 Q32.4621 874.891 35.2312 877.852 Q38.0002 880.78 43.0292 881.225 L42.9973 860.346 Z\" fill=\"#000000\" fill-rule=\"nonzero\" fill-opacity=\"1\" /><path clip-path=\"url(#clip930)\" d=\"M46.0847 828.676 Q46.0847 835.774 47.7079 838.511 Q49.3312 841.249 53.2461 841.249 Q56.3653 841.249 58.2114 839.212 Q60.0256 837.143 60.0256 833.61 Q60.0256 828.74 56.5881 825.812 Q53.1188 822.852 47.3897 822.852 L46.0847 822.852 L46.0847 828.676 M43.6657 816.995 L64.0042 816.995 L64.0042 822.852 L58.5933 822.852 Q61.8398 824.857 63.3994 827.849 Q64.9272 830.841 64.9272 835.169 Q64.9272 840.644 61.8716 843.89 Q58.7843 847.105 53.6281 847.105 Q47.6125 847.105 44.5569 843.095 Q41.5014 839.053 41.5014 831.064 L41.5014 822.852 L40.9285 822.852 Q36.8862 822.852 34.6901 825.525 Q32.4621 828.167 32.4621 832.973 Q32.4621 836.029 33.1941 838.925 Q33.9262 841.822 35.3903 844.495 L29.9795 844.495 Q28.7381 841.281 28.1334 838.257 Q27.4968 835.233 27.4968 832.369 Q27.4968 824.634 31.5072 820.815 Q35.5176 816.995 43.6657 816.995 Z\" fill=\"#000000\" fill-rule=\"nonzero\" fill-opacity=\"1\" /><path clip-path=\"url(#clip930)\" d=\"M14.479 804.932 L14.479 799.076 L64.0042 799.076 L64.0042 804.932 L14.479 804.932 Z\" fill=\"#000000\" fill-rule=\"nonzero\" fill-opacity=\"1\" /><path clip-path=\"url(#clip930)\" d=\"M18.2347 781.029 L28.3562 781.029 L28.3562 768.966 L32.9077 768.966 L32.9077 781.029 L52.2594 781.029 Q56.6199 781.029 57.8613 779.851 Q59.1026 778.642 59.1026 774.982 L59.1026 768.966 L64.0042 768.966 L64.0042 774.982 Q64.0042 781.761 61.4897 784.339 Q58.9434 786.917 52.2594 786.917 L32.9077 786.917 L32.9077 791.214 L28.3562 791.214 L28.3562 786.917 L18.2347 786.917 L18.2347 781.029 Z\" fill=\"#000000\" fill-rule=\"nonzero\" fill-opacity=\"1\" /><path clip-path=\"url(#clip930)\" d=\"M42.4881 731.631 L64.0042 731.631 L64.0042 737.488 L42.679 737.488 Q37.6183 737.488 35.1038 739.461 Q32.5894 741.434 32.5894 745.381 Q32.5894 750.124 35.6131 752.861 Q38.6368 755.598 43.8567 755.598 L64.0042 755.598 L64.0042 761.486 L14.479 761.486 L14.479 755.598 L33.8944 755.598 Q30.6797 753.497 29.0883 750.665 Q27.4968 747.8 27.4968 744.076 Q27.4968 737.933 31.3163 734.782 Q35.1038 731.631 42.4881 731.631 Z\" fill=\"#000000\" fill-rule=\"nonzero\" fill-opacity=\"1\" /><path clip-path=\"url(#clip930)\" d=\"M14.5426 685.162 Q21.8632 689.427 29.0246 691.495 Q36.186 693.564 43.5384 693.564 Q50.8908 693.564 58.1159 691.495 Q65.3091 689.395 72.5979 685.162 L72.5979 690.254 Q65.1182 695.028 57.8931 697.416 Q50.668 699.771 43.5384 699.771 Q36.4406 699.771 29.2474 697.416 Q22.0542 695.06 14.5426 690.254 L14.5426 685.162 Z\" fill=\"#000000\" fill-rule=\"nonzero\" fill-opacity=\"1\" /><path clip-path=\"url(#clip930)\" d=\"M16.4842 674.276 L16.4842 667.815 L45.3526 667.815 Q52.9915 667.815 56.3653 665.046 Q59.7073 662.277 59.7073 656.07 Q59.7073 649.896 56.3653 647.127 Q52.9915 644.357 45.3526 644.357 L16.4842 644.357 L16.4842 637.896 L46.1484 637.896 Q55.4423 637.896 60.1847 642.511 Q64.9272 647.095 64.9272 656.07 Q64.9272 665.078 60.1847 669.693 Q55.4423 674.276 46.1484 674.276 L16.4842 674.276 Z\" fill=\"#000000\" fill-rule=\"nonzero\" fill-opacity=\"1\" /><path clip-path=\"url(#clip930)\" d=\"M18.0438 597.347 L24.314 597.347 Q22.5634 601.007 21.704 604.253 Q20.8447 607.5 20.8447 610.524 Q20.8447 615.775 22.8817 618.64 Q24.9187 621.473 28.6745 621.473 Q31.8255 621.473 33.4488 619.595 Q35.0402 617.685 36.0269 612.402 L36.8226 608.518 Q38.1912 601.325 41.6605 597.92 Q45.098 594.482 50.8908 594.482 Q57.7976 594.482 61.3624 599.129 Q64.9272 603.744 64.9272 612.688 Q64.9272 616.062 64.1633 619.881 Q63.3994 623.669 61.9035 627.743 L55.2831 627.743 Q57.4793 623.828 58.5933 620.072 Q59.7073 616.316 59.7073 612.688 Q59.7073 607.182 57.543 604.19 Q55.3786 601.198 51.3682 601.198 Q47.8671 601.198 45.8937 603.362 Q43.9204 605.495 42.9337 610.396 L42.1698 614.311 Q40.7375 621.505 37.682 624.719 Q34.6264 627.934 29.1837 627.934 Q22.8817 627.934 19.2532 623.51 Q15.6248 619.054 15.6248 611.256 Q15.6248 607.914 16.2295 604.444 Q16.8343 600.975 18.0438 597.347 Z\" fill=\"#000000\" fill-rule=\"nonzero\" fill-opacity=\"1\" /><path clip-path=\"url(#clip930)\" d=\"M21.7677 578.027 L58.7206 578.027 L58.7206 570.261 Q58.7206 560.426 54.2646 555.874 Q49.8086 551.291 40.1964 551.291 Q30.6479 551.291 26.2237 555.874 Q21.7677 560.426 21.7677 570.261 L21.7677 578.027 M16.4842 584.456 L16.4842 571.247 Q16.4842 557.434 22.2451 550.973 Q27.9743 544.511 40.1964 544.511 Q52.4822 544.511 58.2432 551.004 Q64.0042 557.497 64.0042 571.247 L64.0042 584.456 L16.4842 584.456 Z\" fill=\"#000000\" fill-rule=\"nonzero\" fill-opacity=\"1\" /><path clip-path=\"url(#clip930)\" d=\"M14.5426 535.44 L14.5426 530.348 Q22.0542 525.573 29.2474 523.218 Q36.4406 520.831 43.5384 520.831 Q50.668 520.831 57.8931 523.218 Q65.1182 525.573 72.5979 530.348 L72.5979 535.44 Q65.3091 531.207 58.1159 529.138 Q50.8908 527.037 43.5384 527.037 Q36.186 527.037 29.0246 529.138 Q21.8632 531.207 14.5426 535.44 Z\" fill=\"#000000\" fill-rule=\"nonzero\" fill-opacity=\"1\" /><polyline clip-path=\"url(#clip932)\" style=\"stroke:#ff0000; stroke-linecap:round; stroke-linejoin:round; stroke-width:12; stroke-opacity:1; fill:none\" points=\"279.759,579.072 288.547,593.3 297.336,567.478 306.125,553.717 314.914,548.026 323.702,532.535 332.491,525.888 341.28,519.36 350.069,512.65 358.857,520.28 367.646,530.722 376.435,510.692 385.223,472.037 394.012,473.646 402.801,475.594 411.59,466.361 420.378,457.644 429.167,481.14 437.956,464.878 446.745,423.243 455.533,387.486 464.322,380.983 473.111,401.601 481.899,380.302 490.688,396.149 499.477,406.266 508.266,411.918 517.054,393.399 525.843,385.329 534.632,379.767 543.421,406.72 552.209,416.872 560.998,440.673 569.787,439.483 578.575,424.802 587.364,442.659 596.153,435.121 604.942,438.848 613.73,448.6 622.519,437.619 631.308,412.148 640.097,400.736 648.885,406.259 657.674,389.091 666.463,403.989 675.251,417.961 684.04,412.885 692.829,382.506 701.618,371.962 710.406,333.158 719.195,332.755 727.984,326.305 736.773,322.004 745.561,321.915 754.35,306.856 763.139,310.296 771.927,323.125 780.716,334.129 789.505,315.354 798.294,301.483 807.082,290.281 815.871,289.966 824.66,294.915 833.449,314.748 842.237,311.239 851.026,310.361 859.815,321.166 868.603,330.358 877.392,308.078 886.181,310.934 894.97,318.266 903.758,313.51 912.547,308.255 921.336,311.657 930.125,324.656 938.913,326.563 947.702,347.592 956.491,340.146 965.279,314.476 974.068,301.581 982.857,300.466 991.646,303.545 1000.43,340.32 1009.22,327.998 1018.01,282.956 1026.8,262.772 1035.59,270.152 1044.38,254.953 1053.17,253.927 1061.96,266.125 1070.74,260.072 1079.53,244.239 1088.32,233.173 1097.11,207.265 1105.9,214.624 1114.69,210.391 1123.48,221.242 1132.27,219.401 1141.05,167.864 1149.84,132.003 1158.63,131.361 1167.42,159.016 1176.21,142.145 1185,144.407 1193.79,149.668 1202.58,127.495 1211.36,158.626 1220.15,134.156 1228.94,117.332 1237.73,89.1429 1246.52,109.278 1255.31,96.0644 1264.1,99.3428 1272.88,120.123 1281.67,123.982 1290.46,154.691 1299.25,146.836 1308.04,150.615 1316.83,166.651 1325.62,143.748 1334.41,139.9 1343.19,134.008 1351.98,104.864 1360.77,103.989 1369.56,116.157 1378.35,116.534 1387.14,123.205 1395.93,129.95 1404.72,141.318 1413.5,121.915 1422.29,113.805 1431.08,112.82 1439.87,90.3029 1448.66,92.8001 1457.45,92.9523 1466.24,124.554 1475.03,126.238 1483.81,124.638 1492.6,112.048 1501.39,119.845 1510.18,121.748 1518.97,103.341 1527.76,95.0604 1536.55,86.4741 1545.34,131.116 1554.12,122.151 1562.91,150.122 1571.7,159.018 1580.49,168.941 1589.28,186.488 1598.07,188.486 1606.86,199.091 1615.65,174.538 1624.43,185.424 1633.22,205.29 1642.01,226.652 1650.8,220.597 1659.59,204.057 1668.38,208.928 1677.17,176.916 1685.96,226.902 1694.74,215.662 1703.53,208.041 1712.32,178.491 1721.11,161.135 1729.9,163.954 1738.69,142.555 1747.48,137.015 1756.26,171.39 1765.05,203.731 1773.84,202.795 1782.63,201.015 1791.42,213.664 1800.21,213.332 1809,211.061 1817.79,234.344 1826.57,218.518 1835.36,217.034 1844.15,236.891 1852.94,260.038 1861.73,256.219 1870.52,246.389 1879.31,269.189 1888.1,267.725 1896.88,248.251 1905.67,246.229 1914.46,234.02 1923.25,252.293 1932.04,231.38 1940.83,230.308 1949.62,202.612 1958.41,197.255 1967.19,192.04 1975.98,188.948 1984.77,183.255 1993.56,205.305 2002.35,200.466 2011.14,212.136 2019.93,229.773 2028.72,230.889 2037.5,243.3 2046.29,249.632 2055.08,241.417 2063.87,272.883 2072.66,299.163 2081.45,283.623 2090.24,276.028 2099.03,264.977 2107.81,214.418 2116.6,200.264 2125.39,186.705 2134.18,177.658 2142.97,160.35 2151.76,155.242 2160.55,158.189 2169.34,121.977 2178.12,135.352 2186.91,112.404 2195.7,117.593 2204.49,103.207 2213.28,100.276 2222.07,89.1485 2230.86,101.891 2239.64,86.1857 2248.43,92.4865 2257.22,92.031 2266.01,92.3364 2274.8,89.1808 2283.59,96.8859 2292.38,90.3518 \"/>\n",
       "<polyline clip-path=\"url(#clip932)\" style=\"stroke:#0000ff; stroke-linecap:round; stroke-linejoin:round; stroke-width:12; stroke-opacity:1; fill:none\" points=\"279.759,579.072 288.547,574.418 297.336,580.547 306.125,569.966 314.914,559.103 323.702,561.822 332.491,552.867 341.28,546.473 350.069,545.357 358.857,542.47 367.646,550.203 376.435,561.429 385.223,554.375 394.012,539.13 402.801,538.779 411.59,543.197 420.378,533.096 429.167,526.352 437.956,533.913 446.745,529.81 455.533,521.949 464.322,505.687 473.111,509.408 481.899,517.429 490.688,513.183 499.477,513.324 508.266,517.844 517.054,523.762 525.843,514.468 534.632,512.902 543.421,512.61 552.209,516.73 560.998,525.621 569.787,536.216 578.575,540.956 587.364,539.449 596.153,547.546 604.942,541.55 613.73,544.118 622.519,548.967 631.308,548.351 640.097,534.271 648.885,527.117 657.674,537.834 666.463,542.34 675.251,548.347 684.04,563.465 692.829,568.178 701.618,559.412 710.406,565.9 719.195,553.524 727.984,557.286 736.773,554.873 745.561,544.805 754.35,543.732 763.139,550.16 771.927,553.267 780.716,545.145 789.505,548.707 798.294,538.91 807.082,531.794 815.871,523.222 824.66,517.325 833.449,519.122 842.237,523.083 851.026,521.442 859.815,521.486 868.603,517.372 877.392,518.035 886.181,513.765 894.97,512.613 903.758,511.917 912.547,508.763 921.336,509.635 930.125,513.129 938.913,513.669 947.702,512.993 956.491,521.047 965.279,526.754 974.068,517.195 982.857,508.068 991.646,504.233 1000.43,515.131 1009.22,516.161 1018.01,526.988 1026.8,514.792 1035.59,512.079 1044.38,514.532 1053.17,513.24 1061.96,514.171 1070.74,514.956 1079.53,512.91 1088.32,514.487 1097.11,510.129 1105.9,502.162 1114.69,498.254 1123.48,498.225 1132.27,504.899 1141.05,514.807 1149.84,509.107 1158.63,498.496 1167.42,495.232 1176.21,500.396 1185,495.191 1193.79,481.659 1202.58,479.217 1211.36,480.078 1220.15,480.599 1228.94,478.569 1237.73,474.46 1246.52,470.796 1255.31,462.203 1264.1,460.671 1272.88,452.219 1281.67,451.65 1290.46,459.779 1299.25,463.135 1308.04,463.38 1316.83,466.767 1325.62,469.61 1334.41,464.939 1343.19,462.756 1351.98,459.53 1360.77,447.893 1369.56,446.228 1378.35,446.685 1387.14,455.536 1395.93,453.864 1404.72,456.081 1413.5,451.117 1422.29,441.704 1431.08,435.477 1439.87,432.87 1448.66,431.502 1457.45,425.679 1466.24,421.13 1475.03,425.477 1483.81,426.257 1492.6,424.158 1501.39,421.037 1510.18,421.881 1518.97,421.18 1527.76,419.189 1536.55,417.253 1545.34,418.733 1554.12,429.422 1562.91,434.176 1571.7,434.44 1580.49,433.402 1589.28,437.712 1598.07,438.928 1606.86,437.695 1615.65,442.522 1624.43,439.435 1633.22,444.672 1642.01,450.269 1650.8,457.25 1659.59,463.085 1668.38,458.024 1677.17,456.162 1685.96,449.67 1694.74,453.414 1703.53,456.318 1712.32,449.421 1721.11,438.521 1729.9,431.179 1738.69,429.649 1747.48,429.83 1756.26,432.391 1765.05,440.892 1773.84,444.038 1782.63,441.635 1791.42,437.06 1800.21,439.359 1809,439.848 1817.79,433.686 1826.57,443.314 1835.36,445.969 1844.15,449.553 1852.94,450.68 1861.73,467.076 1870.52,471.261 1879.31,473.035 1888.1,481 1896.88,484.675 1905.67,479.501 1914.46,478.113 1923.25,482.694 1932.04,491.293 1940.83,489.545 1949.62,488.553 1958.41,481.41 1967.19,474.272 1975.98,464.287 1984.77,463.994 1993.56,465.433 2002.35,469.975 2011.14,462.965 2019.93,463.513 2028.72,470.422 2037.5,477.168 2046.29,488.783 2055.08,493.186 2063.87,489.701 2072.66,498.035 2081.45,508.554 2090.24,514.06 2099.03,508.211 2107.81,502.766 2116.6,494.324 2125.39,477.477 2134.18,465.492 2142.97,464.227 2151.76,461.085 2160.55,460.483 2169.34,462.998 2178.12,457.986 2186.91,453.518 2195.7,437.01 2204.49,432.446 2213.28,433.603 2222.07,431.361 2230.86,425.49 2239.64,426.06 2248.43,421.801 2257.22,421.666 2266.01,422.235 2274.8,422.462 2283.59,420.136 2292.38,421.563 \"/>\n",
       "<polyline clip-path=\"url(#clip932)\" style=\"stroke:#008000; stroke-linecap:round; stroke-linejoin:round; stroke-width:12; stroke-opacity:1; fill:none\" points=\"279.759,579.072 288.547,578.327 297.336,563.145 306.125,580.743 314.914,577.18 323.702,567.047 332.491,564.749 341.28,559.218 350.069,567.489 358.857,575.984 367.646,569.086 376.435,556.614 385.223,550.191 394.012,558.514 402.801,563.201 411.59,564.52 420.378,565.661 429.167,570.253 437.956,559.555 446.745,557.589 455.533,556.207 464.322,559.622 473.111,560.424 481.899,541.533 490.688,552.869 499.477,561.022 508.266,553.311 517.054,545.683 525.843,550.018 534.632,548.755 543.421,558.468 552.209,548.312 560.998,559.231 569.787,558.451 578.575,552.692 587.364,562.12 596.153,561.478 604.942,575.411 613.73,577.576 622.519,572.572 631.308,561.62 640.097,537.531 648.885,541.348 657.674,553.183 666.463,562.36 675.251,567.806 684.04,572.05 692.829,558.425 701.618,551.52 710.406,541.576 719.195,555.498 727.984,545.749 736.773,538.61 745.561,548.198 754.35,543.678 763.139,539.81 771.927,536.875 780.716,546.639 789.505,544.634 798.294,538.947 807.082,529.034 815.871,514.528 824.66,514.64 833.449,501.831 842.237,492.074 851.026,496.711 859.815,500.41 868.603,496.286 877.392,477.026 886.181,476.198 894.97,482.568 903.758,484.721 912.547,487.468 921.336,486.305 930.125,481.961 938.913,477.934 947.702,480.417 956.491,495.4 965.279,475.574 974.068,473.224 982.857,469.354 991.646,466.231 1000.43,465.609 1009.22,472.641 1018.01,461.589 1026.8,454.369 1035.59,461.415 1044.38,449.627 1053.17,442.89 1061.96,444.546 1070.74,450.472 1079.53,446.983 1088.32,450.744 1097.11,448.999 1105.9,441.513 1114.69,443.884 1123.48,456.515 1132.27,457.144 1141.05,458.435 1149.84,460.467 1158.63,467.507 1167.42,464.65 1176.21,457.939 1185,447.527 1193.79,443.79 1202.58,457.951 1211.36,473.667 1220.15,462.798 1228.94,460.292 1237.73,459.751 1246.52,459.243 1255.31,465.731 1264.1,457.819 1272.88,461.612 1281.67,457.482 1290.46,457.603 1299.25,437.584 1308.04,434.675 1316.83,450.073 1325.62,446.241 1334.41,446.593 1343.19,442.383 1351.98,427.943 1360.77,434.389 1369.56,435.642 1378.35,447.768 1387.14,463.915 1395.93,465.593 1404.72,471.373 1413.5,472.641 1422.29,468.261 1431.08,461.609 1439.87,468.983 1448.66,468.761 1457.45,470.124 1466.24,464.458 1475.03,454.676 1483.81,459.801 1492.6,464.429 1501.39,454.29 1510.18,465.183 1518.97,452.209 1527.76,449.791 1536.55,459.577 1545.34,465.093 1554.12,466.281 1562.91,479.948 1571.7,471.727 1580.49,469.659 1589.28,476.02 1598.07,478.441 1606.86,471.186 1615.65,459.404 1624.43,465.168 1633.22,467.781 1642.01,466.922 1650.8,470.368 1659.59,465.151 1668.38,473.089 1677.17,444.957 1685.96,462.875 1694.74,457.126 1703.53,459.642 1712.32,444.165 1721.11,437.768 1729.9,443.615 1738.69,438.299 1747.48,450.203 1756.26,463.955 1765.05,461.301 1773.84,453.414 1782.63,453.535 1791.42,457.19 1800.21,461.898 1809,455.676 1817.79,461.065 1826.57,455.499 1835.36,456.989 1844.15,469.218 1852.94,481.474 1861.73,482.632 1870.52,480.19 1879.31,493.484 1888.1,490.439 1896.88,482.447 1905.67,491.503 1914.46,477.779 1923.25,487.135 1932.04,474.637 1940.83,469.658 1949.62,458.605 1958.41,452.615 1967.19,457.61 1975.98,449.997 1984.77,452.651 1993.56,457.055 2002.35,451.797 2011.14,451.389 2019.93,465.821 2028.72,471.921 2037.5,474.664 2046.29,469.312 2055.08,461.983 2063.87,1093.54 2072.66,1292.1 2081.45,1355.56 2090.24,1377.04 2099.03,1384.24 2107.81,1384.08 2116.6,1384.05 2125.39,1384.01 2134.18,1383.98 2142.97,1383.95 2151.76,1383.93 2160.55,1383.98 2169.34,1383.92 2178.12,1383.92 2186.91,1383.89 2195.7,1383.89 2204.49,1383.84 2213.28,1383.86 2222.07,1383.83 2230.86,1383.83 2239.64,1383.82 2248.43,1383.84 2257.22,1383.85 2266.01,1383.86 2274.8,1383.87 2283.59,1383.88 2292.38,1383.86 \"/>\n",
       "<path clip-path=\"url(#clip930)\" d=\"M290.493 1377.32 L1225.86 1377.32 L1225.86 1169.96 L290.493 1169.96  Z\" fill=\"#ffffff\" fill-rule=\"evenodd\" fill-opacity=\"1\"/>\n",
       "<polyline clip-path=\"url(#clip930)\" style=\"stroke:#000000; stroke-linecap:round; stroke-linejoin:round; stroke-width:4; stroke-opacity:1; fill:none\" points=\"290.493,1377.32 1225.86,1377.32 1225.86,1169.96 290.493,1169.96 290.493,1377.32 \"/>\n",
       "<polyline clip-path=\"url(#clip930)\" style=\"stroke:#ff0000; stroke-linecap:round; stroke-linejoin:round; stroke-width:12; stroke-opacity:1; fill:none\" points=\"314.197,1221.8 456.422,1221.8 \"/>\n",
       "<path clip-path=\"url(#clip930)\" d=\"M484.802 1208.36 L484.802 1221.34 L490.682 1221.34 Q493.945 1221.34 495.728 1219.65 Q497.51 1217.96 497.51 1214.84 Q497.51 1211.74 495.728 1210.05 Q493.945 1208.36 490.682 1208.36 L484.802 1208.36 M480.126 1204.52 L490.682 1204.52 Q496.492 1204.52 499.455 1207.15 Q502.441 1209.77 502.441 1214.84 Q502.441 1219.96 499.455 1222.57 Q496.492 1225.19 490.682 1225.19 L484.802 1225.19 L484.802 1239.08 L480.126 1239.08 L480.126 1204.52 Z\" fill=\"#000000\" fill-rule=\"nonzero\" fill-opacity=\"1\" /><path clip-path=\"url(#clip930)\" d=\"M516.885 1216.14 Q513.459 1216.14 511.469 1218.82 Q509.478 1221.48 509.478 1226.14 Q509.478 1230.79 511.445 1233.47 Q513.436 1236.14 516.885 1236.14 Q520.288 1236.14 522.279 1233.45 Q524.269 1230.77 524.269 1226.14 Q524.269 1221.53 522.279 1218.84 Q520.288 1216.14 516.885 1216.14 M516.885 1212.52 Q522.441 1212.52 525.612 1216.14 Q528.783 1219.75 528.783 1226.14 Q528.783 1232.5 525.612 1236.14 Q522.441 1239.75 516.885 1239.75 Q511.306 1239.75 508.135 1236.14 Q504.987 1232.5 504.987 1226.14 Q504.987 1219.75 508.135 1216.14 Q511.306 1212.52 516.885 1212.52 Z\" fill=\"#000000\" fill-rule=\"nonzero\" fill-opacity=\"1\" /><path clip-path=\"url(#clip930)\" d=\"M550.866 1217.13 Q550.149 1216.71 549.292 1216.53 Q548.459 1216.32 547.441 1216.32 Q543.829 1216.32 541.885 1218.68 Q539.964 1221.02 539.964 1225.42 L539.964 1239.08 L535.681 1239.08 L535.681 1213.15 L539.964 1213.15 L539.964 1217.18 Q541.306 1214.82 543.459 1213.68 Q545.612 1212.52 548.691 1212.52 Q549.13 1212.52 549.663 1212.59 Q550.195 1212.64 550.843 1212.76 L550.866 1217.13 Z\" fill=\"#000000\" fill-rule=\"nonzero\" fill-opacity=\"1\" /><path clip-path=\"url(#clip930)\" d=\"M559.547 1205.79 L559.547 1213.15 L568.32 1213.15 L568.32 1216.46 L559.547 1216.46 L559.547 1230.53 Q559.547 1233.7 560.403 1234.61 Q561.283 1235.51 563.945 1235.51 L568.32 1235.51 L568.32 1239.08 L563.945 1239.08 Q559.015 1239.08 557.14 1237.25 Q555.265 1235.39 555.265 1230.53 L555.265 1216.46 L552.14 1216.46 L552.14 1213.15 L555.265 1213.15 L555.265 1205.79 L559.547 1205.79 Z\" fill=\"#000000\" fill-rule=\"nonzero\" fill-opacity=\"1\" /><path clip-path=\"url(#clip930)\" d=\"M587.047 1203.06 L587.047 1206.6 L582.973 1206.6 Q580.681 1206.6 579.778 1207.52 Q578.899 1208.45 578.899 1210.86 L578.899 1213.15 L585.913 1213.15 L585.913 1216.46 L578.899 1216.46 L578.899 1239.08 L574.616 1239.08 L574.616 1216.46 L570.542 1216.46 L570.542 1213.15 L574.616 1213.15 L574.616 1211.34 Q574.616 1207.02 576.63 1205.05 Q578.644 1203.06 583.019 1203.06 L587.047 1203.06 Z\" fill=\"#000000\" fill-rule=\"nonzero\" fill-opacity=\"1\" /><path clip-path=\"url(#clip930)\" d=\"M600.658 1216.14 Q597.232 1216.14 595.241 1218.82 Q593.25 1221.48 593.25 1226.14 Q593.25 1230.79 595.218 1233.47 Q597.209 1236.14 600.658 1236.14 Q604.061 1236.14 606.051 1233.45 Q608.042 1230.77 608.042 1226.14 Q608.042 1221.53 606.051 1218.84 Q604.061 1216.14 600.658 1216.14 M600.658 1212.52 Q606.213 1212.52 609.385 1216.14 Q612.556 1219.75 612.556 1226.14 Q612.556 1232.5 609.385 1236.14 Q606.213 1239.75 600.658 1239.75 Q595.079 1239.75 591.908 1236.14 Q588.76 1232.5 588.76 1226.14 Q588.76 1219.75 591.908 1216.14 Q595.079 1212.52 600.658 1212.52 Z\" fill=\"#000000\" fill-rule=\"nonzero\" fill-opacity=\"1\" /><path clip-path=\"url(#clip930)\" d=\"M619.616 1203.06 L623.875 1203.06 L623.875 1239.08 L619.616 1239.08 L619.616 1203.06 Z\" fill=\"#000000\" fill-rule=\"nonzero\" fill-opacity=\"1\" /><path clip-path=\"url(#clip930)\" d=\"M632.787 1213.15 L637.047 1213.15 L637.047 1239.08 L632.787 1239.08 L632.787 1213.15 M632.787 1203.06 L637.047 1203.06 L637.047 1208.45 L632.787 1208.45 L632.787 1203.06 Z\" fill=\"#000000\" fill-rule=\"nonzero\" fill-opacity=\"1\" /><path clip-path=\"url(#clip930)\" d=\"M656.005 1216.14 Q652.579 1216.14 650.588 1218.82 Q648.597 1221.48 648.597 1226.14 Q648.597 1230.79 650.565 1233.47 Q652.556 1236.14 656.005 1236.14 Q659.408 1236.14 661.398 1233.45 Q663.389 1230.77 663.389 1226.14 Q663.389 1221.53 661.398 1218.84 Q659.408 1216.14 656.005 1216.14 M656.005 1212.52 Q661.56 1212.52 664.732 1216.14 Q667.903 1219.75 667.903 1226.14 Q667.903 1232.5 664.732 1236.14 Q661.56 1239.75 656.005 1239.75 Q650.426 1239.75 647.255 1236.14 Q644.107 1232.5 644.107 1226.14 Q644.107 1219.75 647.255 1216.14 Q650.426 1212.52 656.005 1212.52 Z\" fill=\"#000000\" fill-rule=\"nonzero\" fill-opacity=\"1\" /><path clip-path=\"url(#clip930)\" d=\"M704.801 1220.44 Q708.157 1221.16 710.032 1223.43 Q711.93 1225.7 711.93 1229.03 Q711.93 1234.14 708.412 1236.95 Q704.893 1239.75 698.412 1239.75 Q696.236 1239.75 693.921 1239.31 Q691.63 1238.89 689.176 1238.03 L689.176 1233.52 Q691.12 1234.65 693.435 1235.23 Q695.75 1235.81 698.273 1235.81 Q702.671 1235.81 704.963 1234.08 Q707.278 1232.34 707.278 1229.03 Q707.278 1225.97 705.125 1224.26 Q702.995 1222.52 699.176 1222.52 L695.148 1222.52 L695.148 1218.68 L699.361 1218.68 Q702.81 1218.68 704.639 1217.32 Q706.467 1215.93 706.467 1213.33 Q706.467 1210.67 704.569 1209.26 Q702.694 1207.83 699.176 1207.83 Q697.255 1207.83 695.055 1208.24 Q692.856 1208.66 690.218 1209.54 L690.218 1205.37 Q692.88 1204.63 695.194 1204.26 Q697.532 1203.89 699.592 1203.89 Q704.917 1203.89 708.018 1206.32 Q711.12 1208.73 711.12 1212.85 Q711.12 1215.72 709.477 1217.71 Q707.833 1219.68 704.801 1220.44 Z\" fill=\"#000000\" fill-rule=\"nonzero\" fill-opacity=\"1\" /><path clip-path=\"url(#clip930)\" d=\"M730.796 1207.59 Q727.185 1207.59 725.356 1211.16 Q723.551 1214.7 723.551 1221.83 Q723.551 1228.94 725.356 1232.5 Q727.185 1236.04 730.796 1236.04 Q734.43 1236.04 736.236 1232.5 Q738.065 1228.94 738.065 1221.83 Q738.065 1214.7 736.236 1211.16 Q734.43 1207.59 730.796 1207.59 M730.796 1203.89 Q736.606 1203.89 739.662 1208.5 Q742.74 1213.08 742.74 1221.83 Q742.74 1230.56 739.662 1235.16 Q736.606 1239.75 730.796 1239.75 Q724.986 1239.75 721.907 1235.16 Q718.852 1230.56 718.852 1221.83 Q718.852 1213.08 721.907 1208.5 Q724.986 1203.89 730.796 1203.89 Z\" fill=\"#000000\" fill-rule=\"nonzero\" fill-opacity=\"1\" /><path clip-path=\"url(#clip930)\" d=\"M775.657 1203.1 Q772.555 1208.43 771.05 1213.64 Q769.546 1218.84 769.546 1224.19 Q769.546 1229.54 771.05 1234.79 Q772.578 1240.02 775.657 1245.33 L771.953 1245.33 Q768.481 1239.89 766.745 1234.63 Q765.032 1229.38 765.032 1224.19 Q765.032 1219.03 766.745 1213.8 Q768.458 1208.57 771.953 1203.1 L775.657 1203.1 Z\" fill=\"#000000\" fill-rule=\"nonzero\" fill-opacity=\"1\" /><path clip-path=\"url(#clip930)\" d=\"M795.703 1226.04 Q790.541 1226.04 788.55 1227.22 Q786.56 1228.4 786.56 1231.25 Q786.56 1233.52 788.041 1234.86 Q789.546 1236.18 792.115 1236.18 Q795.657 1236.18 797.786 1233.68 Q799.939 1231.16 799.939 1226.99 L799.939 1226.04 L795.703 1226.04 M804.198 1224.28 L804.198 1239.08 L799.939 1239.08 L799.939 1235.14 Q798.481 1237.5 796.305 1238.64 Q794.129 1239.75 790.981 1239.75 Q786.999 1239.75 784.638 1237.52 Q782.3 1235.28 782.3 1231.53 Q782.3 1227.15 785.217 1224.93 Q788.157 1222.71 793.967 1222.71 L799.939 1222.71 L799.939 1222.29 Q799.939 1219.35 797.995 1217.76 Q796.073 1216.14 792.578 1216.14 Q790.356 1216.14 788.249 1216.67 Q786.143 1217.2 784.199 1218.27 L784.199 1214.33 Q786.536 1213.43 788.736 1212.99 Q790.935 1212.52 793.018 1212.52 Q798.643 1212.52 801.421 1215.44 Q804.198 1218.36 804.198 1224.28 Z\" fill=\"#000000\" fill-rule=\"nonzero\" fill-opacity=\"1\" /><path clip-path=\"url(#clip930)\" d=\"M831.629 1214.14 L831.629 1218.13 Q829.823 1217.13 827.995 1216.64 Q826.189 1216.14 824.337 1216.14 Q820.194 1216.14 817.902 1218.77 Q815.61 1221.39 815.61 1226.14 Q815.61 1230.88 817.902 1233.52 Q820.194 1236.14 824.337 1236.14 Q826.189 1236.14 827.995 1235.65 Q829.823 1235.14 831.629 1234.14 L831.629 1238.08 Q829.846 1238.91 827.925 1239.33 Q826.027 1239.75 823.874 1239.75 Q818.018 1239.75 814.569 1236.07 Q811.12 1232.39 811.12 1226.14 Q811.12 1219.79 814.592 1216.16 Q818.087 1212.52 824.152 1212.52 Q826.12 1212.52 827.995 1212.94 Q829.87 1213.33 831.629 1214.14 Z\" fill=\"#000000\" fill-rule=\"nonzero\" fill-opacity=\"1\" /><path clip-path=\"url(#clip930)\" d=\"M843.249 1205.79 L843.249 1213.15 L852.022 1213.15 L852.022 1216.46 L843.249 1216.46 L843.249 1230.53 Q843.249 1233.7 844.106 1234.61 Q844.985 1235.51 847.647 1235.51 L852.022 1235.51 L852.022 1239.08 L847.647 1239.08 Q842.717 1239.08 840.842 1237.25 Q838.967 1235.39 838.967 1230.53 L838.967 1216.46 L835.842 1216.46 L835.842 1213.15 L838.967 1213.15 L838.967 1205.79 L843.249 1205.79 Z\" fill=\"#000000\" fill-rule=\"nonzero\" fill-opacity=\"1\" /><path clip-path=\"url(#clip930)\" d=\"M857.184 1228.84 L857.184 1213.15 L861.443 1213.15 L861.443 1228.68 Q861.443 1232.36 862.879 1234.21 Q864.314 1236.04 867.184 1236.04 Q870.633 1236.04 872.624 1233.84 Q874.638 1231.64 874.638 1227.85 L874.638 1213.15 L878.897 1213.15 L878.897 1239.08 L874.638 1239.08 L874.638 1235.09 Q873.087 1237.45 871.027 1238.61 Q868.99 1239.75 866.281 1239.75 Q861.814 1239.75 859.499 1236.97 Q857.184 1234.19 857.184 1228.84 M867.902 1212.52 L867.902 1212.52 Z\" fill=\"#000000\" fill-rule=\"nonzero\" fill-opacity=\"1\" /><path clip-path=\"url(#clip930)\" d=\"M899.453 1226.04 Q894.291 1226.04 892.3 1227.22 Q890.309 1228.4 890.309 1231.25 Q890.309 1233.52 891.791 1234.86 Q893.295 1236.18 895.865 1236.18 Q899.406 1236.18 901.536 1233.68 Q903.689 1231.16 903.689 1226.99 L903.689 1226.04 L899.453 1226.04 M907.948 1224.28 L907.948 1239.08 L903.689 1239.08 L903.689 1235.14 Q902.23 1237.5 900.054 1238.64 Q897.878 1239.75 894.73 1239.75 Q890.749 1239.75 888.388 1237.52 Q886.05 1235.28 886.05 1231.53 Q886.05 1227.15 888.966 1224.93 Q891.906 1222.71 897.716 1222.71 L903.689 1222.71 L903.689 1222.29 Q903.689 1219.35 901.744 1217.76 Q899.823 1216.14 896.328 1216.14 Q894.105 1216.14 891.999 1216.67 Q889.892 1217.2 887.948 1218.27 L887.948 1214.33 Q890.286 1213.43 892.485 1212.99 Q894.684 1212.52 896.767 1212.52 Q902.392 1212.52 905.17 1215.44 Q907.948 1218.36 907.948 1224.28 Z\" fill=\"#000000\" fill-rule=\"nonzero\" fill-opacity=\"1\" /><path clip-path=\"url(#clip930)\" d=\"M916.721 1203.06 L920.98 1203.06 L920.98 1239.08 L916.721 1239.08 L916.721 1203.06 Z\" fill=\"#000000\" fill-rule=\"nonzero\" fill-opacity=\"1\" /><path clip-path=\"url(#clip930)\" d=\"M929.221 1203.1 L932.925 1203.1 Q936.397 1208.57 938.11 1213.8 Q939.846 1219.03 939.846 1224.19 Q939.846 1229.38 938.11 1234.63 Q936.397 1239.89 932.925 1245.33 L929.221 1245.33 Q932.3 1240.02 933.804 1234.79 Q935.332 1229.54 935.332 1224.19 Q935.332 1218.84 933.804 1213.64 Q932.3 1208.43 929.221 1203.1 Z\" fill=\"#000000\" fill-rule=\"nonzero\" fill-opacity=\"1\" /><polyline clip-path=\"url(#clip930)\" style=\"stroke:#0000ff; stroke-linecap:round; stroke-linejoin:round; stroke-width:12; stroke-opacity:1; fill:none\" points=\"314.197,1273.64 456.422,1273.64 \"/>\n",
       "<path clip-path=\"url(#clip930)\" d=\"M502.371 1257.49 L502.371 1262.05 Q499.709 1260.78 497.348 1260.15 Q494.987 1259.53 492.788 1259.53 Q488.969 1259.53 486.885 1261.01 Q484.825 1262.49 484.825 1265.22 Q484.825 1267.51 486.191 1268.69 Q487.58 1269.85 491.422 1270.57 L494.246 1271.15 Q499.478 1272.14 501.955 1274.67 Q504.455 1277.17 504.455 1281.38 Q504.455 1286.4 501.075 1288.99 Q497.719 1291.59 491.214 1291.59 Q488.76 1291.59 485.983 1291.03 Q483.228 1290.48 480.265 1289.39 L480.265 1284.57 Q483.112 1286.17 485.844 1286.98 Q488.575 1287.79 491.214 1287.79 Q495.219 1287.79 497.395 1286.22 Q499.57 1284.64 499.57 1281.73 Q499.57 1279.18 497.996 1277.74 Q496.445 1276.31 492.881 1275.59 L490.033 1275.04 Q484.802 1273.99 482.464 1271.77 Q480.126 1269.55 480.126 1265.59 Q480.126 1261.01 483.344 1258.37 Q486.584 1255.73 492.256 1255.73 Q494.686 1255.73 497.209 1256.17 Q499.732 1256.61 502.371 1257.49 Z\" fill=\"#000000\" fill-rule=\"nonzero\" fill-opacity=\"1\" /><path clip-path=\"url(#clip930)\" d=\"M516.422 1260.2 L516.422 1273.18 L522.302 1273.18 Q525.566 1273.18 527.348 1271.49 Q529.13 1269.8 529.13 1266.68 Q529.13 1263.58 527.348 1261.89 Q525.566 1260.2 522.302 1260.2 L516.422 1260.2 M511.746 1256.36 L522.302 1256.36 Q528.112 1256.36 531.075 1258.99 Q534.061 1261.61 534.061 1266.68 Q534.061 1271.8 531.075 1274.41 Q528.112 1277.03 522.302 1277.03 L516.422 1277.03 L516.422 1290.92 L511.746 1290.92 L511.746 1256.36 Z\" fill=\"#000000\" fill-rule=\"nonzero\" fill-opacity=\"1\" /><path clip-path=\"url(#clip930)\" d=\"M534.547 1256.36 L539.57 1256.36 L549.153 1270.57 L558.667 1256.36 L563.69 1256.36 L551.468 1274.46 L551.468 1290.92 L546.769 1290.92 L546.769 1274.46 L534.547 1256.36 Z\" fill=\"#000000\" fill-rule=\"nonzero\" fill-opacity=\"1\" /><polyline clip-path=\"url(#clip930)\" style=\"stroke:#008000; stroke-linecap:round; stroke-linejoin:round; stroke-width:12; stroke-opacity:1; fill:none\" points=\"314.197,1325.48 456.422,1325.48 \"/>\n",
       "<path clip-path=\"url(#clip930)\" d=\"M496.515 1326.55 Q498.02 1327.06 499.432 1328.73 Q500.867 1330.39 502.302 1333.31 L507.047 1342.76 L502.024 1342.76 L497.603 1333.89 Q495.89 1330.42 494.27 1329.28 Q492.672 1328.15 489.895 1328.15 L484.802 1328.15 L484.802 1342.76 L480.126 1342.76 L480.126 1308.2 L490.682 1308.2 Q496.607 1308.2 499.524 1310.67 Q502.441 1313.15 502.441 1318.15 Q502.441 1321.41 500.913 1323.57 Q499.408 1325.72 496.515 1326.55 M484.802 1312.04 L484.802 1324.31 L490.682 1324.31 Q494.061 1324.31 495.774 1322.76 Q497.51 1321.18 497.51 1318.15 Q497.51 1315.12 495.774 1313.59 Q494.061 1312.04 490.682 1312.04 L484.802 1312.04 Z\" fill=\"#000000\" fill-rule=\"nonzero\" fill-opacity=\"1\" /><path clip-path=\"url(#clip930)\" d=\"M532.927 1328.73 L532.927 1330.81 L513.343 1330.81 Q513.621 1335.21 515.982 1337.52 Q518.367 1339.82 522.603 1339.82 Q525.056 1339.82 527.348 1339.21 Q529.663 1338.61 531.931 1337.41 L531.931 1341.44 Q529.64 1342.41 527.232 1342.92 Q524.825 1343.43 522.348 1343.43 Q516.144 1343.43 512.51 1339.82 Q508.899 1336.2 508.899 1330.05 Q508.899 1323.68 512.325 1319.95 Q515.774 1316.2 521.607 1316.2 Q526.839 1316.2 529.871 1319.58 Q532.927 1322.94 532.927 1328.73 M528.667 1327.48 Q528.621 1323.98 526.7 1321.9 Q524.802 1319.82 521.654 1319.82 Q518.089 1319.82 515.936 1321.83 Q513.806 1323.84 513.482 1327.5 L528.667 1327.48 Z\" fill=\"#000000\" fill-rule=\"nonzero\" fill-opacity=\"1\" /><path clip-path=\"url(#clip930)\" d=\"M551.7 1329.72 Q546.538 1329.72 544.547 1330.9 Q542.556 1332.08 542.556 1334.93 Q542.556 1337.2 544.038 1338.54 Q545.542 1339.86 548.112 1339.86 Q551.653 1339.86 553.783 1337.36 Q555.936 1334.84 555.936 1330.67 L555.936 1329.72 L551.7 1329.72 M560.195 1327.96 L560.195 1342.76 L555.936 1342.76 L555.936 1338.82 Q554.478 1341.18 552.302 1342.32 Q550.126 1343.43 546.978 1343.43 Q542.996 1343.43 540.635 1341.2 Q538.297 1338.96 538.297 1335.21 Q538.297 1330.83 541.214 1328.61 Q544.154 1326.39 549.964 1326.39 L555.936 1326.39 L555.936 1325.97 Q555.936 1323.03 553.991 1321.44 Q552.07 1319.82 548.575 1319.82 Q546.353 1319.82 544.246 1320.35 Q542.14 1320.88 540.195 1321.95 L540.195 1318.01 Q542.533 1317.11 544.732 1316.67 Q546.931 1316.2 549.015 1316.2 Q554.64 1316.2 557.417 1319.12 Q560.195 1322.04 560.195 1327.96 Z\" fill=\"#000000\" fill-rule=\"nonzero\" fill-opacity=\"1\" /><path clip-path=\"url(#clip930)\" d=\"M568.968 1306.74 L573.227 1306.74 L573.227 1342.76 L568.968 1342.76 L568.968 1306.74 Z\" fill=\"#000000\" fill-rule=\"nonzero\" fill-opacity=\"1\" /><path clip-path=\"url(#clip930)\" d=\"M582.139 1306.74 L586.399 1306.74 L586.399 1342.76 L582.139 1342.76 L582.139 1306.74 Z\" fill=\"#000000\" fill-rule=\"nonzero\" fill-opacity=\"1\" /><path clip-path=\"url(#clip930)\" d=\"M605.357 1319.82 Q601.931 1319.82 599.94 1322.5 Q597.95 1325.16 597.95 1329.82 Q597.95 1334.47 599.917 1337.15 Q601.908 1339.82 605.357 1339.82 Q608.76 1339.82 610.75 1337.13 Q612.741 1334.45 612.741 1329.82 Q612.741 1325.21 610.75 1322.52 Q608.76 1319.82 605.357 1319.82 M605.357 1316.2 Q610.912 1316.2 614.084 1319.82 Q617.255 1323.43 617.255 1329.82 Q617.255 1336.18 614.084 1339.82 Q610.912 1343.43 605.357 1343.43 Q599.778 1343.43 596.607 1339.82 Q593.459 1336.18 593.459 1329.82 Q593.459 1323.43 596.607 1319.82 Q599.778 1316.2 605.357 1316.2 Z\" fill=\"#000000\" fill-rule=\"nonzero\" fill-opacity=\"1\" /><path clip-path=\"url(#clip930)\" d=\"M642.972 1317.82 L642.972 1321.81 Q641.167 1320.81 639.338 1320.32 Q637.533 1319.82 635.681 1319.82 Q631.537 1319.82 629.246 1322.45 Q626.954 1325.07 626.954 1329.82 Q626.954 1334.56 629.246 1337.2 Q631.537 1339.82 635.681 1339.82 Q637.533 1339.82 639.338 1339.33 Q641.167 1338.82 642.972 1337.82 L642.972 1341.76 Q641.19 1342.59 639.269 1343.01 Q637.371 1343.43 635.218 1343.43 Q629.361 1343.43 625.912 1339.75 Q622.463 1336.07 622.463 1329.82 Q622.463 1323.47 625.935 1319.84 Q629.431 1316.2 635.496 1316.2 Q637.463 1316.2 639.338 1316.62 Q641.213 1317.01 642.972 1317.82 Z\" fill=\"#000000\" fill-rule=\"nonzero\" fill-opacity=\"1\" /><path clip-path=\"url(#clip930)\" d=\"M662.162 1329.72 Q657 1329.72 655.009 1330.9 Q653.019 1332.08 653.019 1334.93 Q653.019 1337.2 654.5 1338.54 Q656.005 1339.86 658.574 1339.86 Q662.116 1339.86 664.245 1337.36 Q666.398 1334.84 666.398 1330.67 L666.398 1329.72 L662.162 1329.72 M670.657 1327.96 L670.657 1342.76 L666.398 1342.76 L666.398 1338.82 Q664.94 1341.18 662.764 1342.32 Q660.588 1343.43 657.44 1343.43 Q653.458 1343.43 651.097 1341.2 Q648.759 1338.96 648.759 1335.21 Q648.759 1330.83 651.676 1328.61 Q654.616 1326.39 660.426 1326.39 L666.398 1326.39 L666.398 1325.97 Q666.398 1323.03 664.454 1321.44 Q662.533 1319.82 659.037 1319.82 Q656.815 1319.82 654.708 1320.35 Q652.602 1320.88 650.658 1321.95 L650.658 1318.01 Q652.996 1317.11 655.195 1316.67 Q657.394 1316.2 659.477 1316.2 Q665.102 1316.2 667.88 1319.12 Q670.657 1322.04 670.657 1327.96 Z\" fill=\"#000000\" fill-rule=\"nonzero\" fill-opacity=\"1\" /><path clip-path=\"url(#clip930)\" d=\"M683.644 1309.47 L683.644 1316.83 L692.417 1316.83 L692.417 1320.14 L683.644 1320.14 L683.644 1334.21 Q683.644 1337.38 684.5 1338.29 Q685.38 1339.19 688.042 1339.19 L692.417 1339.19 L692.417 1342.76 L688.042 1342.76 Q683.111 1342.76 681.236 1340.93 Q679.361 1339.07 679.361 1334.21 L679.361 1320.14 L676.236 1320.14 L676.236 1316.83 L679.361 1316.83 L679.361 1309.47 L683.644 1309.47 Z\" fill=\"#000000\" fill-rule=\"nonzero\" fill-opacity=\"1\" /><path clip-path=\"url(#clip930)\" d=\"M720.194 1328.73 L720.194 1330.81 L700.611 1330.81 Q700.889 1335.21 703.25 1337.52 Q705.634 1339.82 709.87 1339.82 Q712.324 1339.82 714.616 1339.21 Q716.93 1338.61 719.199 1337.41 L719.199 1341.44 Q716.907 1342.41 714.5 1342.92 Q712.092 1343.43 709.616 1343.43 Q703.412 1343.43 699.778 1339.82 Q696.167 1336.2 696.167 1330.05 Q696.167 1323.68 699.592 1319.95 Q703.042 1316.2 708.875 1316.2 Q714.106 1316.2 717.139 1319.58 Q720.194 1322.94 720.194 1328.73 M715.935 1327.48 Q715.889 1323.98 713.967 1321.9 Q712.069 1319.82 708.921 1319.82 Q705.356 1319.82 703.204 1321.83 Q701.074 1323.84 700.75 1327.5 L715.935 1327.48 Z\" fill=\"#000000\" fill-rule=\"nonzero\" fill-opacity=\"1\" /><path clip-path=\"url(#clip930)\" d=\"M747.115 1312.04 L747.115 1325.02 L752.995 1325.02 Q756.259 1325.02 758.041 1323.33 Q759.824 1321.64 759.824 1318.52 Q759.824 1315.42 758.041 1313.73 Q756.259 1312.04 752.995 1312.04 L747.115 1312.04 M742.439 1308.2 L752.995 1308.2 Q758.805 1308.2 761.768 1310.83 Q764.754 1313.45 764.754 1318.52 Q764.754 1323.64 761.768 1326.25 Q758.805 1328.87 752.995 1328.87 L747.115 1328.87 L747.115 1342.76 L742.439 1342.76 L742.439 1308.2 Z\" fill=\"#000000\" fill-rule=\"nonzero\" fill-opacity=\"1\" /><path clip-path=\"url(#clip930)\" d=\"M779.199 1319.82 Q775.773 1319.82 773.782 1322.5 Q771.791 1325.16 771.791 1329.82 Q771.791 1334.47 773.759 1337.15 Q775.749 1339.82 779.199 1339.82 Q782.601 1339.82 784.592 1337.13 Q786.583 1334.45 786.583 1329.82 Q786.583 1325.21 784.592 1322.52 Q782.601 1319.82 779.199 1319.82 M779.199 1316.2 Q784.754 1316.2 787.925 1319.82 Q791.097 1323.43 791.097 1329.82 Q791.097 1336.18 787.925 1339.82 Q784.754 1343.43 779.199 1343.43 Q773.62 1343.43 770.449 1339.82 Q767.3 1336.18 767.3 1329.82 Q767.3 1323.43 770.449 1319.82 Q773.62 1316.2 779.199 1316.2 Z\" fill=\"#000000\" fill-rule=\"nonzero\" fill-opacity=\"1\" /><path clip-path=\"url(#clip930)\" d=\"M813.18 1320.81 Q812.462 1320.39 811.606 1320.21 Q810.772 1320 809.754 1320 Q806.143 1320 804.198 1322.36 Q802.277 1324.7 802.277 1329.1 L802.277 1342.76 L797.995 1342.76 L797.995 1316.83 L802.277 1316.83 L802.277 1320.86 Q803.62 1318.5 805.772 1317.36 Q807.925 1316.2 811.004 1316.2 Q811.444 1316.2 811.976 1316.27 Q812.509 1316.32 813.157 1316.44 L813.18 1320.81 Z\" fill=\"#000000\" fill-rule=\"nonzero\" fill-opacity=\"1\" /><path clip-path=\"url(#clip930)\" d=\"M821.86 1309.47 L821.86 1316.83 L830.633 1316.83 L830.633 1320.14 L821.86 1320.14 L821.86 1334.21 Q821.86 1337.38 822.717 1338.29 Q823.596 1339.19 826.258 1339.19 L830.633 1339.19 L830.633 1342.76 L826.258 1342.76 Q821.328 1342.76 819.453 1340.93 Q817.578 1339.07 817.578 1334.21 L817.578 1320.14 L814.453 1320.14 L814.453 1316.83 L817.578 1316.83 L817.578 1309.47 L821.86 1309.47 Z\" fill=\"#000000\" fill-rule=\"nonzero\" fill-opacity=\"1\" /><path clip-path=\"url(#clip930)\" d=\"M849.36 1306.74 L849.36 1310.28 L845.286 1310.28 Q842.995 1310.28 842.092 1311.2 Q841.212 1312.13 841.212 1314.54 L841.212 1316.83 L848.226 1316.83 L848.226 1320.14 L841.212 1320.14 L841.212 1342.76 L836.93 1342.76 L836.93 1320.14 L832.856 1320.14 L832.856 1316.83 L836.93 1316.83 L836.93 1315.02 Q836.93 1310.7 838.944 1308.73 Q840.957 1306.74 845.332 1306.74 L849.36 1306.74 Z\" fill=\"#000000\" fill-rule=\"nonzero\" fill-opacity=\"1\" /><path clip-path=\"url(#clip930)\" d=\"M862.971 1319.82 Q859.545 1319.82 857.555 1322.5 Q855.564 1325.16 855.564 1329.82 Q855.564 1334.47 857.531 1337.15 Q859.522 1339.82 862.971 1339.82 Q866.374 1339.82 868.365 1337.13 Q870.355 1334.45 870.355 1329.82 Q870.355 1325.21 868.365 1322.52 Q866.374 1319.82 862.971 1319.82 M862.971 1316.2 Q868.527 1316.2 871.698 1319.82 Q874.869 1323.43 874.869 1329.82 Q874.869 1336.18 871.698 1339.82 Q868.527 1343.43 862.971 1343.43 Q857.393 1343.43 854.221 1339.82 Q851.073 1336.18 851.073 1329.82 Q851.073 1323.43 854.221 1319.82 Q857.393 1316.2 862.971 1316.2 Z\" fill=\"#000000\" fill-rule=\"nonzero\" fill-opacity=\"1\" /><path clip-path=\"url(#clip930)\" d=\"M881.929 1306.74 L886.189 1306.74 L886.189 1342.76 L881.929 1342.76 L881.929 1306.74 Z\" fill=\"#000000\" fill-rule=\"nonzero\" fill-opacity=\"1\" /><path clip-path=\"url(#clip930)\" d=\"M895.101 1316.83 L899.36 1316.83 L899.36 1342.76 L895.101 1342.76 L895.101 1316.83 M895.101 1306.74 L899.36 1306.74 L899.36 1312.13 L895.101 1312.13 L895.101 1306.74 Z\" fill=\"#000000\" fill-rule=\"nonzero\" fill-opacity=\"1\" /><path clip-path=\"url(#clip930)\" d=\"M918.318 1319.82 Q914.892 1319.82 912.902 1322.5 Q910.911 1325.16 910.911 1329.82 Q910.911 1334.47 912.878 1337.15 Q914.869 1339.82 918.318 1339.82 Q921.721 1339.82 923.712 1337.13 Q925.702 1334.45 925.702 1329.82 Q925.702 1325.21 923.712 1322.52 Q921.721 1319.82 918.318 1319.82 M918.318 1316.2 Q923.874 1316.2 927.045 1319.82 Q930.216 1323.43 930.216 1329.82 Q930.216 1336.18 927.045 1339.82 Q923.874 1343.43 918.318 1343.43 Q912.74 1343.43 909.568 1339.82 Q906.42 1336.18 906.42 1329.82 Q906.42 1323.43 909.568 1319.82 Q912.74 1316.2 918.318 1316.2 Z\" fill=\"#000000\" fill-rule=\"nonzero\" fill-opacity=\"1\" /><path clip-path=\"url(#clip930)\" d=\"M967.114 1324.12 Q970.471 1324.84 972.346 1327.11 Q974.244 1329.38 974.244 1332.71 Q974.244 1337.82 970.725 1340.63 Q967.207 1343.43 960.725 1343.43 Q958.549 1343.43 956.235 1342.99 Q953.943 1342.57 951.489 1341.71 L951.489 1337.2 Q953.434 1338.33 955.749 1338.91 Q958.063 1339.49 960.586 1339.49 Q964.985 1339.49 967.276 1337.76 Q969.591 1336.02 969.591 1332.71 Q969.591 1329.65 967.438 1327.94 Q965.309 1326.2 961.489 1326.2 L957.461 1326.2 L957.461 1322.36 L961.674 1322.36 Q965.123 1322.36 966.952 1321 Q968.781 1319.61 968.781 1317.01 Q968.781 1314.35 966.883 1312.94 Q965.008 1311.51 961.489 1311.51 Q959.568 1311.51 957.369 1311.92 Q955.17 1312.34 952.531 1313.22 L952.531 1309.05 Q955.193 1308.31 957.508 1307.94 Q959.846 1307.57 961.906 1307.57 Q967.23 1307.57 970.332 1310 Q973.434 1312.41 973.434 1316.53 Q973.434 1319.4 971.79 1321.39 Q970.147 1323.36 967.114 1324.12 Z\" fill=\"#000000\" fill-rule=\"nonzero\" fill-opacity=\"1\" /><path clip-path=\"url(#clip930)\" d=\"M993.109 1311.27 Q989.498 1311.27 987.67 1314.84 Q985.864 1318.38 985.864 1325.51 Q985.864 1332.62 987.67 1336.18 Q989.498 1339.72 993.109 1339.72 Q996.744 1339.72 998.549 1336.18 Q1000.38 1332.62 1000.38 1325.51 Q1000.38 1318.38 998.549 1314.84 Q996.744 1311.27 993.109 1311.27 M993.109 1307.57 Q998.92 1307.57 1001.98 1312.18 Q1005.05 1316.76 1005.05 1325.51 Q1005.05 1334.24 1001.98 1338.84 Q998.92 1343.43 993.109 1343.43 Q987.299 1343.43 984.221 1338.84 Q981.165 1334.24 981.165 1325.51 Q981.165 1316.76 984.221 1312.18 Q987.299 1307.57 993.109 1307.57 Z\" fill=\"#000000\" fill-rule=\"nonzero\" fill-opacity=\"1\" /><path clip-path=\"url(#clip930)\" d=\"M1037.97 1306.78 Q1034.87 1312.11 1033.36 1317.32 Q1031.86 1322.52 1031.86 1327.87 Q1031.86 1333.22 1033.36 1338.47 Q1034.89 1343.7 1037.97 1349.01 L1034.27 1349.01 Q1030.79 1343.57 1029.06 1338.31 Q1027.35 1333.06 1027.35 1327.87 Q1027.35 1322.71 1029.06 1317.48 Q1030.77 1312.25 1034.27 1306.78 L1037.97 1306.78 Z\" fill=\"#000000\" fill-rule=\"nonzero\" fill-opacity=\"1\" /><path clip-path=\"url(#clip930)\" d=\"M1058.02 1329.72 Q1052.85 1329.72 1050.86 1330.9 Q1048.87 1332.08 1048.87 1334.93 Q1048.87 1337.2 1050.35 1338.54 Q1051.86 1339.86 1054.43 1339.86 Q1057.97 1339.86 1060.1 1337.36 Q1062.25 1334.84 1062.25 1330.67 L1062.25 1329.72 L1058.02 1329.72 M1066.51 1327.96 L1066.51 1342.76 L1062.25 1342.76 L1062.25 1338.82 Q1060.79 1341.18 1058.62 1342.32 Q1056.44 1343.43 1053.29 1343.43 Q1049.31 1343.43 1046.95 1341.2 Q1044.61 1338.96 1044.61 1335.21 Q1044.61 1330.83 1047.53 1328.61 Q1050.47 1326.39 1056.28 1326.39 L1062.25 1326.39 L1062.25 1325.97 Q1062.25 1323.03 1060.31 1321.44 Q1058.39 1319.82 1054.89 1319.82 Q1052.67 1319.82 1050.56 1320.35 Q1048.46 1320.88 1046.51 1321.95 L1046.51 1318.01 Q1048.85 1317.11 1051.05 1316.67 Q1053.25 1316.2 1055.33 1316.2 Q1060.96 1316.2 1063.73 1319.12 Q1066.51 1322.04 1066.51 1327.96 Z\" fill=\"#000000\" fill-rule=\"nonzero\" fill-opacity=\"1\" /><path clip-path=\"url(#clip930)\" d=\"M1093.94 1317.82 L1093.94 1321.81 Q1092.14 1320.81 1090.31 1320.32 Q1088.5 1319.82 1086.65 1319.82 Q1082.51 1319.82 1080.22 1322.45 Q1077.92 1325.07 1077.92 1329.82 Q1077.92 1334.56 1080.22 1337.2 Q1082.51 1339.82 1086.65 1339.82 Q1088.5 1339.82 1090.31 1339.33 Q1092.14 1338.82 1093.94 1337.82 L1093.94 1341.76 Q1092.16 1342.59 1090.24 1343.01 Q1088.34 1343.43 1086.19 1343.43 Q1080.33 1343.43 1076.88 1339.75 Q1073.43 1336.07 1073.43 1329.82 Q1073.43 1323.47 1076.91 1319.84 Q1080.4 1316.2 1086.47 1316.2 Q1088.43 1316.2 1090.31 1316.62 Q1092.18 1317.01 1093.94 1317.82 Z\" fill=\"#000000\" fill-rule=\"nonzero\" fill-opacity=\"1\" /><path clip-path=\"url(#clip930)\" d=\"M1105.56 1309.47 L1105.56 1316.83 L1114.34 1316.83 L1114.34 1320.14 L1105.56 1320.14 L1105.56 1334.21 Q1105.56 1337.38 1106.42 1338.29 Q1107.3 1339.19 1109.96 1339.19 L1114.34 1339.19 L1114.34 1342.76 L1109.96 1342.76 Q1105.03 1342.76 1103.16 1340.93 Q1101.28 1339.07 1101.28 1334.21 L1101.28 1320.14 L1098.16 1320.14 L1098.16 1316.83 L1101.28 1316.83 L1101.28 1309.47 L1105.56 1309.47 Z\" fill=\"#000000\" fill-rule=\"nonzero\" fill-opacity=\"1\" /><path clip-path=\"url(#clip930)\" d=\"M1119.5 1332.52 L1119.5 1316.83 L1123.76 1316.83 L1123.76 1332.36 Q1123.76 1336.04 1125.19 1337.89 Q1126.63 1339.72 1129.5 1339.72 Q1132.95 1339.72 1134.94 1337.52 Q1136.95 1335.32 1136.95 1331.53 L1136.95 1316.83 L1141.21 1316.83 L1141.21 1342.76 L1136.95 1342.76 L1136.95 1338.77 Q1135.4 1341.13 1133.34 1342.29 Q1131.3 1343.43 1128.59 1343.43 Q1124.13 1343.43 1121.81 1340.65 Q1119.5 1337.87 1119.5 1332.52 M1130.22 1316.2 L1130.22 1316.2 Z\" fill=\"#000000\" fill-rule=\"nonzero\" fill-opacity=\"1\" /><path clip-path=\"url(#clip930)\" d=\"M1161.77 1329.72 Q1156.6 1329.72 1154.61 1330.9 Q1152.62 1332.08 1152.62 1334.93 Q1152.62 1337.2 1154.1 1338.54 Q1155.61 1339.86 1158.18 1339.86 Q1161.72 1339.86 1163.85 1337.36 Q1166 1334.84 1166 1330.67 L1166 1329.72 L1161.77 1329.72 M1170.26 1327.96 L1170.26 1342.76 L1166 1342.76 L1166 1338.82 Q1164.54 1341.18 1162.37 1342.32 Q1160.19 1343.43 1157.04 1343.43 Q1153.06 1343.43 1150.7 1341.2 Q1148.36 1338.96 1148.36 1335.21 Q1148.36 1330.83 1151.28 1328.61 Q1154.22 1326.39 1160.03 1326.39 L1166 1326.39 L1166 1325.97 Q1166 1323.03 1164.06 1321.44 Q1162.14 1319.82 1158.64 1319.82 Q1156.42 1319.82 1154.31 1320.35 Q1152.21 1320.88 1150.26 1321.95 L1150.26 1318.01 Q1152.6 1317.11 1154.8 1316.67 Q1157 1316.2 1159.08 1316.2 Q1164.71 1316.2 1167.48 1319.12 Q1170.26 1322.04 1170.26 1327.96 Z\" fill=\"#000000\" fill-rule=\"nonzero\" fill-opacity=\"1\" /><path clip-path=\"url(#clip930)\" d=\"M1179.03 1306.74 L1183.29 1306.74 L1183.29 1342.76 L1179.03 1342.76 L1179.03 1306.74 Z\" fill=\"#000000\" fill-rule=\"nonzero\" fill-opacity=\"1\" /><path clip-path=\"url(#clip930)\" d=\"M1191.53 1306.78 L1195.24 1306.78 Q1198.71 1312.25 1200.42 1317.48 Q1202.16 1322.71 1202.16 1327.87 Q1202.16 1333.06 1200.42 1338.31 Q1198.71 1343.57 1195.24 1349.01 L1191.53 1349.01 Q1194.61 1343.7 1196.12 1338.47 Q1197.65 1333.22 1197.65 1327.87 Q1197.65 1322.52 1196.12 1317.32 Q1194.61 1312.11 1191.53 1306.78 Z\" fill=\"#000000\" fill-rule=\"nonzero\" fill-opacity=\"1\" /></svg>\n"
      ]
     },
     "metadata": {},
     "output_type": "display_data"
    }
   ],
   "source": [
    "plot((1/portfolio_performance_array_original[1,end]).*portfolio_performance_array_original[:,end], \n",
    "    lw=3, c=:red, label=\"Portfolio $(portfolio_index) (actual)\")\n",
    "plot!((1/SPY_df[1,:volume_weighted_average_price]).*SPY_df[1:number_of_trading_days,:volume_weighted_average_price], lw=3, \n",
    "    c=:blue, label=\"SPY\")\n",
    "plot!((1/portfolio_performance_array_reallocate[1,end]).*portfolio_performance_array_reallocate[:,end], lw=3, \n",
    "    c=:green, label=\"Reallocate Portfolio $(portfolio_index) (actual)\")\n",
    "xlabel!(\"Trading Day Index (2023)\", fontsize=18)\n",
    "ylabel!(\"Wealth (USD)\", fontsize=18)"
   ]
  },
  {
   "cell_type": "markdown",
   "id": "0b89fbbb",
   "metadata": {},
   "source": [
    "### Compute `share_volume_array` "
   ]
  },
  {
   "cell_type": "code",
   "execution_count": 330,
   "id": "333476f6-b931-4477-85e4-5cf8d2e5a50a",
   "metadata": {
    "tags": []
   },
   "outputs": [],
   "source": [
    "share_volume_array = Array{Float64,2}(undef, number_of_trading_days+1, length(w)+1)\n",
    "\n",
    "# initial (tday = 0)\n",
    "share_volume_array[1,1] = 0;\n",
    "for i ∈ eachindex(my_list_of_tickers)\n",
    "    share_volume_array[1,i+1] = Nₒ[i]\n",
    "end\n",
    "\n",
    "for i ∈ 1:number_of_trading_days\n",
    "    n_vector = my_results_df[i,:N_new]\n",
    "    share_volume_array[i+1,1] = i;\n",
    "    for j ∈ eachindex(n_vector)\n",
    "        share_volume_array[i+1,j+1] = n_vector[j] |> x-> round(x,digits=3) |> abs\n",
    "    end\n",
    "end\n",
    "header_data = Array{String,1}()\n",
    "push!(header_data,\"index\");\n",
    "[push!(header_data, ticker) for ticker ∈ my_list_of_tickers]\n",
    "pretty_table(share_volume_array, header=header_data)"
   ]
  },
  {
   "cell_type": "markdown",
   "id": "b3b5cd21-bb87-4bb0-b2e3-29391ba3859f",
   "metadata": {},
   "source": [
    "## Disclaimer and Risks\n",
    "__This content is offered solely for training and  informational purposes__. No offer or solicitation to buy or sell securities or derivative products, or any investment or trading advice or strategy,  is made, given, or endorsed by the teaching team. \n",
    "\n",
    "__Trading involves risk__. Carefully review your financial situation before investing in securities, futures contracts, options, or commodity interests. Past performance, whether actual or indicated by historical tests of strategies, is no guarantee of future performance or success. Trading is generally inappropriate for someone with limited resources, investment or trading experience, or a low-risk tolerance.  Only risk capital that is not required for living expenses.\n",
    "\n",
    "__You are fully responsible for any investment or trading decisions you make__. Such decisions should be based solely on your evaluation of your financial circumstances, investment or trading objectives, risk tolerance, and liquidity needs."
   ]
  }
 ],
 "metadata": {
  "kernelspec": {
   "display_name": "Julia 1.9.3",
   "language": "julia",
   "name": "julia-1.9"
  },
  "language_info": {
   "file_extension": ".jl",
   "mimetype": "application/julia",
   "name": "julia",
   "version": "1.9.3"
  }
 },
 "nbformat": 4,
 "nbformat_minor": 5
}
